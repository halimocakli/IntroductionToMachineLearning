{
 "cells": [
  {
   "cell_type": "markdown",
   "id": "medieval-quarter",
   "metadata": {},
   "source": [
    "# Multiple Lineer Regresyon - Proje : Advertising"
   ]
  },
  {
   "cell_type": "markdown",
   "id": "7690c34e",
   "metadata": {},
   "source": [
    "Advertising.csv adlı veri setini kullanarak TV - Radio -Newspaper - Sales arasındaki ilişkiye bakacağız.\n",
    "\n",
    "Amacımız TV - Radio - Newspaper bütçesi ile Satış arasındaki ilişkiyi Multiple Lineer Regresyon ile modellemek.\n",
    "\n",
    "Bunun için bir lineer model kuracağız."
   ]
  },
  {
   "cell_type": "markdown",
   "id": "located-dublin",
   "metadata": {},
   "source": [
    "* **Adımlar**\n",
    "\n",
    "    1- Önce datayı ham olarak inceleyelim\n",
    "\n",
    "    2- Datayı import edelim\n",
    "\n",
    "    3- Datayı inceleyelim (head, describe, info)\n",
    "\n",
    "    4- Datayı görselleştir\n",
    "\n",
    "    5- Modeli oluştur (formuller)\n",
    "\n",
    "    6- Hazırlık\n",
    "\n",
    "    7- Train-Test Split\n",
    "\n",
    "    8- Multiple Lineer Regresyon Modelini Çalıştır (Fit - Prediction Hazırlığı)\n",
    "\n",
    "    9- Katsayıları Hesaplama (intercept_, coef_)\n",
    "\n",
    "    10- Tahmin Yap (Predict)\n",
    "\n",
    "    11- Gerçek Data ve Tahmin Datasını Çiz\n",
    "\n",
    "    12- Hataları Çiz ($y - \\hat y$)\n",
    "\n",
    "    13- Model Doğruluğunu Kontrol Et (RMSE, ve $R^2$)\n",
    "    \n",
    "    14- OLS - p-değerini incele\n",
    "\n",
    "    15- Korelasyon\n",
    "\n",
    "    16- Sonuçlara göre tekrar Model oluştur\n",
    "\n",
    "    17- Yorumlar"
   ]
  },
  {
   "cell_type": "markdown",
   "id": "d2dea1e2",
   "metadata": {},
   "source": [
    "***"
   ]
  },
  {
   "cell_type": "markdown",
   "id": "governing-renewal",
   "metadata": {},
   "source": [
    "### 1- Önce Datanın İşlenmemiş Halini İnceleyelim"
   ]
  },
  {
   "cell_type": "markdown",
   "id": "37567b26",
   "metadata": {},
   "source": [
    "* Datanın Analizi\n",
    "    * Sütunlar neler?\n",
    "    * Feature (X) ve Label(y) sütunu ne?\n",
    "    * Toplam kaç kayıt var?\n",
    "    * Eksik data var mı?\n",
    "        * NA (Not Available)\n",
    "        * NaN: Not a Number"
   ]
  },
  {
   "cell_type": "markdown",
   "id": "2a1903ff",
   "metadata": {},
   "source": [
    "***"
   ]
  },
  {
   "cell_type": "markdown",
   "id": "surprised-devices",
   "metadata": {},
   "source": [
    "### 2- Datayı Import Edelim"
   ]
  },
  {
   "cell_type": "code",
   "execution_count": 1,
   "id": "51e086a8",
   "metadata": {},
   "outputs": [],
   "source": [
    "# Gerekli kütüphaneleri import edelim\n",
    "\n",
    "import pandas as pd\n",
    "import matplotlib.pyplot as plt\n",
    "import seaborn as sns"
   ]
  },
  {
   "cell_type": "code",
   "execution_count": 2,
   "id": "93efe40d",
   "metadata": {},
   "outputs": [],
   "source": [
    "### 2- Datayı İnceleyelim [head(), describe(), info()]# Dataframe'i oluşturalım\n",
    "\n",
    "adv_df = pd.read_csv(\"data/Advertising.csv\", index_col=0)"
   ]
  },
  {
   "cell_type": "markdown",
   "id": "ca092f48",
   "metadata": {},
   "source": [
    "***"
   ]
  },
  {
   "cell_type": "markdown",
   "id": "566724b1",
   "metadata": {},
   "source": [
    "### 2- Datayı İnceleyelim [head(), describe(), info()]"
   ]
  },
  {
   "cell_type": "code",
   "execution_count": 3,
   "id": "25af3aab",
   "metadata": {
    "scrolled": true
   },
   "outputs": [
    {
     "data": {
      "text/html": [
       "<div>\n",
       "<style scoped>\n",
       "    .dataframe tbody tr th:only-of-type {\n",
       "        vertical-align: middle;\n",
       "    }\n",
       "\n",
       "    .dataframe tbody tr th {\n",
       "        vertical-align: top;\n",
       "    }\n",
       "\n",
       "    .dataframe thead th {\n",
       "        text-align: right;\n",
       "    }\n",
       "</style>\n",
       "<table border=\"1\" class=\"dataframe\">\n",
       "  <thead>\n",
       "    <tr style=\"text-align: right;\">\n",
       "      <th></th>\n",
       "      <th>TV</th>\n",
       "      <th>radio</th>\n",
       "      <th>newspaper</th>\n",
       "      <th>sales</th>\n",
       "    </tr>\n",
       "  </thead>\n",
       "  <tbody>\n",
       "    <tr>\n",
       "      <th>1</th>\n",
       "      <td>230.1</td>\n",
       "      <td>37.8</td>\n",
       "      <td>69.2</td>\n",
       "      <td>22.1</td>\n",
       "    </tr>\n",
       "    <tr>\n",
       "      <th>2</th>\n",
       "      <td>44.5</td>\n",
       "      <td>39.3</td>\n",
       "      <td>45.1</td>\n",
       "      <td>10.4</td>\n",
       "    </tr>\n",
       "    <tr>\n",
       "      <th>3</th>\n",
       "      <td>17.2</td>\n",
       "      <td>45.9</td>\n",
       "      <td>69.3</td>\n",
       "      <td>9.3</td>\n",
       "    </tr>\n",
       "    <tr>\n",
       "      <th>4</th>\n",
       "      <td>151.5</td>\n",
       "      <td>41.3</td>\n",
       "      <td>58.5</td>\n",
       "      <td>18.5</td>\n",
       "    </tr>\n",
       "    <tr>\n",
       "      <th>5</th>\n",
       "      <td>180.8</td>\n",
       "      <td>10.8</td>\n",
       "      <td>58.4</td>\n",
       "      <td>12.9</td>\n",
       "    </tr>\n",
       "  </tbody>\n",
       "</table>\n",
       "</div>"
      ],
      "text/plain": [
       "      TV  radio  newspaper  sales\n",
       "1  230.1   37.8       69.2   22.1\n",
       "2   44.5   39.3       45.1   10.4\n",
       "3   17.2   45.9       69.3    9.3\n",
       "4  151.5   41.3       58.5   18.5\n",
       "5  180.8   10.8       58.4   12.9"
      ]
     },
     "execution_count": 3,
     "metadata": {},
     "output_type": "execute_result"
    }
   ],
   "source": [
    "# İlk 5 satırı gözlemleyelim\n",
    "\n",
    "adv_df.head()"
   ]
  },
  {
   "cell_type": "code",
   "execution_count": 4,
   "id": "1804e808",
   "metadata": {},
   "outputs": [
    {
     "data": {
      "text/html": [
       "<div>\n",
       "<style scoped>\n",
       "    .dataframe tbody tr th:only-of-type {\n",
       "        vertical-align: middle;\n",
       "    }\n",
       "\n",
       "    .dataframe tbody tr th {\n",
       "        vertical-align: top;\n",
       "    }\n",
       "\n",
       "    .dataframe thead th {\n",
       "        text-align: right;\n",
       "    }\n",
       "</style>\n",
       "<table border=\"1\" class=\"dataframe\">\n",
       "  <thead>\n",
       "    <tr style=\"text-align: right;\">\n",
       "      <th></th>\n",
       "      <th>TV</th>\n",
       "      <th>radio</th>\n",
       "      <th>newspaper</th>\n",
       "      <th>sales</th>\n",
       "    </tr>\n",
       "  </thead>\n",
       "  <tbody>\n",
       "    <tr>\n",
       "      <th>196</th>\n",
       "      <td>38.2</td>\n",
       "      <td>3.7</td>\n",
       "      <td>13.8</td>\n",
       "      <td>7.6</td>\n",
       "    </tr>\n",
       "    <tr>\n",
       "      <th>197</th>\n",
       "      <td>94.2</td>\n",
       "      <td>4.9</td>\n",
       "      <td>8.1</td>\n",
       "      <td>9.7</td>\n",
       "    </tr>\n",
       "    <tr>\n",
       "      <th>198</th>\n",
       "      <td>177.0</td>\n",
       "      <td>9.3</td>\n",
       "      <td>6.4</td>\n",
       "      <td>12.8</td>\n",
       "    </tr>\n",
       "    <tr>\n",
       "      <th>199</th>\n",
       "      <td>283.6</td>\n",
       "      <td>42.0</td>\n",
       "      <td>66.2</td>\n",
       "      <td>25.5</td>\n",
       "    </tr>\n",
       "    <tr>\n",
       "      <th>200</th>\n",
       "      <td>232.1</td>\n",
       "      <td>8.6</td>\n",
       "      <td>8.7</td>\n",
       "      <td>13.4</td>\n",
       "    </tr>\n",
       "  </tbody>\n",
       "</table>\n",
       "</div>"
      ],
      "text/plain": [
       "        TV  radio  newspaper  sales\n",
       "196   38.2    3.7       13.8    7.6\n",
       "197   94.2    4.9        8.1    9.7\n",
       "198  177.0    9.3        6.4   12.8\n",
       "199  283.6   42.0       66.2   25.5\n",
       "200  232.1    8.6        8.7   13.4"
      ]
     },
     "execution_count": 4,
     "metadata": {},
     "output_type": "execute_result"
    }
   ],
   "source": [
    "# Son 5 satırı gözlemleyelim\n",
    "\n",
    "adv_df.tail()"
   ]
  },
  {
   "cell_type": "code",
   "execution_count": 5,
   "id": "83503537",
   "metadata": {},
   "outputs": [
    {
     "name": "stdout",
     "output_type": "stream",
     "text": [
      "<class 'pandas.core.frame.DataFrame'>\n",
      "Int64Index: 200 entries, 1 to 200\n",
      "Data columns (total 4 columns):\n",
      " #   Column     Non-Null Count  Dtype  \n",
      "---  ------     --------------  -----  \n",
      " 0   TV         200 non-null    float64\n",
      " 1   radio      200 non-null    float64\n",
      " 2   newspaper  200 non-null    float64\n",
      " 3   sales      200 non-null    float64\n",
      "dtypes: float64(4)\n",
      "memory usage: 7.8 KB\n"
     ]
    }
   ],
   "source": [
    "# Dataframe'in genel bilgilerini görelim\n",
    "\n",
    "adv_df.info()"
   ]
  },
  {
   "cell_type": "code",
   "execution_count": 6,
   "id": "97e100bf",
   "metadata": {},
   "outputs": [
    {
     "data": {
      "text/html": [
       "<div>\n",
       "<style scoped>\n",
       "    .dataframe tbody tr th:only-of-type {\n",
       "        vertical-align: middle;\n",
       "    }\n",
       "\n",
       "    .dataframe tbody tr th {\n",
       "        vertical-align: top;\n",
       "    }\n",
       "\n",
       "    .dataframe thead th {\n",
       "        text-align: right;\n",
       "    }\n",
       "</style>\n",
       "<table border=\"1\" class=\"dataframe\">\n",
       "  <thead>\n",
       "    <tr style=\"text-align: right;\">\n",
       "      <th></th>\n",
       "      <th>TV</th>\n",
       "      <th>radio</th>\n",
       "      <th>newspaper</th>\n",
       "      <th>sales</th>\n",
       "    </tr>\n",
       "  </thead>\n",
       "  <tbody>\n",
       "    <tr>\n",
       "      <th>count</th>\n",
       "      <td>200.000000</td>\n",
       "      <td>200.000000</td>\n",
       "      <td>200.000000</td>\n",
       "      <td>200.000000</td>\n",
       "    </tr>\n",
       "    <tr>\n",
       "      <th>mean</th>\n",
       "      <td>147.042500</td>\n",
       "      <td>23.264000</td>\n",
       "      <td>30.554000</td>\n",
       "      <td>14.022500</td>\n",
       "    </tr>\n",
       "    <tr>\n",
       "      <th>std</th>\n",
       "      <td>85.854236</td>\n",
       "      <td>14.846809</td>\n",
       "      <td>21.778621</td>\n",
       "      <td>5.217457</td>\n",
       "    </tr>\n",
       "    <tr>\n",
       "      <th>min</th>\n",
       "      <td>0.700000</td>\n",
       "      <td>0.000000</td>\n",
       "      <td>0.300000</td>\n",
       "      <td>1.600000</td>\n",
       "    </tr>\n",
       "    <tr>\n",
       "      <th>25%</th>\n",
       "      <td>74.375000</td>\n",
       "      <td>9.975000</td>\n",
       "      <td>12.750000</td>\n",
       "      <td>10.375000</td>\n",
       "    </tr>\n",
       "    <tr>\n",
       "      <th>50%</th>\n",
       "      <td>149.750000</td>\n",
       "      <td>22.900000</td>\n",
       "      <td>25.750000</td>\n",
       "      <td>12.900000</td>\n",
       "    </tr>\n",
       "    <tr>\n",
       "      <th>75%</th>\n",
       "      <td>218.825000</td>\n",
       "      <td>36.525000</td>\n",
       "      <td>45.100000</td>\n",
       "      <td>17.400000</td>\n",
       "    </tr>\n",
       "    <tr>\n",
       "      <th>max</th>\n",
       "      <td>296.400000</td>\n",
       "      <td>49.600000</td>\n",
       "      <td>114.000000</td>\n",
       "      <td>27.000000</td>\n",
       "    </tr>\n",
       "  </tbody>\n",
       "</table>\n",
       "</div>"
      ],
      "text/plain": [
       "               TV       radio   newspaper       sales\n",
       "count  200.000000  200.000000  200.000000  200.000000\n",
       "mean   147.042500   23.264000   30.554000   14.022500\n",
       "std     85.854236   14.846809   21.778621    5.217457\n",
       "min      0.700000    0.000000    0.300000    1.600000\n",
       "25%     74.375000    9.975000   12.750000   10.375000\n",
       "50%    149.750000   22.900000   25.750000   12.900000\n",
       "75%    218.825000   36.525000   45.100000   17.400000\n",
       "max    296.400000   49.600000  114.000000   27.000000"
      ]
     },
     "execution_count": 6,
     "metadata": {},
     "output_type": "execute_result"
    }
   ],
   "source": [
    "# Temel istatistiksel bilgilere erişelim\n",
    "\n",
    "adv_df.describe()"
   ]
  },
  {
   "cell_type": "markdown",
   "id": "cbc2fd79",
   "metadata": {},
   "source": [
    "***"
   ]
  },
  {
   "cell_type": "markdown",
   "id": "4ff97586",
   "metadata": {},
   "source": [
    "### 4- Datayı Görselleştirelim"
   ]
  },
  {
   "cell_type": "markdown",
   "id": "bb11617b",
   "metadata": {},
   "source": [
    "* Exploratory Data Analysis (EDA)"
   ]
  },
  {
   "cell_type": "markdown",
   "id": "d7ca3fec",
   "metadata": {},
   "source": [
    "https://seaborn.pydata.org/generated/seaborn.pairplot.html"
   ]
  },
  {
   "cell_type": "code",
   "execution_count": 7,
   "id": "fa73c941",
   "metadata": {},
   "outputs": [
    {
     "data": {
      "image/png": "[encoded data removed]",
      "text/plain": [
       "<Figure size 720x720 with 20 Axes>"
      ]
     },
     "metadata": {
      "needs_background": "light"
     },
     "output_type": "display_data"
    }
   ],
   "source": [
    "# pairplot -> İkili grafik çizeceğiz.\n",
    "\n",
    "sns.pairplot(adv_df)\n",
    "plt.show()"
   ]
  },
  {
   "cell_type": "code",
   "execution_count": 8,
   "id": "c6d3f677",
   "metadata": {
    "scrolled": true
   },
   "outputs": [],
   "source": [
    "# X -> Input(Feature)\n",
    "X = adv_df[[\"TV\", \"radio\", \"newspaper\"]]\n",
    "\n",
    "# y -> Output\n",
    "y = adv_df[\"sales\"]"
   ]
  },
  {
   "cell_type": "code",
   "execution_count": 9,
   "id": "b1820979",
   "metadata": {},
   "outputs": [
    {
     "data": {
      "text/plain": [
       "pandas.core.frame.DataFrame"
      ]
     },
     "execution_count": 9,
     "metadata": {},
     "output_type": "execute_result"
    }
   ],
   "source": [
    "# X'in tipi\n",
    "\n",
    "type(X)"
   ]
  },
  {
   "cell_type": "code",
   "execution_count": 10,
   "id": "5f94e453",
   "metadata": {},
   "outputs": [
    {
     "data": {
      "text/html": [
       "<div>\n",
       "<style scoped>\n",
       "    .dataframe tbody tr th:only-of-type {\n",
       "        vertical-align: middle;\n",
       "    }\n",
       "\n",
       "    .dataframe tbody tr th {\n",
       "        vertical-align: top;\n",
       "    }\n",
       "\n",
       "    .dataframe thead th {\n",
       "        text-align: right;\n",
       "    }\n",
       "</style>\n",
       "<table border=\"1\" class=\"dataframe\">\n",
       "  <thead>\n",
       "    <tr style=\"text-align: right;\">\n",
       "      <th></th>\n",
       "      <th>TV</th>\n",
       "      <th>radio</th>\n",
       "      <th>newspaper</th>\n",
       "    </tr>\n",
       "  </thead>\n",
       "  <tbody>\n",
       "    <tr>\n",
       "      <th>1</th>\n",
       "      <td>230.1</td>\n",
       "      <td>37.8</td>\n",
       "      <td>69.2</td>\n",
       "    </tr>\n",
       "    <tr>\n",
       "      <th>2</th>\n",
       "      <td>44.5</td>\n",
       "      <td>39.3</td>\n",
       "      <td>45.1</td>\n",
       "    </tr>\n",
       "    <tr>\n",
       "      <th>3</th>\n",
       "      <td>17.2</td>\n",
       "      <td>45.9</td>\n",
       "      <td>69.3</td>\n",
       "    </tr>\n",
       "    <tr>\n",
       "      <th>4</th>\n",
       "      <td>151.5</td>\n",
       "      <td>41.3</td>\n",
       "      <td>58.5</td>\n",
       "    </tr>\n",
       "    <tr>\n",
       "      <th>5</th>\n",
       "      <td>180.8</td>\n",
       "      <td>10.8</td>\n",
       "      <td>58.4</td>\n",
       "    </tr>\n",
       "    <tr>\n",
       "      <th>...</th>\n",
       "      <td>...</td>\n",
       "      <td>...</td>\n",
       "      <td>...</td>\n",
       "    </tr>\n",
       "    <tr>\n",
       "      <th>196</th>\n",
       "      <td>38.2</td>\n",
       "      <td>3.7</td>\n",
       "      <td>13.8</td>\n",
       "    </tr>\n",
       "    <tr>\n",
       "      <th>197</th>\n",
       "      <td>94.2</td>\n",
       "      <td>4.9</td>\n",
       "      <td>8.1</td>\n",
       "    </tr>\n",
       "    <tr>\n",
       "      <th>198</th>\n",
       "      <td>177.0</td>\n",
       "      <td>9.3</td>\n",
       "      <td>6.4</td>\n",
       "    </tr>\n",
       "    <tr>\n",
       "      <th>199</th>\n",
       "      <td>283.6</td>\n",
       "      <td>42.0</td>\n",
       "      <td>66.2</td>\n",
       "    </tr>\n",
       "    <tr>\n",
       "      <th>200</th>\n",
       "      <td>232.1</td>\n",
       "      <td>8.6</td>\n",
       "      <td>8.7</td>\n",
       "    </tr>\n",
       "  </tbody>\n",
       "</table>\n",
       "<p>200 rows × 3 columns</p>\n",
       "</div>"
      ],
      "text/plain": [
       "        TV  radio  newspaper\n",
       "1    230.1   37.8       69.2\n",
       "2     44.5   39.3       45.1\n",
       "3     17.2   45.9       69.3\n",
       "4    151.5   41.3       58.5\n",
       "5    180.8   10.8       58.4\n",
       "..     ...    ...        ...\n",
       "196   38.2    3.7       13.8\n",
       "197   94.2    4.9        8.1\n",
       "198  177.0    9.3        6.4\n",
       "199  283.6   42.0       66.2\n",
       "200  232.1    8.6        8.7\n",
       "\n",
       "[200 rows x 3 columns]"
      ]
     },
     "execution_count": 10,
     "metadata": {},
     "output_type": "execute_result"
    }
   ],
   "source": [
    "X"
   ]
  },
  {
   "cell_type": "code",
   "execution_count": 11,
   "id": "0b14f7f6",
   "metadata": {},
   "outputs": [
    {
     "data": {
      "text/plain": [
       "pandas.core.series.Series"
      ]
     },
     "execution_count": 11,
     "metadata": {},
     "output_type": "execute_result"
    }
   ],
   "source": [
    "# y'nin tipi\n",
    "\n",
    "type(y)"
   ]
  },
  {
   "cell_type": "code",
   "execution_count": 12,
   "id": "0c414ea8",
   "metadata": {},
   "outputs": [
    {
     "data": {
      "text/plain": [
       "1      22.1\n",
       "2      10.4\n",
       "3       9.3\n",
       "4      18.5\n",
       "5      12.9\n",
       "       ... \n",
       "196     7.6\n",
       "197     9.7\n",
       "198    12.8\n",
       "199    25.5\n",
       "200    13.4\n",
       "Name: sales, Length: 200, dtype: float64"
      ]
     },
     "execution_count": 12,
     "metadata": {},
     "output_type": "execute_result"
    }
   ],
   "source": [
    "y"
   ]
  },
  {
   "cell_type": "code",
   "execution_count": 13,
   "id": "1605011c",
   "metadata": {},
   "outputs": [
    {
     "data": {
      "text/plain": [
       "Index(['TV', 'radio', 'newspaper', 'sales'], dtype='object')"
      ]
     },
     "execution_count": 13,
     "metadata": {},
     "output_type": "execute_result"
    }
   ],
   "source": [
    "adv_df.columns"
   ]
  },
  {
   "cell_type": "code",
   "execution_count": 14,
   "id": "dc09c08d",
   "metadata": {},
   "outputs": [
    {
     "data": {
      "text/html": [
       "<div>\n",
       "<style scoped>\n",
       "    .dataframe tbody tr th:only-of-type {\n",
       "        vertical-align: middle;\n",
       "    }\n",
       "\n",
       "    .dataframe tbody tr th {\n",
       "        vertical-align: top;\n",
       "    }\n",
       "\n",
       "    .dataframe thead th {\n",
       "        text-align: right;\n",
       "    }\n",
       "</style>\n",
       "<table border=\"1\" class=\"dataframe\">\n",
       "  <thead>\n",
       "    <tr style=\"text-align: right;\">\n",
       "      <th></th>\n",
       "      <th>TV</th>\n",
       "      <th>radio</th>\n",
       "      <th>newspaper</th>\n",
       "      <th>sales</th>\n",
       "    </tr>\n",
       "  </thead>\n",
       "  <tbody>\n",
       "    <tr>\n",
       "      <th>1</th>\n",
       "      <td>230.1</td>\n",
       "      <td>37.8</td>\n",
       "      <td>69.2</td>\n",
       "      <td>22.1</td>\n",
       "    </tr>\n",
       "    <tr>\n",
       "      <th>2</th>\n",
       "      <td>44.5</td>\n",
       "      <td>39.3</td>\n",
       "      <td>45.1</td>\n",
       "      <td>10.4</td>\n",
       "    </tr>\n",
       "    <tr>\n",
       "      <th>3</th>\n",
       "      <td>17.2</td>\n",
       "      <td>45.9</td>\n",
       "      <td>69.3</td>\n",
       "      <td>9.3</td>\n",
       "    </tr>\n",
       "    <tr>\n",
       "      <th>4</th>\n",
       "      <td>151.5</td>\n",
       "      <td>41.3</td>\n",
       "      <td>58.5</td>\n",
       "      <td>18.5</td>\n",
       "    </tr>\n",
       "    <tr>\n",
       "      <th>5</th>\n",
       "      <td>180.8</td>\n",
       "      <td>10.8</td>\n",
       "      <td>58.4</td>\n",
       "      <td>12.9</td>\n",
       "    </tr>\n",
       "  </tbody>\n",
       "</table>\n",
       "</div>"
      ],
      "text/plain": [
       "      TV  radio  newspaper  sales\n",
       "1  230.1   37.8       69.2   22.1\n",
       "2   44.5   39.3       45.1   10.4\n",
       "3   17.2   45.9       69.3    9.3\n",
       "4  151.5   41.3       58.5   18.5\n",
       "5  180.8   10.8       58.4   12.9"
      ]
     },
     "execution_count": 14,
     "metadata": {},
     "output_type": "execute_result"
    }
   ],
   "source": [
    "adv_df.head()"
   ]
  },
  {
   "cell_type": "code",
   "execution_count": 15,
   "id": "0d04b8c1",
   "metadata": {},
   "outputs": [
    {
     "data": {
      "image/png": "[encoded data removed]",
      "text/plain": [
       "<Figure size 1080x360 with 3 Axes>"
      ]
     },
     "metadata": {
      "needs_background": "light"
     },
     "output_type": "display_data"
    }
   ],
   "source": [
    "# Sadece Girdiler - Çıktı İlişkisini Görselleştirelim\n",
    "\n",
    "sns.pairplot(adv_df, x_vars=adv_df.columns[0:3], y_vars=adv_df.columns[3], height=5)\n",
    "plt.show()"
   ]
  },
  {
   "cell_type": "markdown",
   "id": "b20f6e9e",
   "metadata": {},
   "source": [
    "***"
   ]
  },
  {
   "cell_type": "markdown",
   "id": "a0d6a58c",
   "metadata": {},
   "source": [
    "### 5- Modeli Oluştur"
   ]
  },
  {
   "cell_type": "markdown",
   "id": "34856bff",
   "metadata": {},
   "source": [
    "* Multiple Lineer Regresyon Modeli"
   ]
  },
  {
   "cell_type": "markdown",
   "id": "3a37a7f0",
   "metadata": {},
   "source": [
    "$$y = \\beta_0 + \\beta_1 * X_1 + \\beta_2 * X_2 + \\beta_3 * X_3$$"
   ]
  },
  {
   "cell_type": "code",
   "execution_count": 16,
   "id": "26585161",
   "metadata": {},
   "outputs": [],
   "source": [
    "# sklearn paketinin LinearRegression modülünü import edelim.\n",
    "\n",
    "from sklearn.linear_model import LinearRegression"
   ]
  },
  {
   "cell_type": "code",
   "execution_count": 17,
   "id": "596c70f3",
   "metadata": {},
   "outputs": [],
   "source": [
    "# Bir adet lineer regresyon nesnesi yaratalım\n",
    "\n",
    "linear_reg = LinearRegression()"
   ]
  },
  {
   "cell_type": "markdown",
   "id": "5083a0cf",
   "metadata": {},
   "source": [
    "***"
   ]
  },
  {
   "cell_type": "markdown",
   "id": "80974737",
   "metadata": {},
   "source": [
    "### 6- Data'yı Multiple Lineer Regresyon için Hazır Hale Getirelim"
   ]
  },
  {
   "cell_type": "markdown",
   "id": "a37a8e7d",
   "metadata": {},
   "source": [
    "* Boyut kontrolü yapmamız lazım."
   ]
  },
  {
   "cell_type": "markdown",
   "id": "202fa93e",
   "metadata": {},
   "source": [
    "shape -> `(n_samples, n_features)`\n",
    "\n",
    "shape -> `(n, p)`"
   ]
  },
  {
   "cell_type": "code",
   "execution_count": 18,
   "id": "0c02f4e2",
   "metadata": {},
   "outputs": [
    {
     "name": "stdout",
     "output_type": "stream",
     "text": [
      "X(Input)'in şekli: (200, 3)\n"
     ]
    }
   ],
   "source": [
    "# Önce Input ve Output'un şekline bakalım\n",
    "# X'in şekli\n",
    "\n",
    "print(f\"X(Input)'in şekli: {X.shape}\")"
   ]
  },
  {
   "cell_type": "code",
   "execution_count": 19,
   "id": "0f2f2a2c",
   "metadata": {},
   "outputs": [
    {
     "name": "stdout",
     "output_type": "stream",
     "text": [
      "y(Output)'nin şekli: (200,)\n"
     ]
    }
   ],
   "source": [
    "# y'nin şekli\n",
    "\n",
    "print(f\"y(Output)'nin şekli: {y.shape}\")"
   ]
  },
  {
   "cell_type": "markdown",
   "id": "7905eb17",
   "metadata": {},
   "source": [
    "* Yukarıda X ile y'nin şekil yapısına baktık. X regresyon için uygun bir yapıdayken(vektörel) y uygun bir yapıda değildir. Bu neden y'yi reshape edeceğiz."
   ]
  },
  {
   "cell_type": "code",
   "execution_count": 20,
   "id": "1abfdec4",
   "metadata": {},
   "outputs": [],
   "source": [
    "# y - Output için (200, 1) şeklinde yeniden şekillendirme yapalım.\n",
    "# y : (200, 1) -> 200 adet Örnek Gözlem, 1 adet Sütun/Feature(Label)\n",
    "\n",
    "y = y.values.reshape(-1, 1) # -1 : 200 adet satırı tut(values), 1 : Bir adet boyut ekle"
   ]
  },
  {
   "cell_type": "code",
   "execution_count": 21,
   "id": "4c784898",
   "metadata": {},
   "outputs": [
    {
     "name": "stdout",
     "output_type": "stream",
     "text": [
      "y(Output)'nin yeni şekli/boyutu: (200, 1)\n"
     ]
    }
   ],
   "source": [
    "print(f\"y(Output)'nin yeni şekli/boyutu: {y.shape}\")"
   ]
  },
  {
   "cell_type": "markdown",
   "id": "eec160d7",
   "metadata": {},
   "source": [
    "***"
   ]
  },
  {
   "cell_type": "markdown",
   "id": "fa67af88",
   "metadata": {},
   "source": [
    "### 7- Train - Test Split"
   ]
  },
  {
   "cell_type": "markdown",
   "id": "1c6404a7",
   "metadata": {},
   "source": [
    "* Toplam 200 adet olan verimizi Train-Test olacak şekilde ikiye ayıracağız.\n",
    "\n",
    "* Train: %70\n",
    "\n",
    "* Test: %30\n",
    "\n",
    "* Train Data: X_train, y_train\n",
    "\n",
    "* Test Data: X_test, y_test$"
   ]
  },
  {
   "cell_type": "code",
   "execution_count": 22,
   "id": "0de6cf5b",
   "metadata": {},
   "outputs": [],
   "source": [
    "# Scikit-Learn'den Train-Test modülünü import edelim\n",
    "\n",
    "from sklearn.model_selection import train_test_split"
   ]
  },
  {
   "cell_type": "code",
   "execution_count": 23,
   "id": "863a8f28",
   "metadata": {},
   "outputs": [],
   "source": [
    "# train_test_split() metodu geriye X_train, X_test, y_train, y_test değerlerini döner\n",
    "# Train Data -> X_train, y_train\n",
    "# Test Data -> X_test, y_test\n",
    "\n",
    "X_train, X_test, y_train, y_test = train_test_split(X, y, test_size=0.3, random_state=100)"
   ]
  },
  {
   "cell_type": "code",
   "execution_count": 24,
   "id": "df6bc8ab",
   "metadata": {},
   "outputs": [
    {
     "name": "stdout",
     "output_type": "stream",
     "text": [
      "X_train'in şekli/boyutu: (140, 3)\n",
      "y_train'in şekli/boyutu: (140, 1)\n",
      "X_test'in şekli/boyutu: (60, 3)\n",
      "y_test'in şekli/boyutu: (60, 1)\n"
     ]
    }
   ],
   "source": [
    "# Şekilleri print edelim\n",
    "# Yukarıda gördüğünüz üzere test için toplam verinin %30'unu train için ise toplam verinin %70'ini ayırdık.\n",
    "# Toplam 200 verimiz olduğuna göre train için 140 test için 60 veri ayrılır.\n",
    "\n",
    "print(f\"X_train'in şekli/boyutu: {X_train.shape}\")\n",
    "print(f\"y_train'in şekli/boyutu: {y_train.shape}\")\n",
    "print(f\"X_test'in şekli/boyutu: {X_test.shape}\")\n",
    "print(f\"y_test'in şekli/boyutu: {y_test.shape}\")"
   ]
  },
  {
   "cell_type": "markdown",
   "id": "827d4301",
   "metadata": {},
   "source": [
    "***"
   ]
  },
  {
   "cell_type": "markdown",
   "id": "88719750",
   "metadata": {},
   "source": [
    "### 8- Lineer Regresyon Modelini Çalıştıralım (Fit)"
   ]
  },
  {
   "cell_type": "code",
   "execution_count": 25,
   "id": "915c7f47",
   "metadata": {
    "scrolled": true
   },
   "outputs": [
    {
     "data": {
      "text/plain": [
       "LinearRegression()"
      ]
     },
     "execution_count": 25,
     "metadata": {},
     "output_type": "execute_result"
    }
   ],
   "source": [
    "# Regresyonu çalıştır -> fit\n",
    "# fit -> öğrenme, train data üzerinden\n",
    "# Aslında aşağıdaki işlem katsayıları yani Beta(^)'ları hesaplar, onları öğrenir.\n",
    "\n",
    "linear_reg.fit(X_train, y_train)"
   ]
  },
  {
   "cell_type": "markdown",
   "id": "f261c5e6",
   "metadata": {},
   "source": [
    "***"
   ]
  },
  {
   "cell_type": "markdown",
   "id": "fa35abb4",
   "metadata": {},
   "source": [
    "### 9- Katsayıları Hesaplama (intercept_ -> $\\hat \\beta_0$, coef_  -> $\\hat \\beta_1$, $\\hat \\beta_2$, $\\hat \\beta_3$)"
   ]
  },
  {
   "cell_type": "markdown",
   "id": "0189afb8",
   "metadata": {},
   "source": [
    "Multiple Lineer Regresyonu fit etmenin amacı katsayıları hesaplamaktır.\n",
    "\n",
    "$\\hat \\beta_0$ -> intercept\n",
    "\n",
    "$\\hat \\beta_1$, $\\hat \\beta_2$, $\\hat \\beta_3$ -> slope (coefficient)"
   ]
  },
  {
   "cell_type": "code",
   "execution_count": 26,
   "id": "dc714a26",
   "metadata": {},
   "outputs": [
    {
     "name": "stdout",
     "output_type": "stream",
     "text": [
      "Intercept: [2.65278967]\n"
     ]
    }
   ],
   "source": [
    "# intercept -> Beta_0\n",
    "\n",
    "print(f\"Intercept: {linear_reg.intercept_}\")"
   ]
  },
  {
   "cell_type": "code",
   "execution_count": 27,
   "id": "85947129",
   "metadata": {},
   "outputs": [
    {
     "name": "stdout",
     "output_type": "stream",
     "text": [
      "Slope(Coefficent - Eğim): [[0.0454256  0.18975773 0.00460308]]\n"
     ]
    }
   ],
   "source": [
    "# slope = coefficent -> [[Beta_1, Beta_2, Beta_3]]\n",
    "\n",
    "print(f\"Slope(Coefficent - Eğim): {linear_reg.coef_}\")"
   ]
  },
  {
   "cell_type": "code",
   "execution_count": 28,
   "id": "67ff16a9",
   "metadata": {},
   "outputs": [],
   "source": [
    "coefficents = pd.DataFrame(linear_reg.coef_, columns=[\"Beta_1 (TV)\", \"Beta_2 (Radio)\", \"Beta_3 (Newspaper)\"])"
   ]
  },
  {
   "cell_type": "code",
   "execution_count": 29,
   "id": "f55bac92",
   "metadata": {},
   "outputs": [
    {
     "data": {
      "text/html": [
       "<div>\n",
       "<style scoped>\n",
       "    .dataframe tbody tr th:only-of-type {\n",
       "        vertical-align: middle;\n",
       "    }\n",
       "\n",
       "    .dataframe tbody tr th {\n",
       "        vertical-align: top;\n",
       "    }\n",
       "\n",
       "    .dataframe thead th {\n",
       "        text-align: right;\n",
       "    }\n",
       "</style>\n",
       "<table border=\"1\" class=\"dataframe\">\n",
       "  <thead>\n",
       "    <tr style=\"text-align: right;\">\n",
       "      <th></th>\n",
       "      <th>Beta_1 (TV)</th>\n",
       "      <th>Beta_2 (Radio)</th>\n",
       "      <th>Beta_3 (Newspaper)</th>\n",
       "    </tr>\n",
       "  </thead>\n",
       "  <tbody>\n",
       "    <tr>\n",
       "      <th>0</th>\n",
       "      <td>0.045426</td>\n",
       "      <td>0.189758</td>\n",
       "      <td>0.004603</td>\n",
       "    </tr>\n",
       "  </tbody>\n",
       "</table>\n",
       "</div>"
      ],
      "text/plain": [
       "   Beta_1 (TV)  Beta_2 (Radio)  Beta_3 (Newspaper)\n",
       "0     0.045426        0.189758            0.004603"
      ]
     },
     "execution_count": 29,
     "metadata": {},
     "output_type": "execute_result"
    }
   ],
   "source": [
    "# Katsayıları yazdıralım\n",
    "\n",
    "coefficents"
   ]
  },
  {
   "cell_type": "markdown",
   "id": "436fe545",
   "metadata": {},
   "source": [
    "$$\\hat y = \\hat \\beta_0 + \\hat \\beta_1X_1 + \\hat \\beta_2X_2 + \\hat \\beta_3X_3$$"
   ]
  },
  {
   "cell_type": "markdown",
   "id": "000cb894",
   "metadata": {},
   "source": [
    "$$\\hat y = 2.6527 + 0.0454 * X_1 + 0.1897 * X_2 + 0.0046 * X_3$$"
   ]
  },
  {
   "cell_type": "markdown",
   "id": "e2d3e310",
   "metadata": {},
   "source": [
    "* **ARTIK KATSAYILARIMIZI HESAPLADIK YANİ ÖĞRENDİK**\n",
    "* **Newspaper feature'unun katsayısının çok küçük olduğuna dikkat edin. Buradan $\\hat \\beta_3$ 'ün $\\hat y$ 'ye çok da etki etmediğini anlıyoruz.**"
   ]
  },
  {
   "cell_type": "markdown",
   "id": "68c25c47",
   "metadata": {},
   "source": [
    "* HATIRLARMA : Multiple Lineer Regresyon modeli ile çalışırken temel olarak iki bilgiyi ortaya çıkarmayı amaçlıyoruz. Bunlar:\n",
    "    1. Tahmin işleminde hangi değişkenler önem arz ediyor? (TV, RADIO, NEWSPAPER)\n",
    "    2. Önemli olan değişkenlerden hangileri ne derecede önemli?"
   ]
  },
  {
   "cell_type": "markdown",
   "id": "45e63dd7",
   "metadata": {},
   "source": [
    "***"
   ]
  },
  {
   "cell_type": "markdown",
   "id": "9ca257d9",
   "metadata": {},
   "source": [
    "### 10- Tahmin Yapma (Predict)"
   ]
  },
  {
   "cell_type": "markdown",
   "id": "58e3798a",
   "metadata": {},
   "source": [
    "Regresyon katsayılarımızı hesapladığımıza göre test verisi (X_test) üzerinden y'leri tahmin edebiliriz -> `y_pred`"
   ]
  },
  {
   "cell_type": "markdown",
   "id": "2924ec6b",
   "metadata": {},
   "source": [
    "Gerçek y değerleri y_test değişkeni içerisinde mevcut. Onları tahmin doğruluğunu kontrol ederken kullanacağız."
   ]
  },
  {
   "cell_type": "code",
   "execution_count": 30,
   "id": "78d2814d",
   "metadata": {},
   "outputs": [],
   "source": [
    "# Tahmin yapalım\n",
    "# Bunun için X_test kullanacağız çünkü X_train ile öğrenme işlemini gerçekleştirdik.\n",
    "\n",
    "y_pred = linear_reg.predict(X_test)"
   ]
  },
  {
   "cell_type": "code",
   "execution_count": 31,
   "id": "8599b82e",
   "metadata": {},
   "outputs": [
    {
     "data": {
      "text/plain": [
       "array([[10.62160072],\n",
       "       [20.00625302],\n",
       "       [16.91850882],\n",
       "       [19.17040746],\n",
       "       [20.94974131],\n",
       "       [13.12284284],\n",
       "       [11.80740696],\n",
       "       [12.32019766],\n",
       "       [20.57806782],\n",
       "       [20.95662688],\n",
       "       [10.79096475],\n",
       "       [19.54868702],\n",
       "       [ 6.42403866],\n",
       "       [15.23133391],\n",
       "       [ 8.97226257],\n",
       "       [ 7.89897862],\n",
       "       [16.23599497],\n",
       "       [12.02636477],\n",
       "       [17.09702178],\n",
       "       [11.26080277],\n",
       "       [16.97826292],\n",
       "       [ 9.75655721],\n",
       "       [20.82389762],\n",
       "       [17.20916742],\n",
       "       [15.13816239],\n",
       "       [21.97290698],\n",
       "       [19.20181841],\n",
       "       [10.07501899],\n",
       "       [19.39017185],\n",
       "       [14.8673761 ],\n",
       "       [14.36798893],\n",
       "       [ 7.55604543],\n",
       "       [ 9.96742165],\n",
       "       [14.76342565],\n",
       "       [ 7.20995576],\n",
       "       [13.60003295],\n",
       "       [ 7.49088656],\n",
       "       [11.70865932],\n",
       "       [13.46091883],\n",
       "       [15.2229793 ],\n",
       "       [17.18088277],\n",
       "       [13.56738329],\n",
       "       [14.30942267],\n",
       "       [13.72909849],\n",
       "       [11.88559349],\n",
       "       [ 8.77039705],\n",
       "       [12.1244102 ],\n",
       "       [19.20252289],\n",
       "       [ 9.08376601],\n",
       "       [ 5.15367352],\n",
       "       [16.22852749],\n",
       "       [18.14111213],\n",
       "       [12.94835466],\n",
       "       [16.86274503],\n",
       "       [17.86462435],\n",
       "       [12.33930625],\n",
       "       [ 4.3575739 ],\n",
       "       [11.25904494],\n",
       "       [16.11560622],\n",
       "       [13.56602169]])"
      ]
     },
     "execution_count": 31,
     "metadata": {},
     "output_type": "execute_result"
    }
   ],
   "source": [
    "# Tahmini değerlerimizi yazdıralım\n",
    "y_pred"
   ]
  },
  {
   "cell_type": "code",
   "execution_count": 32,
   "id": "d6ec5ed1",
   "metadata": {},
   "outputs": [
    {
     "data": {
      "text/plain": [
       "(60, 1)"
      ]
     },
     "execution_count": 32,
     "metadata": {},
     "output_type": "execute_result"
    }
   ],
   "source": [
    "# Tahmin verisinin şeklini yazdıralım\n",
    "\n",
    "y_pred.shape"
   ]
  },
  {
   "cell_type": "code",
   "execution_count": 33,
   "id": "7fb6641d",
   "metadata": {},
   "outputs": [
    {
     "data": {
      "text/plain": [
       "(60, 1)"
      ]
     },
     "execution_count": 33,
     "metadata": {},
     "output_type": "execute_result"
    }
   ],
   "source": [
    "# Test verisinin şeklini yani orijinal output verisinin şeklini yazdıralım\n",
    "\n",
    "y_test.shape"
   ]
  },
  {
   "cell_type": "markdown",
   "id": "3afc94b5",
   "metadata": {},
   "source": [
    "***"
   ]
  },
  {
   "cell_type": "markdown",
   "id": "ebc10255",
   "metadata": {},
   "source": [
    "### 11- Gerçek Data ve Tahmin Datasını Çizmek"
   ]
  },
  {
   "cell_type": "markdown",
   "id": "4b3bceb5",
   "metadata": {},
   "source": [
    "Artık test verilerinden yani gerçek dünyadan bahsediyoruz. Train verisi ile işimiz bitti çünkü modeli eğitme işini tamamladık."
   ]
  },
  {
   "cell_type": "markdown",
   "id": "df1e10f2",
   "metadata": {},
   "source": [
    "* Gerçek Lablel -> y_test\n",
    "* Tahmini Label -> y_pred\n",
    "* Input -> X_test"
   ]
  },
  {
   "cell_type": "code",
   "execution_count": 34,
   "id": "c79a1d57",
   "metadata": {},
   "outputs": [
    {
     "data": {
      "text/plain": [
       "array([[ 6.6],\n",
       "       [20.7],\n",
       "       [17.2],\n",
       "       [19.4],\n",
       "       [21.8],\n",
       "       [12.2],\n",
       "       [12.2],\n",
       "       [11.7],\n",
       "       [22.6],\n",
       "       [22.3]])"
      ]
     },
     "execution_count": 34,
     "metadata": {},
     "output_type": "execute_result"
    }
   ],
   "source": [
    "# İlk 10 gerçek y değerlerini görelim\n",
    "\n",
    "y_test[0:10]"
   ]
  },
  {
   "cell_type": "code",
   "execution_count": 35,
   "id": "93164c30",
   "metadata": {},
   "outputs": [
    {
     "data": {
      "text/plain": [
       "array([[10.62160072],\n",
       "       [20.00625302],\n",
       "       [16.91850882],\n",
       "       [19.17040746],\n",
       "       [20.94974131],\n",
       "       [13.12284284],\n",
       "       [11.80740696],\n",
       "       [12.32019766],\n",
       "       [20.57806782],\n",
       "       [20.95662688]])"
      ]
     },
     "execution_count": 35,
     "metadata": {},
     "output_type": "execute_result"
    }
   ],
   "source": [
    "# İlk 10 tahmin y değerlerini görelim\n",
    "\n",
    "y_pred[0:10]"
   ]
  },
  {
   "cell_type": "code",
   "execution_count": 36,
   "id": "a389a54d",
   "metadata": {},
   "outputs": [
    {
     "data": {
      "image/png": "[encoded data removed]",
      "text/plain": [
       "<Figure size 1080x720 with 1 Axes>"
      ]
     },
     "metadata": {
      "needs_background": "light"
     },
     "output_type": "display_data"
    }
   ],
   "source": [
    "# Her bir tahmin noktasındaki değişimi görelim\n",
    "indexes = range(1, 61)\n",
    "\n",
    "# Gerçek Data -> Grand Truth\n",
    "fig, ax = plt.subplots(figsize = (15,10))\n",
    "ax.plot(indexes, y_test, label=\"Grande Truth\", color=\"red\", linewidth=3)\n",
    "\n",
    "# Tahmin -> Prediction\n",
    "ax.plot(indexes, y_pred, label=\"Prediction\", color=\"green\", linewidth=3)\n",
    "\n",
    "plt.title(\"REAL - PREDICTED DATA\")\n",
    "plt.xlabel(\"Data Index\")\n",
    "plt.ylabel(\"Sales\")\n",
    "plt.legend(loc=\"upper left\")\n",
    "plt.show()"
   ]
  },
  {
   "cell_type": "markdown",
   "id": "4014cf84",
   "metadata": {},
   "source": [
    "***"
   ]
  },
  {
   "cell_type": "markdown",
   "id": "e85add6d",
   "metadata": {},
   "source": [
    "### 12- Hataları Çiz ($y - \\hat y$)"
   ]
  },
  {
   "cell_type": "markdown",
   "id": "da9798c0",
   "metadata": {},
   "source": [
    "**Hata : Residual -> ($y - \\hat y$)**"
   ]
  },
  {
   "cell_type": "markdown",
   "id": "64aa6049",
   "metadata": {},
   "source": [
    "$y - \\hat y$ = y_test - y_pred\n"
   ]
  },
  {
   "cell_type": "code",
   "execution_count": 37,
   "id": "4f864fde",
   "metadata": {},
   "outputs": [],
   "source": [
    "import numpy as np"
   ]
  },
  {
   "cell_type": "code",
   "execution_count": 38,
   "id": "1f74b9d3",
   "metadata": {},
   "outputs": [
    {
     "data": {
      "image/png": "[encoded data removed]",
      "text/plain": [
       "<Figure size 1080x720 with 1 Axes>"
      ]
     },
     "metadata": {
      "needs_background": "light"
     },
     "output_type": "display_data"
    }
   ],
   "source": [
    "# Her bir tahmin noktasındaki hatayı görelim\n",
    "indexes = range(1, 61)\n",
    "residuals = y_test - y_pred\n",
    "\n",
    "# Residuls Data -> Hatalar\n",
    "fig, ax = plt.subplots(figsize = (15,10))\n",
    "ax.plot(indexes, residuals, label=\"Residuals\", color=\"red\", linewidth=3)\n",
    "\n",
    "# Sıfır doğrusunu çizelim\n",
    "ax.plot(indexes, np.zeros(60), label=\"No Error Line\", color=\"black\", linewidth=3)\n",
    "\n",
    "plt.title(\"RESIDUALS TABLE\")\n",
    "plt.xlabel(\"Data Index\")\n",
    "plt.ylabel(\"Amounth of Residuals\")\n",
    "plt.legend(loc=\"upper left\")\n",
    "plt.show()"
   ]
  },
  {
   "cell_type": "markdown",
   "id": "bfdf33a6",
   "metadata": {},
   "source": [
    "***"
   ]
  },
  {
   "cell_type": "markdown",
   "id": "a4b39efe",
   "metadata": {},
   "source": [
    "### 13- Model Doğruluğunu Kontrol Et (RMSE, ve $R^2$)"
   ]
  },
  {
   "cell_type": "markdown",
   "id": "478023cc",
   "metadata": {},
   "source": [
    "**RMSE**: Root Mean Squared Error : MSE'nin karekökü.\n",
    "\n",
    "$R^2$: `Coefficient of Determination`."
   ]
  },
  {
   "cell_type": "markdown",
   "id": "57ff2afd",
   "metadata": {},
   "source": [
    "https://scikit-learn.org/stable/modules/classes.html#module-sklearn.metrics"
   ]
  },
  {
   "cell_type": "code",
   "execution_count": 39,
   "id": "3135a0fd",
   "metadata": {},
   "outputs": [],
   "source": [
    "# sklearn kütüphanesini import edelim"
   ]
  },
  {
   "cell_type": "code",
   "execution_count": 40,
   "id": "4fe64611",
   "metadata": {},
   "outputs": [],
   "source": [
    "from sklearn.metrics import r2_score, mean_squared_error"
   ]
  },
  {
   "cell_type": "code",
   "execution_count": 41,
   "id": "49367445",
   "metadata": {},
   "outputs": [],
   "source": [
    "# R^2 değerini hesaplayalım\n",
    "\n",
    "r_2 = r2_score(y_test, y_pred)"
   ]
  },
  {
   "cell_type": "code",
   "execution_count": 42,
   "id": "306e6e6a",
   "metadata": {},
   "outputs": [
    {
     "name": "stdout",
     "output_type": "stream",
     "text": [
      "R^2 : 0.9058622107532247\n"
     ]
    }
   ],
   "source": [
    "# R^2'yi yazdır\n",
    "\n",
    "print(f\"R^2 : {r_2}\")"
   ]
  },
  {
   "cell_type": "code",
   "execution_count": 43,
   "id": "11ee0e94",
   "metadata": {},
   "outputs": [
    {
     "name": "stdout",
     "output_type": "stream",
     "text": [
      "%R^2 : 90.58622107532247\n"
     ]
    }
   ],
   "source": [
    "# R^2 değerini % olarak yazıralım\n",
    "\n",
    "print(f\"%R^2 : {r_2 * 100}\")"
   ]
  },
  {
   "cell_type": "code",
   "execution_count": 44,
   "id": "a94e8976",
   "metadata": {},
   "outputs": [],
   "source": [
    "# MSE -> RMSE\n",
    "\n",
    "mse = mean_squared_error(y_test, y_pred)"
   ]
  },
  {
   "cell_type": "code",
   "execution_count": 45,
   "id": "08608d14",
   "metadata": {},
   "outputs": [
    {
     "name": "stdout",
     "output_type": "stream",
     "text": [
      "MSE: 1.850681994163694\n"
     ]
    }
   ],
   "source": [
    "# MSE'yi yazdır\n",
    "\n",
    "print('MSE:', mse)"
   ]
  },
  {
   "cell_type": "code",
   "execution_count": 46,
   "id": "d5ef0417",
   "metadata": {},
   "outputs": [],
   "source": [
    "# RMSE\n",
    "import math\n",
    "\n",
    "rmse = math.sqrt(mse)"
   ]
  },
  {
   "cell_type": "code",
   "execution_count": 47,
   "id": "cb23c555",
   "metadata": {},
   "outputs": [
    {
     "name": "stdout",
     "output_type": "stream",
     "text": [
      "RMSE: 1.3603977338130544\n"
     ]
    }
   ],
   "source": [
    "# RMSE'yi yazdır\n",
    "\n",
    "print('RMSE:', rmse)"
   ]
  },
  {
   "cell_type": "markdown",
   "id": "fdb450c9",
   "metadata": {},
   "source": [
    "***"
   ]
  },
  {
   "cell_type": "markdown",
   "id": "af1db528",
   "metadata": {},
   "source": [
    "### 14- OLS (Ordinary Least Squares)"
   ]
  },
  {
   "cell_type": "code",
   "execution_count": 48,
   "id": "62a3d36b",
   "metadata": {},
   "outputs": [
    {
     "name": "stderr",
     "output_type": "stream",
     "text": [
      "/home/can/anaconda3/envs/introMlEnv/lib/python3.10/site-packages/statsmodels/compat/pandas.py:61: FutureWarning: pandas.Int64Index is deprecated and will be removed from pandas in a future version. Use pandas.Index with the appropriate dtype instead.\n",
      "  from pandas import Int64Index as NumericIndex\n"
     ]
    }
   ],
   "source": [
    "import statsmodels.api as sm"
   ]
  },
  {
   "cell_type": "markdown",
   "id": "4ac4a47a",
   "metadata": {},
   "source": [
    "https://www.statsmodels.org/stable/examples/notebooks/generated/ols.html"
   ]
  },
  {
   "cell_type": "code",
   "execution_count": 49,
   "id": "fd421615",
   "metadata": {},
   "outputs": [],
   "source": [
    "# statsmodels modülünü kullanarak OLS() (Ordinary Least Squares) metodunu çalıştıracağız.\n",
    "# statsmodels OLS metodu beta_0 için otomatik olarak değer atamaz.\n",
    "# Bu nedenle beta_0 için 1 katsayısını bizim eklememiz lazım.\n",
    "# Bu katsayıyı add_constant() metodu ile ekleyebiliriz.\n",
    "\n",
    "X_train_ols = sm.add_constant(X_train)"
   ]
  },
  {
   "cell_type": "code",
   "execution_count": 50,
   "id": "ebfa45c2",
   "metadata": {},
   "outputs": [
    {
     "data": {
      "text/html": [
       "<div>\n",
       "<style scoped>\n",
       "    .dataframe tbody tr th:only-of-type {\n",
       "        vertical-align: middle;\n",
       "    }\n",
       "\n",
       "    .dataframe tbody tr th {\n",
       "        vertical-align: top;\n",
       "    }\n",
       "\n",
       "    .dataframe thead th {\n",
       "        text-align: right;\n",
       "    }\n",
       "</style>\n",
       "<table border=\"1\" class=\"dataframe\">\n",
       "  <thead>\n",
       "    <tr style=\"text-align: right;\">\n",
       "      <th></th>\n",
       "      <th>TV</th>\n",
       "      <th>radio</th>\n",
       "      <th>newspaper</th>\n",
       "    </tr>\n",
       "  </thead>\n",
       "  <tbody>\n",
       "    <tr>\n",
       "      <th>75</th>\n",
       "      <td>213.4</td>\n",
       "      <td>24.6</td>\n",
       "      <td>13.1</td>\n",
       "    </tr>\n",
       "    <tr>\n",
       "      <th>4</th>\n",
       "      <td>151.5</td>\n",
       "      <td>41.3</td>\n",
       "      <td>58.5</td>\n",
       "    </tr>\n",
       "    <tr>\n",
       "      <th>186</th>\n",
       "      <td>205.0</td>\n",
       "      <td>45.1</td>\n",
       "      <td>19.6</td>\n",
       "    </tr>\n",
       "    <tr>\n",
       "      <th>27</th>\n",
       "      <td>142.9</td>\n",
       "      <td>29.3</td>\n",
       "      <td>12.6</td>\n",
       "    </tr>\n",
       "    <tr>\n",
       "      <th>91</th>\n",
       "      <td>134.3</td>\n",
       "      <td>4.9</td>\n",
       "      <td>9.3</td>\n",
       "    </tr>\n",
       "    <tr>\n",
       "      <th>...</th>\n",
       "      <td>...</td>\n",
       "      <td>...</td>\n",
       "      <td>...</td>\n",
       "    </tr>\n",
       "    <tr>\n",
       "      <th>88</th>\n",
       "      <td>110.7</td>\n",
       "      <td>40.6</td>\n",
       "      <td>63.2</td>\n",
       "    </tr>\n",
       "    <tr>\n",
       "      <th>104</th>\n",
       "      <td>187.9</td>\n",
       "      <td>17.2</td>\n",
       "      <td>17.9</td>\n",
       "    </tr>\n",
       "    <tr>\n",
       "      <th>68</th>\n",
       "      <td>139.3</td>\n",
       "      <td>14.5</td>\n",
       "      <td>10.2</td>\n",
       "    </tr>\n",
       "    <tr>\n",
       "      <th>25</th>\n",
       "      <td>62.3</td>\n",
       "      <td>12.6</td>\n",
       "      <td>18.3</td>\n",
       "    </tr>\n",
       "    <tr>\n",
       "      <th>9</th>\n",
       "      <td>8.6</td>\n",
       "      <td>2.1</td>\n",
       "      <td>1.0</td>\n",
       "    </tr>\n",
       "  </tbody>\n",
       "</table>\n",
       "<p>140 rows × 3 columns</p>\n",
       "</div>"
      ],
      "text/plain": [
       "        TV  radio  newspaper\n",
       "75   213.4   24.6       13.1\n",
       "4    151.5   41.3       58.5\n",
       "186  205.0   45.1       19.6\n",
       "27   142.9   29.3       12.6\n",
       "91   134.3    4.9        9.3\n",
       "..     ...    ...        ...\n",
       "88   110.7   40.6       63.2\n",
       "104  187.9   17.2       17.9\n",
       "68   139.3   14.5       10.2\n",
       "25    62.3   12.6       18.3\n",
       "9      8.6    2.1        1.0\n",
       "\n",
       "[140 rows x 3 columns]"
      ]
     },
     "execution_count": 50,
     "metadata": {},
     "output_type": "execute_result"
    }
   ],
   "source": [
    "X_train"
   ]
  },
  {
   "cell_type": "code",
   "execution_count": 51,
   "id": "7add9ddf",
   "metadata": {},
   "outputs": [
    {
     "data": {
      "text/html": [
       "<div>\n",
       "<style scoped>\n",
       "    .dataframe tbody tr th:only-of-type {\n",
       "        vertical-align: middle;\n",
       "    }\n",
       "\n",
       "    .dataframe tbody tr th {\n",
       "        vertical-align: top;\n",
       "    }\n",
       "\n",
       "    .dataframe thead th {\n",
       "        text-align: right;\n",
       "    }\n",
       "</style>\n",
       "<table border=\"1\" class=\"dataframe\">\n",
       "  <thead>\n",
       "    <tr style=\"text-align: right;\">\n",
       "      <th></th>\n",
       "      <th>const</th>\n",
       "      <th>TV</th>\n",
       "      <th>radio</th>\n",
       "      <th>newspaper</th>\n",
       "    </tr>\n",
       "  </thead>\n",
       "  <tbody>\n",
       "    <tr>\n",
       "      <th>75</th>\n",
       "      <td>1.0</td>\n",
       "      <td>213.4</td>\n",
       "      <td>24.6</td>\n",
       "      <td>13.1</td>\n",
       "    </tr>\n",
       "    <tr>\n",
       "      <th>4</th>\n",
       "      <td>1.0</td>\n",
       "      <td>151.5</td>\n",
       "      <td>41.3</td>\n",
       "      <td>58.5</td>\n",
       "    </tr>\n",
       "    <tr>\n",
       "      <th>186</th>\n",
       "      <td>1.0</td>\n",
       "      <td>205.0</td>\n",
       "      <td>45.1</td>\n",
       "      <td>19.6</td>\n",
       "    </tr>\n",
       "    <tr>\n",
       "      <th>27</th>\n",
       "      <td>1.0</td>\n",
       "      <td>142.9</td>\n",
       "      <td>29.3</td>\n",
       "      <td>12.6</td>\n",
       "    </tr>\n",
       "    <tr>\n",
       "      <th>91</th>\n",
       "      <td>1.0</td>\n",
       "      <td>134.3</td>\n",
       "      <td>4.9</td>\n",
       "      <td>9.3</td>\n",
       "    </tr>\n",
       "    <tr>\n",
       "      <th>...</th>\n",
       "      <td>...</td>\n",
       "      <td>...</td>\n",
       "      <td>...</td>\n",
       "      <td>...</td>\n",
       "    </tr>\n",
       "    <tr>\n",
       "      <th>88</th>\n",
       "      <td>1.0</td>\n",
       "      <td>110.7</td>\n",
       "      <td>40.6</td>\n",
       "      <td>63.2</td>\n",
       "    </tr>\n",
       "    <tr>\n",
       "      <th>104</th>\n",
       "      <td>1.0</td>\n",
       "      <td>187.9</td>\n",
       "      <td>17.2</td>\n",
       "      <td>17.9</td>\n",
       "    </tr>\n",
       "    <tr>\n",
       "      <th>68</th>\n",
       "      <td>1.0</td>\n",
       "      <td>139.3</td>\n",
       "      <td>14.5</td>\n",
       "      <td>10.2</td>\n",
       "    </tr>\n",
       "    <tr>\n",
       "      <th>25</th>\n",
       "      <td>1.0</td>\n",
       "      <td>62.3</td>\n",
       "      <td>12.6</td>\n",
       "      <td>18.3</td>\n",
       "    </tr>\n",
       "    <tr>\n",
       "      <th>9</th>\n",
       "      <td>1.0</td>\n",
       "      <td>8.6</td>\n",
       "      <td>2.1</td>\n",
       "      <td>1.0</td>\n",
       "    </tr>\n",
       "  </tbody>\n",
       "</table>\n",
       "<p>140 rows × 4 columns</p>\n",
       "</div>"
      ],
      "text/plain": [
       "     const     TV  radio  newspaper\n",
       "75     1.0  213.4   24.6       13.1\n",
       "4      1.0  151.5   41.3       58.5\n",
       "186    1.0  205.0   45.1       19.6\n",
       "27     1.0  142.9   29.3       12.6\n",
       "91     1.0  134.3    4.9        9.3\n",
       "..     ...    ...    ...        ...\n",
       "88     1.0  110.7   40.6       63.2\n",
       "104    1.0  187.9   17.2       17.9\n",
       "68     1.0  139.3   14.5       10.2\n",
       "25     1.0   62.3   12.6       18.3\n",
       "9      1.0    8.6    2.1        1.0\n",
       "\n",
       "[140 rows x 4 columns]"
      ]
     },
     "execution_count": 51,
     "metadata": {},
     "output_type": "execute_result"
    }
   ],
   "source": [
    "X_train_ols"
   ]
  },
  {
   "cell_type": "code",
   "execution_count": 52,
   "id": "f74d5af0",
   "metadata": {},
   "outputs": [],
   "source": [
    "# statsmodels OLS modeli oluştur\n",
    "# OLS() önce y sonra X alır.\n",
    "\n",
    "sm_model = sm.OLS(y_train, X_train_ols)"
   ]
  },
  {
   "cell_type": "code",
   "execution_count": 53,
   "id": "6e2170ed",
   "metadata": {},
   "outputs": [],
   "source": [
    "# OLS modelinin sonuçlarını al\n",
    "\n",
    "result = sm_model.fit()"
   ]
  },
  {
   "cell_type": "code",
   "execution_count": 54,
   "id": "35c9ff8f",
   "metadata": {},
   "outputs": [
    {
     "name": "stdout",
     "output_type": "stream",
     "text": [
      "                            OLS Regression Results                            \n",
      "==============================================================================\n",
      "Dep. Variable:                      y   R-squared:                       0.893\n",
      "Model:                            OLS   Adj. R-squared:                  0.890\n",
      "Method:                 Least Squares   F-statistic:                     377.6\n",
      "Date:                Tue, 15 Mar 2022   Prob (F-statistic):           9.97e-66\n",
      "Time:                        18:29:44   Log-Likelihood:                -280.83\n",
      "No. Observations:                 140   AIC:                             569.7\n",
      "Df Residuals:                     136   BIC:                             581.4\n",
      "Df Model:                           3                                         \n",
      "Covariance Type:            nonrobust                                         \n",
      "==============================================================================\n",
      "                 coef    std err          t      P>|t|      [0.025      0.975]\n",
      "------------------------------------------------------------------------------\n",
      "const          2.6528      0.384      6.906      0.000       1.893       3.412\n",
      "TV             0.0454      0.002     27.093      0.000       0.042       0.049\n",
      "radio          0.1898      0.011     17.009      0.000       0.168       0.212\n",
      "newspaper      0.0046      0.008      0.613      0.541      -0.010       0.019\n",
      "==============================================================================\n",
      "Omnibus:                       40.095   Durbin-Watson:                   1.862\n",
      "Prob(Omnibus):                  0.000   Jarque-Bera (JB):               83.622\n",
      "Skew:                          -1.233   Prob(JB):                     6.94e-19\n",
      "Kurtosis:                       5.873   Cond. No.                         443.\n",
      "==============================================================================\n",
      "\n",
      "Notes:\n",
      "[1] Standard Errors assume that the covariance matrix of the errors is correctly specified.\n"
     ]
    }
   ],
   "source": [
    "# OLS Özet tablosunu yazdır\n",
    "\n",
    "print(result.summary())"
   ]
  },
  {
   "cell_type": "markdown",
   "id": "7d46fe94",
   "metadata": {},
   "source": [
    "**OLS Sonucu**: Newspaper feature'unun p-değeri 0.05'ten büyük olduğu için bu değişkenin sonuç üzerinde herhangi bir etkisi yok. Bundan dolayı Newspaper sütununu dataframe'den çıkaracağız."
   ]
  },
  {
   "cell_type": "markdown",
   "id": "78e43013",
   "metadata": {},
   "source": [
    "***"
   ]
  },
  {
   "cell_type": "markdown",
   "id": "b38c3a66",
   "metadata": {},
   "source": [
    "### 15- Korelasyon (Correlation)"
   ]
  },
  {
   "cell_type": "code",
   "execution_count": 55,
   "id": "4c5e68a5",
   "metadata": {},
   "outputs": [
    {
     "data": {
      "image/png": "[encoded data removed]",
      "text/plain": [
       "<Figure size 432x288 with 2 Axes>"
      ]
     },
     "metadata": {
      "needs_background": "light"
     },
     "output_type": "display_data"
    }
   ],
   "source": [
    "sns.heatmap(adv_df.corr(), annot=True)\n",
    "plt.show()"
   ]
  },
  {
   "cell_type": "markdown",
   "id": "abbebdfc",
   "metadata": {},
   "source": [
    "***"
   ]
  },
  {
   "cell_type": "markdown",
   "id": "f34bea12",
   "metadata": {},
   "source": [
    "### 16- Sonuçlara Bağlı Olarak Yeni Model Oluşturmak"
   ]
  },
  {
   "cell_type": "markdown",
   "id": "8ae68fd5",
   "metadata": {},
   "source": [
    "Yukarıda bahsettiğimiz üzere Newspaper feature'u önemsiz olduğu için veri setimizden çıkarıp modelimizi revize edeceğiz."
   ]
  },
  {
   "cell_type": "code",
   "execution_count": 56,
   "id": "b1e70838",
   "metadata": {},
   "outputs": [],
   "source": [
    "# Yeni feature matrisi\n",
    "# X_train_new\n",
    "# X_test_new\n",
    "\n",
    "X_train_new = X_train[[\"TV\", \"radio\"]]"
   ]
  },
  {
   "cell_type": "code",
   "execution_count": 57,
   "id": "f99871e9",
   "metadata": {},
   "outputs": [
    {
     "data": {
      "text/html": [
       "<div>\n",
       "<style scoped>\n",
       "    .dataframe tbody tr th:only-of-type {\n",
       "        vertical-align: middle;\n",
       "    }\n",
       "\n",
       "    .dataframe tbody tr th {\n",
       "        vertical-align: top;\n",
       "    }\n",
       "\n",
       "    .dataframe thead th {\n",
       "        text-align: right;\n",
       "    }\n",
       "</style>\n",
       "<table border=\"1\" class=\"dataframe\">\n",
       "  <thead>\n",
       "    <tr style=\"text-align: right;\">\n",
       "      <th></th>\n",
       "      <th>TV</th>\n",
       "      <th>radio</th>\n",
       "    </tr>\n",
       "  </thead>\n",
       "  <tbody>\n",
       "    <tr>\n",
       "      <th>75</th>\n",
       "      <td>213.4</td>\n",
       "      <td>24.6</td>\n",
       "    </tr>\n",
       "    <tr>\n",
       "      <th>4</th>\n",
       "      <td>151.5</td>\n",
       "      <td>41.3</td>\n",
       "    </tr>\n",
       "    <tr>\n",
       "      <th>186</th>\n",
       "      <td>205.0</td>\n",
       "      <td>45.1</td>\n",
       "    </tr>\n",
       "    <tr>\n",
       "      <th>27</th>\n",
       "      <td>142.9</td>\n",
       "      <td>29.3</td>\n",
       "    </tr>\n",
       "    <tr>\n",
       "      <th>91</th>\n",
       "      <td>134.3</td>\n",
       "      <td>4.9</td>\n",
       "    </tr>\n",
       "  </tbody>\n",
       "</table>\n",
       "</div>"
      ],
      "text/plain": [
       "        TV  radio\n",
       "75   213.4   24.6\n",
       "4    151.5   41.3\n",
       "186  205.0   45.1\n",
       "27   142.9   29.3\n",
       "91   134.3    4.9"
      ]
     },
     "execution_count": 57,
     "metadata": {},
     "output_type": "execute_result"
    }
   ],
   "source": [
    "X_train_new.head()"
   ]
  },
  {
   "cell_type": "code",
   "execution_count": 58,
   "id": "8b4b0881",
   "metadata": {},
   "outputs": [],
   "source": [
    "X_test_new = X_test[[\"TV\", \"radio\"]]"
   ]
  },
  {
   "cell_type": "code",
   "execution_count": 59,
   "id": "844f908d",
   "metadata": {},
   "outputs": [
    {
     "data": {
      "text/html": [
       "<div>\n",
       "<style scoped>\n",
       "    .dataframe tbody tr th:only-of-type {\n",
       "        vertical-align: middle;\n",
       "    }\n",
       "\n",
       "    .dataframe tbody tr th {\n",
       "        vertical-align: top;\n",
       "    }\n",
       "\n",
       "    .dataframe thead th {\n",
       "        text-align: right;\n",
       "    }\n",
       "</style>\n",
       "<table border=\"1\" class=\"dataframe\">\n",
       "  <thead>\n",
       "    <tr style=\"text-align: right;\">\n",
       "      <th></th>\n",
       "      <th>TV</th>\n",
       "      <th>radio</th>\n",
       "    </tr>\n",
       "  </thead>\n",
       "  <tbody>\n",
       "    <tr>\n",
       "      <th>127</th>\n",
       "      <td>7.8</td>\n",
       "      <td>38.9</td>\n",
       "    </tr>\n",
       "    <tr>\n",
       "      <th>105</th>\n",
       "      <td>238.2</td>\n",
       "      <td>34.3</td>\n",
       "    </tr>\n",
       "    <tr>\n",
       "      <th>100</th>\n",
       "      <td>135.2</td>\n",
       "      <td>41.7</td>\n",
       "    </tr>\n",
       "    <tr>\n",
       "      <th>93</th>\n",
       "      <td>217.7</td>\n",
       "      <td>33.5</td>\n",
       "    </tr>\n",
       "    <tr>\n",
       "      <th>112</th>\n",
       "      <td>241.7</td>\n",
       "      <td>38.0</td>\n",
       "    </tr>\n",
       "  </tbody>\n",
       "</table>\n",
       "</div>"
      ],
      "text/plain": [
       "        TV  radio\n",
       "127    7.8   38.9\n",
       "105  238.2   34.3\n",
       "100  135.2   41.7\n",
       "93   217.7   33.5\n",
       "112  241.7   38.0"
      ]
     },
     "execution_count": 59,
     "metadata": {},
     "output_type": "execute_result"
    }
   ],
   "source": [
    "X_test_new.head()"
   ]
  },
  {
   "cell_type": "code",
   "execution_count": 60,
   "id": "5977a980",
   "metadata": {},
   "outputs": [
    {
     "data": {
      "text/plain": [
       "LinearRegression()"
      ]
     },
     "execution_count": 60,
     "metadata": {},
     "output_type": "execute_result"
    }
   ],
   "source": [
    "# Modeli tekrar kurgulayalım\n",
    "\n",
    "linear_reg.fit(X_train_new, y_train)"
   ]
  },
  {
   "cell_type": "code",
   "execution_count": 61,
   "id": "c4c2b822",
   "metadata": {},
   "outputs": [],
   "source": [
    "# Yeni tahminleri alalım\n",
    "\n",
    "y_pred_new = linear_reg.predict(X_test_new)"
   ]
  },
  {
   "cell_type": "code",
   "execution_count": 62,
   "id": "8274a24a",
   "metadata": {},
   "outputs": [
    {
     "data": {
      "text/plain": [
       "array([[10.56198847],\n",
       "       [20.16735504],\n",
       "       [16.90186462],\n",
       "       [19.07993718],\n",
       "       [21.03892699],\n",
       "       [13.13621118],\n",
       "       [11.80982028],\n",
       "       [12.39007729],\n",
       "       [20.59914742],\n",
       "       [21.04083466],\n",
       "       [10.88508869],\n",
       "       [19.38624121],\n",
       "       [ 6.37517955],\n",
       "       [15.33164571],\n",
       "       [ 8.96088175],\n",
       "       [ 7.95144449],\n",
       "       [16.38791571],\n",
       "       [11.97017124],\n",
       "       [17.24725749],\n",
       "       [11.20901475],\n",
       "       [17.11470022],\n",
       "       [ 9.70819803],\n",
       "       [20.79788275],\n",
       "       [17.20749366],\n",
       "       [15.18035107],\n",
       "       [22.18189008],\n",
       "       [19.17555656],\n",
       "       [10.05518823],\n",
       "       [19.5883307 ],\n",
       "       [14.98424867],\n",
       "       [14.39922454],\n",
       "       [ 7.65095995],\n",
       "       [ 9.84543862],\n",
       "       [14.78150095],\n",
       "       [ 7.22855505],\n",
       "       [13.69168479],\n",
       "       [ 7.43358375],\n",
       "       [11.75347003],\n",
       "       [13.50004784],\n",
       "       [15.057806  ],\n",
       "       [17.06957807],\n",
       "       [13.68351323],\n",
       "       [14.23222825],\n",
       "       [13.70744537],\n",
       "       [11.96487996],\n",
       "       [ 8.70898678],\n",
       "       [11.90028246],\n",
       "       [19.26409026],\n",
       "       [ 9.01348371],\n",
       "       [ 5.17060846],\n",
       "       [16.23196722],\n",
       "       [18.16063096],\n",
       "       [12.87565806],\n",
       "       [16.92691617],\n",
       "       [17.99125313],\n",
       "       [12.31004629],\n",
       "       [ 4.29140991],\n",
       "       [11.39172539],\n",
       "       [16.20134352],\n",
       "       [13.51229884]])"
      ]
     },
     "execution_count": 62,
     "metadata": {},
     "output_type": "execute_result"
    }
   ],
   "source": [
    "# Yeni tahminleri yazdıralım\n",
    "\n",
    "y_pred_new"
   ]
  },
  {
   "cell_type": "code",
   "execution_count": 63,
   "id": "beba9887",
   "metadata": {},
   "outputs": [
    {
     "data": {
      "image/png": "[encoded data removed]",
      "text/plain": [
       "<Figure size 1080x720 with 1 Axes>"
      ]
     },
     "metadata": {
      "needs_background": "light"
     },
     "output_type": "display_data"
    }
   ],
   "source": [
    "# Her bir tahmin noktasındaki değişimi görelim\n",
    "indexes = range(1, 61)\n",
    "\n",
    "# Gerçek Data -> Grand Truth\n",
    "fig, ax = plt.subplots(figsize = (15,10))\n",
    "ax.plot(indexes, y_test, label=\"Grande Truth\", color=\"red\", linewidth=3)\n",
    "\n",
    "# Tahmin -> Prediction\n",
    "ax.plot(indexes, y_pred_new, label=\"Prediction\", color=\"green\", linewidth=3)\n",
    "\n",
    "plt.title(\"REAL - PREDICTED DATA\")\n",
    "plt.xlabel(\"Data Index\")\n",
    "plt.ylabel(\"Sales\")\n",
    "plt.legend(loc=\"upper left\")\n",
    "plt.show()"
   ]
  },
  {
   "cell_type": "code",
   "execution_count": 64,
   "id": "ca3d56fb",
   "metadata": {},
   "outputs": [],
   "source": [
    "# Yeni OLS'i görelim\n",
    "\n",
    "X_train_new_ols = sm.add_constant(X_train_new)"
   ]
  },
  {
   "cell_type": "code",
   "execution_count": 65,
   "id": "03f6b687",
   "metadata": {},
   "outputs": [],
   "source": [
    "# statsmodels kütüphanesini kullanarak OLS modelini yeniden oluşturalım.\n",
    "\n",
    "sm_model = sm.OLS(y_train, X_train_new_ols)"
   ]
  },
  {
   "cell_type": "code",
   "execution_count": 66,
   "id": "16697638",
   "metadata": {},
   "outputs": [],
   "source": [
    "# OLS modelinin sonuçlarını alalım\n",
    "\n",
    "result = sm_model.fit()"
   ]
  },
  {
   "cell_type": "code",
   "execution_count": 67,
   "id": "3dd015a6",
   "metadata": {},
   "outputs": [
    {
     "name": "stdout",
     "output_type": "stream",
     "text": [
      "                            OLS Regression Results                            \n",
      "==============================================================================\n",
      "Dep. Variable:                      y   R-squared:                       0.893\n",
      "Model:                            OLS   Adj. R-squared:                  0.891\n",
      "Method:                 Least Squares   F-statistic:                     568.8\n",
      "Date:                Tue, 15 Mar 2022   Prob (F-statistic):           4.46e-67\n",
      "Time:                        18:29:44   Log-Likelihood:                -281.03\n",
      "No. Observations:                 140   AIC:                             568.1\n",
      "Df Residuals:                     137   BIC:                             576.9\n",
      "Df Model:                           2                                         \n",
      "Covariance Type:            nonrobust                                         \n",
      "==============================================================================\n",
      "                 coef    std err          t      P>|t|      [0.025      0.975]\n",
      "------------------------------------------------------------------------------\n",
      "const          2.7190      0.368      7.392      0.000       1.992       3.446\n",
      "TV             0.0455      0.002     27.368      0.000       0.042       0.049\n",
      "radio          0.1925      0.010     18.860      0.000       0.172       0.213\n",
      "==============================================================================\n",
      "Omnibus:                       41.530   Durbin-Watson:                   1.862\n",
      "Prob(Omnibus):                  0.000   Jarque-Bera (JB):               90.544\n",
      "Skew:                          -1.255   Prob(JB):                     2.18e-20\n",
      "Kurtosis:                       6.037   Cond. No.                         419.\n",
      "==============================================================================\n",
      "\n",
      "Notes:\n",
      "[1] Standard Errors assume that the covariance matrix of the errors is correctly specified.\n"
     ]
    }
   ],
   "source": [
    "# OLS özet tablosuna yazdıralım\n",
    "\n",
    "print(result.summary())"
   ]
  },
  {
   "cell_type": "markdown",
   "id": "13a1f048",
   "metadata": {},
   "source": [
    "**Halihazırda elimizde iki değişken var: TV ve Radio. OLS tablomuzu analiz ettiğimizde bu değişkenlerin p-değerlerinin 0.05'ten küçük olduğunu görüyoruz. Dolayısıyla bu iki değişken modelimiz için önemlidir diyebiliriz.**"
   ]
  },
  {
   "cell_type": "markdown",
   "id": "fac409b7",
   "metadata": {},
   "source": [
    "***"
   ]
  },
  {
   "cell_type": "markdown",
   "id": "017f004a",
   "metadata": {},
   "source": [
    "**Backward Elimination**\n",
    "\n",
    "Eğer böyle değil de, herhangi birinin p-değeri 0.05'ten büyük olsaydı onu da çıkarıp tekrar bir Lineer Regression çalıştıracaktık. Bu döngü bu şekilde devam eder. Ta ki tüm değişkenler önemli olarak kalana kadar."
   ]
  },
  {
   "cell_type": "markdown",
   "id": "336c6c07",
   "metadata": {},
   "source": [
    "***"
   ]
  },
  {
   "cell_type": "markdown",
   "id": "473176c8",
   "metadata": {},
   "source": [
    "### İSPAT: NEWSPAPER DEĞİŞKENİ GERÇEKTEN ÖNEMSİZ Mİ?"
   ]
  },
  {
   "cell_type": "markdown",
   "id": "338c9520",
   "metadata": {},
   "source": [
    "* Bu soruya cevap verebilmek için salt Newspaper - Sales ilişkisine bakalım."
   ]
  },
  {
   "cell_type": "code",
   "execution_count": 68,
   "id": "86e9bd9f",
   "metadata": {},
   "outputs": [
    {
     "name": "stdout",
     "output_type": "stream",
     "text": [
      "                            OLS Regression Results                            \n",
      "==============================================================================\n",
      "Dep. Variable:                      y   R-squared:                       0.096\n",
      "Model:                            OLS   Adj. R-squared:                  0.089\n",
      "Method:                 Least Squares   F-statistic:                     14.65\n",
      "Date:                Tue, 15 Mar 2022   Prob (F-statistic):           0.000195\n",
      "Time:                        18:29:44   Log-Likelihood:                -430.09\n",
      "No. Observations:                 140   AIC:                             864.2\n",
      "Df Residuals:                     138   BIC:                             870.1\n",
      "Df Model:                           1                                         \n",
      "Covariance Type:            nonrobust                                         \n",
      "==============================================================================\n",
      "                 coef    std err          t      P>|t|      [0.025      0.975]\n",
      "------------------------------------------------------------------------------\n",
      "const         11.4844      0.763     15.052      0.000       9.976      12.993\n",
      "x1             0.0755      0.020      3.828      0.000       0.036       0.114\n",
      "==============================================================================\n",
      "Omnibus:                        4.198   Durbin-Watson:                   1.910\n",
      "Prob(Omnibus):                  0.123   Jarque-Bera (JB):                3.875\n",
      "Skew:                           0.338   Prob(JB):                        0.144\n",
      "Kurtosis:                       2.546   Cond. No.                         66.4\n",
      "==============================================================================\n",
      "\n",
      "Notes:\n",
      "[1] Standard Errors assume that the covariance matrix of the errors is correctly specified.\n"
     ]
    }
   ],
   "source": [
    "# X -> Input(Feature)\n",
    "X = adv_df['newspaper']\n",
    "\n",
    "# Y -> Output(Label)\n",
    "y = adv_df['sales']\n",
    "\n",
    "# Yeniden boyutlandırmamız lazım\n",
    "X = X.values.reshape(-1, 1)\n",
    "y = y.values.reshape(-1, 1)\n",
    "\n",
    "# train-test split\n",
    "X_train, X_test, y_train, y_test = train_test_split(X, y, test_size=0.30, random_state=100)\n",
    "\n",
    "# statsmodels OLS\n",
    "X_train_ols = sm.add_constant(X_train)\n",
    "model = sm.OLS(y_train, X_train_ols)\n",
    "result = model.fit()\n",
    "\n",
    "# OLS Özet tablosunu yazdır\n",
    "print(result.summary())"
   ]
  },
  {
   "cell_type": "markdown",
   "id": "88e565a5",
   "metadata": {},
   "source": [
    "**Gördüğünüz gibi R-Squared : $R^2 = 0.096$ yani (%9.6) olarak çıktı.**\n",
    "\n",
    "* Bu oran tahmin işlemi için çok düşük. Dolayısı ile Newspaper'ın gerçekten bir tahmin değeri yok."
   ]
  },
  {
   "cell_type": "markdown",
   "id": "97274aef",
   "metadata": {},
   "source": [
    "***"
   ]
  },
  {
   "cell_type": "markdown",
   "id": "a709d8db",
   "metadata": {},
   "source": [
    "### **Adjustes R-Square**\n",
    "\n",
    "* Multiple Lineer Regresyon yönteminde, Backward Selection'ı bir örnekle gördük.\n",
    "\n",
    "* Başka bir çözüm yolu ise Forward Selection'dır.\n",
    "\n",
    "* Forward Selection'da, belli bir sayıda değişken ile başlanır ve her seferinde yeni bir değişken eklenerek ilerlenir.\n",
    "\n",
    "* Her yeni değişken demek biraz daha tahmin oranının ($R^2$) iyileşmesi/artması demek. (En kötü ihtimalle aynı kalır.)\n",
    "\n",
    "* Ama bu artma yanıltıcı olabilir. Sırf bir değişken eklediğimiz için $R^2$ nin artması çok doğru olmaz.\n",
    "\n",
    "* Bunu egale etmek için **Adjusted** $R^2$ vardır. Yani sırf yeni bir değişken eklendiği için artan $R^2$ değerini bir miktar aşağı düşürerek doğru orana çeker.\n",
    "\n",
    "* Dolayısı ile Multiple Lineer Regression analizlerinde, Adjusted $R^2$ daha güvenilir olarak kabul edilir."
   ]
  }
 ],
 "metadata": {
  "kernelspec": {
   "display_name": "Python 3 (ipykernel)",
   "language": "python",
   "name": "python3"
  },
  "language_info": {
   "codemirror_mode": {
    "name": "ipython",
    "version": 3
   },
   "file_extension": ".py",
   "mimetype": "text/x-python",
   "name": "python",
   "nbconvert_exporter": "python",
   "pygments_lexer": "ipython3",
   "version": "3.10.2"
  }
 },
 "nbformat": 4,
 "nbformat_minor": 5
}
