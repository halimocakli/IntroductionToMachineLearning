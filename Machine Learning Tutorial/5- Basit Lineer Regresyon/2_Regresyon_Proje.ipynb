{
 "cells": [
  {
   "cell_type": "markdown",
   "id": "taken-frank",
   "metadata": {},
   "source": [
    "# Lineer Regresyon - Proje 1 : TV - Sales"
   ]
  },
  {
   "cell_type": "markdown",
   "id": "mexican-device",
   "metadata": {},
   "source": [
    "Advertising.csv adlı veri setini kullanarak TV - Sales arasındaki ilişkiye bakacağız.\n",
    "\n",
    "Amacımız TV bütçesi ile Satış arasındaki ilişkiyi Lineer Regresyon ile modellemek.\n",
    "\n",
    "Bunun için bir lineer model kuracağız."
   ]
  },
  {
   "cell_type": "markdown",
   "id": "located-dublin",
   "metadata": {},
   "source": [
    "* **Adımlar**\n",
    "\n",
    "    1- Önce datayı ham olarak inceleyelim\n",
    "\n",
    "    2- Datayı import edelim\n",
    "\n",
    "    3- Datayı inceleyelim (head, describe, info)\n",
    "\n",
    "    4- Datayı görselleştir\n",
    "\n",
    "    5- Modeli oluştur (formuller)\n",
    "\n",
    "    6- Hazırlık\n",
    "\n",
    "    7- Train-Test Split\n",
    "\n",
    "    8- Lineer Regresyon Modelini Çalıştır (Fit - Prediction Hazırlığı)\n",
    "\n",
    "    9- Katsayıları Hesaplama (intercept_, coef_)\n",
    "\n",
    "    10- Tahmin Yap (Predict)\n",
    "\n",
    "    11- Gerçek Data ve Tahmin Datasını Çiz\n",
    "\n",
    "    12- Hataları Çiz ($y - \\hat y$)\n",
    "\n",
    "    13- Model Doğruluğunu Kontrol Et (RMSE, ve $R^2$)\n",
    "\n",
    "    14- Yorumlar"
   ]
  },
  {
   "cell_type": "markdown",
   "id": "governing-renewal",
   "metadata": {},
   "source": [
    "### 1- Önce Datanın İşlenmemiş Halini İnceleyelim"
   ]
  },
  {
   "cell_type": "markdown",
   "id": "37567b26",
   "metadata": {},
   "source": [
    "* Datanın Analizi\n",
    "    * Sütunlar neler?\n",
    "    * Feature (X) ve Label(y) sütunu ne?\n",
    "    * Toplam kaç kayıt var?\n",
    "    * Eksik data var mı?\n",
    "        * NA (Not Available)\n",
    "        * NaN: Not a Number"
   ]
  },
  {
   "cell_type": "markdown",
   "id": "5b6b3f14",
   "metadata": {},
   "source": [
    "***"
   ]
  },
  {
   "cell_type": "markdown",
   "id": "surprised-devices",
   "metadata": {},
   "source": [
    "### 2- Datayı Import Edelim"
   ]
  },
  {
   "cell_type": "code",
   "execution_count": 1,
   "id": "08e659fc",
   "metadata": {},
   "outputs": [],
   "source": [
    "# Gerekli kütüphaneleri import edelim\n",
    "\n",
    "import pandas as pd\n",
    "import matplotlib.pyplot as plt\n",
    "import seaborn as sns"
   ]
  },
  {
   "cell_type": "code",
   "execution_count": 2,
   "id": "0009cd4d",
   "metadata": {},
   "outputs": [],
   "source": [
    "# Dataframe'i oluşturalım\n",
    "\n",
    "adv_df = pd.read_csv(\"data/Advertising.csv\", index_col=0)"
   ]
  },
  {
   "cell_type": "markdown",
   "id": "99012b37",
   "metadata": {},
   "source": [
    "***"
   ]
  },
  {
   "cell_type": "markdown",
   "id": "566724b1",
   "metadata": {},
   "source": [
    "### 2- Datayı İnceleyelim [head(), describe(), info()]"
   ]
  },
  {
   "cell_type": "code",
   "execution_count": 3,
   "id": "25af3aab",
   "metadata": {
    "scrolled": true
   },
   "outputs": [
    {
     "data": {
      "text/html": [
       "<div>\n",
       "<style scoped>\n",
       "    .dataframe tbody tr th:only-of-type {\n",
       "        vertical-align: middle;\n",
       "    }\n",
       "\n",
       "    .dataframe tbody tr th {\n",
       "        vertical-align: top;\n",
       "    }\n",
       "\n",
       "    .dataframe thead th {\n",
       "        text-align: right;\n",
       "    }\n",
       "</style>\n",
       "<table border=\"1\" class=\"dataframe\">\n",
       "  <thead>\n",
       "    <tr style=\"text-align: right;\">\n",
       "      <th></th>\n",
       "      <th>TV</th>\n",
       "      <th>radio</th>\n",
       "      <th>newspaper</th>\n",
       "      <th>sales</th>\n",
       "    </tr>\n",
       "  </thead>\n",
       "  <tbody>\n",
       "    <tr>\n",
       "      <th>1</th>\n",
       "      <td>230.1</td>\n",
       "      <td>37.8</td>\n",
       "      <td>69.2</td>\n",
       "      <td>22.1</td>\n",
       "    </tr>\n",
       "    <tr>\n",
       "      <th>2</th>\n",
       "      <td>44.5</td>\n",
       "      <td>39.3</td>\n",
       "      <td>45.1</td>\n",
       "      <td>10.4</td>\n",
       "    </tr>\n",
       "    <tr>\n",
       "      <th>3</th>\n",
       "      <td>17.2</td>\n",
       "      <td>45.9</td>\n",
       "      <td>69.3</td>\n",
       "      <td>9.3</td>\n",
       "    </tr>\n",
       "    <tr>\n",
       "      <th>4</th>\n",
       "      <td>151.5</td>\n",
       "      <td>41.3</td>\n",
       "      <td>58.5</td>\n",
       "      <td>18.5</td>\n",
       "    </tr>\n",
       "    <tr>\n",
       "      <th>5</th>\n",
       "      <td>180.8</td>\n",
       "      <td>10.8</td>\n",
       "      <td>58.4</td>\n",
       "      <td>12.9</td>\n",
       "    </tr>\n",
       "    <tr>\n",
       "      <th>6</th>\n",
       "      <td>8.7</td>\n",
       "      <td>48.9</td>\n",
       "      <td>75.0</td>\n",
       "      <td>7.2</td>\n",
       "    </tr>\n",
       "    <tr>\n",
       "      <th>7</th>\n",
       "      <td>57.5</td>\n",
       "      <td>32.8</td>\n",
       "      <td>23.5</td>\n",
       "      <td>11.8</td>\n",
       "    </tr>\n",
       "    <tr>\n",
       "      <th>8</th>\n",
       "      <td>120.2</td>\n",
       "      <td>19.6</td>\n",
       "      <td>11.6</td>\n",
       "      <td>13.2</td>\n",
       "    </tr>\n",
       "    <tr>\n",
       "      <th>9</th>\n",
       "      <td>8.6</td>\n",
       "      <td>2.1</td>\n",
       "      <td>1.0</td>\n",
       "      <td>4.8</td>\n",
       "    </tr>\n",
       "    <tr>\n",
       "      <th>10</th>\n",
       "      <td>199.8</td>\n",
       "      <td>2.6</td>\n",
       "      <td>21.2</td>\n",
       "      <td>10.6</td>\n",
       "    </tr>\n",
       "  </tbody>\n",
       "</table>\n",
       "</div>"
      ],
      "text/plain": [
       "       TV  radio  newspaper  sales\n",
       "1   230.1   37.8       69.2   22.1\n",
       "2    44.5   39.3       45.1   10.4\n",
       "3    17.2   45.9       69.3    9.3\n",
       "4   151.5   41.3       58.5   18.5\n",
       "5   180.8   10.8       58.4   12.9\n",
       "6     8.7   48.9       75.0    7.2\n",
       "7    57.5   32.8       23.5   11.8\n",
       "8   120.2   19.6       11.6   13.2\n",
       "9     8.6    2.1        1.0    4.8\n",
       "10  199.8    2.6       21.2   10.6"
      ]
     },
     "execution_count": 3,
     "metadata": {},
     "output_type": "execute_result"
    }
   ],
   "source": [
    "# İlk 10 satırı gözlemleyelim\n",
    "\n",
    "adv_df.head(10)"
   ]
  },
  {
   "cell_type": "code",
   "execution_count": 4,
   "id": "2a5de27d",
   "metadata": {},
   "outputs": [
    {
     "data": {
      "text/html": [
       "<div>\n",
       "<style scoped>\n",
       "    .dataframe tbody tr th:only-of-type {\n",
       "        vertical-align: middle;\n",
       "    }\n",
       "\n",
       "    .dataframe tbody tr th {\n",
       "        vertical-align: top;\n",
       "    }\n",
       "\n",
       "    .dataframe thead th {\n",
       "        text-align: right;\n",
       "    }\n",
       "</style>\n",
       "<table border=\"1\" class=\"dataframe\">\n",
       "  <thead>\n",
       "    <tr style=\"text-align: right;\">\n",
       "      <th></th>\n",
       "      <th>TV</th>\n",
       "      <th>radio</th>\n",
       "      <th>newspaper</th>\n",
       "      <th>sales</th>\n",
       "    </tr>\n",
       "  </thead>\n",
       "  <tbody>\n",
       "    <tr>\n",
       "      <th>196</th>\n",
       "      <td>38.2</td>\n",
       "      <td>3.7</td>\n",
       "      <td>13.8</td>\n",
       "      <td>7.6</td>\n",
       "    </tr>\n",
       "    <tr>\n",
       "      <th>197</th>\n",
       "      <td>94.2</td>\n",
       "      <td>4.9</td>\n",
       "      <td>8.1</td>\n",
       "      <td>9.7</td>\n",
       "    </tr>\n",
       "    <tr>\n",
       "      <th>198</th>\n",
       "      <td>177.0</td>\n",
       "      <td>9.3</td>\n",
       "      <td>6.4</td>\n",
       "      <td>12.8</td>\n",
       "    </tr>\n",
       "    <tr>\n",
       "      <th>199</th>\n",
       "      <td>283.6</td>\n",
       "      <td>42.0</td>\n",
       "      <td>66.2</td>\n",
       "      <td>25.5</td>\n",
       "    </tr>\n",
       "    <tr>\n",
       "      <th>200</th>\n",
       "      <td>232.1</td>\n",
       "      <td>8.6</td>\n",
       "      <td>8.7</td>\n",
       "      <td>13.4</td>\n",
       "    </tr>\n",
       "  </tbody>\n",
       "</table>\n",
       "</div>"
      ],
      "text/plain": [
       "        TV  radio  newspaper  sales\n",
       "196   38.2    3.7       13.8    7.6\n",
       "197   94.2    4.9        8.1    9.7\n",
       "198  177.0    9.3        6.4   12.8\n",
       "199  283.6   42.0       66.2   25.5\n",
       "200  232.1    8.6        8.7   13.4"
      ]
     },
     "execution_count": 4,
     "metadata": {},
     "output_type": "execute_result"
    }
   ],
   "source": [
    "# Son 5 satırı gözlemleyelim\n",
    "\n",
    "adv_df.tail()"
   ]
  },
  {
   "cell_type": "code",
   "execution_count": 5,
   "id": "fa14d04e",
   "metadata": {
    "scrolled": true
   },
   "outputs": [
    {
     "name": "stdout",
     "output_type": "stream",
     "text": [
      "<class 'pandas.core.frame.DataFrame'>\n",
      "Int64Index: 200 entries, 1 to 200\n",
      "Data columns (total 4 columns):\n",
      " #   Column     Non-Null Count  Dtype  \n",
      "---  ------     --------------  -----  \n",
      " 0   TV         200 non-null    float64\n",
      " 1   radio      200 non-null    float64\n",
      " 2   newspaper  200 non-null    float64\n",
      " 3   sales      200 non-null    float64\n",
      "dtypes: float64(4)\n",
      "memory usage: 7.8 KB\n"
     ]
    }
   ],
   "source": [
    "# Dataframe'in genel bilgilerini görelim\n",
    "\n",
    "adv_df.info()"
   ]
  },
  {
   "cell_type": "code",
   "execution_count": 6,
   "id": "eb841215",
   "metadata": {},
   "outputs": [
    {
     "data": {
      "text/html": [
       "<div>\n",
       "<style scoped>\n",
       "    .dataframe tbody tr th:only-of-type {\n",
       "        vertical-align: middle;\n",
       "    }\n",
       "\n",
       "    .dataframe tbody tr th {\n",
       "        vertical-align: top;\n",
       "    }\n",
       "\n",
       "    .dataframe thead th {\n",
       "        text-align: right;\n",
       "    }\n",
       "</style>\n",
       "<table border=\"1\" class=\"dataframe\">\n",
       "  <thead>\n",
       "    <tr style=\"text-align: right;\">\n",
       "      <th></th>\n",
       "      <th>TV</th>\n",
       "      <th>radio</th>\n",
       "      <th>newspaper</th>\n",
       "      <th>sales</th>\n",
       "    </tr>\n",
       "  </thead>\n",
       "  <tbody>\n",
       "    <tr>\n",
       "      <th>count</th>\n",
       "      <td>200.000000</td>\n",
       "      <td>200.000000</td>\n",
       "      <td>200.000000</td>\n",
       "      <td>200.000000</td>\n",
       "    </tr>\n",
       "    <tr>\n",
       "      <th>mean</th>\n",
       "      <td>147.042500</td>\n",
       "      <td>23.264000</td>\n",
       "      <td>30.554000</td>\n",
       "      <td>14.022500</td>\n",
       "    </tr>\n",
       "    <tr>\n",
       "      <th>std</th>\n",
       "      <td>85.854236</td>\n",
       "      <td>14.846809</td>\n",
       "      <td>21.778621</td>\n",
       "      <td>5.217457</td>\n",
       "    </tr>\n",
       "    <tr>\n",
       "      <th>min</th>\n",
       "      <td>0.700000</td>\n",
       "      <td>0.000000</td>\n",
       "      <td>0.300000</td>\n",
       "      <td>1.600000</td>\n",
       "    </tr>\n",
       "    <tr>\n",
       "      <th>25%</th>\n",
       "      <td>74.375000</td>\n",
       "      <td>9.975000</td>\n",
       "      <td>12.750000</td>\n",
       "      <td>10.375000</td>\n",
       "    </tr>\n",
       "    <tr>\n",
       "      <th>50%</th>\n",
       "      <td>149.750000</td>\n",
       "      <td>22.900000</td>\n",
       "      <td>25.750000</td>\n",
       "      <td>12.900000</td>\n",
       "    </tr>\n",
       "    <tr>\n",
       "      <th>75%</th>\n",
       "      <td>218.825000</td>\n",
       "      <td>36.525000</td>\n",
       "      <td>45.100000</td>\n",
       "      <td>17.400000</td>\n",
       "    </tr>\n",
       "    <tr>\n",
       "      <th>max</th>\n",
       "      <td>296.400000</td>\n",
       "      <td>49.600000</td>\n",
       "      <td>114.000000</td>\n",
       "      <td>27.000000</td>\n",
       "    </tr>\n",
       "  </tbody>\n",
       "</table>\n",
       "</div>"
      ],
      "text/plain": [
       "               TV       radio   newspaper       sales\n",
       "count  200.000000  200.000000  200.000000  200.000000\n",
       "mean   147.042500   23.264000   30.554000   14.022500\n",
       "std     85.854236   14.846809   21.778621    5.217457\n",
       "min      0.700000    0.000000    0.300000    1.600000\n",
       "25%     74.375000    9.975000   12.750000   10.375000\n",
       "50%    149.750000   22.900000   25.750000   12.900000\n",
       "75%    218.825000   36.525000   45.100000   17.400000\n",
       "max    296.400000   49.600000  114.000000   27.000000"
      ]
     },
     "execution_count": 6,
     "metadata": {},
     "output_type": "execute_result"
    }
   ],
   "source": [
    "# Temel istatistiksel bilgilere erişelim\n",
    "\n",
    "adv_df.describe()"
   ]
  },
  {
   "cell_type": "markdown",
   "id": "a434aade",
   "metadata": {},
   "source": [
    "***"
   ]
  },
  {
   "cell_type": "markdown",
   "id": "52108743",
   "metadata": {},
   "source": [
    "### 4- Datayı Görselleştirelim"
   ]
  },
  {
   "cell_type": "code",
   "execution_count": 7,
   "id": "ffe3a692",
   "metadata": {},
   "outputs": [],
   "source": [
    "# Input - Output ayrımını yapalım\n",
    "\n",
    "data = adv_df[[\"TV\", \"sales\"]]\n",
    "\n",
    "# X -> Input(Feature)\n",
    "X = data[\"TV\"]\n",
    "\n",
    "# y -> Output\n",
    "y = data[\"sales\"]"
   ]
  },
  {
   "cell_type": "code",
   "execution_count": 8,
   "id": "13847d74",
   "metadata": {},
   "outputs": [
    {
     "data": {
      "text/plain": [
       "pandas.core.series.Series"
      ]
     },
     "execution_count": 8,
     "metadata": {},
     "output_type": "execute_result"
    }
   ],
   "source": [
    "# X'in tipi\n",
    "\n",
    "type(X)"
   ]
  },
  {
   "cell_type": "code",
   "execution_count": 9,
   "id": "ae6bc609",
   "metadata": {},
   "outputs": [
    {
     "data": {
      "text/plain": [
       "pandas.core.series.Series"
      ]
     },
     "execution_count": 9,
     "metadata": {},
     "output_type": "execute_result"
    }
   ],
   "source": [
    "# y'nin tipi\n",
    "\n",
    "type(y)"
   ]
  },
  {
   "cell_type": "code",
   "execution_count": 10,
   "id": "a49b61da",
   "metadata": {},
   "outputs": [
    {
     "data": {
      "image/png": "[encoded data removed]",
      "text/plain": [
       "<Figure size 864x576 with 1 Axes>"
      ]
     },
     "metadata": {
      "needs_background": "light"
     },
     "output_type": "display_data"
    }
   ],
   "source": [
    "# Grafiği çizmeye başlayalım\n",
    "\n",
    "plt.figure(figsize=(12, 8))\n",
    "\n",
    "sns.scatterplot(data=data, x=\"TV\", y=\"sales\", color=\"orange\")\n",
    "\n",
    "plt.title(\"SALES - TV\")\n",
    "plt.show()"
   ]
  },
  {
   "cell_type": "markdown",
   "id": "2e95b9ae",
   "metadata": {},
   "source": [
    "***"
   ]
  },
  {
   "cell_type": "markdown",
   "id": "02ab7b2d",
   "metadata": {},
   "source": [
    "### 5- Modeli Oluştur"
   ]
  },
  {
   "cell_type": "markdown",
   "id": "8d33dd91",
   "metadata": {},
   "source": [
    "Lineer Regresyon Modeli"
   ]
  },
  {
   "cell_type": "markdown",
   "id": "3a854380",
   "metadata": {},
   "source": [
    "$$ y = \\beta_0 + \\beta_1X $$"
   ]
  },
  {
   "cell_type": "markdown",
   "id": "73a1989c",
   "metadata": {},
   "source": [
    "Machine Learning için dünyada en yaygın kullanılan Python paketi **Scikit-Learn** paketidir ve biz de bu paketi kullanacağız. Bilgi almak için aşağıdaki bağlantıyı kullanabilirsiniz."
   ]
  },
  {
   "cell_type": "markdown",
   "id": "bf9d15d4",
   "metadata": {},
   "source": [
    "https://scikit-learn.org/stable/modules/generated/sklearn.linear_model.LinearRegression.html"
   ]
  },
  {
   "cell_type": "code",
   "execution_count": 11,
   "id": "d1dfb404",
   "metadata": {},
   "outputs": [],
   "source": [
    "# sklearn paketinin LinearRegression modülünü import edelim.\n",
    "\n",
    "from sklearn.linear_model import LinearRegression"
   ]
  },
  {
   "cell_type": "code",
   "execution_count": 12,
   "id": "df3878a9",
   "metadata": {},
   "outputs": [],
   "source": [
    "# Bir adet lineer regresyon nesnesi yaratalım\n",
    "\n",
    "linear_reg = LinearRegression()"
   ]
  },
  {
   "cell_type": "markdown",
   "id": "bf0d55eb",
   "metadata": {},
   "source": [
    "***"
   ]
  },
  {
   "cell_type": "markdown",
   "id": "2cb1572e",
   "metadata": {},
   "source": [
    "### 6- Data'yı Lineer Regresyon için Hazır Hale Getirelim"
   ]
  },
  {
   "cell_type": "markdown",
   "id": "8e0efc64",
   "metadata": {},
   "source": [
    "* Boyut kontrolü yapmamız lazım."
   ]
  },
  {
   "cell_type": "markdown",
   "id": "99ca21bc",
   "metadata": {},
   "source": [
    "shape -> `(n_samples, n_features)`\n",
    "\n",
    "shape -> `(n, p)`"
   ]
  },
  {
   "cell_type": "code",
   "execution_count": 13,
   "id": "64aef4a4",
   "metadata": {},
   "outputs": [
    {
     "name": "stdout",
     "output_type": "stream",
     "text": [
      "X(Input)'in şekli: (200,)\n"
     ]
    }
   ],
   "source": [
    "# Önce Input ve Output'un şekline bakalım\n",
    "# X'in şekli\n",
    "\n",
    "print(f\"X(Input)'in şekli: {X.shape}\")"
   ]
  },
  {
   "cell_type": "code",
   "execution_count": 14,
   "id": "ad5dd3c2",
   "metadata": {},
   "outputs": [
    {
     "name": "stdout",
     "output_type": "stream",
     "text": [
      "y(Output)'nin şekli: (200,)\n"
     ]
    }
   ],
   "source": [
    "# y'nin şekli\n",
    "\n",
    "print(f\"y(Output)'nin şekli: {y.shape}\")"
   ]
  },
  {
   "cell_type": "markdown",
   "id": "f4863b2a",
   "metadata": {},
   "source": [
    "**Yukarıda Input ve Output verilerinin şekil yapısını inceledik. sklearn kütüphanesini kullanarak bu verileri regresyona hazır hale getirebilmemiz için (n_samples, n_features) yapısına getirmemiz gerekiyor.**"
   ]
  },
  {
   "cell_type": "code",
   "execution_count": 15,
   "id": "db649e2a",
   "metadata": {},
   "outputs": [],
   "source": [
    "# X - Input için (200, 1) şeklinde yeniden şekillendirme yapalım. \n",
    "# y - Output için (200, 1) şeklinde yeniden şekillendirme yapalım.\n",
    "\n",
    "# X : (200, 1) -> 200 adet Örnek Gözlem, 1 adet Sütun/Feature(TV)\n",
    "# y : (200, 1) -> 200 adet Örnek Gözlem, 1 adet Sütun/Feature(Label)\n",
    "\n",
    "X = X.values.reshape(-1, 1) # -1 : 200 adet satırı tut(values), 1 : Bir adet boyut ekle\n",
    "y = y.values.reshape(-1, 1) # -1 : 200 adet satırı tut(values), 1 : Bir adet boyut ekle"
   ]
  },
  {
   "cell_type": "code",
   "execution_count": 16,
   "id": "92234099",
   "metadata": {},
   "outputs": [
    {
     "name": "stdout",
     "output_type": "stream",
     "text": [
      "X(Input)'in yeni şekli/boyutu: (200, 1)\n"
     ]
    }
   ],
   "source": [
    "print(f\"X(Input)'in yeni şekli/boyutu: {X.shape}\")"
   ]
  },
  {
   "cell_type": "code",
   "execution_count": 17,
   "id": "ce1ce817",
   "metadata": {
    "scrolled": true
   },
   "outputs": [
    {
     "name": "stdout",
     "output_type": "stream",
     "text": [
      "y(Output)'nin yeni şekli/boyutu: (200, 1)\n"
     ]
    }
   ],
   "source": [
    "print(f\"y(Output)'nin yeni şekli/boyutu: {y.shape}\")"
   ]
  },
  {
   "cell_type": "markdown",
   "id": "1813a894",
   "metadata": {},
   "source": [
    "***"
   ]
  },
  {
   "cell_type": "markdown",
   "id": "c6e87f9b",
   "metadata": {},
   "source": [
    "### 7- Train - Test Split"
   ]
  },
  {
   "cell_type": "markdown",
   "id": "050815d3",
   "metadata": {},
   "source": [
    "* Toplam 200 adet olan verimizi Train-Test olacak şekilde ikiye ayıracağız.\n",
    "\n",
    "* Train: %70\n",
    "\n",
    "* Test: %30\n",
    "\n",
    "* Train Data: X_train, y_train\n",
    "\n",
    "* Test Data: X_test, y_test"
   ]
  },
  {
   "cell_type": "markdown",
   "id": "ed091f99",
   "metadata": {},
   "source": [
    "https://scikit-learn.org/stable/modules/generated/sklearn.model_selection.train_test_split.html"
   ]
  },
  {
   "cell_type": "code",
   "execution_count": 18,
   "id": "f66f9dbe",
   "metadata": {},
   "outputs": [],
   "source": [
    "# Scikit-Learn'den Train-Test modülünü import edelim\n",
    "\n",
    "from sklearn.model_selection import train_test_split"
   ]
  },
  {
   "cell_type": "code",
   "execution_count": 19,
   "id": "14e9e8cc",
   "metadata": {},
   "outputs": [],
   "source": [
    "# train_test_split() metodu geriye X_train, X_test, y_train, y_test değerlerini döner\n",
    "# Train Data -> X_train, y_train\n",
    "# Test Data -> X_test, y_test\n",
    "\n",
    "X_train, X_test, y_train, y_test = train_test_split(X, y, test_size=0.3, random_state=100)"
   ]
  },
  {
   "cell_type": "code",
   "execution_count": 20,
   "id": "55e1dd7a",
   "metadata": {},
   "outputs": [
    {
     "name": "stdout",
     "output_type": "stream",
     "text": [
      "X_train'in şekli/boyutu: (140, 1)\n",
      "y_train'in şekli/boyutu: (140, 1)\n",
      "X_test'in şekli/boyutu: (60, 1)\n",
      "y_test'in şekli/boyutu: (60, 1)\n"
     ]
    }
   ],
   "source": [
    "# Şekilleri print edelim\n",
    "# Yukarıda gördüğünüz üzere test için toplam verinin %30'unu train için ise toplam verinin %70'ini ayırdık.\n",
    "# Toplam 200 verimiz olduğuna göre train için 140 test için 60 veri ayrılır.\n",
    "\n",
    "print(f\"X_train'in şekli/boyutu: {X_train.shape}\")\n",
    "print(f\"y_train'in şekli/boyutu: {y_train.shape}\")\n",
    "print(f\"X_test'in şekli/boyutu: {X_test.shape}\")\n",
    "print(f\"y_test'in şekli/boyutu: {y_test.shape}\")"
   ]
  },
  {
   "cell_type": "code",
   "execution_count": 21,
   "id": "da7e168f",
   "metadata": {},
   "outputs": [
    {
     "name": "stdout",
     "output_type": "stream",
     "text": [
      "<class 'numpy.ndarray'>\n",
      "<class 'numpy.ndarray'>\n",
      "<class 'numpy.ndarray'>\n",
      "<class 'numpy.ndarray'>\n"
     ]
    }
   ],
   "source": [
    "# X_train verisinin tipini yazdıralım\n",
    "# y_train verisinin tipini yazdıralım\n",
    "# X_test verisinin tipini yazdıralım\n",
    "# y_test verisinin tipini yazdıralım\n",
    "\n",
    "print(type(X_train))\n",
    "print(type(y_train))\n",
    "print(type(X_test))\n",
    "print(type(y_test))"
   ]
  },
  {
   "cell_type": "markdown",
   "id": "8582ec0b",
   "metadata": {},
   "source": [
    "* Gördüğünüz gibi `train_test_split()` metodu geriye Numpy Array döndürür."
   ]
  },
  {
   "cell_type": "markdown",
   "id": "c5e7d61c",
   "metadata": {},
   "source": [
    "***"
   ]
  },
  {
   "cell_type": "markdown",
   "id": "4e243ce2",
   "metadata": {},
   "source": [
    "### 8- Lineer Regresyon Modelini Çalıştıralım (Fit)"
   ]
  },
  {
   "cell_type": "code",
   "execution_count": 22,
   "id": "f29f866f",
   "metadata": {},
   "outputs": [
    {
     "data": {
      "text/plain": [
       "LinearRegression()"
      ]
     },
     "execution_count": 22,
     "metadata": {},
     "output_type": "execute_result"
    }
   ],
   "source": [
    "# Regresyonu çalıştır -> fit\n",
    "# fit -> öğrenme, train data üzerinden\n",
    "# Aslında aşağıdaki işlem katsayıları yani Beta(^)'ları hesaplar, onları öğrenir.\n",
    "\n",
    "linear_reg.fit(X_train, y_train)"
   ]
  },
  {
   "cell_type": "markdown",
   "id": "e76183c7",
   "metadata": {},
   "source": [
    "***"
   ]
  },
  {
   "cell_type": "markdown",
   "id": "3318c2ff",
   "metadata": {},
   "source": [
    "### 9- Katsayıları Hesaplama (intercept_ -> $\\hat \\beta_0$, coef_  -> $\\hat \\beta_1$)"
   ]
  },
  {
   "cell_type": "markdown",
   "id": "b724773a",
   "metadata": {},
   "source": [
    "Lineer Regresyonu fit etmenin amacı katsayıları hesaplamaktır.\n",
    "\n",
    "$\\beta_0$ -> intercept\n",
    "\n",
    "$\\beta_1$ -> slope (coefficient)"
   ]
  },
  {
   "cell_type": "code",
   "execution_count": 23,
   "id": "df429e2f",
   "metadata": {},
   "outputs": [
    {
     "name": "stdout",
     "output_type": "stream",
     "text": [
      "Intercept: [6.98966586]\n"
     ]
    }
   ],
   "source": [
    "# intercept -> Beta_0\n",
    "\n",
    "print(f\"Intercept: {linear_reg.intercept_}\")"
   ]
  },
  {
   "cell_type": "code",
   "execution_count": 24,
   "id": "b2079600",
   "metadata": {},
   "outputs": [
    {
     "name": "stdout",
     "output_type": "stream",
     "text": [
      "Slope(Coefficent - Eğim): [[0.04649736]]\n"
     ]
    }
   ],
   "source": [
    "# slope = coefficent -> Beta_1\n",
    "\n",
    "print(f\"Slope(Coefficent - Eğim): {linear_reg.coef_}\")"
   ]
  },
  {
   "cell_type": "markdown",
   "id": "985beece",
   "metadata": {},
   "source": [
    "$$\\hat y = \\hat \\beta_0 + \\hat \\beta_1X$$"
   ]
  },
  {
   "cell_type": "markdown",
   "id": "37a5fc49",
   "metadata": {},
   "source": [
    "$$\\hat y = 6.989 + 0.0464X$$"
   ]
  },
  {
   "cell_type": "markdown",
   "id": "f89b350e",
   "metadata": {},
   "source": [
    "* **ARTIK KATSAYILARIMIZI HESAPLADIK YANİ ÖĞRENDİK**"
   ]
  },
  {
   "cell_type": "markdown",
   "id": "45e63dd7",
   "metadata": {},
   "source": [
    "***"
   ]
  },
  {
   "cell_type": "markdown",
   "id": "cef6a732",
   "metadata": {},
   "source": [
    "### 10- Tahmin Yapma (Predict)"
   ]
  },
  {
   "cell_type": "markdown",
   "id": "3427ad3c",
   "metadata": {},
   "source": [
    "Regresyon katsayılarımızı hesapladığımıza göre test verisi (X_test) üzerinden y'leri tahmin edebiliriz -> `y_pred`"
   ]
  },
  {
   "cell_type": "markdown",
   "id": "45296a48",
   "metadata": {},
   "source": [
    "Gerçek y değerleri y_test değişkeni içerisinde mevcut. Onları tahmin doğruluğunu kontrol ederken kullanacağız."
   ]
  },
  {
   "cell_type": "code",
   "execution_count": 25,
   "id": "67be1c6a",
   "metadata": {},
   "outputs": [],
   "source": [
    "# Tahmin yapalım\n",
    "# Bunun için X_test kullanacağız çünkü X_train ile öğrenme işlemini gerçekleştirdik.\n",
    "\n",
    "y_pred = linear_reg.predict(X_test)"
   ]
  },
  {
   "cell_type": "code",
   "execution_count": 26,
   "id": "b1043bee",
   "metadata": {},
   "outputs": [
    {
     "data": {
      "text/plain": [
       "array([[ 7.35234526],\n",
       "       [18.06533671],\n",
       "       [13.27610876],\n",
       "       [17.11214086],\n",
       "       [18.22807747],\n",
       "       [16.60531965],\n",
       "       [13.4620982 ],\n",
       "       [16.17754395],\n",
       "       [17.05169429],\n",
       "       [17.07029323],\n",
       "       [12.4391563 ],\n",
       "       [17.66080969],\n",
       "       [ 9.60281742],\n",
       "       [15.72186983],\n",
       "       [11.04423554],\n",
       "       [11.36971705],\n",
       "       [13.95032046],\n",
       "       [14.90351632],\n",
       "       [14.59198401],\n",
       "       [12.23921766],\n",
       "       [16.97264878],\n",
       "       [13.00642408],\n",
       "       [16.07524976],\n",
       "       [15.21969836],\n",
       "       [15.58702749],\n",
       "       [17.23303399],\n",
       "       [17.20978531],\n",
       "       [10.49091697],\n",
       "       [15.58702749],\n",
       "       [12.71349072],\n",
       "       [10.1700852 ],\n",
       "       [10.19798361],\n",
       "       [12.61584627],\n",
       "       [15.74976825],\n",
       "       [ 9.31453379],\n",
       "       [12.59259759],\n",
       "       [11.50920913],\n",
       "       [14.81982107],\n",
       "       [17.33067844],\n",
       "       [15.97295557],\n",
       "       [17.00519693],\n",
       "       [15.15925179],\n",
       "       [14.63848137],\n",
       "       [17.14933874],\n",
       "       [12.57864838],\n",
       "       [11.16047894],\n",
       "       [ 7.77547122],\n",
       "       [18.55820871],\n",
       "       [10.27237939],\n",
       "       [ 8.76586496],\n",
       "       [16.405381  ],\n",
       "       [14.95466341],\n",
       "       [10.4816175 ],\n",
       "       [13.08546959],\n",
       "       [16.78665935],\n",
       "       [ 9.05879832],\n",
       "       [ 7.78942043],\n",
       "       [ 8.17999824],\n",
       "       [16.17754395],\n",
       "       [10.9744895 ]])"
      ]
     },
     "execution_count": 26,
     "metadata": {},
     "output_type": "execute_result"
    }
   ],
   "source": [
    "# Tahmini yazdıralım\n",
    "y_pred"
   ]
  },
  {
   "cell_type": "code",
   "execution_count": 27,
   "id": "71af419c",
   "metadata": {},
   "outputs": [
    {
     "data": {
      "text/plain": [
       "(60, 1)"
      ]
     },
     "execution_count": 27,
     "metadata": {},
     "output_type": "execute_result"
    }
   ],
   "source": [
    "# Tahmin verisinin şeklini yazdıralım\n",
    "\n",
    "y_pred.shape"
   ]
  },
  {
   "cell_type": "code",
   "execution_count": 28,
   "id": "7f050e78",
   "metadata": {},
   "outputs": [
    {
     "data": {
      "text/plain": [
       "(60, 1)"
      ]
     },
     "execution_count": 28,
     "metadata": {},
     "output_type": "execute_result"
    }
   ],
   "source": [
    "# Test verisinin şeklini yani orijinal output verisinin şeklini yazdıralım\n",
    "\n",
    "y_test.shape"
   ]
  },
  {
   "cell_type": "markdown",
   "id": "3afc94b5",
   "metadata": {},
   "source": [
    "***"
   ]
  },
  {
   "cell_type": "markdown",
   "id": "ebc10255",
   "metadata": {},
   "source": [
    "### 11- Gerçek Data ve Tahmin Datasını Çizmek"
   ]
  },
  {
   "cell_type": "markdown",
   "id": "4b3bceb5",
   "metadata": {},
   "source": [
    "Artık test verilerinden yani gerçek dünyadan bahsediyoruz. Train verisi ile işimiz bitti çünkü modeli eğitme işini tamamladık."
   ]
  },
  {
   "cell_type": "markdown",
   "id": "df1e10f2",
   "metadata": {},
   "source": [
    "* Gerçek Lablel -> y_test\n",
    "* Tahmini Label -> y_pred\n",
    "* Input -> X_test"
   ]
  },
  {
   "cell_type": "code",
   "execution_count": 29,
   "id": "cc40ebb4",
   "metadata": {},
   "outputs": [
    {
     "data": {
      "image/png": "[encoded data removed]",
      "text/plain": [
       "<Figure size 864x576 with 1 Axes>"
      ]
     },
     "metadata": {
      "needs_background": "light"
     },
     "output_type": "display_data"
    }
   ],
   "source": [
    "# Gerçek Data -> Grand Truth\n",
    "# Bir grafik üzerine iki ayrı figür çizeceksek subplot() metodu kullanılır.\n",
    "\n",
    "fig, ax = plt.subplots(figsize = (12, 8))\n",
    "ax.scatter(X_test, y_test, label=\"Grand Truth\", color=\"red\")\n",
    "\n",
    "# Tahmin Datası -> Prediction\n",
    "\n",
    "ax.plot(X_test, y_pred, label=\"Prediction\", color=\"green\")\n",
    "\n",
    "# Veriyi görselleştirelim\n",
    "\n",
    "plt.title(\"SALES - TV PREDICTION\")\n",
    "plt.xlabel(\"TV\")\n",
    "plt.ylabel(\"Sales\")\n",
    "plt.legend(loc=\"upper left\")\n",
    "plt.show()"
   ]
  },
  {
   "cell_type": "code",
   "execution_count": 30,
   "id": "916882e7",
   "metadata": {},
   "outputs": [
    {
     "data": {
      "text/plain": [
       "array([[ 6.6],\n",
       "       [20.7],\n",
       "       [17.2],\n",
       "       [19.4],\n",
       "       [21.8],\n",
       "       [12.2],\n",
       "       [12.2],\n",
       "       [11.7],\n",
       "       [22.6],\n",
       "       [22.3]])"
      ]
     },
     "execution_count": 30,
     "metadata": {},
     "output_type": "execute_result"
    }
   ],
   "source": [
    "# İlk 10 gerçek y değerini görelim\n",
    "\n",
    "y_test[0:10]"
   ]
  },
  {
   "cell_type": "code",
   "execution_count": 31,
   "id": "fed7775e",
   "metadata": {},
   "outputs": [
    {
     "data": {
      "text/plain": [
       "array([[ 7.35234526],\n",
       "       [18.06533671],\n",
       "       [13.27610876],\n",
       "       [17.11214086],\n",
       "       [18.22807747],\n",
       "       [16.60531965],\n",
       "       [13.4620982 ],\n",
       "       [16.17754395],\n",
       "       [17.05169429],\n",
       "       [17.07029323]])"
      ]
     },
     "execution_count": 31,
     "metadata": {},
     "output_type": "execute_result"
    }
   ],
   "source": [
    "# İlk 10 tahmin edilen y değerini bulalım\n",
    "\n",
    "y_pred[0:10]"
   ]
  },
  {
   "cell_type": "code",
   "execution_count": 32,
   "id": "7152c02a",
   "metadata": {},
   "outputs": [
    {
     "data": {
      "image/png": "[encoded data removed]",
      "text/plain": [
       "<Figure size 1080x720 with 1 Axes>"
      ]
     },
     "metadata": {
      "needs_background": "light"
     },
     "output_type": "display_data"
    }
   ],
   "source": [
    "# Her bir tahmin noktasındaki değişimi görelim\n",
    "indexes = range(1, 61)\n",
    "\n",
    "# Gerçek Data -> Grand Truth\n",
    "fig, ax = plt.subplots(figsize = (15,10))\n",
    "ax.plot(indexes, y_test, label=\"Grande Truth\", color=\"red\", linewidth=3)\n",
    "\n",
    "# Tahmin -> Prediction\n",
    "ax.plot(indexes, y_pred, label=\"Prediction\", color=\"green\", linewidth=3)\n",
    "\n",
    "plt.title(\"REAL - PREDICTED DATA\")\n",
    "plt.xlabel(\"Data Index\")\n",
    "plt.ylabel(\"Sales\")\n",
    "plt.legend(loc=\"upper left\")\n",
    "plt.show()"
   ]
  },
  {
   "cell_type": "markdown",
   "id": "c60ec63b",
   "metadata": {},
   "source": [
    "***"
   ]
  },
  {
   "cell_type": "markdown",
   "id": "362e5720",
   "metadata": {},
   "source": [
    "### 12- Hataları Çiz ($y - \\hat y$)"
   ]
  },
  {
   "cell_type": "markdown",
   "id": "eb3a648b",
   "metadata": {},
   "source": [
    "**Hata : Residual -> ($y - \\hat y$)**"
   ]
  },
  {
   "cell_type": "markdown",
   "id": "f5419f50",
   "metadata": {},
   "source": [
    "$y - \\hat y$ ---> y_test - y_pred"
   ]
  },
  {
   "cell_type": "code",
   "execution_count": 33,
   "id": "31d46dbf",
   "metadata": {},
   "outputs": [],
   "source": [
    "import numpy as np"
   ]
  },
  {
   "cell_type": "code",
   "execution_count": 34,
   "id": "1c62c80e",
   "metadata": {
    "scrolled": false
   },
   "outputs": [
    {
     "data": {
      "image/png": "[encoded data removed]",
      "text/plain": [
       "<Figure size 1080x720 with 1 Axes>"
      ]
     },
     "metadata": {
      "needs_background": "light"
     },
     "output_type": "display_data"
    }
   ],
   "source": [
    "# Her bir tahmin noktasındaki hatayı görelim\n",
    "indexes = range(1, 61)\n",
    "residuals = y_test - y_pred\n",
    "\n",
    "# Residuls Data -> Hatalar\n",
    "fig, ax = plt.subplots(figsize = (15,10))\n",
    "ax.plot(indexes, residuals, label=\"Residuals\", color=\"red\", linewidth=3)\n",
    "\n",
    "# Sıfır doğrusunu çizelim\n",
    "ax.plot(indexes, np.zeros(60), label=\"No Error Line\", color=\"black\", linewidth=3)\n",
    "\n",
    "plt.title(\"RESIDUALS TABLE\")\n",
    "plt.xlabel(\"Data Index\")\n",
    "plt.ylabel(\"Amounth of Residuals\")\n",
    "plt.legend(loc=\"upper left\")\n",
    "plt.show()"
   ]
  },
  {
   "cell_type": "markdown",
   "id": "af79e0ea",
   "metadata": {},
   "source": [
    "***"
   ]
  },
  {
   "cell_type": "markdown",
   "id": "57f13464",
   "metadata": {},
   "source": [
    "### 13- Model Doğruluğunu Kontrol Et (RMSE, ve $R^2$)"
   ]
  },
  {
   "cell_type": "markdown",
   "id": "1db75172",
   "metadata": {},
   "source": [
    "**RMSE**: Root Mean Squared Error : MSE'nin karekökü.\n",
    "\n",
    "$R^2$: `Coefficient of Determination`."
   ]
  },
  {
   "cell_type": "markdown",
   "id": "6bfb918f",
   "metadata": {},
   "source": [
    "https://scikit-learn.org/stable/modules/classes.html#module-sklearn.metrics"
   ]
  },
  {
   "cell_type": "code",
   "execution_count": 35,
   "id": "2123ecc3",
   "metadata": {},
   "outputs": [],
   "source": [
    "# sklearn import\n",
    "\n",
    "from sklearn.metrics import r2_score, mean_squared_error"
   ]
  },
  {
   "cell_type": "code",
   "execution_count": 36,
   "id": "82161882",
   "metadata": {},
   "outputs": [],
   "source": [
    "# R^2 değerini hesaplayalım\n",
    "\n",
    "r_2 = r2_score(y_test, y_pred)"
   ]
  },
  {
   "cell_type": "code",
   "execution_count": 37,
   "id": "56d78945",
   "metadata": {},
   "outputs": [
    {
     "name": "stdout",
     "output_type": "stream",
     "text": [
      "R^2 : 0.5942987267783302\n"
     ]
    }
   ],
   "source": [
    "# R^2'yi yazdır\n",
    "\n",
    "print(f\"R^2 : {r_2}\")"
   ]
  },
  {
   "cell_type": "code",
   "execution_count": 38,
   "id": "1886f292",
   "metadata": {},
   "outputs": [
    {
     "name": "stdout",
     "output_type": "stream",
     "text": [
      "%R^2 : 59.42987267783302\n"
     ]
    }
   ],
   "source": [
    "# R^2 değerini % olarak yazıralım\n",
    "\n",
    "print(f\"%R^2 : {r_2 * 100}\")"
   ]
  },
  {
   "cell_type": "code",
   "execution_count": 39,
   "id": "13e5a1bf",
   "metadata": {},
   "outputs": [],
   "source": [
    "# MSE -> RMSE\n",
    "\n",
    "mse = mean_squared_error(y_test, y_pred)"
   ]
  },
  {
   "cell_type": "code",
   "execution_count": 40,
   "id": "c921b577",
   "metadata": {},
   "outputs": [
    {
     "name": "stdout",
     "output_type": "stream",
     "text": [
      "MSE: 7.97579853285485\n"
     ]
    }
   ],
   "source": [
    "# MSE'yi yazdır\n",
    "\n",
    "print('MSE:', mse)"
   ]
  },
  {
   "cell_type": "code",
   "execution_count": 41,
   "id": "4b2f48e0",
   "metadata": {},
   "outputs": [],
   "source": [
    "# RMSE\n",
    "import math\n",
    "\n",
    "rmse = math.sqrt(mse)"
   ]
  },
  {
   "cell_type": "code",
   "execution_count": 42,
   "id": "8d3ef5e8",
   "metadata": {},
   "outputs": [
    {
     "name": "stdout",
     "output_type": "stream",
     "text": [
      "RMSE: 2.8241456288327007\n"
     ]
    }
   ],
   "source": [
    "# RMSE'yi yazdır\n",
    "\n",
    "print('RMSE:', rmse)"
   ]
  },
  {
   "cell_type": "markdown",
   "id": "fdb450c9",
   "metadata": {},
   "source": [
    "***"
   ]
  },
  {
   "cell_type": "markdown",
   "id": "af844b6e",
   "metadata": {},
   "source": [
    "### 14- Yorumlar"
   ]
  },
  {
   "cell_type": "markdown",
   "id": "077560a0",
   "metadata": {},
   "source": [
    "**$R^2$ = %59.43** sonucunu aldık. Yani neredeyse %60 değerine ulaştık. $R^2$ değeri bize modelimizin iyi olup olmadığını söyler. \n",
    "\n",
    "Bu şu demek; bizim modelimiz gerçek datayı %60 oranında temsil ediyor, fena bir oran değil aslında, hatta gerçek için oldukça iyi bir rakam. Tabi bu yorum domain'e yani çalışma alanına göre değişir. Örneğin tıp alanında, kanserli hücrenin tespit edildiği bir çalışmada, %60 değeri oldukça büyük bir rakam, öyle ki %10 bile tıp alanında iyi bir sayı olarak kabul edilir. Ancak WEB ile ilgili bir alanda daha tahmin edilebilir bir çalışmadan bahsediyorsak %60 iyi bir rakam."
   ]
  },
  {
   "cell_type": "markdown",
   "id": "be123ca9",
   "metadata": {},
   "source": [
    "***"
   ]
  },
  {
   "cell_type": "markdown",
   "id": "3b25d1e3",
   "metadata": {},
   "source": [
    "**RMSE = 2.82** sonucunu aldık.\n",
    "\n",
    "Bu şu demek; modelimiz tahmin işlemi sırasında ortalama 2.82'lik bir hata yapıyor.\n",
    "\n",
    "Örneğin, \n",
    "\n",
    "Gerçek değer = 22.3 iken tahmin = 17.07 çıkmıştı."
   ]
  }
 ],
 "metadata": {
  "kernelspec": {
   "display_name": "Python 3 (ipykernel)",
   "language": "python",
   "name": "python3"
  },
  "language_info": {
   "codemirror_mode": {
    "name": "ipython",
    "version": 3
   },
   "file_extension": ".py",
   "mimetype": "text/x-python",
   "name": "python",
   "nbconvert_exporter": "python",
   "pygments_lexer": "ipython3",
   "version": "3.10.2"
  }
 },
 "nbformat": 4,
 "nbformat_minor": 5
}
