{
 "cells": [
  {
   "cell_type": "markdown",
   "id": "eac2c699",
   "metadata": {},
   "source": [
    "## GRADIENT DESCENT (GRADYAN İNİŞİ)"
   ]
  },
  {
   "cell_type": "markdown",
   "id": "c0074b4a",
   "metadata": {},
   "source": [
    "`Gradient Descent` yöntemi, birbirinden farklı problemler için optimum sonucu bulabilme yeteneğine sahip bir **eniyileme/optimizasyon** algoritmasıdır. Gradient Descent yöntemindeki anafikir, parametreleri her iterasyonda tekrar revize ederek/ayarlayarak maliyet fonksiyonunu en aza indirmektir.\n",
    "\n",
    "Bununla birlite Gradient Descent yöntemi, neredeysa bütün Machine Learning algoritmaları için kullanılır ve bu algoritmaların çalışma mantığını içselleştirmek bakımından oldukça mühimdir."
   ]
  },
  {
   "cell_type": "markdown",
   "id": "84a6b48a",
   "metadata": {},
   "source": [
    "***"
   ]
  },
  {
   "cell_type": "markdown",
   "id": "fef8801f",
   "metadata": {},
   "source": [
    "### DATA OLUŞTURALIM"
   ]
  },
  {
   "cell_type": "markdown",
   "id": "b19d0d24",
   "metadata": {},
   "source": [
    "* Gradient Descent yöntemini incelemek üzere kendi örnek verimizi yaratalım."
   ]
  },
  {
   "cell_type": "code",
   "execution_count": 1,
   "id": "fcda1fca",
   "metadata": {},
   "outputs": [],
   "source": [
    "# Gerekli kütüphaneleri import edelim.\n",
    "\n",
    "import numpy as np\n",
    "import matplotlib.pyplot as plt"
   ]
  },
  {
   "cell_type": "code",
   "execution_count": 3,
   "id": "41adc85e",
   "metadata": {},
   "outputs": [],
   "source": [
    "# 100 adet random değişken üretiyoruz ve bu değişkenleri 2 ile çarpıyoruz.\n",
    "# Böylece 0 - 2 aralığında 100 adet değer üretmiş oluyoruz.\n",
    "\n",
    "X = 2 * np.random.rand(100 , 1)"
   ]
  },
  {
   "cell_type": "code",
   "execution_count": 5,
   "id": "59534d4b",
   "metadata": {},
   "outputs": [
    {
     "name": "stdout",
     "output_type": "stream",
     "text": [
      "[[1.14695094]\n",
      " [1.19581011]\n",
      " [0.95122919]\n",
      " [0.95598688]\n",
      " [0.86465535]\n",
      " [0.78997266]\n",
      " [1.56701806]\n",
      " [1.92007702]\n",
      " [1.69444839]\n",
      " [0.16088467]\n",
      " [0.60133897]\n",
      " [0.84940402]\n",
      " [0.68723756]\n",
      " [1.82054275]\n",
      " [0.62720722]\n",
      " [1.01678391]\n",
      " [1.52994935]\n",
      " [0.87402412]\n",
      " [1.49215768]\n",
      " [1.57972903]\n",
      " [1.62460243]\n",
      " [0.45780134]\n",
      " [1.83154112]\n",
      " [1.45976439]\n",
      " [1.12642955]\n",
      " [1.90223825]\n",
      " [0.76243323]\n",
      " [0.94007569]\n",
      " [1.38935885]\n",
      " [0.75974195]\n",
      " [1.67262507]\n",
      " [0.59644935]\n",
      " [0.13535168]\n",
      " [0.24877379]\n",
      " [1.80045602]\n",
      " [1.72693148]\n",
      " [0.24779293]\n",
      " [0.13266979]\n",
      " [1.61133441]\n",
      " [1.61844642]\n",
      " [0.30228168]\n",
      " [0.53117967]\n",
      " [1.82840218]\n",
      " [1.52872479]\n",
      " [1.23285652]\n",
      " [0.32242815]\n",
      " [1.20934063]\n",
      " [0.93604901]\n",
      " [0.30926405]\n",
      " [1.57266379]\n",
      " [0.41751478]\n",
      " [1.54092154]\n",
      " [0.21854869]\n",
      " [1.54213342]\n",
      " [0.49926353]\n",
      " [1.29486716]\n",
      " [1.73879953]\n",
      " [0.62166047]\n",
      " [0.2491115 ]\n",
      " [1.62914767]\n",
      " [1.1953707 ]\n",
      " [0.95210873]\n",
      " [1.72668754]\n",
      " [1.94710846]\n",
      " [0.12180318]\n",
      " [1.00934869]\n",
      " [0.86312025]\n",
      " [0.51943002]\n",
      " [1.56104257]\n",
      " [0.95146882]\n",
      " [1.21321901]\n",
      " [1.45972986]\n",
      " [1.28978867]\n",
      " [1.34704924]\n",
      " [1.52582612]\n",
      " [1.15809299]\n",
      " [0.86069229]\n",
      " [0.9361459 ]\n",
      " [1.40111657]\n",
      " [1.70971632]\n",
      " [1.93323108]\n",
      " [0.65884207]\n",
      " [1.08024122]\n",
      " [1.96726462]\n",
      " [0.63773317]\n",
      " [1.24033298]\n",
      " [1.22450282]\n",
      " [0.78495465]\n",
      " [1.99011401]\n",
      " [1.87537449]\n",
      " [0.78257955]\n",
      " [0.65348419]\n",
      " [0.33193392]\n",
      " [1.99201284]\n",
      " [1.73753859]\n",
      " [0.28912275]\n",
      " [0.91886544]\n",
      " [1.25448086]\n",
      " [0.31480008]\n",
      " [1.83125805]]\n"
     ]
    }
   ],
   "source": [
    "# Ürettiğimiz değerleri görelim.\n",
    "\n",
    "print(X)"
   ]
  },
  {
   "cell_type": "code",
   "execution_count": 6,
   "id": "07d6612f",
   "metadata": {},
   "outputs": [
    {
     "data": {
      "text/plain": [
       "numpy.ndarray"
      ]
     },
     "execution_count": 6,
     "metadata": {},
     "output_type": "execute_result"
    }
   ],
   "source": [
    "# Ürettiğimiz değer listesinin veri tipini öğrenelim.\n",
    "\n",
    "type(X)"
   ]
  },
  {
   "cell_type": "markdown",
   "id": "b2342491",
   "metadata": {},
   "source": [
    "* Normalde X ile y arasındaki ilişkiyi önceden bilemeyiz. Bunu önceki konularda X ile y arasındaki ilişkiyi bulmak için Regresyon modelleri kullanırken öğrenmiştik. Ancak şu an ki senaryoya göre X ile y değerleri arasındaki ilişkiyi bildiğimizi farz ederek işlemlerimizi gerçekleştireceğiz."
   ]
  },
  {
   "cell_type": "code",
   "execution_count": null,
   "id": "c2d272e4",
   "metadata": {},
   "outputs": [],
   "source": []
  }
 ],
 "metadata": {
  "kernelspec": {
   "display_name": "Python 3 (ipykernel)",
   "language": "python",
   "name": "python3"
  },
  "language_info": {
   "codemirror_mode": {
    "name": "ipython",
    "version": 3
   },
   "file_extension": ".py",
   "mimetype": "text/x-python",
   "name": "python",
   "nbconvert_exporter": "python",
   "pygments_lexer": "ipython3",
   "version": "3.10.2"
  }
 },
 "nbformat": 4,
 "nbformat_minor": 5
}
