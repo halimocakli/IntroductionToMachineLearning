{
 "cells": [
  {
   "cell_type": "markdown",
   "id": "770d1648",
   "metadata": {},
   "source": [
    "## GRADIENT DESCENT (GRADYAN İNİŞİ)"
   ]
  },
  {
   "cell_type": "markdown",
   "id": "112963cf",
   "metadata": {},
   "source": [
    "`Gradient Descent` yöntemi, birbirinden farklı problemler için optimum sonucu bulabilme yeteneğine sahip bir **eniyileme/optimizasyon** algoritmasıdır. Gradient Descent yöntemindeki anafikir, *parametreleri her iterasyonda tekrar revize ederek/ayarlayarak maliyet fonksiyonunu en aza indirmektir.*\n",
    "\n",
    "Bununla birlite Gradient Descent yöntemi, neredeysa bütün Machine Learning algoritmaları için kullanılır ve bu algoritmaların çalışma mantığını içselleştirmek bakımından oldukça mühimdir."
   ]
  },
  {
   "cell_type": "markdown",
   "id": "2806f137",
   "metadata": {},
   "source": [
    "***"
   ]
  },
  {
   "cell_type": "markdown",
   "id": "f1baebea",
   "metadata": {},
   "source": [
    "### DATA OLUŞTURALIM"
   ]
  },
  {
   "cell_type": "markdown",
   "id": "7e4c2877",
   "metadata": {},
   "source": [
    "* Gradient Descent yöntemini incelemek üzere kendi örnek verimizi yaratalım."
   ]
  },
  {
   "cell_type": "code",
   "execution_count": 1,
   "id": "7664a5cc",
   "metadata": {},
   "outputs": [],
   "source": [
    "# Gerekli kütüphaneleri import edelim.\n",
    "\n",
    "import numpy as np\n",
    "import matplotlib.pyplot as plt"
   ]
  },
  {
   "cell_type": "code",
   "execution_count": 2,
   "id": "f2cfce6a",
   "metadata": {},
   "outputs": [],
   "source": [
    "# np.random modülünü kullanarak 100 adet random değişken üretiyoruz ve bu değişkenleri 2 ile çarpıyoruz.\n",
    "# Böylece 0 - 2 aralığında 100 adet değer üretmiş oluyoruz.\n",
    "\n",
    "X = 2 * np.random.rand(100 , 1)"
   ]
  },
  {
   "cell_type": "code",
   "execution_count": 3,
   "id": "180173b8",
   "metadata": {},
   "outputs": [
    {
     "name": "stdout",
     "output_type": "stream",
     "text": [
      "[[1.16807712]\n",
      " [1.75473675]\n",
      " [1.26721411]\n",
      " [0.82253037]\n",
      " [1.33577081]\n",
      " [1.83909273]\n",
      " [1.98339084]\n",
      " [1.99733084]\n",
      " [1.17645549]\n",
      " [0.68954445]\n",
      " [1.12497077]\n",
      " [1.01739087]\n",
      " [0.57964994]\n",
      " [1.30724457]\n",
      " [1.46231769]\n",
      " [0.96476632]\n",
      " [1.9441039 ]\n",
      " [0.22104977]\n",
      " [1.24099918]\n",
      " [1.73326162]\n",
      " [1.89703354]\n",
      " [1.12214929]\n",
      " [1.51302582]\n",
      " [0.35034928]\n",
      " [0.53294549]\n",
      " [0.02192082]\n",
      " [1.60518398]\n",
      " [1.72026992]\n",
      " [0.41619115]\n",
      " [0.6239735 ]\n",
      " [0.57714573]\n",
      " [0.04410495]\n",
      " [0.72901039]\n",
      " [1.46812195]\n",
      " [1.20671413]\n",
      " [1.09778705]\n",
      " [0.16906083]\n",
      " [0.33104458]\n",
      " [1.58346874]\n",
      " [0.12081886]\n",
      " [1.92779216]\n",
      " [1.4211196 ]\n",
      " [1.02374505]\n",
      " [0.56478013]\n",
      " [1.67100687]\n",
      " [1.95206583]\n",
      " [1.64949227]\n",
      " [1.43509563]\n",
      " [0.70264102]\n",
      " [1.171305  ]\n",
      " [0.32738586]\n",
      " [0.60376993]\n",
      " [0.78656991]\n",
      " [1.21444358]\n",
      " [0.14119491]\n",
      " [0.64403614]\n",
      " [0.36016272]\n",
      " [1.65638072]\n",
      " [0.63085242]\n",
      " [1.87676724]\n",
      " [0.6055293 ]\n",
      " [1.87642837]\n",
      " [1.31707174]\n",
      " [0.00727083]\n",
      " [1.76104331]\n",
      " [1.24655881]\n",
      " [0.31648742]\n",
      " [0.62187781]\n",
      " [1.43679044]\n",
      " [1.85061809]\n",
      " [1.79500408]\n",
      " [1.1748421 ]\n",
      " [0.82831157]\n",
      " [0.64613174]\n",
      " [0.41153919]\n",
      " [1.45343491]\n",
      " [0.28564643]\n",
      " [0.73280554]\n",
      " [0.14531813]\n",
      " [0.84136409]\n",
      " [1.44365237]\n",
      " [0.8586283 ]\n",
      " [1.64489114]\n",
      " [0.44436474]\n",
      " [0.70846047]\n",
      " [1.49640408]\n",
      " [0.96150287]\n",
      " [0.17521953]\n",
      " [1.71371918]\n",
      " [1.10525604]\n",
      " [0.02730916]\n",
      " [1.97333292]\n",
      " [0.11282776]\n",
      " [1.21095913]\n",
      " [0.02070717]\n",
      " [0.38011229]\n",
      " [0.89749315]\n",
      " [0.43755631]\n",
      " [0.45312201]\n",
      " [1.60679995]]\n"
     ]
    }
   ],
   "source": [
    "# Ürettiğimiz değerleri görelim.\n",
    "\n",
    "print(X)"
   ]
  },
  {
   "cell_type": "code",
   "execution_count": 4,
   "id": "1301b849",
   "metadata": {
    "scrolled": true
   },
   "outputs": [
    {
     "data": {
      "text/plain": [
       "numpy.ndarray"
      ]
     },
     "execution_count": 4,
     "metadata": {},
     "output_type": "execute_result"
    }
   ],
   "source": [
    "# Ürettiğimiz değer listesinin veri tipini öğrenelim.\n",
    "\n",
    "type(X)"
   ]
  },
  {
   "cell_type": "markdown",
   "id": "7a7583f1",
   "metadata": {},
   "source": [
    "***"
   ]
  },
  {
   "cell_type": "markdown",
   "id": "8e4c856f",
   "metadata": {},
   "source": [
    "**Normalde X ile y arasındaki ilişkiyi önceden bilemeyiz. Bunu, önceki konularda X ile y arasındaki ilişkiyi bulmak için Regresyon modelleri kullanırken öğrenmiştik. Ancak, şu anki senaryoya göre X ile y değerleri arasındaki ilişkiyi bildiğimizi farz ederek işlemlerimizi gerçekleştireceğiz.**"
   ]
  },
  {
   "cell_type": "markdown",
   "id": "ec6cdee5",
   "metadata": {},
   "source": [
    "***"
   ]
  },
  {
   "cell_type": "code",
   "execution_count": 5,
   "id": "6c46eec8",
   "metadata": {},
   "outputs": [],
   "source": [
    "# X ile y değerleri arasındaki, önceden bilgisine sahip olduğumuzu varsaydığımız, ilişki.\n",
    "\n",
    "# 4 : intercept\n",
    "# 3 : coefficient of X\n",
    "# np.random.rand(100, 1) : Error Term\n",
    "\n",
    "y = 4 + 3 * X + np.random.rand(100, 1)"
   ]
  },
  {
   "cell_type": "code",
   "execution_count": 6,
   "id": "c066c8d6",
   "metadata": {},
   "outputs": [
    {
     "name": "stdout",
     "output_type": "stream",
     "text": [
      "[[ 7.81138319]\n",
      " [10.1938554 ]\n",
      " [ 8.51581545]\n",
      " [ 6.78092295]\n",
      " [ 8.45766166]\n",
      " [ 9.80997534]\n",
      " [10.39404448]\n",
      " [10.48702201]\n",
      " [ 7.55635041]\n",
      " [ 6.28307998]\n",
      " [ 7.986991  ]\n",
      " [ 7.50444893]\n",
      " [ 5.97164037]\n",
      " [ 8.31055716]\n",
      " [ 8.41250761]\n",
      " [ 7.03530363]\n",
      " [10.6541131 ]\n",
      " [ 4.71001131]\n",
      " [ 7.90947542]\n",
      " [10.10074906]\n",
      " [10.46332345]\n",
      " [ 7.98131973]\n",
      " [ 9.5231647 ]\n",
      " [ 5.69181989]\n",
      " [ 6.33162931]\n",
      " [ 4.25411907]\n",
      " [ 8.94528098]\n",
      " [ 9.58619335]\n",
      " [ 5.94485825]\n",
      " [ 6.64450781]\n",
      " [ 6.30395605]\n",
      " [ 4.965562  ]\n",
      " [ 6.67584559]\n",
      " [ 9.23756619]\n",
      " [ 8.29969748]\n",
      " [ 7.53817332]\n",
      " [ 5.01911337]\n",
      " [ 5.98888824]\n",
      " [ 9.66107551]\n",
      " [ 4.74965004]\n",
      " [10.57614865]\n",
      " [ 8.80306774]\n",
      " [ 7.84248391]\n",
      " [ 6.39838878]\n",
      " [ 9.6526618 ]\n",
      " [10.36911682]\n",
      " [ 9.18452705]\n",
      " [ 9.09344626]\n",
      " [ 6.11258368]\n",
      " [ 8.46885681]\n",
      " [ 5.67538672]\n",
      " [ 6.58478393]\n",
      " [ 6.54876655]\n",
      " [ 8.50148045]\n",
      " [ 4.81728433]\n",
      " [ 6.54847816]\n",
      " [ 5.18657383]\n",
      " [ 9.82639816]\n",
      " [ 6.38941943]\n",
      " [10.55756836]\n",
      " [ 6.76564495]\n",
      " [10.45806424]\n",
      " [ 8.8640731 ]\n",
      " [ 4.62785395]\n",
      " [10.05321984]\n",
      " [ 8.0880513 ]\n",
      " [ 5.35144077]\n",
      " [ 6.26357482]\n",
      " [ 8.32490085]\n",
      " [ 9.6406892 ]\n",
      " [ 9.66026693]\n",
      " [ 8.24834403]\n",
      " [ 7.1286954 ]\n",
      " [ 6.10300471]\n",
      " [ 6.1115762 ]\n",
      " [ 8.66264844]\n",
      " [ 4.97249716]\n",
      " [ 6.91772864]\n",
      " [ 4.60534387]\n",
      " [ 7.39946639]\n",
      " [ 8.34263106]\n",
      " [ 7.55162735]\n",
      " [ 9.35852026]\n",
      " [ 5.57138479]\n",
      " [ 6.87409936]\n",
      " [ 8.72173334]\n",
      " [ 7.16312614]\n",
      " [ 4.61921701]\n",
      " [ 9.96003869]\n",
      " [ 7.64282532]\n",
      " [ 4.70372942]\n",
      " [10.40408445]\n",
      " [ 4.6175756 ]\n",
      " [ 8.5235612 ]\n",
      " [ 4.79218426]\n",
      " [ 5.28775253]\n",
      " [ 7.20429913]\n",
      " [ 5.48836652]\n",
      " [ 5.64982587]\n",
      " [ 9.6267136 ]]\n"
     ]
    }
   ],
   "source": [
    "# y değerini görelim\n",
    "\n",
    "print(y)"
   ]
  },
  {
   "cell_type": "code",
   "execution_count": 7,
   "id": "19663736",
   "metadata": {},
   "outputs": [
    {
     "data": {
      "image/png": "[encoded data removed]",
      "text/plain": [
       "<Figure size 432x288 with 1 Axes>"
      ]
     },
     "metadata": {
      "needs_background": "light"
     },
     "output_type": "display_data"
    }
   ],
   "source": [
    "# X ile y arasındaki ilişkiyi görselleştirelim.\n",
    "\n",
    "plt.scatter(X, y)\n",
    "plt.xlabel(\"- X -\")\n",
    "plt.ylabel(\"- y -\")\n",
    "plt.show()"
   ]
  },
  {
   "cell_type": "markdown",
   "id": "7e4a1b9d",
   "metadata": {},
   "source": [
    "*Görüldüğü üzere X ile y arasındaki ilişki `lineer`'dir."
   ]
  },
  {
   "cell_type": "markdown",
   "id": "863435a2",
   "metadata": {},
   "source": [
    "**X ile y arasındaki ilişkiyi bildiğimizi farz ederek yukarıdaki işlemleri gerçekleştirdik. Bu ilişkiye dair bilgi sahibi olmamızı sağlayan etken `intercept` ve `coefficient` değerlerininin tarafmızca belirlenmesidir. Böylece X ile y arasındaki ilişkiyi bildiğimiz senaryoyu gözlemleyerek regresyon modelini anımsamış olduk. Şimdi de gerçek X - y ilişkisinin fonksiyonunu yazalım.**"
   ]
  },
  {
   "cell_type": "markdown",
   "id": "9da0c0f8",
   "metadata": {},
   "source": [
    "### $$ y = w_0 + w_1X + \\epsilon $$"
   ]
  },
  {
   "cell_type": "markdown",
   "id": "ac52b4a5",
   "metadata": {},
   "source": [
    "Burada;\n",
    "\n",
    "* $w_0$ = $\\beta_0$\n",
    "* $w_1$ = $\\beta_1$\n",
    "* $\\epsilon$ = Error Rate\n",
    "\n",
    "* Burada $w_0$ ve $w_1$ değerleri W (weight) adlı bir matris içerisinde tutulup vektör olarak formatlanabilir.\n",
    "    * W vektörü: $W = [w_0 \\ w_1]$\n",
    "\n",
    "X-y arasındaki ilişkiyi bildiğimiz senaryoyu yeniden ele alalım. Intercept ve coefficient değerlerini regresyon denkleminde yerine koyarsak aşağıdaki sonucu elde ediyorduk:<br> \n",
    "### $$y = 4 + 3 * X + np.random.rand(100,1)$$<br>\n",
    "\n",
    "Buna göre;\n",
    "#### $$w_0 = 4$$\n",
    "#### $$w_1 = 3$$\n",
    "olur.<br>\n",
    "\n",
    "<br>Vektör kullanarak gösterecek olursak;\n",
    "### $$y = WX + \\epsilon$$\n",
    "şeklinde bir sonuç elde ederiz.<br>\n",
    "\n",
    "<br>Burada $W$ ile $X$ vektörlerinin $WX$ şeklinde gösterimi, W ile X'in *vektörel çarpımı*, `Dot Product (İç Çarpım)`'ıdır. Bu vektörel çarpım aslında; \n",
    "### $$\\hat y = w_0 + w_1*x_1 + w_2*x_2 + ... + w_n*x_n + \\epsilon$$\n",
    "ifadesi ile eşdeğerdir."
   ]
  },
  {
   "cell_type": "markdown",
   "id": "fe05e510",
   "metadata": {},
   "source": [
    "* Yukarıda, vektörler ile yeniden yazdığımız denklemi analitik olarak çözümleyebiliriz."
   ]
  },
  {
   "cell_type": "markdown",
   "id": "12af35e2",
   "metadata": {},
   "source": [
    "**NOT:** Makine öğrenmesinde vektörler; genellikle tek sütunlu 2-boyutlu diziler şeklinde, sütun vektörü olarak gösterilir. Eğer $W$ ve $X$ sütun vektörleri ise, tahmin $\\hat y = W^{T}X$ olur. Bu denklemde $W^{T}$, $W$'nin transpozudur, yani sütun vektörü yerine satır vektörüdür ve $W^{T}X$, $W^{T}$ ile $X$'in matris çarpımıdır. Elbette tahmin aynı tahmindir ancak tek bir fark söz konusudur: tahmin, artık skaler bir değer yerine tek hücreli bir matristir."
   ]
  },
  {
   "cell_type": "markdown",
   "id": "fc2fef0d",
   "metadata": {},
   "source": [
    "### ANALİTİK ÇÖZÜM"
   ]
  },
  {
   "cell_type": "markdown",
   "id": "87c41897",
   "metadata": {},
   "source": [
    "$y = WX + \\epsilon$ denkleminin analitik çözümünü vektörler üzerinden gerçekleştirmeden önce Lineer Regresyon Yöntemi'ni kullanırken gerçekleştirdiğimiz analitik çözüm üzerinden gidelim. "
   ]
  },
  {
   "cell_type": "markdown",
   "id": "32ec0f2e",
   "metadata": {},
   "source": [
    "Least Squares Method (En Küçük Kareler Yöntemi), birbirine bağlı olarak değişen iki fiziksel büyüklük arasındaki ilişkiyi mümkün olduğunca gerçeğe uygun bir denklem olarak yazmak için kullanılan standart bir regresyon yöntemidir. Bir başka deyişle bu yöntem, ölçüm sonucu elde edilmiş veri noktalarına “mümkün olduğu kadar yakın” geçecek bir işlev eğrisi bulmaya yarar. Gauss-Markov Teoremi’nin en küçük kareler yöntemi, regresyon için optimal yöntemdir.\n",
    "\n",
    "Bir diğer ifadeyle; Least Squares Method, RSS değerini minimize ederek en iyi $w_0$ ve $w_1$ değerlerini tahmin eder."
   ]
  },
  {
   "cell_type": "markdown",
   "id": "4e82c18c",
   "metadata": {},
   "source": [
    "Herhangi bir $x_i$ için tahmin denklemi;\n",
    "### $$ \\hat y^{(i)} = \\hat w_0 + \\hat w_1 x^{(i)} $$\n",
    "\n",
    "Burada;\n",
    "* $x^{(i)}$: Veri setindeki $i^{inci}$ örneğin, etiketi(label) hariç tüm niteliklerinin değerlerini içeren bir vektördür.\n",
    "* $\\hat y^{(i)}$: Veri setindeki $i^{inci}$ örneğin etiketi, yani o örnek için istenen çıktı değeri.\n",
    "\n",
    "<br>Genel olarak:\n",
    "* **Değişkenler** için (x'in sütunları) alt index **($x_i$)** kullanılır.\n",
    "* **Veriler** için (satır) üst index **($x^{(i)}$)** kullanılır"
   ]
  },
  {
   "cell_type": "markdown",
   "id": "133756a1",
   "metadata": {},
   "source": [
    "Burada **X**'ler, yani girdi değerleri, bilindiğine göre, tahmin etmeye çalıştığımız değişkenler(katsayılar/coefficients), $w_0$ ve $w_1$'dir\n"
   ]
  },
  {
   "cell_type": "markdown",
   "id": "33d87eea",
   "metadata": {},
   "source": [
    "**NOT**: Katsayılar(Coefficients) için aşağıdaki gösterimler kullanılabilir:\n",
    "* $w$\n",
    "* $\\theta$\n",
    "* $\\beta$ "
   ]
  },
  {
   "cell_type": "markdown",
   "id": "b1b2b9c9",
   "metadata": {},
   "source": [
    "Bu noktadan itibaren gerçekleştirmek istediğimiz Tahmin için çalışmaya başlayalım."
   ]
  },
  {
   "cell_type": "markdown",
   "id": "be63746b",
   "metadata": {},
   "source": [
    "***"
   ]
  },
  {
   "cell_type": "markdown",
   "id": "e9f83b79",
   "metadata": {},
   "source": [
    "Tahmin işlemini yukarıda bahsettiğimiz **Least Squares Method** ile gerçekleştiririz. Bunun yanında, Least Squares Method'un bir türü olan **Ordinary Least Squares Method**'u kullanacağız. \n",
    "\n",
    "<br>Ordinary Least Squares(OLS), Linear Regression modelinde bilinmeyen parametreleri tahmin etmek için kullanılan bir tür lineer Least Squares Method'dur. OLS, açıklayıcı değişkenler kümesinin doğrusal bir fonksiyonunun parametrelerini en küçük kareler ilkesine göre seçer: verilen veri kümesinde gözlemlenen bağımlı değişken (gözlemlenen değişkenin değerleri) ile bağımsız değişkenin doğrusal fonksiyonu tarafından tahmin edilenler arasındaki farkların karelerinin toplamını en aza indirir."
   ]
  },
  {
   "cell_type": "markdown",
   "id": "93c3cee2",
   "metadata": {},
   "source": [
    "**Hatırlatma**\n",
    "Herhangi bir **i** noktasındaki hata: $$e^{(i)} = \\hat y^{(i)} - y^{(i)}$$\n",
    "**<br>Herhangi Bir Noktadaki Hata Değeri = O Noktanın Tahmin Edilen Değeri - O Noktanın Gerçek Değeri** \n",
    "\n",
    "**e: Residual Error**"
   ]
  },
  {
   "cell_type": "markdown",
   "id": "5ec9e521",
   "metadata": {},
   "source": [
    "**RSS: Residual Sum of Squares**\n",
    "$$RSS = e^2_1 + e^2_2 + e^2_3 +...+ e^2_n$$"
   ]
  },
  {
   "cell_type": "markdown",
   "id": "8f72fde8",
   "metadata": {},
   "source": [
    "**Özetle, Least Square Method, RSS değerini minimize ederek en iyi $w_0$ ve $w_1$ değerlerini tahmin eder.**"
   ]
  },
  {
   "cell_type": "markdown",
   "id": "979ae154",
   "metadata": {},
   "source": [
    "***"
   ]
  },
  {
   "cell_type": "markdown",
   "id": "179b33e6",
   "metadata": {},
   "source": [
    "### MATEMATİKSEL GÖSTERİM"
   ]
  },
  {
   "cell_type": "markdown",
   "id": "77a35a43",
   "metadata": {},
   "source": [
    "### $$ \\hat w_1 = \\frac{\\sum_{i=1}^n (x^{(i)} - \\overline x)(y^{(i)} - \\overline y)}{\\sum_{i=1}^n (x^{(i)} - \\overline x)^2} $$\n",
    "\n",
    "### $$ \\hat w_0 = \\overline y - \\hat w_1 \\overline x $$\n",
    "\n",
    "Burada:\n",
    "\n",
    "### $$ \\overline y = \\frac{1}{n} \\sum_{i=1}^n y^{(i)} $$\n",
    "\n",
    "### $$ \\overline x = \\frac{1}{n} \\sum_{i=1}^n x^{(i)} $$"
   ]
  },
  {
   "cell_type": "markdown",
   "id": "3b22e406",
   "metadata": {},
   "source": [
    "Bu noktaya kadar elde ettiğimiz bilgilerden sonra şu ifadeyi ekleyelim: çoğu zaman Analitik Yöntem kullanarak çözüme ulaşmak mümkün olmaz çünkü üzerinde çalıştığımız veriler oldukça fazladır. X, W ve y'nin aslında birer `matris` olduğunu ve X matrisinin çoğu çalışmada yüksek boyutlara sahip olduğunu göz önünde bulundurursak vardığımız bu sonuç daha anlaşılır hale gelecektir. Bununla birlikte Analitik Yöntem kullanırken, W değerlerini bulmak için çok fazla Matrix Çarpımı yapılması gerekir ki bu, bilgisayarların GPU ve CPU donanımlarını ciddi oranda yoran bir işlemdir.\n",
    "\n",
    "Peki bu problemin üstesinden nasıl geleceğiz ya da nasıl daha etkili bir yöntem bulacağız. Cevap: YAKINSAYARAK."
   ]
  },
  {
   "cell_type": "markdown",
   "id": "43d2540c",
   "metadata": {},
   "source": [
    "**Problemin Tanımı**\n",
    "\n",
    "Toplam Hatayı minimize edecek $w_0$ ve $w_1$ değerlerini yani katsayıları bulmak.\n",
    "\n",
    "Toplam Hata, $w_0$ ve $w_1$ değişkenlerine bağlı bir Convex Fonksiyonudur. Bunun sebebi, Toplam Hatanın karesel değerlerin toplamı sonucunda bulunmasıdır."
   ]
  },
  {
   "cell_type": "markdown",
   "id": "33c56c3d",
   "metadata": {},
   "source": [
    "<img src=\"images/globalminimum.png\"/>"
   ]
  },
  {
   "cell_type": "markdown",
   "id": "2fd1ea2c",
   "metadata": {},
   "source": [
    "### TERİMLER"
   ]
  },
  {
   "cell_type": "markdown",
   "id": "dc3b8e87",
   "metadata": {},
   "source": [
    "#### COST FUNCTION (MALİYET FONKSİYONU)"
   ]
  },
  {
   "cell_type": "markdown",
   "id": "8e5437f5",
   "metadata": {},
   "source": [
    "Lineer regresyonda **tahmin edilen y** değeri ile **gerçek y değeri** arasındaki hatayı minimuma indirebilmek için öyle **w değerleri** bulmalıyız ki Maliyet Fonksiyonu minimize edilebilsin. Maliyet Fonksiyonunun basit tanımı, gerçek y değerleri ile tahmin edilen y değerleri arasındaki fark şeklinde ifade edilebilir. Maliyet Fonksiyonu şu notasyonla gösterilir:\n",
    "### $$ J(w) = \\frac{1}{2n} \\sum_{i=1}^n (\\hat y^{(i)} - y^{(i)})^2 $$\n",
    "\n",
    "Cost Funtion aslında MSE(Mean Square Error)'nin özel bir formudur. Hatırlatmak için:\n",
    "### $$ MSE = \\frac{1}{n} \\sum_{i=1}^n (y_i - \\hat y_i)^2 $$"
   ]
  },
  {
   "cell_type": "markdown",
   "id": "11df841e",
   "metadata": {},
   "source": [
    "#### GRADIENT"
   ]
  },
  {
   "cell_type": "markdown",
   "id": "402181a6",
   "metadata": {},
   "source": [
    "Cost Function'ın değişkenlere(W değerleri) göre değişim miktarı(Türevi) "
   ]
  },
  {
   "cell_type": "markdown",
   "id": "bf400b26",
   "metadata": {},
   "source": [
    "### $$ J(w) = \\frac{1}{2n} \\sum_{i=1}^n (\\hat w_0 + \\hat w_1x^{(i)} - y^{(i)})^2 $$"
   ]
  },
  {
   "cell_type": "markdown",
   "id": "2d2cfcf3",
   "metadata": {},
   "source": [
    "$w_0$'a göre kısmi türev:"
   ]
  },
  {
   "cell_type": "markdown",
   "id": "0b050a78",
   "metadata": {},
   "source": [
    "### $$ \\frac{\\partial J(w)}{\\partial w_0} = \\frac{1}{n} \\sum_{i=1}^n (\\hat w_0 + \\hat w_1x^{(i)} - y^{(i)}) $$\n",
    "\n",
    "### $$ \\frac{\\partial J(w)}{\\partial w_0} = \\frac{1}{n} \\sum_{i=1}^n (\\hat y^{(i)} - y^{(i)}) $$"
   ]
  },
  {
   "cell_type": "markdown",
   "id": "41466097",
   "metadata": {},
   "source": [
    "$w_1$'e göre kısmi türev:"
   ]
  },
  {
   "cell_type": "markdown",
   "id": "c3b3b17e",
   "metadata": {},
   "source": [
    "### $$ \\frac{\\partial J(w)}{\\partial w_1} = \\frac{1}{n} \\sum_{i=1}^n (\\hat w_0 + \\hat w_1x^{(i)} - y^{(i)}) x^{(i)} $$\n",
    "\n",
    "### $$ \\frac{\\partial J(w)}{\\partial w_1} = \\frac{1}{n} \\sum_{i=1}^n (\\hat y^{(i)} - y^{(i)}) x^{(i)} $$"
   ]
  },
  {
   "cell_type": "markdown",
   "id": "d8373e16",
   "metadata": {},
   "source": [
    "Bu noktada, Cost Function(J)'ın **W** değerlerine göre nasıl değiştiğini, yani türevini, her bir $x^{(i)}$ ve $y^{(i)}$ noktasında bildiğimize göre bunu kullanabiliriz. "
   ]
  },
  {
   "cell_type": "markdown",
   "id": "2f8db1d7",
   "metadata": {},
   "source": [
    "**Bu türeve *Gradient* adı verilir. Kısacası Gradient, J'nin W değerlerine göre nasıl değiştiğini bize söyleyen değişim vektörüdür.**"
   ]
  },
  {
   "cell_type": "markdown",
   "id": "4fe6d926",
   "metadata": {},
   "source": [
    "Gradient'in W vektörü üzerinden genel gösterimi:\n",
    "### $$ \\frac{\\partial J(W)}{\\partial W_j} = \\frac{1}{n} \\sum_{i=1}^n (\\hat y^{(i)} - y^{(i)}) X_j^{(i)} $$"
   ]
  },
  {
   "cell_type": "markdown",
   "id": "452be5b4",
   "metadata": {},
   "source": [
    "<img src=\"images/cost_function.jpeg\"/>"
   ]
  },
  {
   "cell_type": "markdown",
   "id": "1aa3d883",
   "metadata": {},
   "source": [
    "### Gradient Descent Nasıl Çalışır?\n",
    "\n",
    "1. Önce bir başlangıç noktası seçilir, bu nokta herhangi bir nokta olabilir. Seçilen nokta görselde A harfi ile belirtilmiştir. [$w_0$ ve $w_1$]\n",
    "2. Bu nokta için Cost Function değeri [**J(W)**] hesaplanır.\n",
    "3. Hesaplanan bu maliyet - J(W) değeri üzerinden $w_0$ ve $w_1$ için **Gradient** hesaplanır. Yani W değiştiğinde J(W) ne kadar değişiyor bilgisine ulaşıyoruz.\n",
    "4. Bu Gradient'in **negatif** değeri alınır. Çünkü değişim miktarı, yani türev, artış olarak gözlemlenir, ancak biz Cost Function değerini azaltmak istiyoruz. Bu nedenle değişim miktarının negatifini inceliyoruz.\n",
    "5. Bu negatif değer bir learning rate **$\\alpha$** ile çarpılır. Learning Rate bizim tarafımızdan belirlenir.\n",
    "6. Bu çarpımın sonucu, ilgili $W$ değerinden çıkarlır\n",
    "7. Döngü 1. adıma geri döner ve belirlenen iteration(döngü) adedince gerekli işlemleri yapmaya devam eder."
   ]
  },
  {
   "cell_type": "markdown",
   "id": "c0c80890",
   "metadata": {},
   "source": [
    "### Gradient Descent Akışı"
   ]
  },
  {
   "cell_type": "markdown",
   "id": "476a29bf",
   "metadata": {},
   "source": [
    "Iterasyonlar kullanarak $W$ değerini güncelleyeceğiz:"
   ]
  },
  {
   "cell_type": "markdown",
   "id": "e221e6bb",
   "metadata": {},
   "source": [
    "### $$ W_j = W_j - \\alpha (\\frac{1}{n} \\sum_{i=1}^n (\\hat y^{(i)} - y^{(i)}) X_j^{(i)}) $$"
   ]
  },
  {
   "cell_type": "markdown",
   "id": "f1af7d52",
   "metadata": {},
   "source": [
    "Burada;\n",
    "* **Learning Rate : $\\alpha$**\n",
    "* Gradient : $ \\sum_{i=1}^n (\\hat y^{(i)} - y^{(i)}) X_j^{(i)}) $\n",
    "\n",
    "- Yukarıdaki işlemler sonucuna W değeri her iterasyonda yenilenir. Bunun sonucunda, Convex şekilde olan Gradient eğirisinde aşağı doğru ilerleyerek global minimuma ulaşılır."
   ]
  },
  {
   "cell_type": "markdown",
   "id": "9e5b2b23",
   "metadata": {},
   "source": [
    "***"
   ]
  },
  {
   "cell_type": "markdown",
   "id": "45448f27",
   "metadata": {},
   "source": [
    "## APPLIED GRADIENT DESCENT WITH PYTHON"
   ]
  },
  {
   "cell_type": "markdown",
   "id": "6ba42b57",
   "metadata": {},
   "source": [
    "* Maliyet (Cost) hesaplayacağımız fonksiyonumuzu yazalım."
   ]
  },
  {
   "cell_type": "code",
   "execution_count": 8,
   "id": "987a5c01",
   "metadata": {},
   "outputs": [],
   "source": [
    "# Maliyet Hesaplama Fonksiyonu\n",
    "\n",
    "def costCalc(W, X, y):\n",
    "    \"\"\"\n",
    "    X ve y için Cost (Maliyet) hesaplar.\n",
    "    \n",
    "    Parametreler:\n",
    "        W = Katsayı Vektörü     -> (p, 1)\n",
    "        X = Girdi Vektörü       -> (n, p)\n",
    "        y = Gerçek y Değerleri  -> (n, 1)\n",
    "\n",
    "    Burada:\n",
    "        n: Toplam veri adedi (satır sayısı)\n",
    "        p: X içerisindeki değişken adedi (sütun sayısı)\n",
    "        \n",
    "    Geriye Dönüş Değeri:\n",
    "        cost = Hesaplanan maliyet değeri\n",
    "    \"\"\"\n",
    "    \n",
    "    # Toplam veri adedini hesapla\n",
    "    n = len(y)\n",
    "    \n",
    "    # Önce tahmin değerini hesapla -> 𝑦̂ = X*W\n",
    "    # X -> (n, p)\n",
    "    # W -> (p, 1)\n",
    "    # 𝑦̂ -> (n, 1)\n",
    "    prediction = X.dot(W)\n",
    "    \n",
    "    # Cost Function değerini hesapla -> \"J\"\n",
    "    cost = (1 / 2 * n) * np.sum(np.square(prediction - y))\n",
    "    \n",
    "    # Hesaplanan Cost Function değerini geriye dön\n",
    "    return cost"
   ]
  },
  {
   "cell_type": "code",
   "execution_count": 9,
   "id": "d9852433",
   "metadata": {},
   "outputs": [],
   "source": [
    "# Gradient Descent Fonksiyonu\n",
    "\n",
    "def gradientDescent(X, y, W, learning_rate=0.01, iterations=100):\n",
    "    \"\"\"\n",
    "    Gradient Descent Uygulama Fonksiyonu\n",
    "    \n",
    "    Parametreler:\n",
    "        X = X Matrisi (bias unit eklenmiş hali, yani 1'lerden oluşmuş ilk sütun)\n",
    "        y = y vektörü\n",
    "        W = Katsayı vektörü (w'lardan oluşmuş)\n",
    "        learning_rate = learning rate: alpha (öğrenme katsayısı)\n",
    "        iterations = toplam döngü sayısı\n",
    "        \n",
    "    Geriye Dönüş Değeri:\n",
    "        * W vektörünün son hali\n",
    "        * Maliyet Listesi (cost history)\n",
    "        * W vektörünün listesi (weight history)\n",
    "    \"\"\"\n",
    "    \n",
    "    n = len(y)\n",
    "    costHistory = np.zeros(iterations)\n",
    "    weightHistory = np.zeros((iterations, 2))\n",
    "    \n",
    "    for itr in range(iterations):\n",
    "        \n",
    "        prediction = np.dot(X, W)\n",
    "        \n",
    "        W = W - (1 / n) * learning_rate * (X.T.dot((prediction - y)))\n",
    "        \n",
    "        weightHistory[itr, :] = W.T\n",
    "        \n",
    "        costHistory[itr] = costCalc(W, X, y)\n",
    "        \n",
    "    return W, costHistory, weightHistory"
   ]
  },
  {
   "cell_type": "markdown",
   "id": "94490f0e",
   "metadata": {},
   "source": [
    "Şimdi de **GradientDescent()** fonksiyonunu kullanarak yukarıda yarattığımız veri seti için en uygun katsayıları bulalım.\n",
    "\n",
    "Bunun için önce bir $W_0$ başlangıç değeri belirlememiz lazım. Bu başlangıç değeri random bir değer olabilir.\n",
    "\n",
    "* Gaussian(Normal) Dağılım içerisinden bir rastgele W vektörü alabiliriz. https://numpy.org/doc/stable/reference/random/generated/numpy.random.randn.html"
   ]
  },
  {
   "cell_type": "code",
   "execution_count": 10,
   "id": "d7cadb60",
   "metadata": {},
   "outputs": [
    {
     "name": "stdout",
     "output_type": "stream",
     "text": [
      "[[-0.54422174]\n",
      " [ 0.22312941]]\n"
     ]
    }
   ],
   "source": [
    "W = np.random.randn(2, 1)\n",
    "print(W)"
   ]
  },
  {
   "cell_type": "markdown",
   "id": "81d54292",
   "metadata": {},
   "source": [
    "Şimdi bir *Learning Rate($\\alpha$)* değeri belirleyelim. Başlangıç için *0.01* değerini uygun bulduk."
   ]
  },
  {
   "cell_type": "code",
   "execution_count": 11,
   "id": "ea6414d1",
   "metadata": {},
   "outputs": [],
   "source": [
    "learningRate = 0.01"
   ]
  },
  {
   "cell_type": "markdown",
   "id": "81bb9939",
   "metadata": {},
   "source": [
    "Toplam *iteration* adedini 1000 olarak kabul edelim."
   ]
  },
  {
   "cell_type": "code",
   "execution_count": 12,
   "id": "2e32c9f4",
   "metadata": {},
   "outputs": [],
   "source": [
    "nIter = 1000"
   ]
  },
  {
   "cell_type": "markdown",
   "id": "c88fc696",
   "metadata": {},
   "source": [
    "Elimizdeki X vektörünün tek sütunluk bir vektör olduğunu hatırlatalım. Bununla birlikte $w_0$ için 1'lerden oluşan bir sütunu (*Bias Column*) sütunların başına eklemek durumundayız."
   ]
  },
  {
   "cell_type": "code",
   "execution_count": 13,
   "id": "af5d1682",
   "metadata": {
    "scrolled": true
   },
   "outputs": [
    {
     "data": {
      "text/plain": [
       "array([[1.16807712],\n",
       "       [1.75473675],\n",
       "       [1.26721411],\n",
       "       [0.82253037],\n",
       "       [1.33577081],\n",
       "       [1.83909273],\n",
       "       [1.98339084],\n",
       "       [1.99733084],\n",
       "       [1.17645549],\n",
       "       [0.68954445],\n",
       "       [1.12497077],\n",
       "       [1.01739087],\n",
       "       [0.57964994],\n",
       "       [1.30724457],\n",
       "       [1.46231769],\n",
       "       [0.96476632],\n",
       "       [1.9441039 ],\n",
       "       [0.22104977],\n",
       "       [1.24099918],\n",
       "       [1.73326162],\n",
       "       [1.89703354],\n",
       "       [1.12214929],\n",
       "       [1.51302582],\n",
       "       [0.35034928],\n",
       "       [0.53294549],\n",
       "       [0.02192082],\n",
       "       [1.60518398],\n",
       "       [1.72026992],\n",
       "       [0.41619115],\n",
       "       [0.6239735 ],\n",
       "       [0.57714573],\n",
       "       [0.04410495],\n",
       "       [0.72901039],\n",
       "       [1.46812195],\n",
       "       [1.20671413],\n",
       "       [1.09778705],\n",
       "       [0.16906083],\n",
       "       [0.33104458],\n",
       "       [1.58346874],\n",
       "       [0.12081886],\n",
       "       [1.92779216],\n",
       "       [1.4211196 ],\n",
       "       [1.02374505],\n",
       "       [0.56478013],\n",
       "       [1.67100687],\n",
       "       [1.95206583],\n",
       "       [1.64949227],\n",
       "       [1.43509563],\n",
       "       [0.70264102],\n",
       "       [1.171305  ],\n",
       "       [0.32738586],\n",
       "       [0.60376993],\n",
       "       [0.78656991],\n",
       "       [1.21444358],\n",
       "       [0.14119491],\n",
       "       [0.64403614],\n",
       "       [0.36016272],\n",
       "       [1.65638072],\n",
       "       [0.63085242],\n",
       "       [1.87676724],\n",
       "       [0.6055293 ],\n",
       "       [1.87642837],\n",
       "       [1.31707174],\n",
       "       [0.00727083],\n",
       "       [1.76104331],\n",
       "       [1.24655881],\n",
       "       [0.31648742],\n",
       "       [0.62187781],\n",
       "       [1.43679044],\n",
       "       [1.85061809],\n",
       "       [1.79500408],\n",
       "       [1.1748421 ],\n",
       "       [0.82831157],\n",
       "       [0.64613174],\n",
       "       [0.41153919],\n",
       "       [1.45343491],\n",
       "       [0.28564643],\n",
       "       [0.73280554],\n",
       "       [0.14531813],\n",
       "       [0.84136409],\n",
       "       [1.44365237],\n",
       "       [0.8586283 ],\n",
       "       [1.64489114],\n",
       "       [0.44436474],\n",
       "       [0.70846047],\n",
       "       [1.49640408],\n",
       "       [0.96150287],\n",
       "       [0.17521953],\n",
       "       [1.71371918],\n",
       "       [1.10525604],\n",
       "       [0.02730916],\n",
       "       [1.97333292],\n",
       "       [0.11282776],\n",
       "       [1.21095913],\n",
       "       [0.02070717],\n",
       "       [0.38011229],\n",
       "       [0.89749315],\n",
       "       [0.43755631],\n",
       "       [0.45312201],\n",
       "       [1.60679995]])"
      ]
     },
     "execution_count": 13,
     "metadata": {},
     "output_type": "execute_result"
    }
   ],
   "source": [
    "X"
   ]
  },
  {
   "cell_type": "code",
   "execution_count": 14,
   "id": "8be652a9",
   "metadata": {
    "scrolled": true
   },
   "outputs": [
    {
     "name": "stdout",
     "output_type": "stream",
     "text": [
      "[[1.         1.16807712]\n",
      " [1.         1.75473675]\n",
      " [1.         1.26721411]\n",
      " [1.         0.82253037]\n",
      " [1.         1.33577081]\n",
      " [1.         1.83909273]\n",
      " [1.         1.98339084]\n",
      " [1.         1.99733084]\n",
      " [1.         1.17645549]\n",
      " [1.         0.68954445]\n",
      " [1.         1.12497077]\n",
      " [1.         1.01739087]\n",
      " [1.         0.57964994]\n",
      " [1.         1.30724457]\n",
      " [1.         1.46231769]\n",
      " [1.         0.96476632]\n",
      " [1.         1.9441039 ]\n",
      " [1.         0.22104977]\n",
      " [1.         1.24099918]\n",
      " [1.         1.73326162]\n",
      " [1.         1.89703354]\n",
      " [1.         1.12214929]\n",
      " [1.         1.51302582]\n",
      " [1.         0.35034928]\n",
      " [1.         0.53294549]\n",
      " [1.         0.02192082]\n",
      " [1.         1.60518398]\n",
      " [1.         1.72026992]\n",
      " [1.         0.41619115]\n",
      " [1.         0.6239735 ]\n",
      " [1.         0.57714573]\n",
      " [1.         0.04410495]\n",
      " [1.         0.72901039]\n",
      " [1.         1.46812195]\n",
      " [1.         1.20671413]\n",
      " [1.         1.09778705]\n",
      " [1.         0.16906083]\n",
      " [1.         0.33104458]\n",
      " [1.         1.58346874]\n",
      " [1.         0.12081886]\n",
      " [1.         1.92779216]\n",
      " [1.         1.4211196 ]\n",
      " [1.         1.02374505]\n",
      " [1.         0.56478013]\n",
      " [1.         1.67100687]\n",
      " [1.         1.95206583]\n",
      " [1.         1.64949227]\n",
      " [1.         1.43509563]\n",
      " [1.         0.70264102]\n",
      " [1.         1.171305  ]\n",
      " [1.         0.32738586]\n",
      " [1.         0.60376993]\n",
      " [1.         0.78656991]\n",
      " [1.         1.21444358]\n",
      " [1.         0.14119491]\n",
      " [1.         0.64403614]\n",
      " [1.         0.36016272]\n",
      " [1.         1.65638072]\n",
      " [1.         0.63085242]\n",
      " [1.         1.87676724]\n",
      " [1.         0.6055293 ]\n",
      " [1.         1.87642837]\n",
      " [1.         1.31707174]\n",
      " [1.         0.00727083]\n",
      " [1.         1.76104331]\n",
      " [1.         1.24655881]\n",
      " [1.         0.31648742]\n",
      " [1.         0.62187781]\n",
      " [1.         1.43679044]\n",
      " [1.         1.85061809]\n",
      " [1.         1.79500408]\n",
      " [1.         1.1748421 ]\n",
      " [1.         0.82831157]\n",
      " [1.         0.64613174]\n",
      " [1.         0.41153919]\n",
      " [1.         1.45343491]\n",
      " [1.         0.28564643]\n",
      " [1.         0.73280554]\n",
      " [1.         0.14531813]\n",
      " [1.         0.84136409]\n",
      " [1.         1.44365237]\n",
      " [1.         0.8586283 ]\n",
      " [1.         1.64489114]\n",
      " [1.         0.44436474]\n",
      " [1.         0.70846047]\n",
      " [1.         1.49640408]\n",
      " [1.         0.96150287]\n",
      " [1.         0.17521953]\n",
      " [1.         1.71371918]\n",
      " [1.         1.10525604]\n",
      " [1.         0.02730916]\n",
      " [1.         1.97333292]\n",
      " [1.         0.11282776]\n",
      " [1.         1.21095913]\n",
      " [1.         0.02070717]\n",
      " [1.         0.38011229]\n",
      " [1.         0.89749315]\n",
      " [1.         0.43755631]\n",
      " [1.         0.45312201]\n",
      " [1.         1.60679995]]\n"
     ]
    }
   ],
   "source": [
    "n = len(X)\n",
    "\n",
    "X_b = np.c_[np.ones((n, 1)), X]\n",
    "\n",
    "print(X_b)"
   ]
  },
  {
   "cell_type": "markdown",
   "id": "9998d7ba",
   "metadata": {},
   "source": [
    "Bu noktada *gradientDescent* fonksiyonunu çağırabiliriz."
   ]
  },
  {
   "cell_type": "code",
   "execution_count": 15,
   "id": "6aac33ac",
   "metadata": {},
   "outputs": [],
   "source": [
    "finalW, costHistory, weightHistory = gradientDescent(X_b, y, W, learningRate, nIter)"
   ]
  },
  {
   "cell_type": "code",
   "execution_count": 16,
   "id": "31f8b78e",
   "metadata": {},
   "outputs": [
    {
     "name": "stdout",
     "output_type": "stream",
     "text": [
      "W-Final:  [[4.11334284]\n",
      " [3.34638016]]\n"
     ]
    }
   ],
   "source": [
    "print(\"W-Final: \", finalW)"
   ]
  },
  {
   "cell_type": "code",
   "execution_count": 17,
   "id": "b9cb8293",
   "metadata": {},
   "outputs": [
    {
     "name": "stdout",
     "output_type": "stream",
     "text": [
      "Cost History: [310956.69911467 297428.42222382 284494.66581116 272129.28628768\n",
      " 260307.2897608  249004.78147488 238198.9174752  227867.85839754\n",
      " 217990.72528993 208547.55737719 199519.27168291 190887.62442699\n",
      " 182635.17412087 174745.24628562 167201.89972172 159989.89426202\n",
      " 153094.65994294 146502.26753133 140199.40034748 134173.32732725\n",
      " 128411.87726883 122903.41421202 117636.81390029 112601.44127787\n",
      " 107787.12897652 103184.1567483   98783.2318029   94575.47000956\n",
      "  90552.37792574  86705.83561608  83028.08022691  79511.69028311\n",
      "  76149.57067551  72934.93830853  69861.30837894  66922.48125808\n",
      "  64112.5299509   61425.78810657  58856.83855623  56400.50235498\n",
      "  54051.82830558  51806.08294296  49658.74095921  47605.47604952\n",
      "  45642.15216081  43764.81512512  41969.68466102  40253.14672666\n",
      "  38611.7462092   37042.17993572  35541.2899914   34106.05733168\n",
      "  32733.5956752   31421.14566539  30166.0692888   28965.84453884\n",
      "  27818.06031428  26720.41154201  25670.69451432  24666.80243124\n",
      "  23706.7211389   22788.52505527  21910.37327515  21070.50584635\n",
      "  20267.24020973  19498.9677957   18764.15077046  18061.31892531\n",
      "  17389.06670273  16746.0503533   16130.98521757  15542.64312757\n",
      "  14979.84992245  14441.48307351  13926.46941362  13433.78296642\n",
      "  12962.44287114  12511.51139853  12080.0920541   11667.32776482\n",
      "  11272.39914547  10894.5228413   10532.94994355  10186.96447465\n",
      "   9855.88194001   9539.04794356   9235.83686412   8945.65058998\n",
      "   8667.91730916   8402.09035286   8147.64708973   7904.08786884\n",
      "   7670.93500906   7447.73183295   7234.04174307   7029.44733896\n",
      "   6833.54957295   6645.96694305   6466.33472138   6294.30421651\n",
      "   6129.54206826   5971.72957348   5820.5620415    5675.74817791\n",
      "   5537.00949548   5404.07975092   5276.70440647   5154.64011514\n",
      "   5037.65422858   4925.5243266    4818.03776738   4714.99125749\n",
      "   4616.19044076   4521.44950527   4430.59080759   4343.44451364\n",
      "   4259.84825518   4179.64680156   4102.69174583   4028.84120465\n",
      "   3957.95953144   3889.91704209   3824.58975278   3761.85912932\n",
      "   3701.61184747   3643.73956387   3588.13869697   3534.71021768\n",
      "   3483.35944913   3433.99587531   3386.5329581    3340.88796232\n",
      "   3296.98178854   3254.73881317   3214.0867356    3174.95643212\n",
      "   3137.28181621   3100.99970494   3066.04969133   3032.37402228\n",
      "   2999.91748186   2968.62727973   2938.45294451   2909.3462218\n",
      "   2881.26097665   2854.15310044   2827.9804217    2802.702621\n",
      "   2778.28114944   2754.67915087   2731.86138739   2709.79416823\n",
      "   2688.44528173   2667.78393027   2647.78066811   2628.40734195\n",
      "   2609.63703411   2591.44400816   2573.80365704   2556.69245333\n",
      "   2540.08790186   2523.96849425   2508.31366558   2493.10375285\n",
      "   2478.3199554    2463.94429691   2449.95958921   2436.34939763\n",
      "   2423.09800784   2410.1903942    2397.61218948   2385.3496559\n",
      "   2373.38965748   2361.71963356   2350.32757352   2339.20199258\n",
      "   2328.33190873   2317.70682056   2307.31668618   2297.15190301\n",
      "   2287.20328845   2277.46206146   2267.91982485   2258.56854845\n",
      "   2249.40055295   2240.40849452   2231.58535      2222.92440288\n",
      "   2214.41922974   2206.06368743   2197.85190074   2189.7782506\n",
      "   2181.83736285   2174.02409745   2166.33353822   2158.76098299\n",
      "   2151.30193418   2143.95208984   2136.70733502   2129.56373359\n",
      "   2122.51752035   2115.56509353   2108.70300763   2101.92796653\n",
      "   2095.23681693   2088.62654208   2082.09425579   2075.63719668\n",
      "   2069.25272273   2062.93830598   2056.69152757   2050.51007294\n",
      "   2044.39172723   2038.33437091   2032.33597563   2026.39460014\n",
      "   2020.50838655   2014.67555662   2008.89440826   2003.16331223\n",
      "   1997.4807089    1991.84510521   1986.25507177   1980.70924002\n",
      "   1975.2062996    1969.74499579   1964.32412706   1958.94254273\n",
      "   1953.59914077   1948.29286564   1943.02270625   1937.78769404\n",
      "   1932.58690109   1927.41943832   1922.28445386   1917.18113134\n",
      "   1912.10868838   1907.06637509   1902.05347264   1897.06929192\n",
      "   1892.11317221   1887.18447997   1882.28260763   1877.40697244\n",
      "   1872.55701542   1867.73220031   1862.93201255   1858.15595837\n",
      "   1853.40356385   1848.67437406   1843.96795227   1839.28387907\n",
      "   1834.62175172   1829.98118332   1825.36180221   1820.76325124\n",
      "   1816.18518716   1811.62728002   1807.08921259   1802.5706798\n",
      "   1798.0713882    1793.5910555    1789.12941002   1784.68619028\n",
      "   1780.26114452   1775.85403033   1771.46461417   1767.09267106\n",
      "   1762.73798415   1758.40034442   1754.07955029   1749.77540734\n",
      "   1745.48772796   1741.21633112   1736.961042     1732.7216918\n",
      "   1728.49811743   1724.29016129   1720.09767102   1715.92049929\n",
      "   1711.75850357   1707.61154594   1703.47949285   1699.362215\n",
      "   1695.25958711   1691.17148776   1687.09779922   1683.03840732\n",
      "   1678.99320127   1674.9620735    1670.94491959   1666.94163806\n",
      "   1662.95213031   1658.97630045   1655.0140552    1651.06530381\n",
      "   1647.12995791   1643.20793143   1639.29914051   1635.4035034\n",
      "   1631.52094037   1627.65137363   1623.79472725   1619.95092708\n",
      "   1616.11990068   1612.30157726   1608.49588758   1604.70276392\n",
      "   1600.92213999   1597.15395092   1593.39813314   1589.65462436\n",
      "   1585.92336353   1582.20429077   1578.49734732   1574.80247552\n",
      "   1571.11961873   1567.44872133   1563.78972866   1560.14258698\n",
      "   1556.50724342   1552.88364599   1549.27174351   1545.67148557\n",
      "   1542.08282256   1538.50570556   1534.94008637   1531.38591746\n",
      "   1527.84315197   1524.31174364   1520.79164682   1517.28281645\n",
      "   1513.78520803   1510.2987776    1506.82348171   1503.35927743\n",
      "   1499.9061223    1496.46397433   1493.03279199   1489.61253417\n",
      "   1486.20316021   1482.80462984   1479.41690317   1476.03994071\n",
      "   1472.67370333   1469.31815226   1465.97324909   1462.6389557\n",
      "   1459.31523434   1456.00204756   1452.6993582    1449.4071294\n",
      "   1446.1253246    1442.8539075    1439.59284209   1436.3420926\n",
      "   1433.10162353   1429.87139963   1426.65138586   1423.44154747\n",
      "   1420.24184988   1417.05225877   1413.87274002   1410.70325973\n",
      "   1407.5437842    1404.39427994   1401.25471364   1398.12505219\n",
      "   1395.00526267   1391.89531234   1388.79516864   1385.70479918\n",
      "   1382.62417175   1379.55325429   1376.49201493   1373.44042194\n",
      "   1370.39844376   1367.36604897   1364.34320632   1361.32988469\n",
      "   1358.32605312   1355.33168079   1352.34673702   1349.37119126\n",
      "   1346.40501312   1343.44817232   1340.50063872   1337.56238232\n",
      "   1334.63337323   1331.7135817    1328.8029781    1325.90153291\n",
      "   1323.00921677   1320.12600039   1317.25185462   1314.38675044\n",
      "   1311.53065892   1308.68355127   1305.84539877   1303.01617286\n",
      "   1300.19584507   1297.38438701   1294.58177045   1291.78796722\n",
      "   1289.00294927   1286.22668868   1283.45915759   1280.70032826\n",
      "   1277.95017307   1275.20866446   1272.47577501   1269.75147737\n",
      "   1267.0357443    1264.32854866   1261.62986339   1258.93966153\n",
      "   1256.25791623   1253.58460072   1250.91968832   1248.26315245\n",
      "   1245.61496663   1242.97510443   1240.34353957   1237.72024582\n",
      "   1235.10519704   1232.4983672    1229.89973033   1227.30926058\n",
      "   1224.72693216   1222.15271937   1219.58659661   1217.02853835\n",
      "   1214.47851917   1211.93651369   1209.40249665   1206.87644288\n",
      "   1204.35832725   1201.84812475   1199.34581045   1196.85135948\n",
      "   1194.36474707   1191.88594852   1189.41493923   1186.95169465\n",
      "   1184.49619034   1182.04840191   1179.60830507   1177.17587561\n",
      "   1174.75108939   1172.33392234   1169.92435049   1167.52234992\n",
      "   1165.12789681   1162.74096741   1160.36153803   1157.98958509\n",
      "   1155.62508506   1153.26801449   1150.91835      1148.57606831\n",
      "   1146.24114617   1143.91356045   1141.59328807   1139.28030603\n",
      "   1136.97459139   1134.6761213    1132.38487299   1130.10082373\n",
      "   1127.8239509    1125.55423192   1123.2916443    1121.03616562\n",
      "   1118.78777352   1116.54644573   1114.31216004   1112.08489431\n",
      "   1109.86462646   1107.6513345    1105.4449965    1103.2455906\n",
      "   1101.05309501   1098.867488     1096.68874793   1094.5168532\n",
      "   1092.35178231   1090.1935138    1088.0420263    1085.89729848\n",
      "   1083.75930911   1081.628037     1079.50346105   1077.38556021\n",
      "   1075.2743135    1073.1697       1071.07169888   1068.98028935\n",
      "   1066.8954507    1064.81716227   1062.74540348   1060.68015382\n",
      "   1058.62139283   1056.56910011   1054.52325534   1052.48383826\n",
      "   1050.45082867   1048.42420644   1046.40395149   1044.39004381\n",
      "   1042.38246347   1040.38119057   1038.3862053    1036.39748791\n",
      "   1034.41501869   1032.43877801   1030.46874631   1028.50490407\n",
      "   1026.54723184   1024.59571024   1022.65031994   1020.71104168\n",
      "   1018.77785625   1016.85074451   1014.92968736   1013.0146658\n",
      "   1011.10566086   1009.20265362   1007.30562525   1005.41455696\n",
      "   1003.52943002   1001.65022577    999.77692559    997.90951094\n",
      "    996.04796333    994.19226431    992.34239552    990.49833863\n",
      "    988.66007539    986.82758759    985.00085708    983.17986579\n",
      "    981.36459566    979.55502874    977.75114709    975.95293286\n",
      "    974.16036825    972.37343549    970.5921169     968.81639484\n",
      "    967.04625172    965.28167001    963.52263225    961.76912101\n",
      "    960.02111893    958.2786087     956.54157307    954.80999483\n",
      "    953.08385684    951.36314201    949.64783329    947.93791371\n",
      "    946.23336633    944.53417427    942.84032071    941.15178887\n",
      "    939.46856204    937.79062355    936.11795677    934.45054516\n",
      "    932.7883722     931.13142142    929.47967642    927.83312086\n",
      "    926.19173841    924.55551284    922.92442793    921.29846754\n",
      "    919.67761556    918.06185595    916.45117271    914.84554988\n",
      "    913.24497158    911.64942194    910.05888518    908.47334554\n",
      "    906.89278732    905.31719487    903.74655259    902.18084493\n",
      "    900.62005639    899.0641715     897.51317486    895.96705112\n",
      "    894.42578497    892.88936113    891.35776441    889.83097963\n",
      "    888.30899168    886.79178548    885.27934602    883.77165831\n",
      "    882.26870743    880.77047849    879.27695666    877.78812715\n",
      "    876.30397523    874.82448618    873.34964536    871.87943818\n",
      "    870.41385007    868.95286651    867.49647305    866.04465525\n",
      "    864.59739876    863.15468923    861.71651237    860.28285396\n",
      "    858.85369979    857.42903571    856.00884761    854.59312143\n",
      "    853.18184316    851.77499882    850.37257447    848.97455624\n",
      "    847.58093028    846.19168278    844.8068        843.42626821\n",
      "    842.05007376    840.67820301    839.31064238    837.94737833\n",
      "    836.58839735    835.233686      833.88323085    832.53701854\n",
      "    831.19503574    829.85726915    828.52370553    827.19433168\n",
      "    825.86913443    824.54810067    823.2312173     821.91847129\n",
      "    820.60984965    819.3053394     818.00492765    816.70860151\n",
      "    815.41634813    814.12815474    812.84400857    811.56389691\n",
      "    810.28780708    809.01572644    807.74764241    806.48354242\n",
      "    805.22341395    803.96724453    802.71502173    801.46673313\n",
      "    800.22236639    798.98190917    797.7453492     796.51267423\n",
      "    795.28387206    794.05893051    792.83783747    791.62058083\n",
      "    790.40714855    789.1975286     787.99170902    786.78967786\n",
      "    785.59142322    784.39693324    783.20619608    782.01919996\n",
      "    780.83593312    779.65638384    778.48054046    777.30839131\n",
      "    776.13992481    774.97512937    773.81399346    772.65650559\n",
      "    771.50265429    770.35242815    769.20581576    768.06280578\n",
      "    766.92338688    765.78754779    764.65527726    763.52656408\n",
      "    762.40139707    761.27976509    760.16165703    759.04706182\n",
      "    757.93596842    756.82836584    755.72424311    754.62358928\n",
      "    753.52639348    752.43264482    751.34233248    750.25544566\n",
      "    749.17197361    748.09190559    747.0152309     745.9419389\n",
      "    744.87201894    743.80546044    742.74225283    741.68238559\n",
      "    740.62584821    739.57263025    738.52272127    737.47611088\n",
      "    736.43278871    735.39274442    734.35596773    733.32244837\n",
      "    732.2921761     731.26514072    730.24133205    729.22073998\n",
      "    728.20335438    727.18916518    726.17816235    725.17033586\n",
      "    724.16567575    723.16417206    722.16581487    721.17059431\n",
      "    720.17850051    719.18952365    718.20365395    717.22088163\n",
      "    716.24119697    715.26459026    714.29105184    713.32057206\n",
      "    712.35314132    711.38875003    710.42738865    709.46904766\n",
      "    708.51371757    707.56138892    706.61205227    705.66569823\n",
      "    704.72231743    703.78190053    702.84443822    701.9099212\n",
      "    700.97834023    700.04968609    699.12394958    698.20112152\n",
      "    697.2811928     696.36415428    695.44999691    694.53871161\n",
      "    693.63028938    692.72472121    691.82199813    690.92211122\n",
      "    690.02505155    689.13081025    688.23937847    687.35074736\n",
      "    686.46490814    685.58185203    684.7015703     683.82405421\n",
      "    682.94929509    682.07728428    681.20801313    680.34147304\n",
      "    679.47765543    678.61655175    677.75815346    676.90245208\n",
      "    676.04943912    675.19910615    674.35144473    673.50644648\n",
      "    672.66410304    671.82440605    670.9873472     670.15291822\n",
      "    669.32111082    668.49191679    667.6653279     666.84133597\n",
      "    666.01993284    665.20111039    664.38486049    663.57117508\n",
      "    662.76004609    661.95146548    661.14542526    660.34191745\n",
      "    659.54093408    658.74246722    657.94650898    657.15305146\n",
      "    656.36208681    655.5736072     654.78760482    654.00407188\n",
      "    653.22300064    652.44438335    651.66821231    650.89447983\n",
      "    650.12317825    649.35429992    648.58783725    647.82378264\n",
      "    647.06212851    646.30286734    645.5459916     644.7914938\n",
      "    644.03936647    643.28960216    642.54219344    641.79713292\n",
      "    641.05441321    640.31402697    639.57596686    638.84022558\n",
      "    638.10679583    637.37567036    636.64684193    635.92030331\n",
      "    635.19604732    634.47406679    633.75435456    633.03690351\n",
      "    632.32170654    631.60875655    630.8980465     630.18956935\n",
      "    629.48331808    628.77928569    628.07746522    627.37784972\n",
      "    626.68043226    625.98520593    625.29216385    624.60129915\n",
      "    623.91260501    623.22607458    622.54170109    621.85947775\n",
      "    621.17939781    620.50145453    619.8256412     619.15195113\n",
      "    618.48037764    617.81091409    617.14355386    616.47829032\n",
      "    615.81511689    615.15402701    614.49501413    613.83807172\n",
      "    613.18319329    612.53037234    611.87960241    611.23087706\n",
      "    610.58418986    609.93953441    609.29690433    608.65629325\n",
      "    608.01769483    607.38110275    606.7465107     606.1139124\n",
      "    605.48330159    604.85467202    604.22801746    603.60333172\n",
      "    602.9806086     602.35984195    601.74102561    601.12415345\n",
      "    600.50921937    599.89621728    599.28514111    598.6759848\n",
      "    598.06874234    597.46340769    596.85997488    596.25843792\n",
      "    595.65879086    595.06102775    594.46514269    593.87112977\n",
      "    593.27898311    592.68869684    592.10026513    591.51368214\n",
      "    590.92894206    590.34603911    589.76496752    589.18572152\n",
      "    588.60829539    588.03268341    587.45887987    586.8868791\n",
      "    586.31667543    585.74826321    585.18163683    584.61679065\n",
      "    584.05371911    583.49241661    582.9328776     582.37509654\n",
      "    581.8190679     581.26478619    580.71224591    580.16144159\n",
      "    579.61236778    579.06501903    578.51938994    577.9754751\n",
      "    577.43326911    576.89276662    576.35396227    575.81685073\n",
      "    575.28142667    574.7476848     574.21561983    573.68522649\n",
      "    573.15649953    572.62943372    572.10402383    571.58026467\n",
      "    571.05815104    570.53767778    570.01883973    569.50163176\n",
      "    568.98604874    568.47208558    567.95973717    567.44899845\n",
      "    566.93986436    566.43232985    565.92638991    565.42203953\n",
      "    564.9192737     564.41808745    563.91847582    563.42043386\n",
      "    562.92395664    562.42903924    561.93567677    561.44386433\n",
      "    560.95359706    560.46487011    559.97767862    559.49201779\n",
      "    559.00788279    558.52526885    558.04417117    557.56458499\n",
      "    557.08650557    556.60992817    556.13484807    555.66126057\n",
      "    555.18916098    554.71854462    554.24940684    553.78174299\n",
      "    553.31554843    552.85081855    552.38754876    551.92573446\n",
      "    551.46537107    551.00645405    550.54897885    550.09294093\n",
      "    549.63833578    549.18515891    548.73340581    548.28307203\n",
      "    547.8341531     547.38664457    546.94054202    546.49584102\n",
      "    546.05253718    545.6106261     545.17010341    544.73096474\n",
      "    544.29320576    543.85682211    543.42180949    542.98816359\n",
      "    542.5558801     542.12495475    541.69538328    541.26716143]\n"
     ]
    }
   ],
   "source": [
    "print(\"Cost History:\", costHistory)"
   ]
  },
  {
   "cell_type": "code",
   "execution_count": 18,
   "id": "a68c805b",
   "metadata": {},
   "outputs": [
    {
     "name": "stdout",
     "output_type": "stream",
     "text": [
      "Initial Cost: 310956.6991146724\n",
      "Final Cost: 541.2671614304561\n"
     ]
    }
   ],
   "source": [
    "print(\"Initial Cost:\", costHistory[0])\n",
    "print(\"Final Cost:\", costHistory[-1])"
   ]
  },
  {
   "cell_type": "code",
   "execution_count": 19,
   "id": "b2ba8f7e",
   "metadata": {},
   "outputs": [
    {
     "name": "stdout",
     "output_type": "stream",
     "text": [
      "W_0: [-0.54422174]\n",
      "Final W_0: [4.11334284]\n"
     ]
    }
   ],
   "source": [
    "W_0 = W[0]\n",
    "print(\"W_0:\", W_0)\n",
    "\n",
    "finalW_0 = finalW[0]\n",
    "print(\"Final W_0:\", finalW_0)"
   ]
  },
  {
   "cell_type": "code",
   "execution_count": 20,
   "id": "85b449ce",
   "metadata": {},
   "outputs": [
    {
     "name": "stdout",
     "output_type": "stream",
     "text": [
      "W_1: [0.22312941]\n",
      "Final W_1: [3.34638016]\n"
     ]
    }
   ],
   "source": [
    "W_1 = W[1]\n",
    "print(\"W_1:\", W_1)\n",
    "\n",
    "finalW_1 = finalW[1]\n",
    "print(\"Final W_1:\", finalW_1)"
   ]
  },
  {
   "cell_type": "markdown",
   "id": "773994a2",
   "metadata": {},
   "source": [
    "Gerçek katsayıları hatırlayalım;\n",
    "* $w_0$ = 4\n",
    "* $w_1$ = 3"
   ]
  },
  {
   "cell_type": "markdown",
   "id": "c399050f",
   "metadata": {},
   "source": [
    "*Gradient Descent* ile bulduğumuz katsayılar;"
   ]
  },
  {
   "cell_type": "code",
   "execution_count": 22,
   "id": "656fe7e7",
   "metadata": {},
   "outputs": [
    {
     "name": "stdout",
     "output_type": "stream",
     "text": [
      "𝑤̂_0: [4.11334284]\n",
      "𝑤̂_1: [3.34638016]\n"
     ]
    }
   ],
   "source": [
    "print(\"𝑤̂_0:\", finalW_0)\n",
    "print(\"𝑤̂_1:\", finalW_1)"
   ]
  },
  {
   "cell_type": "markdown",
   "id": "2535eb89",
   "metadata": {},
   "source": [
    "* Görüldüğü üzere gerçek değerler ve Gradient Descent ile elde edilen değerler birbirlerine oldukça yakın."
   ]
  },
  {
   "cell_type": "markdown",
   "id": "e4e8f958",
   "metadata": {},
   "source": [
    "***"
   ]
  },
  {
   "cell_type": "markdown",
   "id": "1fa547c9",
   "metadata": {},
   "source": [
    "### LEARNING RATE"
   ]
  },
  {
   "cell_type": "markdown",
   "id": "64118be3",
   "metadata": {},
   "source": [
    "* Şimdi de maliyet değerinin her iterasyonda nasıl değiştiğini inceleyelim."
   ]
  },
  {
   "cell_type": "code",
   "execution_count": 24,
   "id": "1f9d732f",
   "metadata": {},
   "outputs": [],
   "source": [
    "# Maliyet değişimi görselleştiren fonksiyon\n",
    "\n",
    "def costVsIterations(costHistory, nIter):\n",
    "    \n",
    "    fig, ax = plt.subplots(figsize=(12,8))\n",
    "    \n",
    "    plt.plot(range(nIter), costHistory)\n",
    "    \n",
    "    plt.xlabel(\"Iterations\")\n",
    "    plt.ylabel(\"Cost - J(W)\")\n",
    "    plt.title(\"MALİYET - ITERASYON\")\n",
    "    plt.grid()\n",
    "    plt.show()"
   ]
  },
  {
   "cell_type": "code",
   "execution_count": 25,
   "id": "7c4a1fe9",
   "metadata": {},
   "outputs": [
    {
     "data": {
      "image/png": "[encoded data removed]",
      "text/plain": [
       "<Figure size 864x576 with 1 Axes>"
      ]
     },
     "metadata": {
      "needs_background": "light"
     },
     "output_type": "display_data"
    }
   ],
   "source": [
    "costVsIterations(costHistory, nIter)"
   ]
  },
  {
   "cell_type": "markdown",
   "id": "f9fda3b8",
   "metadata": {},
   "source": [
    "Grafiğe göre, *iterasyon sayısı arttıkça*;\n",
    "* Öncelikle, *Cost* değeri çok hızlı bir şekilde azalıyor.\n",
    "* Belli bir iterasyon sayısından sonra (yaklaşık 180. iterasyon) *Cost* değerinin azalama ivmesi oldukça düşüyor."
   ]
  },
  {
   "cell_type": "markdown",
   "id": "da814a82",
   "metadata": {},
   "source": [
    "**DİKKAT: Yukarıda elde ettiğimiz sonucu Learning Rate($\\alpha$) = 0.01 için elde ettik.** "
   ]
  },
  {
   "cell_type": "code",
   "execution_count": 26,
   "id": "a287385e",
   "metadata": {},
   "outputs": [],
   "source": [
    "def callGradient(learningRate, nIter):\n",
    "    \n",
    "    # Belirtilen learningRate ve nIter için maliyet değerlerini al\n",
    "    finalW, costHistory, weightHistory = gradientDescent(X_b, y, W, learningRate, nIter)\n",
    "    \n",
    "    # Bu maliyet değerlerine göre grafik çizimi yap\n",
    "    costVsIterations(costHistory, nIter)"
   ]
  },
  {
   "cell_type": "markdown",
   "id": "c3b06df2",
   "metadata": {},
   "source": [
    "**DENEY - 1**: *Learning Rate($\\alpha$)* = 0.01 olacak şekilde aynı kalsın ancak *İterasyon* sayısını 1000'den 2000'e çıkaralım."
   ]
  },
  {
   "cell_type": "code",
   "execution_count": 27,
   "id": "e6ddcb7c",
   "metadata": {},
   "outputs": [
    {
     "data": {
      "image/png": "[encoded data removed]",
      "text/plain": [
       "<Figure size 864x576 with 1 Axes>"
      ]
     },
     "metadata": {
      "needs_background": "light"
     },
     "output_type": "display_data"
    }
   ],
   "source": [
    "# learningRate = 0.01\n",
    "# nIter = 2000\n",
    "\n",
    "learningRate = 0.01\n",
    "nIter = 2000\n",
    "callGradient(learningRate, nIter)"
   ]
  },
  {
   "cell_type": "markdown",
   "id": "73b00dda",
   "metadata": {},
   "source": [
    "**Sonuç**: Görüldüğü üzere bir önceki çalışmaya göre hiçbir değişiklik gerçekleşmedi çünkü zaten 180. iterasyon civarında en iyi değer bulunmuş oluyordu."
   ]
  },
  {
   "cell_type": "markdown",
   "id": "9849f258",
   "metadata": {},
   "source": [
    "**DENEY - 2**: *Learning Rate($\\alpha$)* = 0.01 olacak şekilde aynı kalsın ancak *İterasyon* sayısını 1000'den 500'e düşürelim."
   ]
  },
  {
   "cell_type": "code",
   "execution_count": 28,
   "id": "b77f825b",
   "metadata": {},
   "outputs": [
    {
     "data": {
      "image/png": "[encoded data removed]",
      "text/plain": [
       "<Figure size 864x576 with 1 Axes>"
      ]
     },
     "metadata": {
      "needs_background": "light"
     },
     "output_type": "display_data"
    }
   ],
   "source": [
    "# learningRate = 0.01\n",
    "# nIter = 500\n",
    "\n",
    "learningRate = 0.01\n",
    "nIter = 500\n",
    "callGradient(learningRate, nIter)"
   ]
  },
  {
   "cell_type": "markdown",
   "id": "2cd3d876",
   "metadata": {},
   "source": [
    "**Sonuç**: Görüldüğü üzere bir önceki çalışmaya göre hiçbir değişiklik gerçekleşmedi çünkü zaten 180. iterasyon civarında en iyi değer bulunmuş oluyordu."
   ]
  },
  {
   "cell_type": "markdown",
   "id": "566c5023",
   "metadata": {},
   "source": [
    "**DENEY - 3**: *Learning Rate($\\alpha$)* = 0.05 olacak şekilde arttırılsın ancak *İterasyon* sayısı 1000 olacak şekilde aynı kalsın."
   ]
  },
  {
   "cell_type": "code",
   "execution_count": 29,
   "id": "3521ad34",
   "metadata": {},
   "outputs": [
    {
     "data": {
      "image/png": "[encoded data removed]",
      "text/plain": [
       "<Figure size 864x576 with 1 Axes>"
      ]
     },
     "metadata": {
      "needs_background": "light"
     },
     "output_type": "display_data"
    }
   ],
   "source": [
    "# learningRate = 0.05\n",
    "# nIter = 1000\n",
    "\n",
    "learningRate = 0.05\n",
    "nIter = 1000\n",
    "callGradient(learningRate, nIter)"
   ]
  },
  {
   "cell_type": "markdown",
   "id": "17ccf30b",
   "metadata": {},
   "source": [
    "**Sonuç**: Görüldüğü üzere bu senaryoda optimum değere çok hızlı bir şekilde ulaşıldı ki bu takribi 40. *iterasyona* denk düşüyor.\n",
    "\n",
    "O halde, *Learning Rate* değerini adım büyüklüğü olarak düşünebilir ve adımlar ne kadar büyük olursa optimum sonuca o kadar çabuk ulaşırız diyebiliriz.\n",
    "\n",
    "**ACABA DİYEBİLİR MİYİZ?**\n",
    "\n",
    "**Deney - 4**: *İterasyon* sayısı 1000 olacak şekilde aynı kalsın ancak *Learning Rate($\\alpha$)* değerini **0.1** olacak şekilde ayarlayalım. "
   ]
  },
  {
   "cell_type": "code",
   "execution_count": 31,
   "id": "1b6a8592",
   "metadata": {},
   "outputs": [
    {
     "data": {
      "image/png": "[encoded data removed]",
      "text/plain": [
       "<Figure size 864x576 with 1 Axes>"
      ]
     },
     "metadata": {
      "needs_background": "light"
     },
     "output_type": "display_data"
    }
   ],
   "source": [
    "# learningRate = 0.1\n",
    "# nIter = 1000\n",
    "\n",
    "learningRate = 0.1\n",
    "nIter = 1000\n",
    "callGradient(learningRate, nIter)"
   ]
  },
  {
   "cell_type": "markdown",
   "id": "292e7762",
   "metadata": {},
   "source": [
    "**Sonuç**: Görüldüğü üzere, *Learning Rate($\\alpha$)* değerini biraz daha arttırınca optimum sonuca daha hızlı ulaştık ki bu da takribi 20. iterasyona denk düşüyor.\n",
    "\n",
    "**Peki *Learning Rate($\\alpha$)* değerini biraz daha arttırırsak yine hızlı bir şekilde optimum sonuca ulaşabilir miyiz? Deneyelim :)**\n",
    "\n",
    "**Deney - 5**: *İterasyon* sayısı 1000 olacak şekilde aynı kalsın ancak *Learning Rate($\\alpha$)* değerini **1.0** olacak şekilde ayarlayalım. "
   ]
  },
  {
   "cell_type": "code",
   "execution_count": 33,
   "id": "f16fcd01",
   "metadata": {},
   "outputs": [
    {
     "data": {
      "image/png": "[encoded data removed]",
      "text/plain": [
       "<Figure size 864x576 with 1 Axes>"
      ]
     },
     "metadata": {
      "needs_background": "light"
     },
     "output_type": "display_data"
    }
   ],
   "source": [
    "# learningRate = 1\n",
    "# nIter = 1000\n",
    "\n",
    "learningRate = 1\n",
    "nIter = 1000\n",
    "callGradient(learningRate, nIter)"
   ]
  },
  {
   "cell_type": "markdown",
   "id": "d77d1edb",
   "metadata": {},
   "source": [
    "**Sonuç**: Görüldüğü üzere bu noktada bırakın en iyi değeri bulayı, maliyet değeri belli bir noktadan itibaren çok hızlı bir şekilde arttı.\n",
    "\n",
    "**Peki neden böyle bir sonuç aldık?** Çünkü *Overshoot* yaptık yani çok büyük boyutlu bir *Learning Rate($\\alpha$)* belirleyerek ulaşmayı planladığımız en iyi noktayı atladık, çünkü adım büyüklüğümüz çok fazlaydı."
   ]
  },
  {
   "cell_type": "markdown",
   "id": "a2a32a53",
   "metadata": {},
   "source": [
    "<img src='images/overshoot.jpg' />"
   ]
  },
  {
   "cell_type": "code",
   "execution_count": null,
   "id": "5afdea96",
   "metadata": {},
   "outputs": [],
   "source": []
  },
  {
   "cell_type": "code",
   "execution_count": null,
   "id": "f228d679",
   "metadata": {},
   "outputs": [],
   "source": []
  },
  {
   "cell_type": "code",
   "execution_count": null,
   "id": "87fa8104",
   "metadata": {},
   "outputs": [],
   "source": []
  },
  {
   "cell_type": "code",
   "execution_count": null,
   "id": "b1af9e27",
   "metadata": {},
   "outputs": [],
   "source": []
  },
  {
   "cell_type": "code",
   "execution_count": null,
   "id": "d7f85d6d",
   "metadata": {},
   "outputs": [],
   "source": []
  },
  {
   "cell_type": "code",
   "execution_count": null,
   "id": "badede6c",
   "metadata": {},
   "outputs": [],
   "source": []
  },
  {
   "cell_type": "code",
   "execution_count": null,
   "id": "0afbb922",
   "metadata": {},
   "outputs": [],
   "source": []
  },
  {
   "cell_type": "code",
   "execution_count": null,
   "id": "4928f1a9",
   "metadata": {},
   "outputs": [],
   "source": []
  },
  {
   "cell_type": "code",
   "execution_count": null,
   "id": "f2e6864f",
   "metadata": {},
   "outputs": [],
   "source": []
  },
  {
   "cell_type": "code",
   "execution_count": null,
   "id": "11a1a835",
   "metadata": {},
   "outputs": [],
   "source": []
  },
  {
   "cell_type": "code",
   "execution_count": null,
   "id": "ba7a5a75",
   "metadata": {},
   "outputs": [],
   "source": []
  },
  {
   "cell_type": "code",
   "execution_count": null,
   "id": "c21b4dfc",
   "metadata": {},
   "outputs": [],
   "source": []
  },
  {
   "cell_type": "code",
   "execution_count": null,
   "id": "94cb7839",
   "metadata": {},
   "outputs": [],
   "source": []
  },
  {
   "cell_type": "code",
   "execution_count": null,
   "id": "885c3b3d",
   "metadata": {},
   "outputs": [],
   "source": []
  },
  {
   "cell_type": "code",
   "execution_count": null,
   "id": "73393aed",
   "metadata": {},
   "outputs": [],
   "source": []
  },
  {
   "cell_type": "code",
   "execution_count": null,
   "id": "4df064e9",
   "metadata": {},
   "outputs": [],
   "source": []
  },
  {
   "cell_type": "code",
   "execution_count": null,
   "id": "a8cc968b",
   "metadata": {},
   "outputs": [],
   "source": []
  },
  {
   "cell_type": "code",
   "execution_count": null,
   "id": "8843d540",
   "metadata": {},
   "outputs": [],
   "source": []
  },
  {
   "cell_type": "code",
   "execution_count": null,
   "id": "4fb53f45",
   "metadata": {},
   "outputs": [],
   "source": []
  },
  {
   "cell_type": "code",
   "execution_count": null,
   "id": "8f6f11c9",
   "metadata": {},
   "outputs": [],
   "source": []
  },
  {
   "cell_type": "code",
   "execution_count": null,
   "id": "f9354f19",
   "metadata": {},
   "outputs": [],
   "source": []
  },
  {
   "cell_type": "code",
   "execution_count": null,
   "id": "d7925481",
   "metadata": {},
   "outputs": [],
   "source": []
  },
  {
   "cell_type": "code",
   "execution_count": null,
   "id": "5e80c2cb",
   "metadata": {},
   "outputs": [],
   "source": []
  },
  {
   "cell_type": "code",
   "execution_count": null,
   "id": "d20e8c87",
   "metadata": {},
   "outputs": [],
   "source": []
  },
  {
   "cell_type": "code",
   "execution_count": null,
   "id": "911c5513",
   "metadata": {},
   "outputs": [],
   "source": []
  },
  {
   "cell_type": "code",
   "execution_count": null,
   "id": "93f9dec6",
   "metadata": {},
   "outputs": [],
   "source": []
  },
  {
   "cell_type": "code",
   "execution_count": null,
   "id": "28c9269b",
   "metadata": {},
   "outputs": [],
   "source": []
  }
 ],
 "metadata": {
  "kernelspec": {
   "display_name": "Python 3 (ipykernel)",
   "language": "python",
   "name": "python3"
  },
  "language_info": {
   "codemirror_mode": {
    "name": "ipython",
    "version": 3
   },
   "file_extension": ".py",
   "mimetype": "text/x-python",
   "name": "python",
   "nbconvert_exporter": "python",
   "pygments_lexer": "ipython3",
   "version": "3.10.2"
  }
 },
 "nbformat": 4,
 "nbformat_minor": 5
}
