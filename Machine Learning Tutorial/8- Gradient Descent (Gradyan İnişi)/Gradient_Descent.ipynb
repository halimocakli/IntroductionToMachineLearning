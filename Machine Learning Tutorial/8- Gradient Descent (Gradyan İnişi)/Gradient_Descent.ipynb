{
 "cells": [
  {
   "cell_type": "markdown",
   "id": "770d1648",
   "metadata": {},
   "source": [
    "## GRADIENT DESCENT (GRADYAN İNİŞİ)"
   ]
  },
  {
   "cell_type": "markdown",
   "id": "112963cf",
   "metadata": {},
   "source": [
    "`Gradient Descent` yöntemi, birbirinden farklı problemler için optimum sonucu bulabilme yeteneğine sahip bir **eniyileme/optimizasyon** algoritmasıdır. Gradient Descent yöntemindeki anafikir, parametreleri her iterasyonda tekrar revize ederek/ayarlayarak maliyet fonksiyonunu en aza indirmektir.\n",
    "\n",
    "Bununla birlite Gradient Descent yöntemi, neredeysa bütün Machine Learning algoritmaları için kullanılır ve bu algoritmaların çalışma mantığını içselleştirmek bakımından oldukça mühimdir."
   ]
  },
  {
   "cell_type": "markdown",
   "id": "2806f137",
   "metadata": {},
   "source": [
    "***"
   ]
  },
  {
   "cell_type": "markdown",
   "id": "f1baebea",
   "metadata": {},
   "source": [
    "### DATA OLUŞTURALIM"
   ]
  },
  {
   "cell_type": "markdown",
   "id": "7e4c2877",
   "metadata": {},
   "source": [
    "* Gradient Descent yöntemini incelemek üzere kendi örnek verimizi yaratalım."
   ]
  },
  {
   "cell_type": "code",
   "execution_count": 1,
   "id": "7664a5cc",
   "metadata": {},
   "outputs": [],
   "source": [
    "# Gerekli kütüphaneleri import edelim.\n",
    "\n",
    "import numpy as np\n",
    "import matplotlib.pyplot as plt"
   ]
  },
  {
   "cell_type": "code",
   "execution_count": 3,
   "id": "f2cfce6a",
   "metadata": {},
   "outputs": [],
   "source": [
    "# 100 adet random değişken üretiyoruz ve bu değişkenleri 2 ile çarpıyoruz.\n",
    "# Böylece 0 - 2 aralığında 100 adet değer üretmiş oluyoruz.\n",
    "\n",
    "X = 2 * np.random.rand(100 , 1)"
   ]
  },
  {
   "cell_type": "code",
   "execution_count": 5,
   "id": "180173b8",
   "metadata": {},
   "outputs": [
    {
     "name": "stdout",
     "output_type": "stream",
     "text": [
      "[[1.14695094]\n",
      " [1.19581011]\n",
      " [0.95122919]\n",
      " [0.95598688]\n",
      " [0.86465535]\n",
      " [0.78997266]\n",
      " [1.56701806]\n",
      " [1.92007702]\n",
      " [1.69444839]\n",
      " [0.16088467]\n",
      " [0.60133897]\n",
      " [0.84940402]\n",
      " [0.68723756]\n",
      " [1.82054275]\n",
      " [0.62720722]\n",
      " [1.01678391]\n",
      " [1.52994935]\n",
      " [0.87402412]\n",
      " [1.49215768]\n",
      " [1.57972903]\n",
      " [1.62460243]\n",
      " [0.45780134]\n",
      " [1.83154112]\n",
      " [1.45976439]\n",
      " [1.12642955]\n",
      " [1.90223825]\n",
      " [0.76243323]\n",
      " [0.94007569]\n",
      " [1.38935885]\n",
      " [0.75974195]\n",
      " [1.67262507]\n",
      " [0.59644935]\n",
      " [0.13535168]\n",
      " [0.24877379]\n",
      " [1.80045602]\n",
      " [1.72693148]\n",
      " [0.24779293]\n",
      " [0.13266979]\n",
      " [1.61133441]\n",
      " [1.61844642]\n",
      " [0.30228168]\n",
      " [0.53117967]\n",
      " [1.82840218]\n",
      " [1.52872479]\n",
      " [1.23285652]\n",
      " [0.32242815]\n",
      " [1.20934063]\n",
      " [0.93604901]\n",
      " [0.30926405]\n",
      " [1.57266379]\n",
      " [0.41751478]\n",
      " [1.54092154]\n",
      " [0.21854869]\n",
      " [1.54213342]\n",
      " [0.49926353]\n",
      " [1.29486716]\n",
      " [1.73879953]\n",
      " [0.62166047]\n",
      " [0.2491115 ]\n",
      " [1.62914767]\n",
      " [1.1953707 ]\n",
      " [0.95210873]\n",
      " [1.72668754]\n",
      " [1.94710846]\n",
      " [0.12180318]\n",
      " [1.00934869]\n",
      " [0.86312025]\n",
      " [0.51943002]\n",
      " [1.56104257]\n",
      " [0.95146882]\n",
      " [1.21321901]\n",
      " [1.45972986]\n",
      " [1.28978867]\n",
      " [1.34704924]\n",
      " [1.52582612]\n",
      " [1.15809299]\n",
      " [0.86069229]\n",
      " [0.9361459 ]\n",
      " [1.40111657]\n",
      " [1.70971632]\n",
      " [1.93323108]\n",
      " [0.65884207]\n",
      " [1.08024122]\n",
      " [1.96726462]\n",
      " [0.63773317]\n",
      " [1.24033298]\n",
      " [1.22450282]\n",
      " [0.78495465]\n",
      " [1.99011401]\n",
      " [1.87537449]\n",
      " [0.78257955]\n",
      " [0.65348419]\n",
      " [0.33193392]\n",
      " [1.99201284]\n",
      " [1.73753859]\n",
      " [0.28912275]\n",
      " [0.91886544]\n",
      " [1.25448086]\n",
      " [0.31480008]\n",
      " [1.83125805]]\n"
     ]
    }
   ],
   "source": [
    "# Ürettiğimiz değerleri görelim.\n",
    "\n",
    "print(X)"
   ]
  },
  {
   "cell_type": "code",
   "execution_count": 6,
   "id": "1301b849",
   "metadata": {},
   "outputs": [
    {
     "data": {
      "text/plain": [
       "numpy.ndarray"
      ]
     },
     "execution_count": 6,
     "metadata": {},
     "output_type": "execute_result"
    }
   ],
   "source": [
    "# Ürettiğimiz değer listesinin veri tipini öğrenelim.\n",
    "\n",
    "type(X)"
   ]
  },
  {
   "cell_type": "markdown",
   "id": "8e4c856f",
   "metadata": {},
   "source": [
    "* Normalde X ile y arasındaki ilişkiyi önceden bilemeyiz. Bunu, önceki konularda X ile y arasındaki ilişkiyi bulmak için Regresyon modelleri kullanırken öğrenmiştik. Ancak, şu an ki senaryoya göre X ile y değerleri arasındaki ilişkiyi bildiğimizi farz ederek işlemlerimizi gerçekleştireceğiz."
   ]
  },
  {
   "cell_type": "code",
   "execution_count": 7,
   "id": "6c46eec8",
   "metadata": {},
   "outputs": [],
   "source": [
    "# X ile y değerleri arasındaki ilişki.\n",
    "\n",
    "y = 4 + 3 * X + np.random.rand(100, 1)"
   ]
  },
  {
   "cell_type": "code",
   "execution_count": 8,
   "id": "c066c8d6",
   "metadata": {},
   "outputs": [
    {
     "name": "stdout",
     "output_type": "stream",
     "text": [
      "[[ 7.75565012]\n",
      " [ 8.5860163 ]\n",
      " [ 6.86261456]\n",
      " [ 7.18751853]\n",
      " [ 7.30775581]\n",
      " [ 6.66032702]\n",
      " [ 9.32622281]\n",
      " [10.0899023 ]\n",
      " [ 9.88052427]\n",
      " [ 4.67005457]\n",
      " [ 5.95356004]\n",
      " [ 7.02516296]\n",
      " [ 6.6652107 ]\n",
      " [ 9.59120181]\n",
      " [ 6.75455395]\n",
      " [ 7.36413595]\n",
      " [ 8.97657305]\n",
      " [ 6.83390253]\n",
      " [ 8.93701913]\n",
      " [ 9.6165385 ]\n",
      " [ 9.09964708]\n",
      " [ 6.1205647 ]\n",
      " [10.38240217]\n",
      " [ 9.05698432]\n",
      " [ 7.44181251]\n",
      " [10.46676603]\n",
      " [ 6.80250758]\n",
      " [ 7.31890837]\n",
      " [ 8.64224195]\n",
      " [ 6.87752732]\n",
      " [ 9.88006046]\n",
      " [ 5.85820632]\n",
      " [ 4.96246059]\n",
      " [ 5.58175134]\n",
      " [ 9.74390623]\n",
      " [10.0706421 ]\n",
      " [ 5.14759871]\n",
      " [ 4.97814284]\n",
      " [ 8.84622188]\n",
      " [ 9.83383953]\n",
      " [ 5.80420049]\n",
      " [ 6.44219559]\n",
      " [10.47456996]\n",
      " [ 9.47666318]\n",
      " [ 7.95712352]\n",
      " [ 5.78508158]\n",
      " [ 7.65228727]\n",
      " [ 6.930681  ]\n",
      " [ 5.51175919]\n",
      " [ 8.81671619]\n",
      " [ 5.69368037]\n",
      " [ 9.05153725]\n",
      " [ 5.20809754]\n",
      " [ 9.26043934]\n",
      " [ 5.79236588]\n",
      " [ 8.00180046]\n",
      " [10.09345771]\n",
      " [ 6.59985279]\n",
      " [ 5.30229195]\n",
      " [ 8.90371115]\n",
      " [ 7.75232908]\n",
      " [ 6.94520724]\n",
      " [ 9.77210517]\n",
      " [10.75260185]\n",
      " [ 4.99588066]\n",
      " [ 7.99270557]\n",
      " [ 7.23220523]\n",
      " [ 6.18355116]\n",
      " [ 9.16559897]\n",
      " [ 7.82805493]\n",
      " [ 8.26967394]\n",
      " [ 9.21951425]\n",
      " [ 8.78839984]\n",
      " [ 8.39664256]\n",
      " [ 8.92186339]\n",
      " [ 7.51250013]\n",
      " [ 7.03971978]\n",
      " [ 7.02729003]\n",
      " [ 8.63948425]\n",
      " [ 9.76950627]\n",
      " [10.53497642]\n",
      " [ 6.39458269]\n",
      " [ 7.89476543]\n",
      " [ 9.92967773]\n",
      " [ 6.43091367]\n",
      " [ 7.84698384]\n",
      " [ 8.30031992]\n",
      " [ 7.13912865]\n",
      " [10.8326982 ]\n",
      " [ 9.95109808]\n",
      " [ 6.50020155]\n",
      " [ 6.58842307]\n",
      " [ 5.43016508]\n",
      " [10.97285466]\n",
      " [ 9.40707968]\n",
      " [ 4.87050077]\n",
      " [ 7.19653146]\n",
      " [ 7.83873345]\n",
      " [ 4.96079061]\n",
      " [10.05663767]]\n"
     ]
    }
   ],
   "source": [
    "# y değerini görelim\n",
    "\n",
    "print(y)"
   ]
  },
  {
   "cell_type": "code",
   "execution_count": 9,
   "id": "19663736",
   "metadata": {},
   "outputs": [
    {
     "data": {
      "image/png": "[encoded data removed]",
      "text/plain": [
       "<Figure size 432x288 with 1 Axes>"
      ]
     },
     "metadata": {
      "needs_background": "light"
     },
     "output_type": "display_data"
    }
   ],
   "source": [
    "# X ile y arasındaki ilişkiyi görselleştirelim.\n",
    "\n",
    "plt.scatter(X, y)\n",
    "plt.xlabel(\"- X -\")\n",
    "plt.ylabel(\"- y -\")\n",
    "plt.show()"
   ]
  },
  {
   "cell_type": "markdown",
   "id": "7e4a1b9d",
   "metadata": {},
   "source": [
    "* X ile y arasındaki ilişki `lineer`'dir."
   ]
  },
  {
   "cell_type": "markdown",
   "id": "863435a2",
   "metadata": {},
   "source": [
    "**X ile y arasındaki ilişkiyi bildiğimizi farz ederek yukarıdaki işlemleri gerçekleştirdik. Şimdi de gerçek X - y ilişkisinin fonksiyonunu yazalım.**"
   ]
  },
  {
   "cell_type": "markdown",
   "id": "9da0c0f8",
   "metadata": {},
   "source": [
    "$$ y = w_0 + w_1X + \\epsilon $$"
   ]
  },
  {
   "cell_type": "markdown",
   "id": "ac52b4a5",
   "metadata": {},
   "source": [
    "Burada;\n",
    "\n",
    "* $w_0$ = $\\beta_0$\n",
    "* $w_1$ = $\\beta_1$\n",
    "* $\\epsilon$ = Error Rate\n",
    "\n",
    "Ayrıca W (wight) vektörü: $W = [w_0 \\ w_1]$"
   ]
  },
  {
   "cell_type": "code",
   "execution_count": null,
   "id": "ca123742",
   "metadata": {},
   "outputs": [],
   "source": []
  }
 ],
 "metadata": {
  "kernelspec": {
   "display_name": "Python 3 (ipykernel)",
   "language": "python",
   "name": "python3"
  },
  "language_info": {
   "codemirror_mode": {
    "name": "ipython",
    "version": 3
   },
   "file_extension": ".py",
   "mimetype": "text/x-python",
   "name": "python",
   "nbconvert_exporter": "python",
   "pygments_lexer": "ipython3",
   "version": "3.10.2"
  }
 },
 "nbformat": 4,
 "nbformat_minor": 5
}
