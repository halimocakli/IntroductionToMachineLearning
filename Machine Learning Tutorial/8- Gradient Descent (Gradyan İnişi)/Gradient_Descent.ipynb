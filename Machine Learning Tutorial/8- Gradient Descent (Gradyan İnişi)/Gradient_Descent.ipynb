{
 "cells": [
  {
   "cell_type": "markdown",
   "id": "770d1648",
   "metadata": {},
   "source": [
    "## GRADIENT DESCENT (GRADYAN İNİŞİ)"
   ]
  },
  {
   "cell_type": "markdown",
   "id": "112963cf",
   "metadata": {},
   "source": [
    "`Gradient Descent` yöntemi, birbirinden farklı problemler için optimum sonucu bulabilme yeteneğine sahip bir **eniyileme/optimizasyon** algoritmasıdır. Gradient Descent yöntemindeki anafikir, *parametreleri her iterasyonda tekrar revize ederek/ayarlayarak maliyet fonksiyonunu en aza indirmektir.*\n",
    "\n",
    "Bununla birlite Gradient Descent yöntemi, neredeysa bütün Machine Learning algoritmaları için kullanılır ve bu algoritmaların çalışma mantığını içselleştirmek bakımından oldukça mühimdir."
   ]
  },
  {
   "cell_type": "markdown",
   "id": "2806f137",
   "metadata": {},
   "source": [
    "***"
   ]
  },
  {
   "cell_type": "markdown",
   "id": "f1baebea",
   "metadata": {},
   "source": [
    "### DATA OLUŞTURALIM"
   ]
  },
  {
   "cell_type": "markdown",
   "id": "7e4c2877",
   "metadata": {},
   "source": [
    "* Gradient Descent yöntemini incelemek üzere kendi örnek verimizi yaratalım."
   ]
  },
  {
   "cell_type": "code",
   "execution_count": 1,
   "id": "7664a5cc",
   "metadata": {},
   "outputs": [],
   "source": [
    "# Gerekli kütüphaneleri import edelim.\n",
    "\n",
    "import numpy as np\n",
    "import matplotlib.pyplot as plt"
   ]
  },
  {
   "cell_type": "code",
   "execution_count": 2,
   "id": "f2cfce6a",
   "metadata": {},
   "outputs": [],
   "source": [
    "# np.random modülünü kullanarak 100 adet random değişken üretiyoruz ve bu değişkenleri 2 ile çarpıyoruz.\n",
    "# Böylece 0 - 2 aralığında 100 adet değer üretmiş oluyoruz.\n",
    "\n",
    "X = 2 * np.random.rand(100 , 1)"
   ]
  },
  {
   "cell_type": "code",
   "execution_count": 3,
   "id": "180173b8",
   "metadata": {},
   "outputs": [
    {
     "name": "stdout",
     "output_type": "stream",
     "text": [
      "[[1.44771073e+00]\n",
      " [1.29336347e+00]\n",
      " [7.92497905e-01]\n",
      " [1.96114662e+00]\n",
      " [1.43092394e-01]\n",
      " [1.83514354e+00]\n",
      " [1.82874896e+00]\n",
      " [1.14280386e+00]\n",
      " [1.17620431e+00]\n",
      " [1.26445647e+00]\n",
      " [4.41490739e-01]\n",
      " [7.89733913e-01]\n",
      " [4.01082540e-01]\n",
      " [2.28106326e-01]\n",
      " [1.08532658e+00]\n",
      " [9.56437748e-01]\n",
      " [1.55712060e+00]\n",
      " [1.81549506e+00]\n",
      " [1.45997826e+00]\n",
      " [1.96413866e+00]\n",
      " [6.73019303e-01]\n",
      " [7.52634071e-01]\n",
      " [7.22449245e-01]\n",
      " [9.91340423e-01]\n",
      " [9.80805843e-01]\n",
      " [1.74523501e+00]\n",
      " [3.36317315e-01]\n",
      " [2.70444944e-01]\n",
      " [3.13976830e-01]\n",
      " [1.94900630e-01]\n",
      " [4.08116376e-01]\n",
      " [1.47733512e-01]\n",
      " [7.99894663e-01]\n",
      " [1.35847992e+00]\n",
      " [3.36012658e-02]\n",
      " [6.03613175e-01]\n",
      " [1.23888707e-01]\n",
      " [1.94736607e+00]\n",
      " [1.63543155e+00]\n",
      " [2.03049380e-02]\n",
      " [1.73804710e+00]\n",
      " [9.48521205e-01]\n",
      " [1.68622829e+00]\n",
      " [6.66369947e-01]\n",
      " [7.94253675e-01]\n",
      " [5.35644855e-01]\n",
      " [1.75509293e+00]\n",
      " [3.52415747e-01]\n",
      " [1.20011212e+00]\n",
      " [1.05877608e+00]\n",
      " [4.80931041e-01]\n",
      " [1.14240118e+00]\n",
      " [4.29257884e-01]\n",
      " [1.37793912e+00]\n",
      " [1.11110009e+00]\n",
      " [1.41950257e+00]\n",
      " [1.53561243e+00]\n",
      " [2.91700063e-01]\n",
      " [5.49729491e-01]\n",
      " [1.58880822e+00]\n",
      " [1.52483716e-01]\n",
      " [1.12210618e-01]\n",
      " [1.18682459e+00]\n",
      " [5.03656801e-01]\n",
      " [1.81732299e-01]\n",
      " [7.17281065e-01]\n",
      " [1.80276628e+00]\n",
      " [1.56273063e+00]\n",
      " [8.70326541e-01]\n",
      " [7.64116692e-01]\n",
      " [1.74291670e+00]\n",
      " [5.67611411e-01]\n",
      " [1.36631210e+00]\n",
      " [7.53119063e-01]\n",
      " [5.12147319e-01]\n",
      " [6.14505360e-01]\n",
      " [1.63717177e+00]\n",
      " [1.65255691e+00]\n",
      " [1.34870631e+00]\n",
      " [1.46673058e-01]\n",
      " [2.64418836e-01]\n",
      " [1.41184220e+00]\n",
      " [1.80759776e+00]\n",
      " [1.57299200e+00]\n",
      " [1.77524876e+00]\n",
      " [1.50995775e-01]\n",
      " [7.73972904e-02]\n",
      " [8.93197774e-01]\n",
      " [1.14898222e+00]\n",
      " [6.73556918e-01]\n",
      " [1.30576858e+00]\n",
      " [1.56843705e+00]\n",
      " [6.59852192e-01]\n",
      " [2.69523811e-01]\n",
      " [1.59245960e+00]\n",
      " [1.19637106e-04]\n",
      " [1.32764392e-01]\n",
      " [3.02784099e-01]\n",
      " [3.99511129e-01]\n",
      " [5.82229844e-01]]\n"
     ]
    }
   ],
   "source": [
    "# Ürettiğimiz değerleri görelim.\n",
    "\n",
    "print(X)"
   ]
  },
  {
   "cell_type": "code",
   "execution_count": 4,
   "id": "1301b849",
   "metadata": {
    "scrolled": true
   },
   "outputs": [
    {
     "data": {
      "text/plain": [
       "numpy.ndarray"
      ]
     },
     "execution_count": 4,
     "metadata": {},
     "output_type": "execute_result"
    }
   ],
   "source": [
    "# Ürettiğimiz değer listesinin veri tipini öğrenelim.\n",
    "\n",
    "type(X)"
   ]
  },
  {
   "cell_type": "markdown",
   "id": "7a7583f1",
   "metadata": {},
   "source": [
    "***"
   ]
  },
  {
   "cell_type": "markdown",
   "id": "8e4c856f",
   "metadata": {},
   "source": [
    "**Normalde X ile y arasındaki ilişkiyi önceden bilemeyiz. Bunu, önceki konularda X ile y arasındaki ilişkiyi bulmak için Regresyon modelleri kullanırken öğrenmiştik. Ancak, şu anki senaryoya göre X ile y değerleri arasındaki ilişkiyi bildiğimizi farz ederek işlemlerimizi gerçekleştireceğiz.**"
   ]
  },
  {
   "cell_type": "markdown",
   "id": "ec6cdee5",
   "metadata": {},
   "source": [
    "***"
   ]
  },
  {
   "cell_type": "code",
   "execution_count": 5,
   "id": "6c46eec8",
   "metadata": {},
   "outputs": [],
   "source": [
    "# X ile y değerleri arasındaki, önceden bilgisine sahip olduğumuzu varsaydığımız, ilişki.\n",
    "\n",
    "# 4 : intercept\n",
    "# 3 : coefficient of X\n",
    "# np.random.rand(100, 1) : Error Term\n",
    "\n",
    "y = 4 + 3 * X + np.random.rand(100, 1)"
   ]
  },
  {
   "cell_type": "code",
   "execution_count": 6,
   "id": "c066c8d6",
   "metadata": {},
   "outputs": [
    {
     "name": "stdout",
     "output_type": "stream",
     "text": [
      "[[ 9.06401484]\n",
      " [ 8.06364495]\n",
      " [ 7.35672381]\n",
      " [ 9.89468455]\n",
      " [ 4.58083578]\n",
      " [10.20036758]\n",
      " [ 9.62208835]\n",
      " [ 7.44907304]\n",
      " [ 7.97361211]\n",
      " [ 7.88556325]\n",
      " [ 5.39096189]\n",
      " [ 6.61224352]\n",
      " [ 5.22730398]\n",
      " [ 4.76949368]\n",
      " [ 8.13005004]\n",
      " [ 6.92771334]\n",
      " [ 8.69645104]\n",
      " [10.0798303 ]\n",
      " [ 8.47056679]\n",
      " [10.71227115]\n",
      " [ 6.98680347]\n",
      " [ 7.18920718]\n",
      " [ 6.6636283 ]\n",
      " [ 7.63437756]\n",
      " [ 7.17369029]\n",
      " [ 9.92849963]\n",
      " [ 5.17864048]\n",
      " [ 5.38232721]\n",
      " [ 5.09677986]\n",
      " [ 4.88317539]\n",
      " [ 5.92587136]\n",
      " [ 5.1234427 ]\n",
      " [ 6.87323845]\n",
      " [ 8.76839035]\n",
      " [ 4.46332607]\n",
      " [ 6.76263761]\n",
      " [ 4.8828052 ]\n",
      " [10.20860979]\n",
      " [ 9.65026254]\n",
      " [ 4.92995067]\n",
      " [ 9.31831962]\n",
      " [ 7.42143846]\n",
      " [ 9.37185419]\n",
      " [ 6.56108411]\n",
      " [ 6.84981265]\n",
      " [ 6.00712121]\n",
      " [ 9.66560586]\n",
      " [ 6.04986817]\n",
      " [ 7.72713305]\n",
      " [ 7.95086598]\n",
      " [ 6.39155636]\n",
      " [ 8.04624706]\n",
      " [ 5.96794748]\n",
      " [ 8.72740709]\n",
      " [ 8.02444284]\n",
      " [ 8.77892348]\n",
      " [ 9.51039234]\n",
      " [ 5.82298827]\n",
      " [ 6.57640895]\n",
      " [ 9.61875006]\n",
      " [ 4.45748248]\n",
      " [ 5.26248573]\n",
      " [ 8.46265889]\n",
      " [ 6.03677801]\n",
      " [ 5.40109334]\n",
      " [ 6.39137179]\n",
      " [ 9.46556783]\n",
      " [ 8.87307663]\n",
      " [ 7.0014255 ]\n",
      " [ 6.73670041]\n",
      " [ 9.69986259]\n",
      " [ 6.55656341]\n",
      " [ 8.28196375]\n",
      " [ 7.00974128]\n",
      " [ 6.28912939]\n",
      " [ 6.30686318]\n",
      " [ 9.67806899]\n",
      " [ 9.0735259 ]\n",
      " [ 8.3262649 ]\n",
      " [ 5.22531449]\n",
      " [ 5.26726721]\n",
      " [ 8.46530285]\n",
      " [10.01945905]\n",
      " [ 9.2888351 ]\n",
      " [ 9.57043384]\n",
      " [ 4.57591037]\n",
      " [ 5.11636951]\n",
      " [ 6.68103332]\n",
      " [ 7.502442  ]\n",
      " [ 6.46311068]\n",
      " [ 7.95135022]\n",
      " [ 9.3739216 ]\n",
      " [ 6.65043003]\n",
      " [ 5.41833791]\n",
      " [ 8.87705052]\n",
      " [ 4.57703525]\n",
      " [ 4.52210551]\n",
      " [ 5.76216729]\n",
      " [ 5.75976577]\n",
      " [ 6.71261429]]\n"
     ]
    }
   ],
   "source": [
    "# y değerini görelim\n",
    "\n",
    "print(y)"
   ]
  },
  {
   "cell_type": "code",
   "execution_count": 7,
   "id": "19663736",
   "metadata": {},
   "outputs": [
    {
     "data": {
      "image/png": "[encoded data removed]",
      "text/plain": [
       "<Figure size 432x288 with 1 Axes>"
      ]
     },
     "metadata": {
      "needs_background": "light"
     },
     "output_type": "display_data"
    }
   ],
   "source": [
    "# X ile y arasındaki ilişkiyi görselleştirelim.\n",
    "\n",
    "plt.scatter(X, y)\n",
    "plt.xlabel(\"- X -\")\n",
    "plt.ylabel(\"- y -\")\n",
    "plt.show()"
   ]
  },
  {
   "cell_type": "markdown",
   "id": "7e4a1b9d",
   "metadata": {},
   "source": [
    "*Görüldüğü üzere X ile y arasındaki ilişki `lineer`'dir."
   ]
  },
  {
   "cell_type": "markdown",
   "id": "863435a2",
   "metadata": {},
   "source": [
    "**X ile y arasındaki ilişkiyi bildiğimizi farz ederek yukarıdaki işlemleri gerçekleştirdik. Bu ilişkiye dair bilgi sahibi olmamızı sağlayan etken `intercept` ve `coefficient` değerlerininin tarafmızca belirlenmesidir. Böylece X ile y arasındaki ilişkiyi bildiğimiz senaryoyu gözlemleyerek regresyon modelini anımsamış olduk. Şimdi de gerçek X - y ilişkisinin fonksiyonunu yazalım.**"
   ]
  },
  {
   "cell_type": "markdown",
   "id": "9da0c0f8",
   "metadata": {},
   "source": [
    "### $$ y = w_0 + w_1X + \\epsilon $$"
   ]
  },
  {
   "cell_type": "markdown",
   "id": "ac52b4a5",
   "metadata": {},
   "source": [
    "Burada;\n",
    "\n",
    "* $w_0$ = $\\beta_0$\n",
    "* $w_1$ = $\\beta_1$\n",
    "* $\\epsilon$ = Error Rate\n",
    "\n",
    "* Burada $w_0$ ve $w_1$ değerleri W (weight) adlı bir matris içerisinde tutulup vektör olarak formatlanabilir.\n",
    "    * W vektörü: $W = [w_0 \\ w_1]$\n",
    "\n",
    "X-y arasındaki ilişkiyi bildiğimiz senaryoyu yeniden ele alalım. Intercept ve coefficient değerlerini regresyon denkleminde yerine koyarsak aşağıdaki sonucu elde ediyorduk:<br> \n",
    "### $$y = 4 + 3 * X + np.random.rand(100,1)$$<br>\n",
    "\n",
    "Buna göre;\n",
    "#### $$w_0 = 4$$\n",
    "#### $$w_1 = 3$$\n",
    "olur.<br>\n",
    "\n",
    "<br>Vektör kullanarak gösterecek olursak;\n",
    "### $$y = WX + \\epsilon$$\n",
    "şeklinde bir sonuç elde ederiz.<br>\n",
    "\n",
    "<br>Burada $W$ ile $X$ vektörlerinin $WX$ şeklinde gösterimi, W ile X'in *vektörel çarpımı*, `Dot Product (İç Çarpım)`'ıdır. Bu vektörel çarpım aslında; \n",
    "### $$\\hat y = w_0 + w_1*x_1 + w_2*x_2 + ... + w_n*x_n + \\epsilon$$\n",
    "ifadesi ile eşdeğerdir."
   ]
  },
  {
   "cell_type": "markdown",
   "id": "fe05e510",
   "metadata": {},
   "source": [
    "* Yukarıda, vektörler ile yeniden yazdığımız denklemi analitik olarak çözümleyebiliriz."
   ]
  },
  {
   "cell_type": "markdown",
   "id": "12af35e2",
   "metadata": {},
   "source": [
    "**NOT:** Makine öğrenmesinde vektörler; genellikle tek sütunlu 2-boyutlu diziler şeklinde, sütun vektörü olarak gösterilir. Eğer $W$ ve $X$ sütun vektörleri ise, tahmin $\\hat y = W^{T}X$ olur. Bu denklemde $W^{T}$, $W$'nin transpozudur, yani sütun vektörü yerine satır vektörüdür ve $W^{T}X$, $W^{T}$ ile $X$'in matris çarpımıdır. Elbette tahmin aynı tahmindir ancak tek bir fark söz konusudur: tahmin, artık skaler bir değer yerine tek hücreli bir matristir."
   ]
  },
  {
   "cell_type": "markdown",
   "id": "fc2fef0d",
   "metadata": {},
   "source": [
    "### ANALİTİK ÇÖZÜM"
   ]
  },
  {
   "cell_type": "markdown",
   "id": "87c41897",
   "metadata": {},
   "source": [
    "$y = WX + \\epsilon$ denkleminin analitik çözümünü vektörler üzerinden gerçekleştirmeden önce Lineer Regresyon Yöntemi'ni kullanırken gerçekleştirdiğimiz analitik çözüm üzerinden gidelim. "
   ]
  },
  {
   "cell_type": "markdown",
   "id": "32ec0f2e",
   "metadata": {},
   "source": [
    "Least Squares Method (En Küçük Kareler Yöntemi), birbirine bağlı olarak değişen iki fiziksel büyüklük arasındaki ilişkiyi mümkün olduğunca gerçeğe uygun bir denklem olarak yazmak için kullanılan standart bir regresyon yöntemidir. Bir başka deyişle bu yöntem, ölçüm sonucu elde edilmiş veri noktalarına “mümkün olduğu kadar yakın” geçecek bir işlev eğrisi bulmaya yarar. Gauss-Markov Teoremi’nin en küçük kareler yöntemi, regresyon için optimal yöntemdir.\n",
    "\n",
    "Bir diğer ifadeyle; Least Squares Method, RSS değerini minimize ederek en iyi $w_0$ ve $w_1$ değerlerini tahmin eder."
   ]
  },
  {
   "cell_type": "markdown",
   "id": "4e82c18c",
   "metadata": {},
   "source": [
    "Herhangi bir $x_i$ için tahmin denklemi;\n",
    "### $$ \\hat y^{(i)} = \\hat w_0 + \\hat w_1 x^{(i)} $$\n",
    "\n",
    "Burada;\n",
    "* $x^{(i)}$: Veri setindeki $i^{inci}$ örneğin, etiketi(label) hariç tüm niteliklerinin değerlerini içeren bir vektördür.\n",
    "* $\\hat y^{(i)}$: Veri setindeki $i^{inci}$ örneğin etiketi, yani o örnek için istenen çıktı değeri.\n",
    "\n",
    "<br>Genel olarak:\n",
    "* **Değişkenler** için (x'in sütunları) alt index **($x_i$)** kullanılır.\n",
    "* **Veriler** için (satır) üst index **($x^{(i)}$)** kullanılır"
   ]
  },
  {
   "cell_type": "markdown",
   "id": "133756a1",
   "metadata": {},
   "source": [
    "Burada **X**'ler, yani girdi değerleri, bilindiğine göre, tahmin etmeye çalıştığımız değişkenler(katsayılar/coefficients), $w_0$ ve $w_1$'dir\n"
   ]
  },
  {
   "cell_type": "markdown",
   "id": "33d87eea",
   "metadata": {},
   "source": [
    "**NOT**: Katsayılar(Coefficients) için aşağıdaki gösterimler kullanılabilir:\n",
    "* $w$\n",
    "* $\\theta$\n",
    "* $\\beta$ "
   ]
  },
  {
   "cell_type": "markdown",
   "id": "b1b2b9c9",
   "metadata": {},
   "source": [
    "Bu noktadan itibaren gerçekleştirmek istediğimiz Tahmin için çalışmaya başlayalım."
   ]
  },
  {
   "cell_type": "markdown",
   "id": "be63746b",
   "metadata": {},
   "source": [
    "***"
   ]
  },
  {
   "cell_type": "markdown",
   "id": "e9f83b79",
   "metadata": {},
   "source": [
    "Tahmin işlemini yukarıda bahsettiğimiz **Least Squares Method** ile gerçekleştiririz. Bunun yanında, Least Squares Method'un bir türü olan **Ordinary Least Squares Method**'u kullanacağız. \n",
    "\n",
    "<br>Ordinary Least Squares(OLS), Linear Regression modelinde bilinmeyen parametreleri tahmin etmek için kullanılan bir tür lineer Least Squares Method'dur. OLS, açıklayıcı değişkenler kümesinin doğrusal bir fonksiyonunun parametrelerini en küçük kareler ilkesine göre seçer: verilen veri kümesinde gözlemlenen bağımlı değişken (gözlemlenen değişkenin değerleri) ile bağımsız değişkenin doğrusal fonksiyonu tarafından tahmin edilenler arasındaki farkların karelerinin toplamını en aza indirir."
   ]
  },
  {
   "cell_type": "markdown",
   "id": "93c3cee2",
   "metadata": {},
   "source": [
    "**Hatırlatma**\n",
    "Herhangi bir **i** noktasındaki hata: $$e^{(i)} = \\hat y^{(i)} - y^{(i)}$$\n",
    "**<br>Herhangi Bir Noktadaki Hata Değeri = O Noktanın Tahmin Edilen Değeri - O Noktanın Gerçek Değeri** \n",
    "\n",
    "**e: Residual Error**"
   ]
  },
  {
   "cell_type": "markdown",
   "id": "5ec9e521",
   "metadata": {},
   "source": [
    "**RSS: Residual Sum of Squares**\n",
    "$$RSS = e^2_1 + e^2_2 + e^2_3 +...+ e^2_n$$"
   ]
  },
  {
   "cell_type": "markdown",
   "id": "8f72fde8",
   "metadata": {},
   "source": [
    "**Özetle, Least Square Method, RSS değerini minimize ederek en iyi $w_0$ ve $w_1$ değerlerini tahmin eder.**"
   ]
  },
  {
   "cell_type": "markdown",
   "id": "979ae154",
   "metadata": {},
   "source": [
    "***"
   ]
  },
  {
   "cell_type": "markdown",
   "id": "179b33e6",
   "metadata": {},
   "source": [
    "### MATEMATİKSEL GÖSTERİM"
   ]
  },
  {
   "cell_type": "markdown",
   "id": "77a35a43",
   "metadata": {},
   "source": [
    "### $$ \\hat w_1 = \\frac{\\sum_{i=1}^n (x^{(i)} - \\overline x)(y^{(i)} - \\overline y)}{\\sum_{i=1}^n (x^{(i)} - \\overline x)^2} $$\n",
    "\n",
    "### $$ \\hat w_0 = \\overline y - \\hat w_1 \\overline x $$\n",
    "\n",
    "Burada:\n",
    "\n",
    "### $$ \\overline y = \\frac{1}{n} \\sum_{i=1}^n y^{(i)} $$\n",
    "\n",
    "### $$ \\overline x = \\frac{1}{n} \\sum_{i=1}^n x^{(i)} $$"
   ]
  },
  {
   "cell_type": "markdown",
   "id": "3b22e406",
   "metadata": {},
   "source": [
    "Bu noktaya kadar elde ettiğimiz bilgilerden sonra şu ifadeyi ekleyelim: çoğu zaman Analitik Yöntem kullanarak çözüme ulaşmak mümkün olmaz çünkü üzerinde çalıştığımız veriler oldukça fazladır. X, W ve y'nin aslında birer `matris` olduğunu ve X matrisinin çoğu çalışmada yüksek boyutlara sahip olduğunu göz önünde bulundurursak vardığımız bu sonuç daha anlaşılır hale gelecektir. Bununla birlikte Analitik Yöntem kullanırken, W değerlerini bulmak için çok fazla Matrix Çarpımı yapılması gerekir ki bu, bilgisayarların GPU ve CPU donanımlarını ciddi oranda yoran bir işlemdir.\n",
    "\n",
    "Peki bu problemin üstesinden nasıl geleceğiz ya da nasıl daha etkili bir yöntem bulacağız. Cevap: YAKINSAYARAK."
   ]
  },
  {
   "cell_type": "markdown",
   "id": "43d2540c",
   "metadata": {},
   "source": [
    "**Problemin Tanımı**\n",
    "\n",
    "Toplam Hatayı minimize edecek $w_0$ ve $w_1$ değerlerini yani katsayıları bulmak.\n",
    "\n",
    "Toplam Hata, $w_0$ ve $w_1$ değişkenlerine bağlı bir Convex Fonksiyonudur. Bunun sebebi, Toplam Hatanın karesel değerlerin toplamı sonucunda bulunmasıdır."
   ]
  },
  {
   "cell_type": "markdown",
   "id": "33c56c3d",
   "metadata": {},
   "source": [
    "<img src=\"images/globalminimum.png\"/>"
   ]
  },
  {
   "cell_type": "markdown",
   "id": "2fd1ea2c",
   "metadata": {},
   "source": [
    "### TERİMLER"
   ]
  },
  {
   "cell_type": "markdown",
   "id": "dc3b8e87",
   "metadata": {},
   "source": [
    "#### COST FUNCTION (MALİYET FONKSİYONU)"
   ]
  },
  {
   "cell_type": "markdown",
   "id": "8e5437f5",
   "metadata": {},
   "source": [
    "Lineer regresyonda **tahmin edilen y** değeri ile **gerçek y değeri** arasındaki hatayı minimuma indirebilmek için öyle **w değerleri** bulmalıyız ki Maliyet Fonksiyonu minimize edilebilsin. Maliyet Fonksiyonunun basit tanımı, gerçek y değerleri ile tahmin edilen y değerleri arasındaki fark şeklinde ifade edilebilir. Maliyet Fonksiyonu şu notasyonla gösterilir:\n",
    "### $$ J(w) = \\frac{1}{2n} \\sum_{i=1}^n (\\hat y^{(i)} - y^{(i)})^2 $$\n",
    "\n",
    "Cost Funtion aslında MSE(Mean Square Error)'nin özel bir formudur. Hatırlatmak için:\n",
    "### $$ MSE = \\frac{1}{n} \\sum_{i=1}^n (y_i - \\hat y_i)^2 $$"
   ]
  },
  {
   "cell_type": "markdown",
   "id": "11df841e",
   "metadata": {},
   "source": [
    "#### GRADIENT"
   ]
  },
  {
   "cell_type": "markdown",
   "id": "402181a6",
   "metadata": {},
   "source": [
    "Cost Function'ın değişkenlere(W değerleri) göre değişim miktarı(Türevi) "
   ]
  },
  {
   "cell_type": "markdown",
   "id": "bf400b26",
   "metadata": {},
   "source": [
    "### $$ J(w) = \\frac{1}{2n} \\sum_{i=1}^n (\\hat w_0 + \\hat w_1x^{(i)} - y^{(i)})^2 $$"
   ]
  },
  {
   "cell_type": "markdown",
   "id": "2d2cfcf3",
   "metadata": {},
   "source": [
    "$w_0$'a göre kısmi türev:"
   ]
  },
  {
   "cell_type": "markdown",
   "id": "0b050a78",
   "metadata": {},
   "source": [
    "### $$ \\frac{\\partial J(w)}{\\partial w_0} = \\frac{1}{n} \\sum_{i=1}^n (\\hat w_0 + \\hat w_1x^{(i)} - y^{(i)}) $$\n",
    "\n",
    "### $$ \\frac{\\partial J(w)}{\\partial w_0} = \\frac{1}{n} \\sum_{i=1}^n (\\hat y^{(i)} - y^{(i)}) $$"
   ]
  },
  {
   "cell_type": "markdown",
   "id": "41466097",
   "metadata": {},
   "source": [
    "$w_1$'e göre kısmi türev:"
   ]
  },
  {
   "cell_type": "markdown",
   "id": "c3b3b17e",
   "metadata": {},
   "source": [
    "### $$ \\frac{\\partial J(w)}{\\partial w_1} = \\frac{1}{n} \\sum_{i=1}^n (\\hat w_0 + \\hat w_1x^{(i)} - y^{(i)}) x^{(i)} $$\n",
    "\n",
    "### $$ \\frac{\\partial J(w)}{\\partial w_1} = \\frac{1}{n} \\sum_{i=1}^n (\\hat y^{(i)} - y^{(i)}) x^{(i)} $$"
   ]
  },
  {
   "cell_type": "markdown",
   "id": "d8373e16",
   "metadata": {},
   "source": [
    "Bu noktada, Cost Function(J)'ın **W** değerlerine göre nasıl değiştiğini, yani türevini, her bir $x^{(i)}$ ve $y^{(i)}$ noktasında bildiğimize göre bunu kullanabiliriz. "
   ]
  },
  {
   "cell_type": "markdown",
   "id": "2f8db1d7",
   "metadata": {},
   "source": [
    "**Bu türeve *Gradient* adı verilir. Kısacası Gradient, J'nin W değerlerine göre nasıl değiştiğini bize söyleyen değişim vektörüdür.**"
   ]
  },
  {
   "cell_type": "markdown",
   "id": "4fe6d926",
   "metadata": {},
   "source": [
    "Gradient'in W vektörü üzerinden genel gösterimi:\n",
    "### $$ \\frac{\\partial J(W)}{\\partial W_j} = \\frac{1}{n} \\sum_{i=1}^n (\\hat y^{(i)} - y^{(i)}) X_j^{(i)} $$"
   ]
  },
  {
   "cell_type": "markdown",
   "id": "452be5b4",
   "metadata": {},
   "source": [
    "<img src=\"images/cost_function.jpeg\"/>"
   ]
  },
  {
   "cell_type": "markdown",
   "id": "1aa3d883",
   "metadata": {},
   "source": [
    "### Gradient Descent Nasıl Çalışır?\n",
    "\n",
    "1. Önce bir başlangıç noktası seçilir, bu nokta herhangi bir nokta olabilir. Seçilen nokta görselde A harfi ile belirtilmiştir. [$w_0$ ve $w_1$]\n",
    "2. Bu nokta için Cost Function değeri [**J(W)**] hesaplanır.\n",
    "3. Hesaplanan bu maliyet - J(W) değeri üzerinden $w_0$ ve $w_1$ için **Gradient** hesaplanır. Yani W değiştiğinde J(W) ne kadar değişiyor bilgisine ulaşıyoruz.\n",
    "4. Bu Gradient'in **negatif** değeri alınır. Çünkü değişim miktarı, yani türev, artış olarak gözlemlenir, ancak biz Cost Function değerini azaltmak istiyoruz. Bu nedenle değişim miktarının negatifini inceliyoruz.\n",
    "5. Bu negatif değer bir learning rate **$\\alpha$** ile çarpılır. Learning Rate bizim tarafımızdan belirlenir.\n",
    "6. Bu çarpımın sonucu, ilgili $W$ değerinden çıkarlır\n",
    "7. Döngü 1. adıma geri döner ve belirlenen iteration(döngü) adedince gerekli işlemleri yapmaya devam eder."
   ]
  },
  {
   "cell_type": "markdown",
   "id": "c0c80890",
   "metadata": {},
   "source": [
    "### Gradient Descent Akışı"
   ]
  },
  {
   "cell_type": "markdown",
   "id": "476a29bf",
   "metadata": {},
   "source": [
    "Iterasyonlar kullanarak $W$ değerini güncelleyeceğiz:"
   ]
  },
  {
   "cell_type": "markdown",
   "id": "e221e6bb",
   "metadata": {},
   "source": [
    "### $$ W_j = W_j - \\alpha (\\frac{1}{n} \\sum_{i=1}^n (\\hat y^{(i)} - y^{(i)}) X_j^{(i)}) $$"
   ]
  },
  {
   "cell_type": "markdown",
   "id": "f1af7d52",
   "metadata": {},
   "source": [
    "Burada;\n",
    "* **Learning Rate : $\\alpha$**\n",
    "* Gradient : $ \\sum_{i=1}^n (\\hat y^{(i)} - y^{(i)}) X_j^{(i)}) $\n",
    "\n",
    "- Yukarıdaki işlemler sonucuna W değeri her iterasyonda yenilenir. Bunun sonucunda, Convex şekilde olan Gradient eğirisinde aşağı doğru ilerleyerek global minimuma ulaşılır."
   ]
  },
  {
   "cell_type": "markdown",
   "id": "9e5b2b23",
   "metadata": {},
   "source": [
    "***"
   ]
  },
  {
   "cell_type": "markdown",
   "id": "45448f27",
   "metadata": {},
   "source": [
    "## APPLIED GRADIENT DESCENT WITH PYTHON"
   ]
  },
  {
   "cell_type": "markdown",
   "id": "6ba42b57",
   "metadata": {},
   "source": [
    "* Maliyet (Cost) hesaplayacağımız fonksiyonumuzu yazalım."
   ]
  },
  {
   "cell_type": "code",
   "execution_count": 8,
   "id": "987a5c01",
   "metadata": {},
   "outputs": [],
   "source": [
    "# Maliyet Hesaplama Fonksiyonu\n",
    "\n",
    "def costCalc(W, X, y):\n",
    "    \"\"\"\n",
    "    X ve y için Cost (Maliyet) hesaplar.\n",
    "    \n",
    "    Parametreler:\n",
    "        W = Katsayı Vektörü     -> (p, 1)\n",
    "        X = Girdi Vektörü       -> (n, p)\n",
    "        y = Gerçek y Değerleri  -> (n, 1)\n",
    "\n",
    "    Burada:\n",
    "        n: Toplam veri adedi (satır sayısı)\n",
    "        p: X içerisindeki değişken adedi (sütun sayısı)\n",
    "        \n",
    "    Geriye Dönüş Değeri:\n",
    "        cost = Hesaplanan maliyet değeri\n",
    "    \"\"\"\n",
    "    \n",
    "    # Toplam veri adedini hesapla\n",
    "    n = len(y)\n",
    "    \n",
    "    # Önce tahmin değerini hesapla -> 𝑦̂ = X*W\n",
    "    # X -> (n, p)\n",
    "    # W -> (p, 1)\n",
    "    # 𝑦̂ -> (n, 1)\n",
    "    prediction = X.dot(W)\n",
    "    \n",
    "    # Cost Function değerini hesapla -> \"J\"\n",
    "    cost = (1 / 2 * n) * np.sum(np.square(prediction - y))\n",
    "    \n",
    "    # Hesaplanan Cost Function değerini geriye dön\n",
    "    return cost"
   ]
  },
  {
   "cell_type": "code",
   "execution_count": 9,
   "id": "d9852433",
   "metadata": {},
   "outputs": [],
   "source": [
    "# Gradient Descent Fonksiyonu\n",
    "\n",
    "def gradientDescent(X, y, W, learning_rate=0.01, iterations=100):\n",
    "    \"\"\"\n",
    "    Gradient Descent Uygulama Fonksiyonu\n",
    "    \n",
    "    Parametreler:\n",
    "        X = X Matrisi (bias unit eklenmiş hali, yani 1'lerden oluşmuş ilk sütun)\n",
    "        y = y vektörü\n",
    "        W = Katsayı vektörü (w'lardan oluşmuş)\n",
    "        learning_rate = learning rate: alpha (öğrenme katsayısı)\n",
    "        iterations = toplam döngü sayısı\n",
    "        \n",
    "    Geriye Dönüş Değeri:\n",
    "        * W vektörünün son hali\n",
    "        * Maliyet Listesi (cost history)\n",
    "        * W vektörünün listesi (weight history)\n",
    "    \"\"\"\n",
    "    \n",
    "    n = len(y)\n",
    "    costHistory = np.zeros(iterations)\n",
    "    weightHistory = np.zeros((iterations, 2))\n",
    "    \n",
    "    for itr in range(iterations):\n",
    "        \n",
    "        prediction = np.dot(X, W)\n",
    "        \n",
    "        W = W - (1 / n) * learning_rate * (X.T.dot((prediction - y)))\n",
    "        \n",
    "        weightHistory[itr, :] = W.T\n",
    "        \n",
    "        costHistory[itr] = costCalc(W, X, y)\n",
    "        \n",
    "    return W, costHistory, weightHistory"
   ]
  },
  {
   "cell_type": "markdown",
   "id": "94490f0e",
   "metadata": {},
   "source": [
    "Şimdi de **GradientDescent()** fonksiyonunu kullanarak yukarıda yarattığımız veri seti için en uygun katsayıları bulalım.\n",
    "\n",
    "Bunun için önce bir $W_0$ başlangıç değeri belirlememiz lazım. Bu başlangıç değeri random bir değer olabilir.\n",
    "\n",
    "* Gaussian(Normal) Dağılım içerisinden bir rastgele W vektörü alabiliriz. https://numpy.org/doc/stable/reference/random/generated/numpy.random.randn.html"
   ]
  },
  {
   "cell_type": "code",
   "execution_count": 10,
   "id": "d7cadb60",
   "metadata": {},
   "outputs": [
    {
     "name": "stdout",
     "output_type": "stream",
     "text": [
      "[[1.18010394]\n",
      " [0.70854974]]\n"
     ]
    }
   ],
   "source": [
    "W = np.random.randn(2, 1)\n",
    "print(W)"
   ]
  },
  {
   "cell_type": "markdown",
   "id": "81d54292",
   "metadata": {},
   "source": [
    "Şimdi bir *Learning Rate($\\alpha$)* değeri belirleyelim. Başlangıç için *0.01* değerini uygun bulduk."
   ]
  },
  {
   "cell_type": "code",
   "execution_count": 11,
   "id": "ea6414d1",
   "metadata": {},
   "outputs": [],
   "source": [
    "learningRate = 0.01"
   ]
  },
  {
   "cell_type": "markdown",
   "id": "81bb9939",
   "metadata": {},
   "source": [
    "Toplam *iteration* adedini 1000 olarak kabul edelim."
   ]
  },
  {
   "cell_type": "code",
   "execution_count": 12,
   "id": "2e32c9f4",
   "metadata": {},
   "outputs": [],
   "source": [
    "nIter = 1000"
   ]
  },
  {
   "cell_type": "markdown",
   "id": "c88fc696",
   "metadata": {},
   "source": [
    "Elimizdeki X vektörünün tek sütunluk bir vektör olduğunu hatırlatalım. Bununla birlikte $w_0$ için 1'lerden oluşan bir sütunu (*Bias Column*) sütunların başına eklemek durumundayız."
   ]
  },
  {
   "cell_type": "code",
   "execution_count": 13,
   "id": "af5d1682",
   "metadata": {
    "scrolled": true
   },
   "outputs": [
    {
     "data": {
      "text/plain": [
       "array([[1.44771073e+00],\n",
       "       [1.29336347e+00],\n",
       "       [7.92497905e-01],\n",
       "       [1.96114662e+00],\n",
       "       [1.43092394e-01],\n",
       "       [1.83514354e+00],\n",
       "       [1.82874896e+00],\n",
       "       [1.14280386e+00],\n",
       "       [1.17620431e+00],\n",
       "       [1.26445647e+00],\n",
       "       [4.41490739e-01],\n",
       "       [7.89733913e-01],\n",
       "       [4.01082540e-01],\n",
       "       [2.28106326e-01],\n",
       "       [1.08532658e+00],\n",
       "       [9.56437748e-01],\n",
       "       [1.55712060e+00],\n",
       "       [1.81549506e+00],\n",
       "       [1.45997826e+00],\n",
       "       [1.96413866e+00],\n",
       "       [6.73019303e-01],\n",
       "       [7.52634071e-01],\n",
       "       [7.22449245e-01],\n",
       "       [9.91340423e-01],\n",
       "       [9.80805843e-01],\n",
       "       [1.74523501e+00],\n",
       "       [3.36317315e-01],\n",
       "       [2.70444944e-01],\n",
       "       [3.13976830e-01],\n",
       "       [1.94900630e-01],\n",
       "       [4.08116376e-01],\n",
       "       [1.47733512e-01],\n",
       "       [7.99894663e-01],\n",
       "       [1.35847992e+00],\n",
       "       [3.36012658e-02],\n",
       "       [6.03613175e-01],\n",
       "       [1.23888707e-01],\n",
       "       [1.94736607e+00],\n",
       "       [1.63543155e+00],\n",
       "       [2.03049380e-02],\n",
       "       [1.73804710e+00],\n",
       "       [9.48521205e-01],\n",
       "       [1.68622829e+00],\n",
       "       [6.66369947e-01],\n",
       "       [7.94253675e-01],\n",
       "       [5.35644855e-01],\n",
       "       [1.75509293e+00],\n",
       "       [3.52415747e-01],\n",
       "       [1.20011212e+00],\n",
       "       [1.05877608e+00],\n",
       "       [4.80931041e-01],\n",
       "       [1.14240118e+00],\n",
       "       [4.29257884e-01],\n",
       "       [1.37793912e+00],\n",
       "       [1.11110009e+00],\n",
       "       [1.41950257e+00],\n",
       "       [1.53561243e+00],\n",
       "       [2.91700063e-01],\n",
       "       [5.49729491e-01],\n",
       "       [1.58880822e+00],\n",
       "       [1.52483716e-01],\n",
       "       [1.12210618e-01],\n",
       "       [1.18682459e+00],\n",
       "       [5.03656801e-01],\n",
       "       [1.81732299e-01],\n",
       "       [7.17281065e-01],\n",
       "       [1.80276628e+00],\n",
       "       [1.56273063e+00],\n",
       "       [8.70326541e-01],\n",
       "       [7.64116692e-01],\n",
       "       [1.74291670e+00],\n",
       "       [5.67611411e-01],\n",
       "       [1.36631210e+00],\n",
       "       [7.53119063e-01],\n",
       "       [5.12147319e-01],\n",
       "       [6.14505360e-01],\n",
       "       [1.63717177e+00],\n",
       "       [1.65255691e+00],\n",
       "       [1.34870631e+00],\n",
       "       [1.46673058e-01],\n",
       "       [2.64418836e-01],\n",
       "       [1.41184220e+00],\n",
       "       [1.80759776e+00],\n",
       "       [1.57299200e+00],\n",
       "       [1.77524876e+00],\n",
       "       [1.50995775e-01],\n",
       "       [7.73972904e-02],\n",
       "       [8.93197774e-01],\n",
       "       [1.14898222e+00],\n",
       "       [6.73556918e-01],\n",
       "       [1.30576858e+00],\n",
       "       [1.56843705e+00],\n",
       "       [6.59852192e-01],\n",
       "       [2.69523811e-01],\n",
       "       [1.59245960e+00],\n",
       "       [1.19637106e-04],\n",
       "       [1.32764392e-01],\n",
       "       [3.02784099e-01],\n",
       "       [3.99511129e-01],\n",
       "       [5.82229844e-01]])"
      ]
     },
     "execution_count": 13,
     "metadata": {},
     "output_type": "execute_result"
    }
   ],
   "source": [
    "X"
   ]
  },
  {
   "cell_type": "code",
   "execution_count": 14,
   "id": "8be652a9",
   "metadata": {
    "scrolled": true
   },
   "outputs": [
    {
     "name": "stdout",
     "output_type": "stream",
     "text": [
      "[[1.00000000e+00 1.44771073e+00]\n",
      " [1.00000000e+00 1.29336347e+00]\n",
      " [1.00000000e+00 7.92497905e-01]\n",
      " [1.00000000e+00 1.96114662e+00]\n",
      " [1.00000000e+00 1.43092394e-01]\n",
      " [1.00000000e+00 1.83514354e+00]\n",
      " [1.00000000e+00 1.82874896e+00]\n",
      " [1.00000000e+00 1.14280386e+00]\n",
      " [1.00000000e+00 1.17620431e+00]\n",
      " [1.00000000e+00 1.26445647e+00]\n",
      " [1.00000000e+00 4.41490739e-01]\n",
      " [1.00000000e+00 7.89733913e-01]\n",
      " [1.00000000e+00 4.01082540e-01]\n",
      " [1.00000000e+00 2.28106326e-01]\n",
      " [1.00000000e+00 1.08532658e+00]\n",
      " [1.00000000e+00 9.56437748e-01]\n",
      " [1.00000000e+00 1.55712060e+00]\n",
      " [1.00000000e+00 1.81549506e+00]\n",
      " [1.00000000e+00 1.45997826e+00]\n",
      " [1.00000000e+00 1.96413866e+00]\n",
      " [1.00000000e+00 6.73019303e-01]\n",
      " [1.00000000e+00 7.52634071e-01]\n",
      " [1.00000000e+00 7.22449245e-01]\n",
      " [1.00000000e+00 9.91340423e-01]\n",
      " [1.00000000e+00 9.80805843e-01]\n",
      " [1.00000000e+00 1.74523501e+00]\n",
      " [1.00000000e+00 3.36317315e-01]\n",
      " [1.00000000e+00 2.70444944e-01]\n",
      " [1.00000000e+00 3.13976830e-01]\n",
      " [1.00000000e+00 1.94900630e-01]\n",
      " [1.00000000e+00 4.08116376e-01]\n",
      " [1.00000000e+00 1.47733512e-01]\n",
      " [1.00000000e+00 7.99894663e-01]\n",
      " [1.00000000e+00 1.35847992e+00]\n",
      " [1.00000000e+00 3.36012658e-02]\n",
      " [1.00000000e+00 6.03613175e-01]\n",
      " [1.00000000e+00 1.23888707e-01]\n",
      " [1.00000000e+00 1.94736607e+00]\n",
      " [1.00000000e+00 1.63543155e+00]\n",
      " [1.00000000e+00 2.03049380e-02]\n",
      " [1.00000000e+00 1.73804710e+00]\n",
      " [1.00000000e+00 9.48521205e-01]\n",
      " [1.00000000e+00 1.68622829e+00]\n",
      " [1.00000000e+00 6.66369947e-01]\n",
      " [1.00000000e+00 7.94253675e-01]\n",
      " [1.00000000e+00 5.35644855e-01]\n",
      " [1.00000000e+00 1.75509293e+00]\n",
      " [1.00000000e+00 3.52415747e-01]\n",
      " [1.00000000e+00 1.20011212e+00]\n",
      " [1.00000000e+00 1.05877608e+00]\n",
      " [1.00000000e+00 4.80931041e-01]\n",
      " [1.00000000e+00 1.14240118e+00]\n",
      " [1.00000000e+00 4.29257884e-01]\n",
      " [1.00000000e+00 1.37793912e+00]\n",
      " [1.00000000e+00 1.11110009e+00]\n",
      " [1.00000000e+00 1.41950257e+00]\n",
      " [1.00000000e+00 1.53561243e+00]\n",
      " [1.00000000e+00 2.91700063e-01]\n",
      " [1.00000000e+00 5.49729491e-01]\n",
      " [1.00000000e+00 1.58880822e+00]\n",
      " [1.00000000e+00 1.52483716e-01]\n",
      " [1.00000000e+00 1.12210618e-01]\n",
      " [1.00000000e+00 1.18682459e+00]\n",
      " [1.00000000e+00 5.03656801e-01]\n",
      " [1.00000000e+00 1.81732299e-01]\n",
      " [1.00000000e+00 7.17281065e-01]\n",
      " [1.00000000e+00 1.80276628e+00]\n",
      " [1.00000000e+00 1.56273063e+00]\n",
      " [1.00000000e+00 8.70326541e-01]\n",
      " [1.00000000e+00 7.64116692e-01]\n",
      " [1.00000000e+00 1.74291670e+00]\n",
      " [1.00000000e+00 5.67611411e-01]\n",
      " [1.00000000e+00 1.36631210e+00]\n",
      " [1.00000000e+00 7.53119063e-01]\n",
      " [1.00000000e+00 5.12147319e-01]\n",
      " [1.00000000e+00 6.14505360e-01]\n",
      " [1.00000000e+00 1.63717177e+00]\n",
      " [1.00000000e+00 1.65255691e+00]\n",
      " [1.00000000e+00 1.34870631e+00]\n",
      " [1.00000000e+00 1.46673058e-01]\n",
      " [1.00000000e+00 2.64418836e-01]\n",
      " [1.00000000e+00 1.41184220e+00]\n",
      " [1.00000000e+00 1.80759776e+00]\n",
      " [1.00000000e+00 1.57299200e+00]\n",
      " [1.00000000e+00 1.77524876e+00]\n",
      " [1.00000000e+00 1.50995775e-01]\n",
      " [1.00000000e+00 7.73972904e-02]\n",
      " [1.00000000e+00 8.93197774e-01]\n",
      " [1.00000000e+00 1.14898222e+00]\n",
      " [1.00000000e+00 6.73556918e-01]\n",
      " [1.00000000e+00 1.30576858e+00]\n",
      " [1.00000000e+00 1.56843705e+00]\n",
      " [1.00000000e+00 6.59852192e-01]\n",
      " [1.00000000e+00 2.69523811e-01]\n",
      " [1.00000000e+00 1.59245960e+00]\n",
      " [1.00000000e+00 1.19637106e-04]\n",
      " [1.00000000e+00 1.32764392e-01]\n",
      " [1.00000000e+00 3.02784099e-01]\n",
      " [1.00000000e+00 3.99511129e-01]\n",
      " [1.00000000e+00 5.82229844e-01]]\n"
     ]
    }
   ],
   "source": [
    "n = len(X)\n",
    "\n",
    "X_b = np.c_[np.ones((n, 1)), X]\n",
    "\n",
    "print(X_b)"
   ]
  },
  {
   "cell_type": "markdown",
   "id": "9998d7ba",
   "metadata": {},
   "source": [
    "Bu noktada *gradientDescent* fonksiyonunu çağırabiliriz."
   ]
  },
  {
   "cell_type": "code",
   "execution_count": 15,
   "id": "6aac33ac",
   "metadata": {},
   "outputs": [],
   "source": [
    "finalW, costHistory, weightHistory = gradientDescent(X_b, y, W, learningRate, nIter)"
   ]
  },
  {
   "cell_type": "code",
   "execution_count": 16,
   "id": "31f8b78e",
   "metadata": {},
   "outputs": [
    {
     "name": "stdout",
     "output_type": "stream",
     "text": [
      "W-Final:  [[4.43252807]\n",
      " [3.03496437]]\n"
     ]
    }
   ],
   "source": [
    "print(\"W-Final: \", finalW)"
   ]
  },
  {
   "cell_type": "code",
   "execution_count": 17,
   "id": "b9cb8293",
   "metadata": {},
   "outputs": [
    {
     "name": "stdout",
     "output_type": "stream",
     "text": [
      "Cost History: [150532.00895113 144504.26024886 138719.9273815  133169.17617145\n",
      " 127842.56976387 122731.05257393 117825.93488262 113118.87805487\n",
      " 108601.88035492 104267.26333486 100107.65877296  96115.99613984\n",
      "  92285.490571    88609.63132527  85082.17070958  81697.11345121\n",
      "  78448.7064994   75331.42923903  72339.98409965  69469.28754396\n",
      "  66714.46142036  64070.82466492  61533.88533851  59099.33298577\n",
      "  56763.03130272  54521.01110063  52369.46355416  50304.73372234\n",
      "  48323.31433123  46421.83980789  44597.08055526  42845.93745846\n",
      "  41165.43661298  39552.7242659   38005.06196149  36519.82188293\n",
      "  35094.48238222  33726.62369073  32413.92380306  31154.1545271\n",
      "  29945.17769385  28784.94152022  27671.47711883  26602.89514888\n",
      "  25577.38260222  24593.1997194   23648.67703019  22742.21251378\n",
      "  21872.26887365  21037.37092255  20236.10307314  19467.10693005\n",
      "  18729.07897916  18020.76837026  17340.97478935  16688.54641682\n",
      "  16062.3779682   15461.408814    14884.62117557  14331.03839382\n",
      "  13799.72326789  13289.77646096  12800.33497046  12330.57066004\n",
      "  11879.68885098  11446.92697033  11031.55325384  10632.86550116\n",
      "  10250.18988147   9882.87978718   9530.31473414   9191.89930617\n",
      "   8867.06214224   8555.25496459   8255.95164615   7968.64731554\n",
      "   7692.85749838   7428.11729311   7173.98058027   6930.01926366\n",
      "   6695.82254213   6470.99621083   6255.16199071   6047.95688505\n",
      "   5849.03256203   5658.05476227   5474.70273021   5298.66866859\n",
      "   5129.65721487   4967.38493885   4811.57986058   4661.98098774\n",
      "   4518.33787173   4380.41018168   4247.96729566   4120.78790841\n",
      "   3998.65965499   3881.37874947   3768.74963843   3660.58466827\n",
      "   3556.70376607   3456.93413333   3361.10995204   3269.07210269\n",
      "   3180.66789361   3095.75080127   3014.1802211    2935.82122834\n",
      "   2860.54434856   2788.22533747   2718.7449696    2651.98883555\n",
      "   2587.84714737   2526.2145519    2466.98995157   2410.07633246\n",
      "   2355.38059932   2302.81341727   2252.28905985   2203.72526322\n",
      "   2157.04308633   2112.16677659   2069.02364112   2027.54392309\n",
      "   1987.66068313   1949.30968547   1912.42928875   1876.96034116\n",
      "   1842.8460799    1810.03203462   1778.46593484   1748.09762104\n",
      "   1718.87895943   1690.76376002   1663.70769817   1637.66823919\n",
      "   1612.60456604   1588.47750992   1565.24948369   1542.88441796\n",
      "   1521.3476998    1500.60611385   1480.62778592   1461.38212876\n",
      "   1442.83979006   1424.9726026    1407.75353636   1391.15665253\n",
      "   1375.15705951   1359.73087052   1344.85516306   1330.50793993\n",
      "   1316.66809185   1303.31536161   1290.43030961   1277.99428086\n",
      "   1265.98937326   1254.39840721   1243.2048964    1232.39301981\n",
      "   1221.94759484   1211.8540515    1202.09840767   1192.66724539\n",
      "   1183.54768799   1174.7273783    1166.19445761   1157.93754557\n",
      "   1149.94572084   1142.20850256   1134.71583256   1127.45805828\n",
      "   1120.42591637   1113.610517     1107.00332874   1100.5961641\n",
      "   1094.38116563   1088.35079259   1082.49780816   1076.81526716\n",
      "   1071.29650426   1065.93512271   1060.72498343   1055.66019468\n",
      "   1050.73510199   1045.94427863   1041.28251641   1036.74481681\n",
      "   1032.32638256   1028.02260949   1023.82907873   1019.74154921\n",
      "   1015.75595052   1011.86837599   1008.07507606   1004.37245199\n",
      "   1000.7570497     997.22555398    993.77478287    990.40168225\n",
      "    987.10332072    983.87688462    980.71967327    977.62909442\n",
      "    974.60265988    971.6379813     968.73276613    965.88481378\n",
      "    963.0920119     960.3523328     957.66383004    955.02463516\n",
      "    952.43295453    949.88706629    947.38531754    944.92612144\n",
      "    942.50795465    940.1293547     937.78891756    935.48529527\n",
      "    933.21719369    930.98337031    928.78263219    926.61383392\n",
      "    924.47587575    922.36770172    920.2882979     918.23669067\n",
      "    916.21194514    914.21316354    912.23948378    910.29007793\n",
      "    908.36415091    906.46093915    904.5797093     902.71975702\n",
      "    900.88040581    899.0610059     897.26093316    895.47958805\n",
      "    893.71639467    891.97079976    890.24227184    888.53030026\n",
      "    886.83439445    885.15408302    883.48891306    881.83844936\n",
      "    880.20227369    878.57998414    876.97119445    875.37553338\n",
      "    873.7926441     872.22218363    870.66382226    869.11724301\n",
      "    867.58214116    866.05822371    864.54520892    863.04282588\n",
      "    861.55081405    860.06892285    858.59691127    857.13454745\n",
      "    855.68160838    854.23787945    852.80315421    851.37723398\n",
      "    849.95992754    848.55105086    847.1504268     845.75788483\n",
      "    844.37326075    842.99639645    841.6271397     840.26534384\n",
      "    838.91086762    837.56357496    836.22333473    834.89002057\n",
      "    833.56351071    832.24368776    830.93043853    829.62365391\n",
      "    828.32322866    827.02906125    825.74105375    824.45911169\n",
      "    823.18314386    821.91306223    820.64878184    819.39022063\n",
      "    818.13729934    816.88994141    815.64807288    814.41162225\n",
      "    813.18052043    811.9547006     810.73409815    809.51865058\n",
      "    808.30829742    807.10298014    805.90264211    804.70722846\n",
      "    803.51668607    802.33096346    801.15001077    799.97377965\n",
      "    798.80222322    797.63529602    796.47295395    795.31515419\n",
      "    794.16185521    793.01301666    791.86859935    790.72856519\n",
      "    789.59287718    788.46149933    787.33439666    786.2115351\n",
      "    785.09288152    783.97840366    782.8680701     781.76185024\n",
      "    780.65971423    779.56163301    778.46757821    777.37752215\n",
      "    776.29143785    775.20929893    774.13107965    773.05675485\n",
      "    771.98629996    770.91969095    769.85690429    768.797917\n",
      "    767.74270658    766.69125097    765.64352861    764.59951833\n",
      "    763.55919942    762.52255156    761.4895548     760.4601896\n",
      "    759.43443676    758.41227743    757.3936931     756.3786656\n",
      "    755.36717703    754.35920984    753.35474674    752.35377073\n",
      "    751.35626507    750.36221329    749.37159917    748.38440673\n",
      "    747.40062023    746.42022416    745.44320321    744.46954229\n",
      "    743.49922651    742.5322412     741.56857185    740.60820416\n",
      "    739.65112397    738.69731733    737.74677044    736.79946967\n",
      "    735.85540153    734.9145527     733.97690998    733.04246035\n",
      "    732.11119088    731.18308881    730.2581415     729.33633643\n",
      "    728.41766119    727.50210351    726.58965123    725.68029228\n",
      "    724.77401472    723.8708067     722.97065648    722.07355243\n",
      "    721.17948298    720.28843669    719.4004022     718.51536822\n",
      "    717.63332357    716.75425715    715.87815792    715.00501495\n",
      "    714.13481737    713.26755439    712.40321528    711.54178942\n",
      "    710.68326621    709.82763516    708.97488582    708.12500782\n",
      "    707.27799086    706.43382469    705.59249912    704.75400402\n",
      "    703.91832934    703.08546505    702.25540122    701.42812794\n",
      "    700.60363538    699.78191373    698.96295327    698.14674432\n",
      "    697.33327722    696.52254241    695.71453034    694.90923152\n",
      "    694.10663651    693.30673592    692.50952039    691.71498062\n",
      "    690.92310735    690.13389135    689.34732345    688.56339453\n",
      "    687.78209548    687.00341725    686.22735084    685.45388728\n",
      "    684.68301762    683.91473299    683.14902451    682.38588339\n",
      "    681.62530083    680.8672681     680.11177649    679.35881732\n",
      "    678.60838198    677.86046184    677.11504837    676.37213301\n",
      "    675.63170729    674.89376272    674.1582909     673.42528343\n",
      "    672.69473193    671.96662809    671.24096361    670.51773021\n",
      "    669.79691968    669.0785238     668.36253441    667.64894337\n",
      "    666.93774256    666.22892391    665.52247938    664.81840094\n",
      "    664.1166806     663.41731041    662.72028244    662.02558878\n",
      "    661.33322157    660.64317296    659.95543513    659.27000031\n",
      "    658.58686073    657.90600867    657.22743641    656.5511363\n",
      "    655.87710067    655.20532192    654.53579245    653.86850469\n",
      "    653.2034511     652.54062418    651.88001643    651.22162041\n",
      "    650.56542867    649.9114338     649.25962844    648.61000522\n",
      "    647.96255682    647.31727592    646.67415526    646.03318758\n",
      "    645.39436565    644.75768227    644.12313026    643.49070247\n",
      "    642.86039177    642.23219107    641.60609327    640.98209132\n",
      "    640.3601782     639.7403469     639.12259043    638.50690184\n",
      "    637.89327419    637.28170058    636.67217411    636.06468793\n",
      "    635.45923519    634.85580908    634.2544028     633.65500958\n",
      "    633.05762268    632.46223537    631.86884096    631.27743275\n",
      "    630.6880041     630.10054838    629.51505897    628.93152928\n",
      "    628.34995275    627.77032284    627.19263303    626.6168768\n",
      "    626.0430477     625.47113925    624.90114504    624.33305864\n",
      "    623.76687367    623.20258376    622.64018255    622.07966374\n",
      "    621.521021      620.96424806    620.40933866    619.85628655\n",
      "    619.30508552    618.75572937    618.20821191    617.662527\n",
      "    617.11866849    616.57663027    616.03640625    615.49799035\n",
      "    614.96137651    614.42655871    613.89353092    613.36228717\n",
      "    612.83282146    612.30512786    611.77920042    611.25503324\n",
      "    610.73262041    610.21195608    609.69303438    609.17584947\n",
      "    608.66039556    608.14666683    607.63465752    607.12436187\n",
      "    606.61577414    606.10888861    605.6036996     605.10020141\n",
      "    604.59838838    604.09825489    603.59979529    603.103004\n",
      "    602.60787542    602.114404      601.62258418    601.13241043\n",
      "    600.64387725    600.15697914    599.67171063    599.18806626\n",
      "    598.70604061    598.22562824    597.74682377    597.26962181\n",
      "    596.79401698    596.32000396    595.84757741    595.37673202\n",
      "    594.9074625     594.43976357    593.97362997    593.50905647\n",
      "    593.04603785    592.5845689     592.12464443    591.66625928\n",
      "    591.20940828    590.75408632    590.30028826    589.84800901\n",
      "    589.39724349    588.94798662    588.50023337    588.05397869\n",
      "    587.60921757    587.16594501    586.72415603    586.28384567\n",
      "    585.84500897    585.407641      584.97173685    584.53729161\n",
      "    584.10430041    583.67275838    583.24266066    582.81400243\n",
      "    582.38677886    581.96098516    581.53661653    581.11366821\n",
      "    580.69213545    580.2720135     579.85329764    579.43598318\n",
      "    579.02006541    578.60553967    578.19240129    577.78064563\n",
      "    577.37026806    576.96126398    576.55362878    576.14735788\n",
      "    575.74244671    575.33889073    574.93668541    574.53582621\n",
      "    574.13630863    573.73812818    573.3412804     572.94576081\n",
      "    572.55156497    572.15868846    571.76712685    571.37687575\n",
      "    570.98793076    570.60028753    570.21394168    569.82888889\n",
      "    569.44512481    569.06264514    568.68144558    568.30152185\n",
      "    567.92286967    567.54548479    567.16936296    566.79449997\n",
      "    566.42089159    566.04853363    565.6774219     565.30755223\n",
      "    564.93892047    564.57152247    564.2053541     563.84041125\n",
      "    563.47668982    563.11418571    562.75289485    562.39281319\n",
      "    562.03393667    561.67626126    561.31978295    560.96449772\n",
      "    560.61040158    560.25749056    559.90576068    559.555208\n",
      "    559.20582856    558.85761846    558.51057376    558.16469058\n",
      "    557.81996503    557.47639322    557.1339713     556.79269542\n",
      "    556.45256175    556.11356646    555.77570574    555.4389758\n",
      "    555.10337284    554.76889311    554.43553283    554.10328827\n",
      "    553.77215568    553.44213135    553.11321156    552.78539263\n",
      "    552.45867086    552.13304259    551.80850415    551.4850519\n",
      "    551.1626822     550.84139142    550.52117597    550.20203223\n",
      "    549.88395662    549.56694557    549.25099552    548.9361029\n",
      "    548.62226419    548.30947585    547.99773438    547.68703626\n",
      "    547.37737801    547.06875614    546.76116719    546.45460769\n",
      "    546.14907421    545.84456331    545.54107157    545.23859557\n",
      "    544.93713192    544.63667723    544.33722812    544.03878122\n",
      "    543.74133319    543.44488067    543.14942035    542.85494888\n",
      "    542.56146298    542.26895933    541.97743465    541.68688567\n",
      "    541.39730911    541.10870173    540.82106028    540.53438152\n",
      "    540.24866225    539.96389923    539.68008928    539.3972292\n",
      "    539.11531582    538.83434596    538.55431647    538.27522421\n",
      "    537.99706602    537.7198388     537.44353941    537.16816477\n",
      "    536.89371176    536.62017732    536.34755835    536.07585181\n",
      "    535.80505463    535.53516377    535.2661762     534.9980889\n",
      "    534.73089884    534.46460304    534.19919849    533.93468222\n",
      "    533.67105125    533.40830261    533.14643336    532.88544055\n",
      "    532.62532125    532.36607253    532.10769148    531.8501752\n",
      "    531.59352079    531.33772537    531.08278607    530.8287\n",
      "    530.57546434    530.32307621    530.0715328     529.82083127\n",
      "    529.5709688     529.32194259    529.07374984    528.82638775\n",
      "    528.57985355    528.33414447    528.08925774    527.84519062\n",
      "    527.60194035    527.35950422    527.11787948    526.87706343\n",
      "    526.63705336    526.39784656    526.15944037    525.92183208\n",
      "    525.68501904    525.44899858    525.21376805    524.9793248\n",
      "    524.7456662     524.51278963    524.28069247    524.0493721\n",
      "    523.81882593    523.58905136    523.36004583    523.13180674\n",
      "    522.90433154    522.67761766    522.45166257    522.22646372\n",
      "    522.00201858    521.77832462    521.55537934    521.33318023\n",
      "    521.11172479    520.89101053    520.67103497    520.45179564\n",
      "    520.23329008    520.01551582    519.79847042    519.58215145\n",
      "    519.36655647    519.15168305    518.93752879    518.72409127\n",
      "    518.5113681     518.29935688    518.08805524    517.87746079\n",
      "    517.66757118    517.45838404    517.24989702    517.04210778\n",
      "    516.83501398    516.62861329    516.4229034     516.217882\n",
      "    516.01354677    515.80989543    515.60692568    515.40463524\n",
      "    515.20302184    515.00208321    514.8018171     514.60222125\n",
      "    514.40329343    514.20503138    514.0074329     513.81049575\n",
      "    513.61421772    513.41859661    513.22363021    513.02931634\n",
      "    512.83565282    512.64263746    512.45026809    512.25854256\n",
      "    512.06745871    511.87701439    511.68720747    511.4980358\n",
      "    511.30949726    511.12158974    510.93431112    510.74765929\n",
      "    510.56163216    510.37622764    510.19144365    510.0072781\n",
      "    509.82372893    509.64079407    509.45847148    509.27675909\n",
      "    509.09565486    508.91515677    508.73526279    508.55597088\n",
      "    508.37727904    508.19918525    508.02168753    507.84478386\n",
      "    507.66847227    507.49275076    507.31761738    507.14307014\n",
      "    506.96910709    506.79572627    506.62292573    506.45070353\n",
      "    506.27905773    506.10798641    505.93748765    505.76755952\n",
      "    505.59820012    505.42940754    505.26117988    505.09351526\n",
      "    504.92641179    504.7598676     504.59388081    504.42844955\n",
      "    504.26357196    504.0992462     503.93547042    503.77224277\n",
      "    503.60956143    503.44742455    503.28583033    503.12477694\n",
      "    502.96426257    502.80428543    502.6448437     502.48593561\n",
      "    502.32755936    502.16971318    502.01239528    501.85560391\n",
      "    501.69933729    501.54359368    501.38837132    501.23366847\n",
      "    501.07948339    500.92581435    500.77265962    500.62001747\n",
      "    500.4678862     500.31626409    500.16514944    500.01454055\n",
      "    499.86443572    499.71483328    499.56573154    499.41712882\n",
      "    499.26902345    499.12141377    498.97429813    498.82767485\n",
      "    498.68154231    498.53589885    498.39074285    498.24607266\n",
      "    498.10188666    497.95818323    497.81496076    497.67221763\n",
      "    497.52995225    497.38816301    497.24684832    497.10600659\n",
      "    496.96563624    496.82573569    496.68630336    496.5473377\n",
      "    496.40883714    496.27080012    496.1332251     495.99611051\n",
      "    495.85945483    495.72325652    495.58751405    495.45222589\n",
      "    495.31739052    495.18300643    495.0490721     494.91558603\n",
      "    494.78254672    494.64995268    494.51780241    494.38609443\n",
      "    494.25482726    494.12399942    493.99360945    493.86365587\n",
      "    493.73413723    493.60505207    493.47639894    493.3481764\n",
      "    493.220383      493.09301731    492.96607789    492.83956333\n",
      "    492.71347219    492.58780306    492.46255453    492.33772518\n",
      "    492.21331363    492.08931846    491.96573829    491.84257173\n",
      "    491.71981738    491.59747388    491.47553985    491.35401391\n",
      "    491.23289471    491.11218087    490.99187105    490.87196389\n",
      "    490.75245804    490.63335216    490.51464491    490.39633496\n",
      "    490.27842098    490.16090164    490.04377562    489.9270416\n",
      "    489.81069828    489.69474435    489.57917849    489.46399942\n",
      "    489.34920584    489.23479646    489.12076999    489.00712515]\n"
     ]
    }
   ],
   "source": [
    "print(\"Cost History:\", costHistory)"
   ]
  },
  {
   "cell_type": "code",
   "execution_count": 18,
   "id": "a68c805b",
   "metadata": {},
   "outputs": [
    {
     "name": "stdout",
     "output_type": "stream",
     "text": [
      "Initial Cost: 150532.00895112593\n",
      "Final Cost: 489.0071251479155\n"
     ]
    }
   ],
   "source": [
    "print(\"Initial Cost:\", costHistory[0])\n",
    "print(\"Final Cost:\", costHistory[-1])"
   ]
  },
  {
   "cell_type": "code",
   "execution_count": 19,
   "id": "b2ba8f7e",
   "metadata": {},
   "outputs": [
    {
     "name": "stdout",
     "output_type": "stream",
     "text": [
      "W_0: [1.18010394]\n",
      "Final W_0: [4.43252807]\n"
     ]
    }
   ],
   "source": [
    "W_0 = W[0]\n",
    "print(\"W_0:\", W_0)\n",
    "\n",
    "finalW_0 = finalW[0]\n",
    "print(\"Final W_0:\", finalW_0)"
   ]
  },
  {
   "cell_type": "code",
   "execution_count": 20,
   "id": "85b449ce",
   "metadata": {},
   "outputs": [
    {
     "name": "stdout",
     "output_type": "stream",
     "text": [
      "W_1: [0.70854974]\n",
      "Final W_1: [3.03496437]\n"
     ]
    }
   ],
   "source": [
    "W_1 = W[1]\n",
    "print(\"W_1:\", W_1)\n",
    "\n",
    "finalW_1 = finalW[1]\n",
    "print(\"Final W_1:\", finalW_1)"
   ]
  },
  {
   "cell_type": "markdown",
   "id": "773994a2",
   "metadata": {},
   "source": [
    "Gerçek katsayıları hatırlayalım;\n",
    "* $w_0$ = 4\n",
    "* $w_1$ = 3"
   ]
  },
  {
   "cell_type": "markdown",
   "id": "c399050f",
   "metadata": {},
   "source": [
    "*Gradient Descent* ile bulduğumuz katsayılar;"
   ]
  },
  {
   "cell_type": "code",
   "execution_count": 21,
   "id": "656fe7e7",
   "metadata": {},
   "outputs": [
    {
     "name": "stdout",
     "output_type": "stream",
     "text": [
      "𝑤̂_0: [4.43252807]\n",
      "𝑤̂_1: [3.03496437]\n"
     ]
    }
   ],
   "source": [
    "print(\"𝑤̂_0:\", finalW_0)\n",
    "print(\"𝑤̂_1:\", finalW_1)"
   ]
  },
  {
   "cell_type": "markdown",
   "id": "2535eb89",
   "metadata": {},
   "source": [
    "* Görüldüğü üzere gerçek değerler ve Gradient Descent ile elde edilen değerler birbirlerine oldukça yakın."
   ]
  },
  {
   "cell_type": "markdown",
   "id": "e4e8f958",
   "metadata": {},
   "source": [
    "***"
   ]
  },
  {
   "cell_type": "markdown",
   "id": "1fa547c9",
   "metadata": {},
   "source": [
    "### LEARNING RATE"
   ]
  },
  {
   "cell_type": "markdown",
   "id": "64118be3",
   "metadata": {},
   "source": [
    "* Şimdi de maliyet değerinin her iterasyonda nasıl değiştiğini inceleyelim."
   ]
  },
  {
   "cell_type": "code",
   "execution_count": 22,
   "id": "1f9d732f",
   "metadata": {},
   "outputs": [],
   "source": [
    "# Maliyet değişimi görselleştiren fonksiyon\n",
    "\n",
    "def costVsIterations(costHistory, nIter):\n",
    "    \n",
    "    fig, ax = plt.subplots(figsize=(12,8))\n",
    "    \n",
    "    plt.plot(range(nIter), costHistory)\n",
    "    \n",
    "    plt.xlabel(\"Iterations\")\n",
    "    plt.ylabel(\"Cost - J(W)\")\n",
    "    plt.title(\"MALİYET - ITERASYON\")\n",
    "    plt.grid()\n",
    "    plt.show()"
   ]
  },
  {
   "cell_type": "code",
   "execution_count": 23,
   "id": "7c4a1fe9",
   "metadata": {},
   "outputs": [
    {
     "data": {
      "image/png": "[encoded data removed]",
      "text/plain": [
       "<Figure size 864x576 with 1 Axes>"
      ]
     },
     "metadata": {
      "needs_background": "light"
     },
     "output_type": "display_data"
    }
   ],
   "source": [
    "costVsIterations(costHistory, nIter)"
   ]
  },
  {
   "cell_type": "markdown",
   "id": "f9fda3b8",
   "metadata": {},
   "source": [
    "Grafiğe göre, *iterasyon sayısı arttıkça*;\n",
    "* Öncelikle, *Cost* değeri çok hızlı bir şekilde azalıyor.\n",
    "* Belli bir iterasyon sayısından sonra (yaklaşık 180. iterasyon) *Cost* değerinin azalama ivmesi oldukça düşüyor."
   ]
  },
  {
   "cell_type": "markdown",
   "id": "da814a82",
   "metadata": {},
   "source": [
    "**DİKKAT: Yukarıda elde ettiğimiz sonucu Learning Rate($\\alpha$) = 0.01 için elde ettik.** "
   ]
  },
  {
   "cell_type": "code",
   "execution_count": 24,
   "id": "a287385e",
   "metadata": {},
   "outputs": [],
   "source": [
    "def callGradient(learningRate, nIter):\n",
    "    \n",
    "    # Belirtilen learningRate ve nIter için maliyet değerlerini al\n",
    "    finalW, costHistory, weightHistory = gradientDescent(X_b, y, W, learningRate, nIter)\n",
    "    \n",
    "    # Bu maliyet değerlerine göre grafik çizimi yap\n",
    "    costVsIterations(costHistory, nIter)"
   ]
  },
  {
   "cell_type": "markdown",
   "id": "c3b06df2",
   "metadata": {},
   "source": [
    "**DENEY - 1**: *Learning Rate($\\alpha$)* = 0.01 olacak şekilde aynı kalsın ancak *İterasyon* sayısını 1000'den 2000'e çıkaralım."
   ]
  },
  {
   "cell_type": "code",
   "execution_count": 25,
   "id": "e6ddcb7c",
   "metadata": {},
   "outputs": [
    {
     "data": {
      "image/png": "[encoded data removed]",
      "text/plain": [
       "<Figure size 864x576 with 1 Axes>"
      ]
     },
     "metadata": {
      "needs_background": "light"
     },
     "output_type": "display_data"
    }
   ],
   "source": [
    "# learningRate = 0.01\n",
    "# nIter = 2000\n",
    "\n",
    "learningRate = 0.01\n",
    "nIter = 2000\n",
    "callGradient(learningRate, nIter)"
   ]
  },
  {
   "cell_type": "markdown",
   "id": "73b00dda",
   "metadata": {},
   "source": [
    "**Sonuç**: Görüldüğü üzere bir önceki çalışmaya göre hiçbir değişiklik gerçekleşmedi çünkü zaten 180. iterasyon civarında en iyi değer bulunmuş oluyordu."
   ]
  },
  {
   "cell_type": "markdown",
   "id": "9849f258",
   "metadata": {},
   "source": [
    "**DENEY - 2**: *Learning Rate($\\alpha$)* = 0.01 olacak şekilde aynı kalsın ancak *İterasyon* sayısını 1000'den 500'e düşürelim."
   ]
  },
  {
   "cell_type": "code",
   "execution_count": 26,
   "id": "b77f825b",
   "metadata": {},
   "outputs": [
    {
     "data": {
      "image/png": "[encoded data removed]",
      "text/plain": [
       "<Figure size 864x576 with 1 Axes>"
      ]
     },
     "metadata": {
      "needs_background": "light"
     },
     "output_type": "display_data"
    }
   ],
   "source": [
    "# learningRate = 0.01\n",
    "# nIter = 500\n",
    "\n",
    "learningRate = 0.01\n",
    "nIter = 500\n",
    "callGradient(learningRate, nIter)"
   ]
  },
  {
   "cell_type": "markdown",
   "id": "2cd3d876",
   "metadata": {},
   "source": [
    "**Sonuç**: Görüldüğü üzere bir önceki çalışmaya göre hiçbir değişiklik gerçekleşmedi çünkü zaten 180. iterasyon civarında en iyi değer bulunmuş oluyordu."
   ]
  },
  {
   "cell_type": "markdown",
   "id": "566c5023",
   "metadata": {},
   "source": [
    "**DENEY - 3**: *Learning Rate($\\alpha$)* = 0.05 olacak şekilde arttırılsın ancak *İterasyon* sayısı 1000 olacak şekilde aynı kalsın."
   ]
  },
  {
   "cell_type": "code",
   "execution_count": 27,
   "id": "3521ad34",
   "metadata": {},
   "outputs": [
    {
     "data": {
      "image/png": "[encoded data removed]",
      "text/plain": [
       "<Figure size 864x576 with 1 Axes>"
      ]
     },
     "metadata": {
      "needs_background": "light"
     },
     "output_type": "display_data"
    }
   ],
   "source": [
    "# learningRate = 0.05\n",
    "# nIter = 1000\n",
    "\n",
    "learningRate = 0.05\n",
    "nIter = 1000\n",
    "callGradient(learningRate, nIter)"
   ]
  },
  {
   "cell_type": "markdown",
   "id": "17ccf30b",
   "metadata": {},
   "source": [
    "**Sonuç**: Görüldüğü üzere bu senaryoda optimum değere çok hızlı bir şekilde ulaşıldı ki bu takribi 40. *iterasyona* denk düşüyor.\n",
    "\n",
    "O halde, *Learning Rate* değerini adım büyüklüğü olarak düşünebilir ve adımlar ne kadar büyük olursa optimum sonuca o kadar çabuk ulaşırız diyebiliriz.\n",
    "\n",
    "**ACABA DİYEBİLİR MİYİZ?**\n",
    "\n",
    "**Deney - 4**: *İterasyon* sayısı 1000 olacak şekilde aynı kalsın ancak *Learning Rate($\\alpha$)* değerini **0.1** olacak şekilde ayarlayalım. "
   ]
  },
  {
   "cell_type": "code",
   "execution_count": 28,
   "id": "1b6a8592",
   "metadata": {},
   "outputs": [
    {
     "data": {
      "image/png": "[encoded data removed]",
      "text/plain": [
       "<Figure size 864x576 with 1 Axes>"
      ]
     },
     "metadata": {
      "needs_background": "light"
     },
     "output_type": "display_data"
    }
   ],
   "source": [
    "# learningRate = 0.1\n",
    "# nIter = 1000\n",
    "\n",
    "learningRate = 0.1\n",
    "nIter = 1000\n",
    "callGradient(learningRate, nIter)"
   ]
  },
  {
   "cell_type": "markdown",
   "id": "292e7762",
   "metadata": {},
   "source": [
    "**Sonuç**: Görüldüğü üzere, *Learning Rate($\\alpha$)* değerini biraz daha arttırınca optimum sonuca daha hızlı ulaştık ki bu da takribi 20. iterasyona denk düşüyor.\n",
    "\n",
    "**Peki *Learning Rate($\\alpha$)* değerini biraz daha arttırırsak yine hızlı bir şekilde optimum sonuca ulaşabilir miyiz? Deneyelim :)**\n",
    "\n",
    "**Deney - 5**: *İterasyon* sayısı 1000 olacak şekilde aynı kalsın ancak *Learning Rate($\\alpha$)* değerini **1.0** olacak şekilde ayarlayalım. "
   ]
  },
  {
   "cell_type": "code",
   "execution_count": 29,
   "id": "f16fcd01",
   "metadata": {},
   "outputs": [
    {
     "data": {
      "image/png": "[encoded data removed]",
      "text/plain": [
       "<Figure size 864x576 with 1 Axes>"
      ]
     },
     "metadata": {
      "needs_background": "light"
     },
     "output_type": "display_data"
    }
   ],
   "source": [
    "# learningRate = 1\n",
    "# nIter = 1000\n",
    "\n",
    "learningRate = 1\n",
    "nIter = 1000\n",
    "callGradient(learningRate, nIter)"
   ]
  },
  {
   "cell_type": "markdown",
   "id": "d77d1edb",
   "metadata": {},
   "source": [
    "**Sonuç**: Görüldüğü üzere bu noktada bırakın en iyi değeri bulayı, maliyet değeri belli bir noktadan itibaren çok hızlı bir şekilde arttı.\n",
    "\n",
    "**Peki neden böyle bir sonuç aldık?** Çünkü *Overshoot* yaptık yani çok büyük boyutlu bir *Learning Rate($\\alpha$)* belirleyerek ulaşmayı planladığımız en iyi noktayı atladık, çünkü adım büyüklüğümüz çok fazlaydı."
   ]
  },
  {
   "cell_type": "markdown",
   "id": "a2a32a53",
   "metadata": {},
   "source": [
    "<img src='images/overshoot.jpg' />"
   ]
  },
  {
   "cell_type": "markdown",
   "id": "4b3d0b40",
   "metadata": {},
   "source": [
    "**Soru**: Öyleyse, çok küçük *Learning Rate($\\alpha$)* değerlerinde nasıl bir sonuçla karşılaşacağız? Şimdi de bu durumu inceleyelim.\n",
    "\n",
    "**Deney - 6**: *İterasyon* sayısını 1000 olacak şekilde aynı değerde tutalım ancak *Learning Rate($\\alpha$)* değerini **0.001** olacak şekilde küçültelim."
   ]
  },
  {
   "cell_type": "code",
   "execution_count": 30,
   "id": "f228d679",
   "metadata": {},
   "outputs": [
    {
     "data": {
      "image/png": "[encoded data removed]",
      "text/plain": [
       "<Figure size 864x576 with 1 Axes>"
      ]
     },
     "metadata": {
      "needs_background": "light"
     },
     "output_type": "display_data"
    }
   ],
   "source": [
    "# learningRate = 0.001\n",
    "# nIter = 1000\n",
    "\n",
    "learningRate = 0.001\n",
    "nIter = 1000\n",
    "callGradient(learningRate, nIter)"
   ]
  },
  {
   "cell_type": "markdown",
   "id": "52c94f4d",
   "metadata": {},
   "source": [
    "**Sonuç**: Fena değil, 1000. iterasyona yakın bir noktada minimum değere yaklaştık.\n",
    "\n",
    "* Learning Rate($\\alpha$) değerini biraz daha küçültelim ve sonuçları inceleyelim.\n",
    "\n",
    "**Deney - 7**: *İterasyon* sayısını 1000 olacak şekilde aynı değerde tutalım ancak *Learning Rate($\\alpha$)* değerini **0.0001** olacak şekilde küçültelim."
   ]
  },
  {
   "cell_type": "code",
   "execution_count": 31,
   "id": "b1af9e27",
   "metadata": {},
   "outputs": [
    {
     "data": {
      "image/png": "[encoded data removed]",
      "text/plain": [
       "<Figure size 864x576 with 1 Axes>"
      ]
     },
     "metadata": {
      "needs_background": "light"
     },
     "output_type": "display_data"
    }
   ],
   "source": [
    "# learningRate = 0.0001\n",
    "# nIter = 1000\n",
    "\n",
    "learningRate = 0.0001\n",
    "nIter = 1000\n",
    "callGradient(learningRate, nIter)"
   ]
  },
  {
   "cell_type": "markdown",
   "id": "bab26a4f",
   "metadata": {},
   "source": [
    "**Sonuç**: Oldukça kötü, çünkü *Final Cost* değerine yaklaşılamadı bile. Bu noktada, yani *Learning Rate* değerinin oldukça düşük olduğu durumda *İterasyon* sayısını arttırmamız gerekiyor.\n",
    "\n",
    "**Deney - 8**: *İterasyon* sayısını 10.000 olacak şekilde arttıralım ve *Learning Rate* değerini **0.0001** olacak şekilde aynı tutalım."
   ]
  },
  {
   "cell_type": "code",
   "execution_count": 32,
   "id": "badede6c",
   "metadata": {},
   "outputs": [
    {
     "data": {
      "image/png": "[encoded data removed]",
      "text/plain": [
       "<Figure size 864x576 with 1 Axes>"
      ]
     },
     "metadata": {
      "needs_background": "light"
     },
     "output_type": "display_data"
    }
   ],
   "source": [
    "# learningRate = 0.0001\n",
    "# nIter = 10000\n",
    "\n",
    "learningRate = 0.0001\n",
    "nIter = 10000\n",
    "callGradient(learningRate, nIter)"
   ]
  },
  {
   "cell_type": "markdown",
   "id": "5f3fd129",
   "metadata": {},
   "source": [
    "**Sonuç**: *Learning Rate* değerinin düşük olduğu noktada *İterasyon* değerini arttırmak, minimum maliyet değerine ulaşmak bakımından işe yarar bir yöntem. Görüldüğü üzere eğiri **Final Cost** değerine yaklaştı."
   ]
  },
  {
   "cell_type": "markdown",
   "id": "a53793a8",
   "metadata": {},
   "source": [
    "***"
   ]
  },
  {
   "cell_type": "markdown",
   "id": "68ebfebe",
   "metadata": {},
   "source": [
    "### ÇIKARIM\n",
    "* *Learning Rate($\\alpha$)* değeri çok büyük olursa *Overshoot* gerçekleşir ve asla minimum maliyet değerine ulaşamayız.\n",
    "* *Learning Rate($\\alpha$)* değeri çok küçük olursa, o zaman da adımlarımız çok küçük olacağı için Optimum Cost değerine yaklaşmamız çok uzun sürer, yani çok fazla iterasyon gerçekleştirmemiz gerekir.\n",
    "\n",
    "\n",
    "- Peki Optimum Learning Rate değerini nasıl kararlaştıracağız? Bunu tam manasıyla bilmek pek de mümkün değil ancak çözüm sağlayan bazı algoritmalar mevcuttur. **Adam Optimizer** algoritması bunlardan biridir ve *Learning Rate* değerini başlangıçta biraz büyük olarak belirleyip giderek küçültmek yöntemini kullanır.\n",
    "\n",
    "\n",
    "* İncelemek için: https://developers.google.com/machine-learning/crash-course/reducing-loss/gradient-descent"
   ]
  },
  {
   "cell_type": "markdown",
   "id": "76858bca",
   "metadata": {},
   "source": [
    "***"
   ]
  },
  {
   "cell_type": "markdown",
   "id": "ca35759b",
   "metadata": {},
   "source": [
    "## STOCHASTIC GRADIENT DESCENT (SGD)"
   ]
  },
  {
   "cell_type": "markdown",
   "id": "ee3d7c53",
   "metadata": {},
   "source": [
    "Gradient Descent yönteminin ana sorunu her adımda tüm eğitim veri setini kullanmasıdır. Bu durum da eğitim veri setinin büyük olduğu senaryolarda algoritmanın yavaşlamasına sebep olur. Diğer taraftan *Stochastic Gradient Descent* yöntemi her adımda eğitim veri setinden rastgele bir *örnek* seçer ve *Gradient* değerini sadece o örnek için hesaplar. Doğal olarak her seferinde bir örnek üzerinde çalışmak her *iterasyonda* çok az veri işlemi gerektireceğinden algoritma çok daha hızlı çalışır. Bu yöntem, her iterasyonda bellekte sadece bir örnek bulunması gerektiğinden, aynı zamanda çok büyük veri setleriyle çalışmayı mümkün hale getirir.\n",
    "\n",
    "Diğer yandan *Stochastic* yani *Rastgelelik* yapısı nedeniyle bu algoritma, *Gradient Descent* algoritmasından daha az düzenlidir, yani tabiri caiz ise minimum maliyet değerine ulaşana kadar eğri üzerinden uysalca inmek yerine bir sağa bir sola zıplar durur ve ortalama bir iniş gerçekleştirir. Zamana bağlı olarak minimum maliyet değerine çok yaklaşacaktır ama o noktaya vardığında bile etrafta gezinmeye devam edecektir ve asla sakinleşmeyecektir.\n",
    "\n",
    "Sonuç olarak algoritma işlemlerini tamamladığında son parametre değerleri iyi olacaktır ama optimum olmayacaktır."
   ]
  },
  {
   "cell_type": "code",
   "execution_count": 33,
   "id": "94cb7839",
   "metadata": {},
   "outputs": [],
   "source": [
    "# Stochastic Gradient Descent Fonksiyonu\n",
    "\n",
    "def stochasticGradientDescent(X, y, W, learningRate=0.01, iterations=100):\n",
    "    \"\"\"\n",
    "    Stochastic Gradient Descent uygulama fonksiyonu.\n",
    "    \n",
    "    Parametreler:\n",
    "        X = X Matrisi (bias unit eklenmiş hali, yani 1'lerden oluşmuş ilk sütun)\n",
    "        y = y vektörü\n",
    "        W = Katsayı vektörü (w'lardan oluşmuş)\n",
    "        learning_rate = learning rate: alpha (öğrenme katsayısı)\n",
    "        iterations = toplam döngü sayısı\n",
    "    \n",
    "    Dönüş:\n",
    "        * W vektörünün son hali\n",
    "        * Maliyet Listesi (cost history)\n",
    "        * W vektörünün listesi (weight history)\n",
    "    \"\"\"\n",
    "    \n",
    "    n = len(y)\n",
    "    costHistory = np.zeros(iterations)\n",
    "    \n",
    "    for itr in range(iterations):\n",
    "        cost = 0\n",
    "        \n",
    "        # Her seferinde rastgele bir X_i değeri seçip maliyet değeri hesaplayacağız.\n",
    "        for i in range(n):\n",
    "            # Rastgele bir değer al\n",
    "            rantInt = np.random.randint(0, n)\n",
    "            \n",
    "            X_i = X[rantInt, :].reshape(1, X.shape[1])\n",
    "            y_i = y[rantInt].reshape(1, 1)\n",
    "            \n",
    "            # Tek X_i için tahmin\n",
    "            prediction = np.dot(X_i, W)\n",
    "            \n",
    "            # Tek X_i için katsayı değişimi\n",
    "            W = W - (1 / n) * learningRate * (X_i.T.dot((prediction - y_i)))\n",
    "            \n",
    "            # Tek X_i için hesaplanan cost'u cost değişkenine ekle\n",
    "            cost = costCalc(W, X_i, y_i)\n",
    "            \n",
    "        # Bu iterasyon için cost değerini costHistory'e ekle\n",
    "        costHistory[itr] = cost\n",
    "        \n",
    "    return W, costHistory"
   ]
  },
  {
   "cell_type": "markdown",
   "id": "7417cbfb",
   "metadata": {},
   "source": [
    "* Yukarıdaki fonksiyon her iterasyonda, X'ler üzerinde rastgele yöntemle dönüp maliyet değerlerini topladı. Bu şekilde bir nebze de olsa iyileşme sağladık ancak hala bir sorunumuz var: X'ler üzerinde teker teker döndük, yani her seferinde maliyet değerini hesaplarken bir X satırı aldık(X_i). Gerçek hayatta bu yöntem pek tercih edilmez çünkü büyük boyutlu verilerde çok zaman kaybına sebep olur.\n",
    "* Bu sorunun çözümü ise X'leri teker teker değil, parti parti almak(Batch). Bu yönteme de *Mini-Batch Stochastic Gradient Descent* denir."
   ]
  },
  {
   "cell_type": "markdown",
   "id": "8c59849e",
   "metadata": {},
   "source": [
    "## MINI-BATC GRADIENT DESCENT"
   ]
  },
  {
   "cell_type": "code",
   "execution_count": 34,
   "id": "0fc0e365",
   "metadata": {},
   "outputs": [],
   "source": [
    "# Mini-Batch Stochastic Gradient Descent Fonksiyonu\n",
    "def minibatchStochasticGradientDescent(X, y, W, learningRate=0.01, iterations=100, batchSize=20):\n",
    "    \"\"\"\n",
    "    Stochastic Gradient Descent uygulama fonksiyonu.\n",
    "    \n",
    "    Parametreler:\n",
    "        X = X Matrisi (bias unit eklenmiş hali, yani 1'lerden oluşmuş ilk sütun)\n",
    "        y = y vektörü\n",
    "        W = Katsayı vektörü (w'lardan oluşmuş)\n",
    "        learning_rate = learning rate: alpha (öğrenme katsayısı)\n",
    "        iterations = toplam döngü sayısı\n",
    "    \n",
    "    Dönüş:\n",
    "        * W vektörünün son hali\n",
    "        * Maliyet Listesi (cost history)\n",
    "        * W vektörünün listesi (weight history)\n",
    "    \"\"\"\n",
    "    \n",
    "    n = len(y)\n",
    "    costHistory = np.zeros(iterations)\n",
    "    \n",
    "    # Toplam kaç adet batch olacak?\n",
    "    nBatches = int(n / batchSize)\n",
    "    \n",
    "    for itr in range(iterations):\n",
    "        cost = 0\n",
    "        \n",
    "        # X ve y'leri karıştır, veri sıraları rastgele olsun\n",
    "        indices = np.random.permutation(n)\n",
    "        X = X[indices]\n",
    "        y = y[indices]\n",
    "        \n",
    "        # Her seferinde rastgele bir X_i partisi alıp maliyet değeri hesaplayacağız.\n",
    "        for i in range(0, n, batchSize):\n",
    "            # Rastgele X_i ve y_i partileri\n",
    "            X_i = X[i:i+batchSize]\n",
    "            y_i = y[i:i+batchSize]\n",
    "        \n",
    "            # Bias column ekle (1'ler sütunu)\n",
    "            x_i = np.c_[np.ones(len(X_i)), X_i]\n",
    "        \n",
    "            # X_i partisi için tahmin\n",
    "            prediction = np.dot(X_i, W)\n",
    "\n",
    "            # X_i partisi için katsayı değişimi\n",
    "            W = W - (1/n) * learningRate * (X_i.T.dot((prediction - y_i)))\n",
    "\n",
    "            # X_i partisi için hesaplanan cost'u cost değişkenine ekle\n",
    "            cost += costCalc(W, X_i, y_i)\n",
    "        \n",
    "        # bu iterasyon için cost değerini cost_history'ye ekle\n",
    "        costHistory[itr] = cost\n",
    "    \n",
    "    return W, costHistory"
   ]
  }
 ],
 "metadata": {
  "kernelspec": {
   "display_name": "Python 3 (ipykernel)",
   "language": "python",
   "name": "python3"
  },
  "language_info": {
   "codemirror_mode": {
    "name": "ipython",
    "version": 3
   },
   "file_extension": ".py",
   "mimetype": "text/x-python",
   "name": "python",
   "nbconvert_exporter": "python",
   "pygments_lexer": "ipython3",
   "version": "3.10.2"
  }
 },
 "nbformat": 4,
 "nbformat_minor": 5
}
