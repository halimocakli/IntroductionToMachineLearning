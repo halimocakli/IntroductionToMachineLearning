{
 "cells": [
  {
   "cell_type": "markdown",
   "id": "08aef0d2",
   "metadata": {},
   "source": [
    "## Regresyon vs Sınıflandırma\n",
    "\n",
    "Değişkenler, sayısal (nicelik) olabilirler veya kategorik (nitelik) olabilirler.\n",
    "\n",
    "Sayısal değişkenler, sayı ile ölçülebilen değerler alırlar.\n",
    "\n",
    "Örneğin: Kişini yaşı, aldığı maaş vs.\n",
    "\n",
    "\n",
    "Kategorik Değişkenler ise,\n",
    "\n",
    "Sınıf dediğimiz değerler kümesinden bir değer alırlar.\n",
    "\n",
    "Örneğin: Kişinin cinsiyeti iki sınıftan oluşur: K/E\n",
    "\n",
    "İşte bir kategorik değişken bu iki kategoriden birini alır -> K veya E\n",
    "\n",
    "**Regresyon (Regression)**\n",
    "\n",
    "Sayısal değişkenlerin tahmini için kurduğumuz modellere denir.\n",
    "\n",
    "Regresyon günün sonunda, sayı ile ölçülebilen bir değer bulmaya çalışır.\n",
    "\n",
    "Örneğin: Yarınki hisse senedi fiyatı kaç tl olacak gibi.\n",
    "\n",
    "**Sınıflandırma (Classification)**\n",
    "\n",
    "Kategorik değişkenin hangi kategoriye yani sınıfa girdiğini bulma çabasına da Sınıflandırma denir.\n",
    "\n",
    "Sonuç değişkeni, elimizdeki sınıflardan hangisine aittir?\n",
    "\n",
    "Örnek: Bir resim, kedi mi, köpek mi yoksa tavşan mı? bunu tahminleyeme çalışma bir sınıflandırmadır.\n",
    "\n",
    "Çizimle gösterelim:\n",
    "\n",
    "<img src='images/regression-vs-classification.png' />\n",
    "\n",
    "Aynı data seti üzerinden iki farklı türü görelim:\n",
    "\n",
    "<img src='images/reg_vs_class.png' />"
   ]
  }
 ],
 "metadata": {
  "kernelspec": {
   "display_name": "Python 3 (ipykernel)",
   "language": "python",
   "name": "python3"
  },
  "language_info": {
   "codemirror_mode": {
    "name": "ipython",
    "version": 3
   },
   "file_extension": ".py",
   "mimetype": "text/x-python",
   "name": "python",
   "nbconvert_exporter": "python",
   "pygments_lexer": "ipython3",
   "version": "3.10.2"
  }
 },
 "nbformat": 4,
 "nbformat_minor": 5
}
