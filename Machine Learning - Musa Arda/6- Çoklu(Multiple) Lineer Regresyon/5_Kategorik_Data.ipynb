{
 "cells": [
  {
   "cell_type": "markdown",
   "id": "confidential-arcade",
   "metadata": {},
   "source": [
    "## Kategorik Data"
   ]
  },
  {
   "cell_type": "markdown",
   "id": "quick-ceremony",
   "metadata": {},
   "source": [
    "Birçok Machine Learning probleminde elimizdeki veriler, sayısal değil, kategorik veriler olur."
   ]
  },
  {
   "cell_type": "markdown",
   "id": "contemporary-substance",
   "metadata": {},
   "source": [
    "Örnekler: \n",
    "\n",
    "* Kişinin Evlilik durumu: Evli, Bekar, Belirtilmemiş\n",
    "* Cinsiyet: Kadın, Erkek\n",
    "* Eğitim Durumu: İlk, Orta, Lise, Lisans, Yüksek Lisans\n"
   ]
  },
  {
   "cell_type": "markdown",
   "id": "neutral-advertising",
   "metadata": {},
   "source": [
    "ML Algoritmaları sayısal girdiler ile çalışırlar.\n",
    "\n",
    "Dolayısı ile kategorik verilerin bir şekilde sayısal veriye dönüştürülmesi lazım."
   ]
  },
  {
   "cell_type": "markdown",
   "id": "enormous-oxide",
   "metadata": {},
   "source": [
    "İki tür dönüşüm (encoding) yapılabilir:\n",
    "* Label Encoding\n",
    "* One-Hot Encoding"
   ]
  },
  {
   "cell_type": "markdown",
   "id": "fewer-louisiana",
   "metadata": {},
   "source": [
    "### Label Encoding"
   ]
  },
  {
   "cell_type": "markdown",
   "id": "embedded-alignment",
   "metadata": {},
   "source": [
    "**pandas ile:**"
   ]
  },
  {
   "cell_type": "markdown",
   "id": "billion-concept",
   "metadata": {},
   "source": [
    "Kategori sütunun türünü 'category' yapıp birer sayıya atayacağız."
   ]
  },
  {
   "cell_type": "code",
   "execution_count": 3,
   "id": "piano-romantic",
   "metadata": {},
   "outputs": [],
   "source": [
    "# importlar\n",
    "import pandas as pd\n",
    "import numpy as np"
   ]
  },
  {
   "cell_type": "code",
   "execution_count": 5,
   "id": "ready-practice",
   "metadata": {},
   "outputs": [
    {
     "data": {
      "text/html": [
       "<div>\n",
       "<style scoped>\n",
       "    .dataframe tbody tr th:only-of-type {\n",
       "        vertical-align: middle;\n",
       "    }\n",
       "\n",
       "    .dataframe tbody tr th {\n",
       "        vertical-align: top;\n",
       "    }\n",
       "\n",
       "    .dataframe thead th {\n",
       "        text-align: right;\n",
       "    }\n",
       "</style>\n",
       "<table border=\"1\" class=\"dataframe\">\n",
       "  <thead>\n",
       "    <tr style=\"text-align: right;\">\n",
       "      <th></th>\n",
       "      <th>Evlilik_Durumu</th>\n",
       "    </tr>\n",
       "  </thead>\n",
       "  <tbody>\n",
       "    <tr>\n",
       "      <th>0</th>\n",
       "      <td>Evli</td>\n",
       "    </tr>\n",
       "    <tr>\n",
       "      <th>1</th>\n",
       "      <td>Bekar</td>\n",
       "    </tr>\n",
       "    <tr>\n",
       "      <th>2</th>\n",
       "      <td>Belirtilmemis</td>\n",
       "    </tr>\n",
       "  </tbody>\n",
       "</table>\n",
       "</div>"
      ],
      "text/plain": [
       "  Evlilik_Durumu\n",
       "0           Evli\n",
       "1          Bekar\n",
       "2  Belirtilmemis"
      ]
     },
     "execution_count": 5,
     "metadata": {},
     "output_type": "execute_result"
    }
   ],
   "source": [
    "# ham veri\n",
    "evlilik_durumu = ('Evli','Bekar','Belirtilmemis')\n",
    "\n",
    "# dataframe yarat\n",
    "evlilik_df = pd.DataFrame(evlilik_durumu, columns=['Evlilik_Durumu'])\n",
    "evlilik_df"
   ]
  },
  {
   "cell_type": "code",
   "execution_count": 7,
   "id": "threaded-scout",
   "metadata": {},
   "outputs": [
    {
     "name": "stdout",
     "output_type": "stream",
     "text": [
      "<class 'pandas.core.frame.DataFrame'>\n",
      "RangeIndex: 3 entries, 0 to 2\n",
      "Data columns (total 1 columns):\n",
      " #   Column          Non-Null Count  Dtype \n",
      "---  ------          --------------  ----- \n",
      " 0   Evlilik_Durumu  3 non-null      object\n",
      "dtypes: object(1)\n",
      "memory usage: 152.0+ bytes\n"
     ]
    }
   ],
   "source": [
    "# sütun tipini gör -> object\n",
    "\n",
    "evlilik_df.info()"
   ]
  },
  {
   "cell_type": "code",
   "execution_count": 8,
   "id": "sustainable-fundamentals",
   "metadata": {},
   "outputs": [],
   "source": [
    "# sütun tipini 'category' ye dönüştür\n",
    "\n",
    "evlilik_df['Evlilik_Durumu'] = evlilik_df['Evlilik_Durumu'].astype('category')"
   ]
  },
  {
   "cell_type": "code",
   "execution_count": 9,
   "id": "incoming-azerbaijan",
   "metadata": {},
   "outputs": [
    {
     "name": "stdout",
     "output_type": "stream",
     "text": [
      "<class 'pandas.core.frame.DataFrame'>\n",
      "RangeIndex: 3 entries, 0 to 2\n",
      "Data columns (total 1 columns):\n",
      " #   Column          Non-Null Count  Dtype   \n",
      "---  ------          --------------  -----   \n",
      " 0   Evlilik_Durumu  3 non-null      category\n",
      "dtypes: category(1)\n",
      "memory usage: 263.0 bytes\n"
     ]
    }
   ],
   "source": [
    "# sütun tipini tekrar gör -> object\n",
    "\n",
    "evlilik_df.info()"
   ]
  },
  {
   "cell_type": "code",
   "execution_count": 10,
   "id": "current-cinema",
   "metadata": {},
   "outputs": [
    {
     "data": {
      "text/html": [
       "<div>\n",
       "<style scoped>\n",
       "    .dataframe tbody tr th:only-of-type {\n",
       "        vertical-align: middle;\n",
       "    }\n",
       "\n",
       "    .dataframe tbody tr th {\n",
       "        vertical-align: top;\n",
       "    }\n",
       "\n",
       "    .dataframe thead th {\n",
       "        text-align: right;\n",
       "    }\n",
       "</style>\n",
       "<table border=\"1\" class=\"dataframe\">\n",
       "  <thead>\n",
       "    <tr style=\"text-align: right;\">\n",
       "      <th></th>\n",
       "      <th>Evlilik_Durumu</th>\n",
       "      <th>Evlilik_Kategorileri</th>\n",
       "    </tr>\n",
       "  </thead>\n",
       "  <tbody>\n",
       "    <tr>\n",
       "      <th>0</th>\n",
       "      <td>Evli</td>\n",
       "      <td>2</td>\n",
       "    </tr>\n",
       "    <tr>\n",
       "      <th>1</th>\n",
       "      <td>Bekar</td>\n",
       "      <td>0</td>\n",
       "    </tr>\n",
       "    <tr>\n",
       "      <th>2</th>\n",
       "      <td>Belirtilmemis</td>\n",
       "      <td>1</td>\n",
       "    </tr>\n",
       "  </tbody>\n",
       "</table>\n",
       "</div>"
      ],
      "text/plain": [
       "  Evlilik_Durumu  Evlilik_Kategorileri\n",
       "0           Evli                     2\n",
       "1          Bekar                     0\n",
       "2  Belirtilmemis                     1"
      ]
     },
     "execution_count": 10,
     "metadata": {},
     "output_type": "execute_result"
    }
   ],
   "source": [
    "# kategoriler numerik veriler ata ve yeni bir sütun yarat\n",
    "\n",
    "evlilik_df['Evlilik_Kategorileri'] = evlilik_df['Evlilik_Durumu'].cat.codes\n",
    "evlilik_df"
   ]
  },
  {
   "cell_type": "markdown",
   "id": "smaller-macro",
   "metadata": {},
   "source": [
    "**scikit-learn ile:**"
   ]
  },
  {
   "cell_type": "code",
   "execution_count": 18,
   "id": "sporting-identification",
   "metadata": {},
   "outputs": [],
   "source": [
    "# importlar\n",
    "import pandas as pd\n",
    "import numpy as np\n",
    "from sklearn.preprocessing import LabelEncoder"
   ]
  },
  {
   "cell_type": "code",
   "execution_count": 19,
   "id": "crude-topic",
   "metadata": {},
   "outputs": [
    {
     "data": {
      "text/html": [
       "<div>\n",
       "<style scoped>\n",
       "    .dataframe tbody tr th:only-of-type {\n",
       "        vertical-align: middle;\n",
       "    }\n",
       "\n",
       "    .dataframe tbody tr th {\n",
       "        vertical-align: top;\n",
       "    }\n",
       "\n",
       "    .dataframe thead th {\n",
       "        text-align: right;\n",
       "    }\n",
       "</style>\n",
       "<table border=\"1\" class=\"dataframe\">\n",
       "  <thead>\n",
       "    <tr style=\"text-align: right;\">\n",
       "      <th></th>\n",
       "      <th>Evlilik_Durumu</th>\n",
       "    </tr>\n",
       "  </thead>\n",
       "  <tbody>\n",
       "    <tr>\n",
       "      <th>0</th>\n",
       "      <td>Evli</td>\n",
       "    </tr>\n",
       "    <tr>\n",
       "      <th>1</th>\n",
       "      <td>Bekar</td>\n",
       "    </tr>\n",
       "    <tr>\n",
       "      <th>2</th>\n",
       "      <td>Belirtilmemis</td>\n",
       "    </tr>\n",
       "  </tbody>\n",
       "</table>\n",
       "</div>"
      ],
      "text/plain": [
       "  Evlilik_Durumu\n",
       "0           Evli\n",
       "1          Bekar\n",
       "2  Belirtilmemis"
      ]
     },
     "execution_count": 19,
     "metadata": {},
     "output_type": "execute_result"
    }
   ],
   "source": [
    "# ham veri\n",
    "evlilik_durumu = ('Evli','Bekar','Belirtilmemis')\n",
    "\n",
    "# dataframe yarat\n",
    "evlilik_df = pd.DataFrame(evlilik_durumu, columns=['Evlilik_Durumu'])\n",
    "evlilik_df"
   ]
  },
  {
   "cell_type": "code",
   "execution_count": 20,
   "id": "divine-patch",
   "metadata": {},
   "outputs": [],
   "source": [
    "# labelEncoder nesnesi yarat\n",
    "\n",
    "label_encoder = LabelEncoder()"
   ]
  },
  {
   "cell_type": "code",
   "execution_count": 21,
   "id": "casual-jamaica",
   "metadata": {},
   "outputs": [
    {
     "data": {
      "text/html": [
       "<div>\n",
       "<style scoped>\n",
       "    .dataframe tbody tr th:only-of-type {\n",
       "        vertical-align: middle;\n",
       "    }\n",
       "\n",
       "    .dataframe tbody tr th {\n",
       "        vertical-align: top;\n",
       "    }\n",
       "\n",
       "    .dataframe thead th {\n",
       "        text-align: right;\n",
       "    }\n",
       "</style>\n",
       "<table border=\"1\" class=\"dataframe\">\n",
       "  <thead>\n",
       "    <tr style=\"text-align: right;\">\n",
       "      <th></th>\n",
       "      <th>Evlilik_Durumu</th>\n",
       "      <th>Evlilik_Kategorileri_Sklearn</th>\n",
       "    </tr>\n",
       "  </thead>\n",
       "  <tbody>\n",
       "    <tr>\n",
       "      <th>0</th>\n",
       "      <td>Evli</td>\n",
       "      <td>2</td>\n",
       "    </tr>\n",
       "    <tr>\n",
       "      <th>1</th>\n",
       "      <td>Bekar</td>\n",
       "      <td>0</td>\n",
       "    </tr>\n",
       "    <tr>\n",
       "      <th>2</th>\n",
       "      <td>Belirtilmemis</td>\n",
       "      <td>1</td>\n",
       "    </tr>\n",
       "  </tbody>\n",
       "</table>\n",
       "</div>"
      ],
      "text/plain": [
       "  Evlilik_Durumu  Evlilik_Kategorileri_Sklearn\n",
       "0           Evli                             2\n",
       "1          Bekar                             0\n",
       "2  Belirtilmemis                             1"
      ]
     },
     "execution_count": 21,
     "metadata": {},
     "output_type": "execute_result"
    }
   ],
   "source": [
    "# kategoriler numerik veriler ata ve yeni bir sütun yarat\n",
    "\n",
    "evlilik_df['Evlilik_Kategorileri_Sklearn'] = label_encoder.fit_transform(evlilik_df['Evlilik_Durumu'])\n",
    "evlilik_df"
   ]
  },
  {
   "cell_type": "markdown",
   "id": "cleared-algebra",
   "metadata": {},
   "source": [
    "### One-Hot Encoder"
   ]
  },
  {
   "cell_type": "markdown",
   "id": "organic-facing",
   "metadata": {},
   "source": [
    "Label Encoding ile kategorik sütunları sayısal verilere dönüştürdük.\n",
    "\n",
    "Ama ortaya başka bir sorun çıktı.\n",
    "\n",
    "Şu anda sanki değer 2 olan kategori 1 ve 0'dan önemliymiş gibi zannedilecek.\n",
    "\n",
    "Öyse önem sırası yoktu.\n",
    "\n",
    "Bunu elimine etmek için: **One-Hot Encoding**"
   ]
  },
  {
   "cell_type": "markdown",
   "id": "binding-cleaning",
   "metadata": {},
   "source": [
    "**scikit-learn ile:**"
   ]
  },
  {
   "cell_type": "code",
   "execution_count": 41,
   "id": "marked-sally",
   "metadata": {},
   "outputs": [],
   "source": [
    "# import'lar\n",
    "\n",
    "import pandas as pd\n",
    "import numpy as np\n",
    "from sklearn.preprocessing import OneHotEncoder"
   ]
  },
  {
   "cell_type": "code",
   "execution_count": 52,
   "id": "understood-windows",
   "metadata": {},
   "outputs": [
    {
     "data": {
      "text/html": [
       "<div>\n",
       "<style scoped>\n",
       "    .dataframe tbody tr th:only-of-type {\n",
       "        vertical-align: middle;\n",
       "    }\n",
       "\n",
       "    .dataframe tbody tr th {\n",
       "        vertical-align: top;\n",
       "    }\n",
       "\n",
       "    .dataframe thead th {\n",
       "        text-align: right;\n",
       "    }\n",
       "</style>\n",
       "<table border=\"1\" class=\"dataframe\">\n",
       "  <thead>\n",
       "    <tr style=\"text-align: right;\">\n",
       "      <th></th>\n",
       "      <th>Evlilik_Durumu</th>\n",
       "    </tr>\n",
       "  </thead>\n",
       "  <tbody>\n",
       "    <tr>\n",
       "      <th>0</th>\n",
       "      <td>Evli</td>\n",
       "    </tr>\n",
       "    <tr>\n",
       "      <th>1</th>\n",
       "      <td>Bekar</td>\n",
       "    </tr>\n",
       "    <tr>\n",
       "      <th>2</th>\n",
       "      <td>Belirtilmemis</td>\n",
       "    </tr>\n",
       "  </tbody>\n",
       "</table>\n",
       "</div>"
      ],
      "text/plain": [
       "  Evlilik_Durumu\n",
       "0           Evli\n",
       "1          Bekar\n",
       "2  Belirtilmemis"
      ]
     },
     "execution_count": 52,
     "metadata": {},
     "output_type": "execute_result"
    }
   ],
   "source": [
    "# ham veri\n",
    "evlilik_durumu = ('Evli','Bekar','Belirtilmemis')\n",
    "\n",
    "# dataframe yarat\n",
    "evlilik_df = pd.DataFrame(evlilik_durumu, columns=['Evlilik_Durumu'])\n",
    "evlilik_df"
   ]
  },
  {
   "cell_type": "code",
   "execution_count": 43,
   "id": "global-instrumentation",
   "metadata": {},
   "outputs": [],
   "source": [
    "# one-hot encoder nesnesi yarat\n",
    "\n",
    "enc = OneHotEncoder(handle_unknown='ignore')"
   ]
  },
  {
   "cell_type": "code",
   "execution_count": 44,
   "id": "lyric-cycling",
   "metadata": {},
   "outputs": [],
   "source": [
    "# evlilik durumunu enc'ye ver\n",
    "\n",
    "enc_result = enc.fit_transform(evlilik_df[['Evlilik_Durumu']])"
   ]
  },
  {
   "cell_type": "code",
   "execution_count": 45,
   "id": "flush-bathroom",
   "metadata": {},
   "outputs": [
    {
     "data": {
      "text/html": [
       "<div>\n",
       "<style scoped>\n",
       "    .dataframe tbody tr th:only-of-type {\n",
       "        vertical-align: middle;\n",
       "    }\n",
       "\n",
       "    .dataframe tbody tr th {\n",
       "        vertical-align: top;\n",
       "    }\n",
       "\n",
       "    .dataframe thead th {\n",
       "        text-align: right;\n",
       "    }\n",
       "</style>\n",
       "<table border=\"1\" class=\"dataframe\">\n",
       "  <thead>\n",
       "    <tr style=\"text-align: right;\">\n",
       "      <th></th>\n",
       "      <th>0</th>\n",
       "      <th>1</th>\n",
       "      <th>2</th>\n",
       "    </tr>\n",
       "  </thead>\n",
       "  <tbody>\n",
       "    <tr>\n",
       "      <th>0</th>\n",
       "      <td>0.0</td>\n",
       "      <td>0.0</td>\n",
       "      <td>1.0</td>\n",
       "    </tr>\n",
       "    <tr>\n",
       "      <th>1</th>\n",
       "      <td>1.0</td>\n",
       "      <td>0.0</td>\n",
       "      <td>0.0</td>\n",
       "    </tr>\n",
       "    <tr>\n",
       "      <th>2</th>\n",
       "      <td>0.0</td>\n",
       "      <td>1.0</td>\n",
       "      <td>0.0</td>\n",
       "    </tr>\n",
       "  </tbody>\n",
       "</table>\n",
       "</div>"
      ],
      "text/plain": [
       "     0    1    2\n",
       "0  0.0  0.0  1.0\n",
       "1  1.0  0.0  0.0\n",
       "2  0.0  1.0  0.0"
      ]
     },
     "execution_count": 45,
     "metadata": {},
     "output_type": "execute_result"
    }
   ],
   "source": [
    "# enc_result'ı dataframe'e çevir\n",
    "\n",
    "enc_df = pd.DataFrame(enc_result.toarray())\n",
    "enc_df"
   ]
  },
  {
   "cell_type": "code",
   "execution_count": 46,
   "id": "bacterial-spotlight",
   "metadata": {},
   "outputs": [
    {
     "data": {
      "text/html": [
       "<div>\n",
       "<style scoped>\n",
       "    .dataframe tbody tr th:only-of-type {\n",
       "        vertical-align: middle;\n",
       "    }\n",
       "\n",
       "    .dataframe tbody tr th {\n",
       "        vertical-align: top;\n",
       "    }\n",
       "\n",
       "    .dataframe thead th {\n",
       "        text-align: right;\n",
       "    }\n",
       "</style>\n",
       "<table border=\"1\" class=\"dataframe\">\n",
       "  <thead>\n",
       "    <tr style=\"text-align: right;\">\n",
       "      <th></th>\n",
       "      <th>Evlilik_Durumu</th>\n",
       "    </tr>\n",
       "  </thead>\n",
       "  <tbody>\n",
       "    <tr>\n",
       "      <th>0</th>\n",
       "      <td>Evli</td>\n",
       "    </tr>\n",
       "    <tr>\n",
       "      <th>1</th>\n",
       "      <td>Bekar</td>\n",
       "    </tr>\n",
       "    <tr>\n",
       "      <th>2</th>\n",
       "      <td>Belirtilmemis</td>\n",
       "    </tr>\n",
       "  </tbody>\n",
       "</table>\n",
       "</div>"
      ],
      "text/plain": [
       "  Evlilik_Durumu\n",
       "0           Evli\n",
       "1          Bekar\n",
       "2  Belirtilmemis"
      ]
     },
     "execution_count": 46,
     "metadata": {},
     "output_type": "execute_result"
    }
   ],
   "source": [
    "evlilik_df"
   ]
  },
  {
   "cell_type": "code",
   "execution_count": 47,
   "id": "fourth-exhaust",
   "metadata": {},
   "outputs": [
    {
     "data": {
      "text/html": [
       "<div>\n",
       "<style scoped>\n",
       "    .dataframe tbody tr th:only-of-type {\n",
       "        vertical-align: middle;\n",
       "    }\n",
       "\n",
       "    .dataframe tbody tr th {\n",
       "        vertical-align: top;\n",
       "    }\n",
       "\n",
       "    .dataframe thead th {\n",
       "        text-align: right;\n",
       "    }\n",
       "</style>\n",
       "<table border=\"1\" class=\"dataframe\">\n",
       "  <thead>\n",
       "    <tr style=\"text-align: right;\">\n",
       "      <th></th>\n",
       "      <th>Evlilik_Durumu</th>\n",
       "      <th>0</th>\n",
       "      <th>1</th>\n",
       "      <th>2</th>\n",
       "    </tr>\n",
       "  </thead>\n",
       "  <tbody>\n",
       "    <tr>\n",
       "      <th>0</th>\n",
       "      <td>Evli</td>\n",
       "      <td>0.0</td>\n",
       "      <td>0.0</td>\n",
       "      <td>1.0</td>\n",
       "    </tr>\n",
       "    <tr>\n",
       "      <th>1</th>\n",
       "      <td>Bekar</td>\n",
       "      <td>1.0</td>\n",
       "      <td>0.0</td>\n",
       "      <td>0.0</td>\n",
       "    </tr>\n",
       "    <tr>\n",
       "      <th>2</th>\n",
       "      <td>Belirtilmemis</td>\n",
       "      <td>0.0</td>\n",
       "      <td>1.0</td>\n",
       "      <td>0.0</td>\n",
       "    </tr>\n",
       "  </tbody>\n",
       "</table>\n",
       "</div>"
      ],
      "text/plain": [
       "  Evlilik_Durumu    0    1    2\n",
       "0           Evli  0.0  0.0  1.0\n",
       "1          Bekar  1.0  0.0  0.0\n",
       "2  Belirtilmemis  0.0  1.0  0.0"
      ]
     },
     "execution_count": 47,
     "metadata": {},
     "output_type": "execute_result"
    }
   ],
   "source": [
    "# yeni olan enc_df'i evlilik_df'e ekle\n",
    "\n",
    "evlilik_df = evlilik_df.join(enc_df)\n",
    "evlilik_df"
   ]
  },
  {
   "cell_type": "markdown",
   "id": "interstate-symposium",
   "metadata": {},
   "source": [
    "**pandas ile:**"
   ]
  },
  {
   "cell_type": "code",
   "execution_count": 48,
   "id": "protecting-classroom",
   "metadata": {},
   "outputs": [],
   "source": [
    "import pandas as pd\n",
    "import numpy as np"
   ]
  },
  {
   "cell_type": "code",
   "execution_count": 49,
   "id": "dress-cargo",
   "metadata": {},
   "outputs": [
    {
     "data": {
      "text/html": [
       "<div>\n",
       "<style scoped>\n",
       "    .dataframe tbody tr th:only-of-type {\n",
       "        vertical-align: middle;\n",
       "    }\n",
       "\n",
       "    .dataframe tbody tr th {\n",
       "        vertical-align: top;\n",
       "    }\n",
       "\n",
       "    .dataframe thead th {\n",
       "        text-align: right;\n",
       "    }\n",
       "</style>\n",
       "<table border=\"1\" class=\"dataframe\">\n",
       "  <thead>\n",
       "    <tr style=\"text-align: right;\">\n",
       "      <th></th>\n",
       "      <th>Evlilik_Durumu</th>\n",
       "    </tr>\n",
       "  </thead>\n",
       "  <tbody>\n",
       "    <tr>\n",
       "      <th>0</th>\n",
       "      <td>Evli</td>\n",
       "    </tr>\n",
       "    <tr>\n",
       "      <th>1</th>\n",
       "      <td>Bekar</td>\n",
       "    </tr>\n",
       "    <tr>\n",
       "      <th>2</th>\n",
       "      <td>Belirtilmemis</td>\n",
       "    </tr>\n",
       "  </tbody>\n",
       "</table>\n",
       "</div>"
      ],
      "text/plain": [
       "  Evlilik_Durumu\n",
       "0           Evli\n",
       "1          Bekar\n",
       "2  Belirtilmemis"
      ]
     },
     "execution_count": 49,
     "metadata": {},
     "output_type": "execute_result"
    }
   ],
   "source": [
    "# ham veri\n",
    "evlilik_durumu = ('Evli','Bekar','Belirtilmemis')\n",
    "\n",
    "# dataframe yarat\n",
    "evlilik_df = pd.DataFrame(evlilik_durumu, columns=['Evlilik_Durumu'])\n",
    "evlilik_df"
   ]
  },
  {
   "cell_type": "code",
   "execution_count": 50,
   "id": "demonstrated-employment",
   "metadata": {},
   "outputs": [
    {
     "data": {
      "text/html": [
       "<div>\n",
       "<style scoped>\n",
       "    .dataframe tbody tr th:only-of-type {\n",
       "        vertical-align: middle;\n",
       "    }\n",
       "\n",
       "    .dataframe tbody tr th {\n",
       "        vertical-align: top;\n",
       "    }\n",
       "\n",
       "    .dataframe thead th {\n",
       "        text-align: right;\n",
       "    }\n",
       "</style>\n",
       "<table border=\"1\" class=\"dataframe\">\n",
       "  <thead>\n",
       "    <tr style=\"text-align: right;\">\n",
       "      <th></th>\n",
       "      <th>Evlilik_Durumu_Bekar</th>\n",
       "      <th>Evlilik_Durumu_Belirtilmemis</th>\n",
       "      <th>Evlilik_Durumu_Evli</th>\n",
       "    </tr>\n",
       "  </thead>\n",
       "  <tbody>\n",
       "    <tr>\n",
       "      <th>0</th>\n",
       "      <td>0</td>\n",
       "      <td>0</td>\n",
       "      <td>1</td>\n",
       "    </tr>\n",
       "    <tr>\n",
       "      <th>1</th>\n",
       "      <td>1</td>\n",
       "      <td>0</td>\n",
       "      <td>0</td>\n",
       "    </tr>\n",
       "    <tr>\n",
       "      <th>2</th>\n",
       "      <td>0</td>\n",
       "      <td>1</td>\n",
       "      <td>0</td>\n",
       "    </tr>\n",
       "  </tbody>\n",
       "</table>\n",
       "</div>"
      ],
      "text/plain": [
       "   Evlilik_Durumu_Bekar  Evlilik_Durumu_Belirtilmemis  Evlilik_Durumu_Evli\n",
       "0                     0                             0                    1\n",
       "1                     1                             0                    0\n",
       "2                     0                             1                    0"
      ]
     },
     "execution_count": 50,
     "metadata": {},
     "output_type": "execute_result"
    }
   ],
   "source": [
    "# her bir kolon için -> binary (0, 1) değerler olan sütunlar üret\n",
    "\n",
    "dummy_df = pd.get_dummies(evlilik_df, columns=['Evlilik_Durumu'])\n",
    "dummy_df"
   ]
  },
  {
   "cell_type": "code",
   "execution_count": 51,
   "id": "apart-rebate",
   "metadata": {},
   "outputs": [
    {
     "data": {
      "text/html": [
       "<div>\n",
       "<style scoped>\n",
       "    .dataframe tbody tr th:only-of-type {\n",
       "        vertical-align: middle;\n",
       "    }\n",
       "\n",
       "    .dataframe tbody tr th {\n",
       "        vertical-align: top;\n",
       "    }\n",
       "\n",
       "    .dataframe thead th {\n",
       "        text-align: right;\n",
       "    }\n",
       "</style>\n",
       "<table border=\"1\" class=\"dataframe\">\n",
       "  <thead>\n",
       "    <tr style=\"text-align: right;\">\n",
       "      <th></th>\n",
       "      <th>Evlilik_Durumu</th>\n",
       "      <th>Evlilik_Durumu_Bekar</th>\n",
       "      <th>Evlilik_Durumu_Belirtilmemis</th>\n",
       "      <th>Evlilik_Durumu_Evli</th>\n",
       "    </tr>\n",
       "  </thead>\n",
       "  <tbody>\n",
       "    <tr>\n",
       "      <th>0</th>\n",
       "      <td>Evli</td>\n",
       "      <td>0</td>\n",
       "      <td>0</td>\n",
       "      <td>1</td>\n",
       "    </tr>\n",
       "    <tr>\n",
       "      <th>1</th>\n",
       "      <td>Bekar</td>\n",
       "      <td>1</td>\n",
       "      <td>0</td>\n",
       "      <td>0</td>\n",
       "    </tr>\n",
       "    <tr>\n",
       "      <th>2</th>\n",
       "      <td>Belirtilmemis</td>\n",
       "      <td>0</td>\n",
       "      <td>1</td>\n",
       "      <td>0</td>\n",
       "    </tr>\n",
       "  </tbody>\n",
       "</table>\n",
       "</div>"
      ],
      "text/plain": [
       "  Evlilik_Durumu  Evlilik_Durumu_Bekar  Evlilik_Durumu_Belirtilmemis  \\\n",
       "0           Evli                     0                             0   \n",
       "1          Bekar                     1                             0   \n",
       "2  Belirtilmemis                     0                             1   \n",
       "\n",
       "   Evlilik_Durumu_Evli  \n",
       "0                    1  \n",
       "1                    0  \n",
       "2                    0  "
      ]
     },
     "execution_count": 51,
     "metadata": {},
     "output_type": "execute_result"
    }
   ],
   "source": [
    "# df'leri birleştir\n",
    "\n",
    "evlilik_df = evlilik_df.join(dummy_df)\n",
    "evlilik_df"
   ]
  },
  {
   "cell_type": "code",
   "execution_count": null,
   "id": "15aeff83",
   "metadata": {},
   "outputs": [],
   "source": []
  }
 ],
 "metadata": {
  "kernelspec": {
   "display_name": "Python 3 (ipykernel)",
   "language": "python",
   "name": "python3"
  },
  "language_info": {
   "codemirror_mode": {
    "name": "ipython",
    "version": 3
   },
   "file_extension": ".py",
   "mimetype": "text/x-python",
   "name": "python",
   "nbconvert_exporter": "python",
   "pygments_lexer": "ipython3",
   "version": "3.10.2"
  }
 },
 "nbformat": 4,
 "nbformat_minor": 5
}
