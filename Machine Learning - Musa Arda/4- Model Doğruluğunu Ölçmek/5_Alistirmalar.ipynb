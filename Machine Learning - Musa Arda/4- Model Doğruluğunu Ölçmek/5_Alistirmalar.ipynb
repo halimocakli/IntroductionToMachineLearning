{
 "cells": [
  {
   "cell_type": "markdown",
   "metadata": {},
   "source": [
    "## Alıştırmalar"
   ]
  },
  {
   "cell_type": "markdown",
   "metadata": {},
   "source": [
    "**Soru 1:**\n",
    "\n",
    "Aşağıdaki her bir senaryonun Classification mı yoksa Regression mı olduğuna karar veriniz.\n",
    "\n",
    "Ek olarak, X (feature) ve y (label) değişkenlerine karar verin.\n",
    "\n",
    "Son olarak, n (veri sayısı) ve p (değişken sayısı) değerlerini bulun."
   ]
  },
  {
   "cell_type": "markdown",
   "metadata": {},
   "source": [
    "**(a)**\n",
    "\n",
    "İstanbul Beşiktaş ilçesindeki 1000 evin bilgileri var elimizde.\n",
    "\n",
    "Her ev için, oda sayısı, denize uzaklığı, bina yaşı ve satış fiyatı var.\n",
    "\n",
    "Beşiktaş'taki rasgele bir evin satış fiyatını bulmak istiyoruz."
   ]
  },
  {
   "cell_type": "markdown",
   "metadata": {},
   "source": [
    "**Cevap 1-a**\n",
    "\n",
    "Model : Regression<br>\n",
    "X : Oda Sayısı, Denize Uzaklık, Bina Yaşı<br>\n",
    "y : Satış Fiyatı<br>\n",
    "n : 1000<br>\n",
    "p : 3<br>"
   ]
  },
  {
   "cell_type": "markdown",
   "metadata": {},
   "source": [
    "**(b)**\n",
    "\n",
    "Elimizde, bir e-ticaret sitesinin 80000 müşterisine ait veriler var.\n",
    "\n",
    "Her bir müşteri sitede ne kadar kalmış, kaç ürün gezmiş, sepetinde kaç ürün var, geçmiş harcması ne kadar bunları biliyoruz.\n",
    "\n",
    "Bu müşterinin her hangi bir zamanda sitede iken, sepetindeki ürünü alıp almayacağını tahminlemek istiyoruz."
   ]
  },
  {
   "cell_type": "markdown",
   "metadata": {},
   "source": [
    "**Cevap 1-b**"
   ]
  },
  {
   "cell_type": "markdown",
   "metadata": {},
   "source": [
    "Model : Classification<br>\n",
    "X : Sitede Kalma Süresi, İncelenen Ürün Sayısı, Sepetindeki Ürün Sayısı, Geçmiş Siparişleri<br>\n",
    "y : Evet, Hayır<br>\n",
    "n : 80000<br>\n",
    "p : 4<br>"
   ]
  },
  {
   "cell_type": "markdown",
   "metadata": {},
   "source": [
    "---"
   ]
  },
  {
   "cell_type": "markdown",
   "metadata": {},
   "source": [
    "**Soru 2:**\n",
    "\n",
    "Train Error MSE ve Test Error MSE için genel bir grafik çizin.\n",
    "\n",
    "X ekseni artan miktarda Esneklik (Flexibility) gösterecek.\n",
    "\n",
    "Y ekseni ise bu eğrilerin değerini.\n",
    "\n",
    "Şu 5 eğriyi çizin:\n",
    "* Bias, \n",
    "* Variance, \n",
    "* Training MSE\n",
    "* Test Error \n",
    "* Kaçınılmaz Hata\n",
    "\n",
    "Her bir eğriyi neden o şekilde çizdiğinizi de anlatın."
   ]
  },
  {
   "cell_type": "markdown",
   "metadata": {},
   "source": [
    "<img src=\"images/bias-variance-egrileri.jpg\"/>"
   ]
  },
  {
   "cell_type": "markdown",
   "metadata": {},
   "source": [
    "* Her ne olursa olsun var olduğunu kabul ettiğimiz Kaçınılmaz Hata eğrisini E harfi ile belirttik.\n",
    "* Esnekliğin düşük olduğu durumlarda modelimiz değişemez çünkü varyans/değişkenlik düşüktür.\n",
    "* Input, Feature sayılarını ve X katsayısını arttırdıkça ve de Non-Linearite durumunu arttırdıkça esnekliğimiz ve dolayısıyla varyans değerimiz de artacaktır.\n",
    "* Yüksek miktarda önyargımız/ön kabulümüz varsa ki bu BIAS olarak adlandırılır, esneklik de düşük olacaktır. Dolayısıyla BIAS'ın yüksek olduğu yerde esneklik düşüktür.\n",
    "* Modeli esnek olmayan durumdan esnek duruma doğru gidecek şekilde eğittiğimizde train error oranı düşer ancak fazla esneklik durumunda gerçek dünyadaki verilerden uzaklaşırız ve genelleme yapamayız. Bunun için modeli eğitirken belli bir yerden sonra esnekliği arttırmamak gerekir. Aksi halde gerçek hayatta hiçbir işimize yaramayacak ezberci bir model eğitmiş oluruz.\n",
    "* Başlangıçta BIAS ile birlikte Test Error'da azalma eğilimi gösterir. Bu kısım modelin data içindeki ilişkileri öğrendiği yerdir. Ama esneklik arttıkça Test Error yükselişe geçer."
   ]
  },
  {
   "cell_type": "markdown",
   "metadata": {},
   "source": [
    "---"
   ]
  },
  {
   "cell_type": "markdown",
   "metadata": {},
   "source": [
    "**Soru 3:**\n",
    "\n",
    "Parametrik ve Non-Parametrik Modeller arasındaki farkı açıklayın.\n",
    "\n",
    "Parametrik Yaklaşımın nasıl bir fayda sağladığını açıklayın."
   ]
  },
  {
   "cell_type": "markdown",
   "metadata": {},
   "source": [
    "**Parametrik Yaklaşımda** gerçek f fonksiyonunu tahmin ederken, girdi (bağımsız değişken, input, feature, predictor) ile çıktı (bağımlı değişken, output, label, grand-truth) arasında bir ilişki olduğunu varsayarız. Mesela Lineerdir deriz ya da girdi ile çıktı arasında pozitif korelasyon vardır deriz. Aslında bu da bir BIAS'tir.\n",
    "\n",
    "**Non-Parametrik Yaklaşımda** bu şekilde bir varsayım yapmayız. Computing Power ve Massive Amounth of Data varsa uygundur.\n",
    "\n",
    "Dolayısı ile Parametrik Modeller daha kısıtlayıcıdır ama problemi daha basite indirgediği için çözümü de kolaydır. Kötü yanı ise, tahminlerde çok iyi sonuç vermez.\n",
    "\n",
    "Eğer amacımız tahmin değil, sadece çıkarım yapmaksa, Parametrik Modelleri tercih ederiz."
   ]
  },
  {
   "cell_type": "markdown",
   "metadata": {},
   "source": [
    " ---"
   ]
  },
  {
   "cell_type": "markdown",
   "metadata": {},
   "source": [
    "**Soru 4:**\n",
    "\n",
    "Mean Square Error (MSE) nedir ve nasıl hesaplanır?\n",
    "\n",
    "Sınıflandırma'da mı kullanılır, Regresyon'da mı?\n",
    "\n",
    "Çizerek gösterin.\n",
    "\n",
    "Matematik formülünü de yazın."
   ]
  },
  {
   "cell_type": "markdown",
   "metadata": {},
   "source": [
    "**Cevap:**\n",
    "\n",
    "MSE, tahmin değerlerinin gerçek değerlerden sapmasının (hata) ortalama karesidir.\n",
    "\n",
    "Yani tüm hataların karelerinin ortalaması.\n",
    "\n",
    "Regresyon modellerinde kullanılır.\n",
    "\n",
    "$$ MSE = \\frac{1}{n} \\sum_{i=1}^{n}(y_i - \\hat{y_i})^2 $$"
   ]
  },
  {
   "cell_type": "markdown",
   "metadata": {},
   "source": [
    "<img src=\"images/MSE.png\"/>"
   ]
  },
  {
   "cell_type": "markdown",
   "metadata": {},
   "source": [
    "---"
   ]
  },
  {
   "cell_type": "markdown",
   "metadata": {},
   "source": [
    "**Soru 5:**\n",
    "\n",
    "Hata Oranı (Error Rate) nedir ve nasıl hesaplanır?\n",
    "\n",
    "Classification'da mı kullanılır, Regression'da mı?\n",
    "\n",
    "Çizerek gösterin.\n",
    "\n",
    "Matematik formülünü de yazın."
   ]
  },
  {
   "cell_type": "markdown",
   "metadata": {},
   "source": [
    "**Cevap:**\n",
    "\n",
    "Hata Oranı, tüm tahminler içinde, hatalı olanların oranıdır.\n",
    "\n",
    "Classification'da kullanılır."
   ]
  },
  {
   "cell_type": "markdown",
   "metadata": {},
   "source": [
    "**Hata Oranı = Hatalı Tahminler / Tüm Tahminler**"
   ]
  },
  {
   "cell_type": "markdown",
   "metadata": {},
   "source": [
    "$$ Hata Oranı = \\frac{1}{n} \\sum_{i=1}^n I(y_i \\ne \\hat{y}_i) $$"
   ]
  },
  {
   "cell_type": "markdown",
   "metadata": {},
   "source": [
    "---"
   ]
  },
  {
   "cell_type": "markdown",
   "metadata": {},
   "source": [
    "**Soru 6:**\n",
    "\n",
    "Train-Test Split nedir?\n",
    "\n",
    "Amacı nedir?"
   ]
  },
  {
   "cell_type": "markdown",
   "metadata": {},
   "source": [
    "**Cevap:**\n",
    "\n",
    "Train-Test Split, bütün veri setinin train data ve test data olarak ayrılmasıdır.\n",
    "\n",
    "Genelde %70-%30, %80-%20, %90-%10 şeklinde Train-Test Data olarak ayrılır.\n",
    "\n",
    "Amacı modelin öğrenmesinin sadece Train data üzerinde yapılmasını sağlamak.\n",
    "\n",
    "Test data modelin hiç görmediği ve gerçekten tahmin etmeye çalıştığı data olacak.\n",
    "\n",
    "Böylece model gerçek olarak test edilmiş olur."
   ]
  }
 ],
 "metadata": {
  "kernelspec": {
   "display_name": "Python 3 (ipykernel)",
   "language": "python",
   "name": "python3"
  },
  "language_info": {
   "codemirror_mode": {
    "name": "ipython",
    "version": 3
   },
   "file_extension": ".py",
   "mimetype": "text/x-python",
   "name": "python",
   "nbconvert_exporter": "python",
   "pygments_lexer": "ipython3",
   "version": "3.10.2"
  }
 },
 "nbformat": 4,
 "nbformat_minor": 4
}
