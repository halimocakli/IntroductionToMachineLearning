{
 "cells": [
  {
   "cell_type": "code",
   "execution_count": 1,
   "id": "4c453aea",
   "metadata": {},
   "outputs": [],
   "source": [
    "# Gerekli kütüphaneleri import edelim.\n",
    "\n",
    "import pandas as pd\n",
    "import matplotlib.pyplot as plt\n",
    "import numpy as np"
   ]
  },
  {
   "cell_type": "code",
   "execution_count": 2,
   "id": "4b886320",
   "metadata": {},
   "outputs": [],
   "source": [
    "# Kullanacağımız veri setini import edelim\n",
    "df = pd.read_csv(\"dataset/linear_regression_dataset.csv\", sep=\";\")"
   ]
  },
  {
   "cell_type": "code",
   "execution_count": 3,
   "id": "f6288863",
   "metadata": {},
   "outputs": [
    {
     "data": {
      "image/png": "[encoded data removed]",
      "text/plain": [
       "<Figure size 432x288 with 1 Axes>"
      ]
     },
     "metadata": {
      "needs_background": "light"
     },
     "output_type": "display_data"
    }
   ],
   "source": [
    "# Veriyi plot diagram ile görselleştirelim\n",
    "plt.scatter(df[\"deneyim\"], df[\"maas\"])\n",
    "plt.xlabel(\"Deneyim\")\n",
    "plt.ylabel(\"Maaş\")\n",
    "plt.show()"
   ]
  },
  {
   "cell_type": "code",
   "execution_count": 4,
   "id": "01b69a5b",
   "metadata": {},
   "outputs": [],
   "source": [
    "# Lineer Regresyon modeline line fit edeceğiz\n",
    "# sklearn kütüphanesini kullanacağız\n",
    "# Bu kütüphanenin içerisinde çeşitli makine öğrenmesi metotları var\n",
    "from sklearn.linear_model import LinearRegression"
   ]
  },
  {
   "cell_type": "code",
   "execution_count": 5,
   "id": "f3001a4d",
   "metadata": {},
   "outputs": [],
   "source": [
    "# Lineer Regresoyon modeli\n",
    "linear_reg = LinearRegression()"
   ]
  },
  {
   "cell_type": "code",
   "execution_count": 6,
   "id": "a97a004d",
   "metadata": {},
   "outputs": [],
   "source": [
    "# Veri seti içerisindeki feature'ları yerleştiriyoruz\n",
    "# X = örnek değerler\n",
    "# y = tahmin değeri\n",
    "X = df[\"deneyim\"].values\n",
    "y = df[\"maas\"].values"
   ]
  },
  {
   "cell_type": "code",
   "execution_count": 7,
   "id": "865fe310",
   "metadata": {},
   "outputs": [],
   "source": [
    "# Bu noktada X ve y değişkenlerinin boyutları (14, 0)'dır\n",
    "# Ancak sklearn kütüphanesi ile çalışabilmek için (14, 1) olmalı\n",
    "# Bunu gerçekleştirmek için reshape(-1,1) metodunu kullanacağız.\n",
    "X = df[\"deneyim\"].values.reshape(-1,1)\n",
    "y = df[\"maas\"].values.reshape(-1,1)"
   ]
  },
  {
   "cell_type": "code",
   "execution_count": 8,
   "id": "3cb589e4",
   "metadata": {},
   "outputs": [
    {
     "data": {
      "text/plain": [
       "LinearRegression()"
      ]
     },
     "execution_count": 8,
     "metadata": {},
     "output_type": "execute_result"
    }
   ],
   "source": [
    "# Line Fit\n",
    "linear_reg.fit(X, y)"
   ]
  },
  {
   "cell_type": "code",
   "execution_count": 9,
   "id": "d465bbfb",
   "metadata": {},
   "outputs": [],
   "source": [
    "# fit() metodunu uyguladığımız lineer regresyon modelini kullanarak prediction gerçekleştirelim.\n",
    "# Basit lineer regresyon formülünü hatırlayalım -> y = b_0 + b_1 * x\n",
    "# Prediction yaparken x'e deper veriyoruz, x: feature\n",
    "# x'e 0 değerini verdiğimizde predict değeri olan y, b_0'a eşit olur.\n",
    "b_0 = linear_reg.predict([[0]])"
   ]
  },
  {
   "cell_type": "code",
   "execution_count": 10,
   "id": "2f731d2a",
   "metadata": {},
   "outputs": [
    {
     "name": "stdout",
     "output_type": "stream",
     "text": [
      "b_0: [[1663.89519747]]\n"
     ]
    }
   ],
   "source": [
    "# b_0, intercept olarak adlandırılır, yani regresyon doğrusunun y eksenini kestiği noktayı ifade eder.\n",
    "# b_0 değerini görelim\n",
    "print(f\"b_0: {b_0}\") # 1663.89519747"
   ]
  },
  {
   "cell_type": "code",
   "execution_count": 11,
   "id": "0f8b8f64",
   "metadata": {},
   "outputs": [
    {
     "name": "stdout",
     "output_type": "stream",
     "text": [
      "b_0: [1663.89519747]\n"
     ]
    }
   ],
   "source": [
    "# b_0'ın intercept olarak adlandırıldığını belirtmiştik. Şimdi de intercept bulmak için kullanılan bir diğer yöntemi inceleyelim.\n",
    "b_0 = linear_reg.intercept_\n",
    "print(f\"b_0: {b_0}\") # 1663.89519747"
   ]
  },
  {
   "cell_type": "code",
   "execution_count": 12,
   "id": "3ab32e1a",
   "metadata": {},
   "outputs": [
    {
     "name": "stdout",
     "output_type": "stream",
     "text": [
      "b_1: [[1138.34819698]]\n"
     ]
    }
   ],
   "source": [
    "# Şimdi de b_1'i yanmi coefficient değerini bulalım\n",
    "# Coefficient değeri eğim miktarını belirtir, eğim: slope\n",
    "b_1 = linear_reg.coef_\n",
    "print(f\"b_1: {b_1}\") # 1138.34819698"
   ]
  },
  {
   "cell_type": "code",
   "execution_count": 13,
   "id": "579cacf7",
   "metadata": {},
   "outputs": [
    {
     "name": "stdout",
     "output_type": "stream",
     "text": [
      "Salary for 11 years experience: 14185.72536425\n"
     ]
    }
   ],
   "source": [
    "# Bu noktada y = b_0 + b_1 * x formülü içerisindeki b_0 ve b_1 verilerine ulaştık.\n",
    "# Dolayısıyla istediğimiz maaş tahminini, deneyim feature'unu(x) kullanarak tahmin edebiliriz.\n",
    "# Bir örnek yapalım, deneyim yılımız 11 olsun\n",
    "salary_prediction = 1663.89519747 + 1138.34819698 * 11\n",
    "print(f\"Salary for 11 years experience: {salary_prediction}\") # 14185.72536425"
   ]
  },
  {
   "cell_type": "code",
   "execution_count": 14,
   "id": "1a4253e3",
   "metadata": {},
   "outputs": [
    {
     "name": "stdout",
     "output_type": "stream",
     "text": [
      "Salary for 11 years experience: [[14185.72536421]]\n"
     ]
    }
   ],
   "source": [
    "# Biz bu işlemi yaparken, eğitici olması bakımından önce b_0 ve b_1 değerlerine ulaştık.\n",
    "# Ancak sklearn kütüphanesinin metotlarından biri olan predict() ile direkt olarak maaş bilgisine ulaşabiliriz.\n",
    "# Bir örnek yapalım\n",
    "salary_prediction = linear_reg.predict([[11]])\n",
    "print(f\"Salary for 11 years experience: {salary_prediction}\") # 14185.72536425\n",
    "# Görüldüğü üzere aynı sonuca ulaştık"
   ]
  },
  {
   "cell_type": "code",
   "execution_count": 15,
   "id": "2eb8b322",
   "metadata": {},
   "outputs": [],
   "source": [
    "# predict() metodu sıralı bir şekilde deneyim süresi verebilmek için aşağıdaki array oluşturuldu\n",
    "experience_array = np.arange(16).reshape(-1, 1)"
   ]
  },
  {
   "cell_type": "code",
   "execution_count": 16,
   "id": "8d55ca6e",
   "metadata": {},
   "outputs": [],
   "source": [
    "# experienceArray dizisindeki her bir deneyim yılı değeri için maaş tahmini yapalım\n",
    "y_head = linear_reg.predict(experience_array)"
   ]
  },
  {
   "cell_type": "code",
   "execution_count": 17,
   "id": "d00788fe",
   "metadata": {},
   "outputs": [
    {
     "data": {
      "image/png": "[encoded data removed]",
      "text/plain": [
       "<Figure size 432x288 with 1 Axes>"
      ]
     },
     "metadata": {
      "needs_background": "light"
     },
     "output_type": "display_data"
    }
   ],
   "source": [
    "# Regresyon doğrusunu görselleştirelim\n",
    "# Deneyim yılları ve deneyim yıllarına göre oluşan maaş tahmini için üretilen regresyon doğrusunu görelim\n",
    "plt.scatter(X, y)\n",
    "plt.plot(experience_array, y_head, color=\"red\")\n",
    "plt.show()"
   ]
  }
 ],
 "metadata": {
  "kernelspec": {
   "display_name": "Python 3 (ipykernel)",
   "language": "python",
   "name": "python3"
  },
  "language_info": {
   "codemirror_mode": {
    "name": "ipython",
    "version": 3
   },
   "file_extension": ".py",
   "mimetype": "text/x-python",
   "name": "python",
   "nbconvert_exporter": "python",
   "pygments_lexer": "ipython3",
   "version": "3.10.2"
  }
 },
 "nbformat": 4,
 "nbformat_minor": 5
}
