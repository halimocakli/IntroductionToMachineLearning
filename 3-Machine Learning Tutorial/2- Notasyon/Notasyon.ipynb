{
 "cells": [
  {
   "cell_type": "markdown",
   "metadata": {},
   "source": [
    "## Notasyon - Yazım Kurallarımız"
   ]
  },
  {
   "cell_type": "markdown",
   "metadata": {},
   "source": [
    "Kursumuz boyunca kullanacağımız temel notasyon şu şekilde olacaktır:"
   ]
  },
  {
   "cell_type": "markdown",
   "metadata": {},
   "source": [
    "***\n",
    "# **n**\n",
    "\n",
    "Elimizdeki veri setinin her bir gözlem değeri. \n",
    "\n",
    "`Satır Sayısı` aslında.\n",
    "\n",
    "Örneğin, Maaş verilerini tutan Wage.csv'deki her bir satır bir kişiye ait maaş verisini tutyordu.\n",
    "\n",
    "İşte toplam satır sayısına n diyeceğiz."
   ]
  },
  {
   "cell_type": "markdown",
   "metadata": {},
   "source": [
    "***\n",
    "# **p**\n",
    "\n",
    "Değişken sayısı.\n",
    "\n",
    "Veri içindeki her bir kriter yani `Sütun Sayısıdır`.\n",
    "\n",
    "Örneğin, Maaş verilerindeki sütunlar: year, age, sex, maritl, rage, education ..."
   ]
  },
  {
   "cell_type": "markdown",
   "metadata": {},
   "source": [
    "***\n",
    "#  **$x_{ij} $**\n",
    "\n",
    "i'inci satır, j'inci sütundaki değer.\n",
    "\n",
    "Yani, i'inci gözlem değeri için j'inci değişken.\n",
    "\n",
    "i = 1, 2, 3, ..., n\n",
    "\n",
    "j = 1, 2, 3, ..., p"
   ]
  },
  {
   "cell_type": "markdown",
   "metadata": {},
   "source": [
    "***\n",
    "# **$X$**\n",
    "\n",
    "Tüm verileri tutan girdi (input) matrisi.\n",
    "\n",
    "n satır, p sütun -> $n * p$"
   ]
  },
  {
   "cell_type": "markdown",
   "metadata": {},
   "source": [
    "$$\n",
    "X = \\begin{bmatrix}\n",
    "x_{11} & x_{12} &...& x_{1p}\\\\\n",
    "x_{21} & x_{12} &...& x_{1p}\\\\\n",
    ".&.&.&.\\\\\n",
    "x_{n1} & x_{n2} &...& x_{np}\n",
    "\\end{bmatrix}\n",
    "$$"
   ]
  },
  {
   "cell_type": "markdown",
   "metadata": {},
   "source": [
    "Her bir satır bir gözlem olduğu için -> $x_i$"
   ]
  },
  {
   "cell_type": "markdown",
   "metadata": {},
   "source": [
    "$$x_i = \\begin{bmatrix}\n",
    "x_{i1} & x_{i2} &...& x_{ip}\n",
    "\\end{bmatrix}$$"
   ]
  },
  {
   "cell_type": "markdown",
   "metadata": {},
   "source": [
    "Her bir sütun bir değişken olduğu için -> $x_j$"
   ]
  },
  {
   "cell_type": "markdown",
   "metadata": {},
   "source": [
    "$$x_j = \\begin{bmatrix}\n",
    "x_{1j}\\\\\n",
    "x_{2j}\\\\\n",
    "...\\\\\n",
    "x_{nj}\n",
    "\\end{bmatrix}$$"
   ]
  },
  {
   "cell_type": "markdown",
   "metadata": {},
   "source": [
    "***\n",
    "# **$y$**\n",
    "\n",
    "Herbir gözlem (veri satırı) değerinin sonucu. \n",
    "\n",
    "Label olarak geçer.\n",
    "\n",
    "Her satırın aslında gerçekte ne olduğunu tuttuğumuz değişken.\n",
    "\n",
    "n satır -> **$n * 1$**"
   ]
  },
  {
   "cell_type": "markdown",
   "metadata": {},
   "source": [
    "$$y = \\begin{bmatrix}\n",
    "y_{1}\\\\\n",
    "y_{2}\\\\\n",
    "...\\\\\n",
    "y_{n}\n",
    "\\end{bmatrix}$$"
   ]
  },
  {
   "cell_type": "markdown",
   "metadata": {},
   "source": [
    "Verimiz aslında şu şekildedir: \n",
    "$$\\{(x1, y1), (x2, y2), (x3, y3), ..., (xn, yn)\\}$$"
   ]
  },
  {
   "cell_type": "markdown",
   "metadata": {},
   "source": [
    "Yani her bir satır -> $(gözlem, label)$"
   ]
  },
  {
   "cell_type": "markdown",
   "metadata": {},
   "source": [
    "---"
   ]
  },
  {
   "cell_type": "markdown",
   "metadata": {},
   "source": [
    "### **Örnek**\n",
    "\n",
    "Wage.csv datasını inceleyip,\n",
    "\n",
    "**X, y** olarak Input, Output değişkenlerimizi tanımlayalım:"
   ]
  },
  {
   "cell_type": "code",
   "execution_count": 1,
   "metadata": {},
   "outputs": [],
   "source": [
    "import pandas as pd"
   ]
  },
  {
   "cell_type": "code",
   "execution_count": 2,
   "metadata": {},
   "outputs": [],
   "source": [
    "df = pd.read_csv('Wage.csv', index_col=0)"
   ]
  },
  {
   "cell_type": "code",
   "execution_count": 3,
   "metadata": {},
   "outputs": [
    {
     "data": {
      "text/html": [
       "<div>\n",
       "<style scoped>\n",
       "    .dataframe tbody tr th:only-of-type {\n",
       "        vertical-align: middle;\n",
       "    }\n",
       "\n",
       "    .dataframe tbody tr th {\n",
       "        vertical-align: top;\n",
       "    }\n",
       "\n",
       "    .dataframe thead th {\n",
       "        text-align: right;\n",
       "    }\n",
       "</style>\n",
       "<table border=\"1\" class=\"dataframe\">\n",
       "  <thead>\n",
       "    <tr style=\"text-align: right;\">\n",
       "      <th></th>\n",
       "      <th>year</th>\n",
       "      <th>age</th>\n",
       "      <th>sex</th>\n",
       "      <th>maritl</th>\n",
       "      <th>race</th>\n",
       "      <th>education</th>\n",
       "      <th>region</th>\n",
       "      <th>jobclass</th>\n",
       "      <th>health</th>\n",
       "      <th>health_ins</th>\n",
       "      <th>logwage</th>\n",
       "      <th>wage</th>\n",
       "    </tr>\n",
       "  </thead>\n",
       "  <tbody>\n",
       "    <tr>\n",
       "      <th>231655</th>\n",
       "      <td>2006</td>\n",
       "      <td>18</td>\n",
       "      <td>1. Male</td>\n",
       "      <td>1. Never Married</td>\n",
       "      <td>1. White</td>\n",
       "      <td>1. &lt; HS Grad</td>\n",
       "      <td>2. Middle Atlantic</td>\n",
       "      <td>1. Industrial</td>\n",
       "      <td>1. &lt;=Good</td>\n",
       "      <td>2. No</td>\n",
       "      <td>4.318063</td>\n",
       "      <td>75.043154</td>\n",
       "    </tr>\n",
       "    <tr>\n",
       "      <th>86582</th>\n",
       "      <td>2004</td>\n",
       "      <td>24</td>\n",
       "      <td>1. Male</td>\n",
       "      <td>1. Never Married</td>\n",
       "      <td>1. White</td>\n",
       "      <td>4. College Grad</td>\n",
       "      <td>2. Middle Atlantic</td>\n",
       "      <td>2. Information</td>\n",
       "      <td>2. &gt;=Very Good</td>\n",
       "      <td>2. No</td>\n",
       "      <td>4.255273</td>\n",
       "      <td>70.476020</td>\n",
       "    </tr>\n",
       "    <tr>\n",
       "      <th>161300</th>\n",
       "      <td>2003</td>\n",
       "      <td>45</td>\n",
       "      <td>1. Male</td>\n",
       "      <td>2. Married</td>\n",
       "      <td>1. White</td>\n",
       "      <td>3. Some College</td>\n",
       "      <td>2. Middle Atlantic</td>\n",
       "      <td>1. Industrial</td>\n",
       "      <td>1. &lt;=Good</td>\n",
       "      <td>1. Yes</td>\n",
       "      <td>4.875061</td>\n",
       "      <td>130.982177</td>\n",
       "    </tr>\n",
       "    <tr>\n",
       "      <th>155159</th>\n",
       "      <td>2003</td>\n",
       "      <td>43</td>\n",
       "      <td>1. Male</td>\n",
       "      <td>2. Married</td>\n",
       "      <td>3. Asian</td>\n",
       "      <td>4. College Grad</td>\n",
       "      <td>2. Middle Atlantic</td>\n",
       "      <td>2. Information</td>\n",
       "      <td>2. &gt;=Very Good</td>\n",
       "      <td>1. Yes</td>\n",
       "      <td>5.041393</td>\n",
       "      <td>154.685293</td>\n",
       "    </tr>\n",
       "    <tr>\n",
       "      <th>11443</th>\n",
       "      <td>2005</td>\n",
       "      <td>50</td>\n",
       "      <td>1. Male</td>\n",
       "      <td>4. Divorced</td>\n",
       "      <td>1. White</td>\n",
       "      <td>2. HS Grad</td>\n",
       "      <td>2. Middle Atlantic</td>\n",
       "      <td>2. Information</td>\n",
       "      <td>1. &lt;=Good</td>\n",
       "      <td>1. Yes</td>\n",
       "      <td>4.318063</td>\n",
       "      <td>75.043154</td>\n",
       "    </tr>\n",
       "    <tr>\n",
       "      <th>...</th>\n",
       "      <td>...</td>\n",
       "      <td>...</td>\n",
       "      <td>...</td>\n",
       "      <td>...</td>\n",
       "      <td>...</td>\n",
       "      <td>...</td>\n",
       "      <td>...</td>\n",
       "      <td>...</td>\n",
       "      <td>...</td>\n",
       "      <td>...</td>\n",
       "      <td>...</td>\n",
       "      <td>...</td>\n",
       "    </tr>\n",
       "    <tr>\n",
       "      <th>376816</th>\n",
       "      <td>2008</td>\n",
       "      <td>44</td>\n",
       "      <td>1. Male</td>\n",
       "      <td>2. Married</td>\n",
       "      <td>1. White</td>\n",
       "      <td>3. Some College</td>\n",
       "      <td>2. Middle Atlantic</td>\n",
       "      <td>1. Industrial</td>\n",
       "      <td>2. &gt;=Very Good</td>\n",
       "      <td>1. Yes</td>\n",
       "      <td>5.041393</td>\n",
       "      <td>154.685293</td>\n",
       "    </tr>\n",
       "    <tr>\n",
       "      <th>302281</th>\n",
       "      <td>2007</td>\n",
       "      <td>30</td>\n",
       "      <td>1. Male</td>\n",
       "      <td>2. Married</td>\n",
       "      <td>1. White</td>\n",
       "      <td>2. HS Grad</td>\n",
       "      <td>2. Middle Atlantic</td>\n",
       "      <td>1. Industrial</td>\n",
       "      <td>2. &gt;=Very Good</td>\n",
       "      <td>2. No</td>\n",
       "      <td>4.602060</td>\n",
       "      <td>99.689464</td>\n",
       "    </tr>\n",
       "    <tr>\n",
       "      <th>10033</th>\n",
       "      <td>2005</td>\n",
       "      <td>27</td>\n",
       "      <td>1. Male</td>\n",
       "      <td>2. Married</td>\n",
       "      <td>2. Black</td>\n",
       "      <td>1. &lt; HS Grad</td>\n",
       "      <td>2. Middle Atlantic</td>\n",
       "      <td>1. Industrial</td>\n",
       "      <td>1. &lt;=Good</td>\n",
       "      <td>2. No</td>\n",
       "      <td>4.193125</td>\n",
       "      <td>66.229408</td>\n",
       "    </tr>\n",
       "    <tr>\n",
       "      <th>14375</th>\n",
       "      <td>2005</td>\n",
       "      <td>27</td>\n",
       "      <td>1. Male</td>\n",
       "      <td>1. Never Married</td>\n",
       "      <td>1. White</td>\n",
       "      <td>3. Some College</td>\n",
       "      <td>2. Middle Atlantic</td>\n",
       "      <td>1. Industrial</td>\n",
       "      <td>2. &gt;=Very Good</td>\n",
       "      <td>1. Yes</td>\n",
       "      <td>4.477121</td>\n",
       "      <td>87.981033</td>\n",
       "    </tr>\n",
       "    <tr>\n",
       "      <th>453557</th>\n",
       "      <td>2009</td>\n",
       "      <td>55</td>\n",
       "      <td>1. Male</td>\n",
       "      <td>5. Separated</td>\n",
       "      <td>1. White</td>\n",
       "      <td>2. HS Grad</td>\n",
       "      <td>2. Middle Atlantic</td>\n",
       "      <td>1. Industrial</td>\n",
       "      <td>1. &lt;=Good</td>\n",
       "      <td>1. Yes</td>\n",
       "      <td>4.505150</td>\n",
       "      <td>90.481913</td>\n",
       "    </tr>\n",
       "  </tbody>\n",
       "</table>\n",
       "<p>3000 rows × 12 columns</p>\n",
       "</div>"
      ],
      "text/plain": [
       "        year  age      sex            maritl      race        education  \\\n",
       "231655  2006   18  1. Male  1. Never Married  1. White     1. < HS Grad   \n",
       "86582   2004   24  1. Male  1. Never Married  1. White  4. College Grad   \n",
       "161300  2003   45  1. Male        2. Married  1. White  3. Some College   \n",
       "155159  2003   43  1. Male        2. Married  3. Asian  4. College Grad   \n",
       "11443   2005   50  1. Male       4. Divorced  1. White       2. HS Grad   \n",
       "...      ...  ...      ...               ...       ...              ...   \n",
       "376816  2008   44  1. Male        2. Married  1. White  3. Some College   \n",
       "302281  2007   30  1. Male        2. Married  1. White       2. HS Grad   \n",
       "10033   2005   27  1. Male        2. Married  2. Black     1. < HS Grad   \n",
       "14375   2005   27  1. Male  1. Never Married  1. White  3. Some College   \n",
       "453557  2009   55  1. Male      5. Separated  1. White       2. HS Grad   \n",
       "\n",
       "                    region        jobclass          health health_ins  \\\n",
       "231655  2. Middle Atlantic   1. Industrial       1. <=Good      2. No   \n",
       "86582   2. Middle Atlantic  2. Information  2. >=Very Good      2. No   \n",
       "161300  2. Middle Atlantic   1. Industrial       1. <=Good     1. Yes   \n",
       "155159  2. Middle Atlantic  2. Information  2. >=Very Good     1. Yes   \n",
       "11443   2. Middle Atlantic  2. Information       1. <=Good     1. Yes   \n",
       "...                    ...             ...             ...        ...   \n",
       "376816  2. Middle Atlantic   1. Industrial  2. >=Very Good     1. Yes   \n",
       "302281  2. Middle Atlantic   1. Industrial  2. >=Very Good      2. No   \n",
       "10033   2. Middle Atlantic   1. Industrial       1. <=Good      2. No   \n",
       "14375   2. Middle Atlantic   1. Industrial  2. >=Very Good     1. Yes   \n",
       "453557  2. Middle Atlantic   1. Industrial       1. <=Good     1. Yes   \n",
       "\n",
       "         logwage        wage  \n",
       "231655  4.318063   75.043154  \n",
       "86582   4.255273   70.476020  \n",
       "161300  4.875061  130.982177  \n",
       "155159  5.041393  154.685293  \n",
       "11443   4.318063   75.043154  \n",
       "...          ...         ...  \n",
       "376816  5.041393  154.685293  \n",
       "302281  4.602060   99.689464  \n",
       "10033   4.193125   66.229408  \n",
       "14375   4.477121   87.981033  \n",
       "453557  4.505150   90.481913  \n",
       "\n",
       "[3000 rows x 12 columns]"
      ]
     },
     "execution_count": 3,
     "metadata": {},
     "output_type": "execute_result"
    }
   ],
   "source": [
    "df"
   ]
  },
  {
   "cell_type": "code",
   "execution_count": 4,
   "metadata": {},
   "outputs": [
    {
     "data": {
      "text/html": [
       "<div>\n",
       "<style scoped>\n",
       "    .dataframe tbody tr th:only-of-type {\n",
       "        vertical-align: middle;\n",
       "    }\n",
       "\n",
       "    .dataframe tbody tr th {\n",
       "        vertical-align: top;\n",
       "    }\n",
       "\n",
       "    .dataframe thead th {\n",
       "        text-align: right;\n",
       "    }\n",
       "</style>\n",
       "<table border=\"1\" class=\"dataframe\">\n",
       "  <thead>\n",
       "    <tr style=\"text-align: right;\">\n",
       "      <th></th>\n",
       "      <th>year</th>\n",
       "      <th>age</th>\n",
       "      <th>logwage</th>\n",
       "      <th>wage</th>\n",
       "    </tr>\n",
       "  </thead>\n",
       "  <tbody>\n",
       "    <tr>\n",
       "      <th>count</th>\n",
       "      <td>3000.000000</td>\n",
       "      <td>3000.000000</td>\n",
       "      <td>3000.000000</td>\n",
       "      <td>3000.000000</td>\n",
       "    </tr>\n",
       "    <tr>\n",
       "      <th>mean</th>\n",
       "      <td>2005.791000</td>\n",
       "      <td>42.414667</td>\n",
       "      <td>4.653905</td>\n",
       "      <td>111.703608</td>\n",
       "    </tr>\n",
       "    <tr>\n",
       "      <th>std</th>\n",
       "      <td>2.026167</td>\n",
       "      <td>11.542406</td>\n",
       "      <td>0.351753</td>\n",
       "      <td>41.728595</td>\n",
       "    </tr>\n",
       "    <tr>\n",
       "      <th>min</th>\n",
       "      <td>2003.000000</td>\n",
       "      <td>18.000000</td>\n",
       "      <td>3.000000</td>\n",
       "      <td>20.085537</td>\n",
       "    </tr>\n",
       "    <tr>\n",
       "      <th>25%</th>\n",
       "      <td>2004.000000</td>\n",
       "      <td>33.750000</td>\n",
       "      <td>4.447158</td>\n",
       "      <td>85.383940</td>\n",
       "    </tr>\n",
       "    <tr>\n",
       "      <th>50%</th>\n",
       "      <td>2006.000000</td>\n",
       "      <td>42.000000</td>\n",
       "      <td>4.653213</td>\n",
       "      <td>104.921507</td>\n",
       "    </tr>\n",
       "    <tr>\n",
       "      <th>75%</th>\n",
       "      <td>2008.000000</td>\n",
       "      <td>51.000000</td>\n",
       "      <td>4.857332</td>\n",
       "      <td>128.680488</td>\n",
       "    </tr>\n",
       "    <tr>\n",
       "      <th>max</th>\n",
       "      <td>2009.000000</td>\n",
       "      <td>80.000000</td>\n",
       "      <td>5.763128</td>\n",
       "      <td>318.342430</td>\n",
       "    </tr>\n",
       "  </tbody>\n",
       "</table>\n",
       "</div>"
      ],
      "text/plain": [
       "              year          age      logwage         wage\n",
       "count  3000.000000  3000.000000  3000.000000  3000.000000\n",
       "mean   2005.791000    42.414667     4.653905   111.703608\n",
       "std       2.026167    11.542406     0.351753    41.728595\n",
       "min    2003.000000    18.000000     3.000000    20.085537\n",
       "25%    2004.000000    33.750000     4.447158    85.383940\n",
       "50%    2006.000000    42.000000     4.653213   104.921507\n",
       "75%    2008.000000    51.000000     4.857332   128.680488\n",
       "max    2009.000000    80.000000     5.763128   318.342430"
      ]
     },
     "execution_count": 4,
     "metadata": {},
     "output_type": "execute_result"
    }
   ],
   "source": [
    "df.describe()"
   ]
  },
  {
   "cell_type": "markdown",
   "metadata": {},
   "source": [
    "Bakınız, 3000 satır var yani 3000 adet bağımsız gözlem var:\n",
    "\n",
    "**n = 3000**"
   ]
  },
  {
   "cell_type": "code",
   "execution_count": 5,
   "metadata": {},
   "outputs": [
    {
     "data": {
      "text/html": [
       "<div>\n",
       "<style scoped>\n",
       "    .dataframe tbody tr th:only-of-type {\n",
       "        vertical-align: middle;\n",
       "    }\n",
       "\n",
       "    .dataframe tbody tr th {\n",
       "        vertical-align: top;\n",
       "    }\n",
       "\n",
       "    .dataframe thead th {\n",
       "        text-align: right;\n",
       "    }\n",
       "</style>\n",
       "<table border=\"1\" class=\"dataframe\">\n",
       "  <thead>\n",
       "    <tr style=\"text-align: right;\">\n",
       "      <th></th>\n",
       "      <th>year</th>\n",
       "      <th>age</th>\n",
       "      <th>sex</th>\n",
       "      <th>maritl</th>\n",
       "      <th>race</th>\n",
       "      <th>education</th>\n",
       "      <th>region</th>\n",
       "      <th>jobclass</th>\n",
       "      <th>health</th>\n",
       "      <th>health_ins</th>\n",
       "      <th>logwage</th>\n",
       "      <th>wage</th>\n",
       "    </tr>\n",
       "  </thead>\n",
       "  <tbody>\n",
       "    <tr>\n",
       "      <th>231655</th>\n",
       "      <td>2006</td>\n",
       "      <td>18</td>\n",
       "      <td>1. Male</td>\n",
       "      <td>1. Never Married</td>\n",
       "      <td>1. White</td>\n",
       "      <td>1. &lt; HS Grad</td>\n",
       "      <td>2. Middle Atlantic</td>\n",
       "      <td>1. Industrial</td>\n",
       "      <td>1. &lt;=Good</td>\n",
       "      <td>2. No</td>\n",
       "      <td>4.318063</td>\n",
       "      <td>75.043154</td>\n",
       "    </tr>\n",
       "    <tr>\n",
       "      <th>86582</th>\n",
       "      <td>2004</td>\n",
       "      <td>24</td>\n",
       "      <td>1. Male</td>\n",
       "      <td>1. Never Married</td>\n",
       "      <td>1. White</td>\n",
       "      <td>4. College Grad</td>\n",
       "      <td>2. Middle Atlantic</td>\n",
       "      <td>2. Information</td>\n",
       "      <td>2. &gt;=Very Good</td>\n",
       "      <td>2. No</td>\n",
       "      <td>4.255273</td>\n",
       "      <td>70.476020</td>\n",
       "    </tr>\n",
       "    <tr>\n",
       "      <th>161300</th>\n",
       "      <td>2003</td>\n",
       "      <td>45</td>\n",
       "      <td>1. Male</td>\n",
       "      <td>2. Married</td>\n",
       "      <td>1. White</td>\n",
       "      <td>3. Some College</td>\n",
       "      <td>2. Middle Atlantic</td>\n",
       "      <td>1. Industrial</td>\n",
       "      <td>1. &lt;=Good</td>\n",
       "      <td>1. Yes</td>\n",
       "      <td>4.875061</td>\n",
       "      <td>130.982177</td>\n",
       "    </tr>\n",
       "    <tr>\n",
       "      <th>155159</th>\n",
       "      <td>2003</td>\n",
       "      <td>43</td>\n",
       "      <td>1. Male</td>\n",
       "      <td>2. Married</td>\n",
       "      <td>3. Asian</td>\n",
       "      <td>4. College Grad</td>\n",
       "      <td>2. Middle Atlantic</td>\n",
       "      <td>2. Information</td>\n",
       "      <td>2. &gt;=Very Good</td>\n",
       "      <td>1. Yes</td>\n",
       "      <td>5.041393</td>\n",
       "      <td>154.685293</td>\n",
       "    </tr>\n",
       "    <tr>\n",
       "      <th>11443</th>\n",
       "      <td>2005</td>\n",
       "      <td>50</td>\n",
       "      <td>1. Male</td>\n",
       "      <td>4. Divorced</td>\n",
       "      <td>1. White</td>\n",
       "      <td>2. HS Grad</td>\n",
       "      <td>2. Middle Atlantic</td>\n",
       "      <td>2. Information</td>\n",
       "      <td>1. &lt;=Good</td>\n",
       "      <td>1. Yes</td>\n",
       "      <td>4.318063</td>\n",
       "      <td>75.043154</td>\n",
       "    </tr>\n",
       "  </tbody>\n",
       "</table>\n",
       "</div>"
      ],
      "text/plain": [
       "        year  age      sex            maritl      race        education  \\\n",
       "231655  2006   18  1. Male  1. Never Married  1. White     1. < HS Grad   \n",
       "86582   2004   24  1. Male  1. Never Married  1. White  4. College Grad   \n",
       "161300  2003   45  1. Male        2. Married  1. White  3. Some College   \n",
       "155159  2003   43  1. Male        2. Married  3. Asian  4. College Grad   \n",
       "11443   2005   50  1. Male       4. Divorced  1. White       2. HS Grad   \n",
       "\n",
       "                    region        jobclass          health health_ins  \\\n",
       "231655  2. Middle Atlantic   1. Industrial       1. <=Good      2. No   \n",
       "86582   2. Middle Atlantic  2. Information  2. >=Very Good      2. No   \n",
       "161300  2. Middle Atlantic   1. Industrial       1. <=Good     1. Yes   \n",
       "155159  2. Middle Atlantic  2. Information  2. >=Very Good     1. Yes   \n",
       "11443   2. Middle Atlantic  2. Information       1. <=Good     1. Yes   \n",
       "\n",
       "         logwage        wage  \n",
       "231655  4.318063   75.043154  \n",
       "86582   4.255273   70.476020  \n",
       "161300  4.875061  130.982177  \n",
       "155159  5.041393  154.685293  \n",
       "11443   4.318063   75.043154  "
      ]
     },
     "execution_count": 5,
     "metadata": {},
     "output_type": "execute_result"
    }
   ],
   "source": [
    "df.head()"
   ]
  },
  {
   "cell_type": "code",
   "execution_count": 6,
   "metadata": {},
   "outputs": [
    {
     "data": {
      "text/plain": [
       "Index(['year', 'age', 'sex', 'maritl', 'race', 'education', 'region',\n",
       "       'jobclass', 'health', 'health_ins', 'logwage', 'wage'],\n",
       "      dtype='object')"
      ]
     },
     "execution_count": 6,
     "metadata": {},
     "output_type": "execute_result"
    }
   ],
   "source": [
    "df.columns"
   ]
  },
  {
   "cell_type": "code",
   "execution_count": 7,
   "metadata": {},
   "outputs": [
    {
     "data": {
      "text/plain": [
       "12"
      ]
     },
     "execution_count": 7,
     "metadata": {},
     "output_type": "execute_result"
    }
   ],
   "source": [
    "df.columns.size"
   ]
  },
  {
   "cell_type": "markdown",
   "metadata": {},
   "source": [
    "12 adet sütunumuz var ama bunların bir tanesi özel bir sütun.\n",
    "\n",
    "**wage** sütunu aslında sonuç, yani `Label` sütunu.\n",
    "\n",
    "Onu değişkenlerden ayırmamız lazım."
   ]
  },
  {
   "cell_type": "code",
   "execution_count": 8,
   "metadata": {},
   "outputs": [
    {
     "data": {
      "text/plain": [
       "11"
      ]
     },
     "execution_count": 8,
     "metadata": {},
     "output_type": "execute_result"
    }
   ],
   "source": [
    "degiskenler = ['year', 'age', 'sex', 'maritl', 'race', 'education', 'region',\n",
    "               'jobclass', 'health', 'health_ins', 'logwage']\n",
    "len(degiskenler)"
   ]
  },
  {
   "cell_type": "markdown",
   "metadata": {},
   "source": [
    "Label'i ayırdığımıza göre geriye kalan sütunlar değişkenlerimiz olacak.\n",
    "\n",
    "**p = 11**"
   ]
  },
  {
   "cell_type": "markdown",
   "metadata": {},
   "source": [
    "Tüm değişkenleri tutan matris -> $X$"
   ]
  },
  {
   "cell_type": "code",
   "execution_count": 9,
   "metadata": {},
   "outputs": [],
   "source": [
    "# input variable -> X\n",
    "\n",
    "X = df[degiskenler]"
   ]
  },
  {
   "cell_type": "code",
   "execution_count": 10,
   "metadata": {},
   "outputs": [
    {
     "data": {
      "text/plain": [
       "Index(['year', 'age', 'sex', 'maritl', 'race', 'education', 'region',\n",
       "       'jobclass', 'health', 'health_ins', 'logwage'],\n",
       "      dtype='object')"
      ]
     },
     "execution_count": 10,
     "metadata": {},
     "output_type": "execute_result"
    }
   ],
   "source": [
    "X.columns"
   ]
  },
  {
   "cell_type": "code",
   "execution_count": 11,
   "metadata": {},
   "outputs": [],
   "source": [
    "# output variable -> y\n",
    "\n",
    "y = df['wage']"
   ]
  },
  {
   "cell_type": "code",
   "execution_count": 12,
   "metadata": {},
   "outputs": [
    {
     "data": {
      "text/plain": [
       "231655     75.043154\n",
       "86582      70.476020\n",
       "161300    130.982177\n",
       "155159    154.685293\n",
       "11443      75.043154\n",
       "376662    127.115744\n",
       "450601    169.528538\n",
       "377954    111.720849\n",
       "228963    118.884359\n",
       "81404     128.680488\n",
       "Name: wage, dtype: float64"
      ]
     },
     "execution_count": 12,
     "metadata": {},
     "output_type": "execute_result"
    }
   ],
   "source": [
    "y.head(10)"
   ]
  },
  {
   "cell_type": "code",
   "execution_count": 13,
   "metadata": {},
   "outputs": [
    {
     "data": {
      "text/plain": [
       "3000"
      ]
     },
     "execution_count": 13,
     "metadata": {},
     "output_type": "execute_result"
    }
   ],
   "source": [
    "len(y)"
   ]
  },
  {
   "cell_type": "markdown",
   "metadata": {},
   "source": [
    "**Örnek:**"
   ]
  },
  {
   "cell_type": "markdown",
   "metadata": {},
   "source": [
    "i = 4 olsun\n",
    "\n",
    "Yani 4. satırı getirelim. (index = 3)"
   ]
  },
  {
   "cell_type": "code",
   "execution_count": 14,
   "metadata": {},
   "outputs": [
    {
     "data": {
      "text/html": [
       "<div>\n",
       "<style scoped>\n",
       "    .dataframe tbody tr th:only-of-type {\n",
       "        vertical-align: middle;\n",
       "    }\n",
       "\n",
       "    .dataframe tbody tr th {\n",
       "        vertical-align: top;\n",
       "    }\n",
       "\n",
       "    .dataframe thead th {\n",
       "        text-align: right;\n",
       "    }\n",
       "</style>\n",
       "<table border=\"1\" class=\"dataframe\">\n",
       "  <thead>\n",
       "    <tr style=\"text-align: right;\">\n",
       "      <th></th>\n",
       "      <th>year</th>\n",
       "      <th>age</th>\n",
       "      <th>sex</th>\n",
       "      <th>maritl</th>\n",
       "      <th>race</th>\n",
       "      <th>education</th>\n",
       "      <th>region</th>\n",
       "      <th>jobclass</th>\n",
       "      <th>health</th>\n",
       "      <th>health_ins</th>\n",
       "      <th>logwage</th>\n",
       "    </tr>\n",
       "  </thead>\n",
       "  <tbody>\n",
       "    <tr>\n",
       "      <th>231655</th>\n",
       "      <td>2006</td>\n",
       "      <td>18</td>\n",
       "      <td>1. Male</td>\n",
       "      <td>1. Never Married</td>\n",
       "      <td>1. White</td>\n",
       "      <td>1. &lt; HS Grad</td>\n",
       "      <td>2. Middle Atlantic</td>\n",
       "      <td>1. Industrial</td>\n",
       "      <td>1. &lt;=Good</td>\n",
       "      <td>2. No</td>\n",
       "      <td>4.318063</td>\n",
       "    </tr>\n",
       "    <tr>\n",
       "      <th>86582</th>\n",
       "      <td>2004</td>\n",
       "      <td>24</td>\n",
       "      <td>1. Male</td>\n",
       "      <td>1. Never Married</td>\n",
       "      <td>1. White</td>\n",
       "      <td>4. College Grad</td>\n",
       "      <td>2. Middle Atlantic</td>\n",
       "      <td>2. Information</td>\n",
       "      <td>2. &gt;=Very Good</td>\n",
       "      <td>2. No</td>\n",
       "      <td>4.255273</td>\n",
       "    </tr>\n",
       "    <tr>\n",
       "      <th>161300</th>\n",
       "      <td>2003</td>\n",
       "      <td>45</td>\n",
       "      <td>1. Male</td>\n",
       "      <td>2. Married</td>\n",
       "      <td>1. White</td>\n",
       "      <td>3. Some College</td>\n",
       "      <td>2. Middle Atlantic</td>\n",
       "      <td>1. Industrial</td>\n",
       "      <td>1. &lt;=Good</td>\n",
       "      <td>1. Yes</td>\n",
       "      <td>4.875061</td>\n",
       "    </tr>\n",
       "    <tr>\n",
       "      <th>155159</th>\n",
       "      <td>2003</td>\n",
       "      <td>43</td>\n",
       "      <td>1. Male</td>\n",
       "      <td>2. Married</td>\n",
       "      <td>3. Asian</td>\n",
       "      <td>4. College Grad</td>\n",
       "      <td>2. Middle Atlantic</td>\n",
       "      <td>2. Information</td>\n",
       "      <td>2. &gt;=Very Good</td>\n",
       "      <td>1. Yes</td>\n",
       "      <td>5.041393</td>\n",
       "    </tr>\n",
       "    <tr>\n",
       "      <th>11443</th>\n",
       "      <td>2005</td>\n",
       "      <td>50</td>\n",
       "      <td>1. Male</td>\n",
       "      <td>4. Divorced</td>\n",
       "      <td>1. White</td>\n",
       "      <td>2. HS Grad</td>\n",
       "      <td>2. Middle Atlantic</td>\n",
       "      <td>2. Information</td>\n",
       "      <td>1. &lt;=Good</td>\n",
       "      <td>1. Yes</td>\n",
       "      <td>4.318063</td>\n",
       "    </tr>\n",
       "    <tr>\n",
       "      <th>...</th>\n",
       "      <td>...</td>\n",
       "      <td>...</td>\n",
       "      <td>...</td>\n",
       "      <td>...</td>\n",
       "      <td>...</td>\n",
       "      <td>...</td>\n",
       "      <td>...</td>\n",
       "      <td>...</td>\n",
       "      <td>...</td>\n",
       "      <td>...</td>\n",
       "      <td>...</td>\n",
       "    </tr>\n",
       "    <tr>\n",
       "      <th>376816</th>\n",
       "      <td>2008</td>\n",
       "      <td>44</td>\n",
       "      <td>1. Male</td>\n",
       "      <td>2. Married</td>\n",
       "      <td>1. White</td>\n",
       "      <td>3. Some College</td>\n",
       "      <td>2. Middle Atlantic</td>\n",
       "      <td>1. Industrial</td>\n",
       "      <td>2. &gt;=Very Good</td>\n",
       "      <td>1. Yes</td>\n",
       "      <td>5.041393</td>\n",
       "    </tr>\n",
       "    <tr>\n",
       "      <th>302281</th>\n",
       "      <td>2007</td>\n",
       "      <td>30</td>\n",
       "      <td>1. Male</td>\n",
       "      <td>2. Married</td>\n",
       "      <td>1. White</td>\n",
       "      <td>2. HS Grad</td>\n",
       "      <td>2. Middle Atlantic</td>\n",
       "      <td>1. Industrial</td>\n",
       "      <td>2. &gt;=Very Good</td>\n",
       "      <td>2. No</td>\n",
       "      <td>4.602060</td>\n",
       "    </tr>\n",
       "    <tr>\n",
       "      <th>10033</th>\n",
       "      <td>2005</td>\n",
       "      <td>27</td>\n",
       "      <td>1. Male</td>\n",
       "      <td>2. Married</td>\n",
       "      <td>2. Black</td>\n",
       "      <td>1. &lt; HS Grad</td>\n",
       "      <td>2. Middle Atlantic</td>\n",
       "      <td>1. Industrial</td>\n",
       "      <td>1. &lt;=Good</td>\n",
       "      <td>2. No</td>\n",
       "      <td>4.193125</td>\n",
       "    </tr>\n",
       "    <tr>\n",
       "      <th>14375</th>\n",
       "      <td>2005</td>\n",
       "      <td>27</td>\n",
       "      <td>1. Male</td>\n",
       "      <td>1. Never Married</td>\n",
       "      <td>1. White</td>\n",
       "      <td>3. Some College</td>\n",
       "      <td>2. Middle Atlantic</td>\n",
       "      <td>1. Industrial</td>\n",
       "      <td>2. &gt;=Very Good</td>\n",
       "      <td>1. Yes</td>\n",
       "      <td>4.477121</td>\n",
       "    </tr>\n",
       "    <tr>\n",
       "      <th>453557</th>\n",
       "      <td>2009</td>\n",
       "      <td>55</td>\n",
       "      <td>1. Male</td>\n",
       "      <td>5. Separated</td>\n",
       "      <td>1. White</td>\n",
       "      <td>2. HS Grad</td>\n",
       "      <td>2. Middle Atlantic</td>\n",
       "      <td>1. Industrial</td>\n",
       "      <td>1. &lt;=Good</td>\n",
       "      <td>1. Yes</td>\n",
       "      <td>4.505150</td>\n",
       "    </tr>\n",
       "  </tbody>\n",
       "</table>\n",
       "<p>3000 rows × 11 columns</p>\n",
       "</div>"
      ],
      "text/plain": [
       "        year  age      sex            maritl      race        education  \\\n",
       "231655  2006   18  1. Male  1. Never Married  1. White     1. < HS Grad   \n",
       "86582   2004   24  1. Male  1. Never Married  1. White  4. College Grad   \n",
       "161300  2003   45  1. Male        2. Married  1. White  3. Some College   \n",
       "155159  2003   43  1. Male        2. Married  3. Asian  4. College Grad   \n",
       "11443   2005   50  1. Male       4. Divorced  1. White       2. HS Grad   \n",
       "...      ...  ...      ...               ...       ...              ...   \n",
       "376816  2008   44  1. Male        2. Married  1. White  3. Some College   \n",
       "302281  2007   30  1. Male        2. Married  1. White       2. HS Grad   \n",
       "10033   2005   27  1. Male        2. Married  2. Black     1. < HS Grad   \n",
       "14375   2005   27  1. Male  1. Never Married  1. White  3. Some College   \n",
       "453557  2009   55  1. Male      5. Separated  1. White       2. HS Grad   \n",
       "\n",
       "                    region        jobclass          health health_ins  \\\n",
       "231655  2. Middle Atlantic   1. Industrial       1. <=Good      2. No   \n",
       "86582   2. Middle Atlantic  2. Information  2. >=Very Good      2. No   \n",
       "161300  2. Middle Atlantic   1. Industrial       1. <=Good     1. Yes   \n",
       "155159  2. Middle Atlantic  2. Information  2. >=Very Good     1. Yes   \n",
       "11443   2. Middle Atlantic  2. Information       1. <=Good     1. Yes   \n",
       "...                    ...             ...             ...        ...   \n",
       "376816  2. Middle Atlantic   1. Industrial  2. >=Very Good     1. Yes   \n",
       "302281  2. Middle Atlantic   1. Industrial  2. >=Very Good      2. No   \n",
       "10033   2. Middle Atlantic   1. Industrial       1. <=Good      2. No   \n",
       "14375   2. Middle Atlantic   1. Industrial  2. >=Very Good     1. Yes   \n",
       "453557  2. Middle Atlantic   1. Industrial       1. <=Good     1. Yes   \n",
       "\n",
       "         logwage  \n",
       "231655  4.318063  \n",
       "86582   4.255273  \n",
       "161300  4.875061  \n",
       "155159  5.041393  \n",
       "11443   4.318063  \n",
       "...          ...  \n",
       "376816  5.041393  \n",
       "302281  4.602060  \n",
       "10033   4.193125  \n",
       "14375   4.477121  \n",
       "453557  4.505150  \n",
       "\n",
       "[3000 rows x 11 columns]"
      ]
     },
     "execution_count": 14,
     "metadata": {},
     "output_type": "execute_result"
    }
   ],
   "source": [
    "X"
   ]
  },
  {
   "cell_type": "code",
   "execution_count": 15,
   "metadata": {},
   "outputs": [
    {
     "data": {
      "text/plain": [
       "year                        2003\n",
       "age                           43\n",
       "sex                      1. Male\n",
       "maritl                2. Married\n",
       "race                    3. Asian\n",
       "education        4. College Grad\n",
       "region        2. Middle Atlantic\n",
       "jobclass          2. Information\n",
       "health            2. >=Very Good\n",
       "health_ins                1. Yes\n",
       "logwage                 5.041393\n",
       "Name: 155159, dtype: object"
      ]
     },
     "execution_count": 15,
     "metadata": {},
     "output_type": "execute_result"
    }
   ],
   "source": [
    "# 4. satır input\n",
    "# x4\n",
    "\n",
    "X.iloc[3,:]"
   ]
  },
  {
   "cell_type": "code",
   "execution_count": 16,
   "metadata": {},
   "outputs": [
    {
     "data": {
      "text/plain": [
       "154.68529299563"
      ]
     },
     "execution_count": 16,
     "metadata": {},
     "output_type": "execute_result"
    }
   ],
   "source": [
    "# 4. satır output\n",
    "# y4\n",
    "\n",
    "y.iloc[3]"
   ]
  }
 ],
 "metadata": {
  "kernelspec": {
   "display_name": "Python 3 (ipykernel)",
   "language": "python",
   "name": "python3"
  },
  "language_info": {
   "codemirror_mode": {
    "name": "ipython",
    "version": 3
   },
   "file_extension": ".py",
   "mimetype": "text/x-python",
   "name": "python",
   "nbconvert_exporter": "python",
   "pygments_lexer": "ipython3",
   "version": "3.10.2"
  }
 },
 "nbformat": 4,
 "nbformat_minor": 4
}
