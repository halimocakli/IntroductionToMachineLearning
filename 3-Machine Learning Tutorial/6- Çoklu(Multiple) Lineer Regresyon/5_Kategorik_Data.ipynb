{
 "cells": [
  {
   "cell_type": "markdown",
   "id": "confidential-arcade",
   "metadata": {},
   "source": [
    "## Kategorik Data"
   ]
  },
  {
   "cell_type": "markdown",
   "id": "quick-ceremony",
   "metadata": {},
   "source": [
    "Birçok Machine Learning probleminde elimizdeki veriler, sayısal değil, kategorik veriler olur."
   ]
  },
  {
   "cell_type": "markdown",
   "id": "contemporary-substance",
   "metadata": {},
   "source": [
    "Örnekler\n",
    "\n",
    "* Kişinin Evlilik durumu: Evli, Bekar, Belirtilmemiş\n",
    "* Cinsiyet: Kadın, Erkek\n",
    "* Eğitim Durumu: İlk, Orta, Lise, Lisans, Yüksek Lisans\n"
   ]
  },
  {
   "cell_type": "markdown",
   "id": "neutral-advertising",
   "metadata": {},
   "source": [
    "ML Algoritmaları sayısal girdiler ile çalışırlar. Dolayısı ile kategorik verilerin bir şekilde sayısal veriye dönüştürülmesi lazım."
   ]
  },
  {
   "cell_type": "markdown",
   "id": "enormous-oxide",
   "metadata": {},
   "source": [
    "İki tür dönüşüm (encoding) yapılabilir. Bunlar:\n",
    "* Label Encoding\n",
    "* One-Hot Encoding"
   ]
  },
  {
   "cell_type": "markdown",
   "id": "ef63d168",
   "metadata": {},
   "source": [
    "***"
   ]
  },
  {
   "cell_type": "markdown",
   "id": "fewer-louisiana",
   "metadata": {},
   "source": [
    "### Label Encoding"
   ]
  },
  {
   "cell_type": "markdown",
   "id": "embedded-alignment",
   "metadata": {},
   "source": [
    "#### Pandas kullanarak"
   ]
  },
  {
   "cell_type": "markdown",
   "id": "billion-concept",
   "metadata": {},
   "source": [
    "Dataframe'in kategori sütununun türünü 'category' yapıp birer sayıya atayacağız."
   ]
  },
  {
   "cell_type": "code",
   "execution_count": 1,
   "id": "piano-romantic",
   "metadata": {},
   "outputs": [],
   "source": [
    "# Gerekli kütüphaneleri import edelim\n",
    "\n",
    "import pandas as pd\n",
    "import numpy as np"
   ]
  },
  {
   "cell_type": "code",
   "execution_count": 2,
   "id": "ready-practice",
   "metadata": {},
   "outputs": [],
   "source": [
    "# Row Data oluşturalım\n",
    "marriage_status = ('Married','Single','Unspecified')\n",
    "\n",
    "# Dataframe yaratalım\n",
    "marriage_stat_df = pd.DataFrame(marriage_status, columns=['Marriage Status'])"
   ]
  },
  {
   "cell_type": "code",
   "execution_count": 3,
   "id": "9ea51da5",
   "metadata": {},
   "outputs": [
    {
     "data": {
      "text/html": [
       "<div>\n",
       "<style scoped>\n",
       "    .dataframe tbody tr th:only-of-type {\n",
       "        vertical-align: middle;\n",
       "    }\n",
       "\n",
       "    .dataframe tbody tr th {\n",
       "        vertical-align: top;\n",
       "    }\n",
       "\n",
       "    .dataframe thead th {\n",
       "        text-align: right;\n",
       "    }\n",
       "</style>\n",
       "<table border=\"1\" class=\"dataframe\">\n",
       "  <thead>\n",
       "    <tr style=\"text-align: right;\">\n",
       "      <th></th>\n",
       "      <th>Marriage Status</th>\n",
       "    </tr>\n",
       "  </thead>\n",
       "  <tbody>\n",
       "    <tr>\n",
       "      <th>0</th>\n",
       "      <td>Married</td>\n",
       "    </tr>\n",
       "    <tr>\n",
       "      <th>1</th>\n",
       "      <td>Single</td>\n",
       "    </tr>\n",
       "    <tr>\n",
       "      <th>2</th>\n",
       "      <td>Unspecified</td>\n",
       "    </tr>\n",
       "  </tbody>\n",
       "</table>\n",
       "</div>"
      ],
      "text/plain": [
       "  Marriage Status\n",
       "0         Married\n",
       "1          Single\n",
       "2     Unspecified"
      ]
     },
     "execution_count": 3,
     "metadata": {},
     "output_type": "execute_result"
    }
   ],
   "source": [
    "marriage_stat_df"
   ]
  },
  {
   "cell_type": "code",
   "execution_count": 4,
   "id": "threaded-scout",
   "metadata": {},
   "outputs": [
    {
     "name": "stdout",
     "output_type": "stream",
     "text": [
      "<class 'pandas.core.frame.DataFrame'>\n",
      "RangeIndex: 3 entries, 0 to 2\n",
      "Data columns (total 1 columns):\n",
      " #   Column           Non-Null Count  Dtype \n",
      "---  ------           --------------  ----- \n",
      " 0   Marriage Status  3 non-null      object\n",
      "dtypes: object(1)\n",
      "memory usage: 152.0+ bytes\n"
     ]
    }
   ],
   "source": [
    "# Sütun tipini görelim -> object\n",
    "# Eğer üzerinde çalıştığımız veri float ya da integer değil de text tipinde ise,\n",
    "# Pandas, o verinin tipini object olarak kabul eder.\n",
    "\n",
    "marriage_stat_df.info()"
   ]
  },
  {
   "cell_type": "code",
   "execution_count": 5,
   "id": "sustainable-fundamentals",
   "metadata": {},
   "outputs": [],
   "source": [
    "# Sütun tipini 'category' ye dönüştür\n",
    "\n",
    "marriage_stat_df[\"Marriage Status\"] = marriage_stat_df[\"Marriage Status\"].astype(\"category\")"
   ]
  },
  {
   "cell_type": "code",
   "execution_count": 6,
   "id": "incoming-azerbaijan",
   "metadata": {},
   "outputs": [
    {
     "name": "stdout",
     "output_type": "stream",
     "text": [
      "<class 'pandas.core.frame.DataFrame'>\n",
      "RangeIndex: 3 entries, 0 to 2\n",
      "Data columns (total 1 columns):\n",
      " #   Column           Non-Null Count  Dtype   \n",
      "---  ------           --------------  -----   \n",
      " 0   Marriage Status  3 non-null      category\n",
      "dtypes: category(1)\n",
      "memory usage: 263.0 bytes\n"
     ]
    }
   ],
   "source": [
    "# Sütun tipini tekrar görelim -> category\n",
    "\n",
    "marriage_stat_df.info()"
   ]
  },
  {
   "cell_type": "code",
   "execution_count": 7,
   "id": "current-cinema",
   "metadata": {},
   "outputs": [],
   "source": [
    "# Kategoriler numerik veriler ata ve yeni bir sütun yarat\n",
    "# cat.codes -> Kategorilere kod atamak\n",
    "# Sütun kategorilerimiz olan \"Married\", \"Single\" ve \"Unspecified\" kategorilerine kod atadık.\n",
    "\n",
    "\n",
    "marriage_stat_df[\"Marriage Category\"] = marriage_stat_df[\"Marriage Status\"].cat.codes"
   ]
  },
  {
   "cell_type": "code",
   "execution_count": 8,
   "id": "1585ecc6",
   "metadata": {},
   "outputs": [
    {
     "data": {
      "text/html": [
       "<div>\n",
       "<style scoped>\n",
       "    .dataframe tbody tr th:only-of-type {\n",
       "        vertical-align: middle;\n",
       "    }\n",
       "\n",
       "    .dataframe tbody tr th {\n",
       "        vertical-align: top;\n",
       "    }\n",
       "\n",
       "    .dataframe thead th {\n",
       "        text-align: right;\n",
       "    }\n",
       "</style>\n",
       "<table border=\"1\" class=\"dataframe\">\n",
       "  <thead>\n",
       "    <tr style=\"text-align: right;\">\n",
       "      <th></th>\n",
       "      <th>Marriage Status</th>\n",
       "      <th>Marriage Category</th>\n",
       "    </tr>\n",
       "  </thead>\n",
       "  <tbody>\n",
       "    <tr>\n",
       "      <th>0</th>\n",
       "      <td>Married</td>\n",
       "      <td>0</td>\n",
       "    </tr>\n",
       "    <tr>\n",
       "      <th>1</th>\n",
       "      <td>Single</td>\n",
       "      <td>1</td>\n",
       "    </tr>\n",
       "    <tr>\n",
       "      <th>2</th>\n",
       "      <td>Unspecified</td>\n",
       "      <td>2</td>\n",
       "    </tr>\n",
       "  </tbody>\n",
       "</table>\n",
       "</div>"
      ],
      "text/plain": [
       "  Marriage Status  Marriage Category\n",
       "0         Married                  0\n",
       "1          Single                  1\n",
       "2     Unspecified                  2"
      ]
     },
     "execution_count": 8,
     "metadata": {},
     "output_type": "execute_result"
    }
   ],
   "source": [
    "marriage_stat_df"
   ]
  },
  {
   "cell_type": "markdown",
   "id": "5c0d4c02",
   "metadata": {},
   "source": [
    "***"
   ]
  },
  {
   "cell_type": "markdown",
   "id": "smaller-macro",
   "metadata": {},
   "source": [
    "#### Scikit-learn kullanarak"
   ]
  },
  {
   "cell_type": "code",
   "execution_count": 9,
   "id": "sporting-identification",
   "metadata": {},
   "outputs": [],
   "source": [
    "# Gerekli kütüphaneleri import edelim\n",
    "\n",
    "import pandas as pd\n",
    "import numpy as np\n",
    "from sklearn.preprocessing import LabelEncoder"
   ]
  },
  {
   "cell_type": "code",
   "execution_count": 10,
   "id": "crude-topic",
   "metadata": {},
   "outputs": [],
   "source": [
    "# Row Data oluşturalım\n",
    "marriage_status = ('Married','Single','Unspecified')\n",
    "\n",
    "# Dataframe yaratalım\n",
    "marriage_stat_df = pd.DataFrame(marriage_status, columns=['Marriage Status'])"
   ]
  },
  {
   "cell_type": "code",
   "execution_count": 11,
   "id": "c90608ae",
   "metadata": {},
   "outputs": [
    {
     "data": {
      "text/html": [
       "<div>\n",
       "<style scoped>\n",
       "    .dataframe tbody tr th:only-of-type {\n",
       "        vertical-align: middle;\n",
       "    }\n",
       "\n",
       "    .dataframe tbody tr th {\n",
       "        vertical-align: top;\n",
       "    }\n",
       "\n",
       "    .dataframe thead th {\n",
       "        text-align: right;\n",
       "    }\n",
       "</style>\n",
       "<table border=\"1\" class=\"dataframe\">\n",
       "  <thead>\n",
       "    <tr style=\"text-align: right;\">\n",
       "      <th></th>\n",
       "      <th>Marriage Status</th>\n",
       "    </tr>\n",
       "  </thead>\n",
       "  <tbody>\n",
       "    <tr>\n",
       "      <th>0</th>\n",
       "      <td>Married</td>\n",
       "    </tr>\n",
       "    <tr>\n",
       "      <th>1</th>\n",
       "      <td>Single</td>\n",
       "    </tr>\n",
       "    <tr>\n",
       "      <th>2</th>\n",
       "      <td>Unspecified</td>\n",
       "    </tr>\n",
       "  </tbody>\n",
       "</table>\n",
       "</div>"
      ],
      "text/plain": [
       "  Marriage Status\n",
       "0         Married\n",
       "1          Single\n",
       "2     Unspecified"
      ]
     },
     "execution_count": 11,
     "metadata": {},
     "output_type": "execute_result"
    }
   ],
   "source": [
    "marriage_stat_df"
   ]
  },
  {
   "cell_type": "code",
   "execution_count": 12,
   "id": "divine-patch",
   "metadata": {},
   "outputs": [],
   "source": [
    "# labelEncoder nesnesi yaratalım\n",
    "\n",
    "label_encoder = LabelEncoder()"
   ]
  },
  {
   "cell_type": "code",
   "execution_count": 13,
   "id": "690fdaee",
   "metadata": {},
   "outputs": [],
   "source": [
    "# Kategorilere numerik veriler ata ve yeni bir sütun yarat\n",
    "\n",
    "marriage_stat_df[\"Marriage Cat. Sklearn\"] = label_encoder.fit_transform(marriage_stat_df[\"Marriage Status\"])"
   ]
  },
  {
   "cell_type": "code",
   "execution_count": 14,
   "id": "7df69309",
   "metadata": {},
   "outputs": [
    {
     "data": {
      "text/html": [
       "<div>\n",
       "<style scoped>\n",
       "    .dataframe tbody tr th:only-of-type {\n",
       "        vertical-align: middle;\n",
       "    }\n",
       "\n",
       "    .dataframe tbody tr th {\n",
       "        vertical-align: top;\n",
       "    }\n",
       "\n",
       "    .dataframe thead th {\n",
       "        text-align: right;\n",
       "    }\n",
       "</style>\n",
       "<table border=\"1\" class=\"dataframe\">\n",
       "  <thead>\n",
       "    <tr style=\"text-align: right;\">\n",
       "      <th></th>\n",
       "      <th>Marriage Status</th>\n",
       "      <th>Marriage Cat. Sklearn</th>\n",
       "    </tr>\n",
       "  </thead>\n",
       "  <tbody>\n",
       "    <tr>\n",
       "      <th>0</th>\n",
       "      <td>Married</td>\n",
       "      <td>0</td>\n",
       "    </tr>\n",
       "    <tr>\n",
       "      <th>1</th>\n",
       "      <td>Single</td>\n",
       "      <td>1</td>\n",
       "    </tr>\n",
       "    <tr>\n",
       "      <th>2</th>\n",
       "      <td>Unspecified</td>\n",
       "      <td>2</td>\n",
       "    </tr>\n",
       "  </tbody>\n",
       "</table>\n",
       "</div>"
      ],
      "text/plain": [
       "  Marriage Status  Marriage Cat. Sklearn\n",
       "0         Married                      0\n",
       "1          Single                      1\n",
       "2     Unspecified                      2"
      ]
     },
     "execution_count": 14,
     "metadata": {},
     "output_type": "execute_result"
    }
   ],
   "source": [
    "marriage_stat_df"
   ]
  },
  {
   "cell_type": "markdown",
   "id": "fe5e05bf",
   "metadata": {},
   "source": [
    "***"
   ]
  },
  {
   "cell_type": "markdown",
   "id": "cleared-algebra",
   "metadata": {},
   "source": [
    "### One-Hot Encoder"
   ]
  },
  {
   "cell_type": "markdown",
   "id": "organic-facing",
   "metadata": {},
   "source": [
    "Label Encoding ile kategorik sütunları sayısal verilere dönüştürdük ama ortaya başka bir sorun çıktı. Şu anda, 2 değerine sahip olan kategori sanki 1 ve 0 değerine sahip olan kategorilerden daha fazla öneme sahip gibi görünüyor. Kategorilere atanan nümerik değerler tamamen alfabetik sıraya göre atandı ancak görüntü itibariyle bir önem sırası varmış gibi ancak herhangi bir önem sırası söz konusu değil. Bu yanılgıyı elimine etmek için **One-Hot Encoding** tekniği uygulanır."
   ]
  },
  {
   "cell_type": "markdown",
   "id": "binding-cleaning",
   "metadata": {},
   "source": [
    "**Scikit-learn Kullanarak**"
   ]
  },
  {
   "cell_type": "code",
   "execution_count": 15,
   "id": "marked-sally",
   "metadata": {},
   "outputs": [],
   "source": [
    "# Gerekli kütüphaneleri import edelim\n",
    "\n",
    "import pandas as pd\n",
    "import numpy as np\n",
    "from sklearn.preprocessing import OneHotEncoder"
   ]
  },
  {
   "cell_type": "code",
   "execution_count": 16,
   "id": "understood-windows",
   "metadata": {},
   "outputs": [],
   "source": [
    "# Row Data oluşturalım\n",
    "marriage_status = ('Married','Single','Unspecified')\n",
    "\n",
    "# Dataframe yaratalım\n",
    "marriage_stat_df = pd.DataFrame(marriage_status, columns=['Marriage Status'])"
   ]
  },
  {
   "cell_type": "code",
   "execution_count": 17,
   "id": "15f65f72",
   "metadata": {},
   "outputs": [
    {
     "data": {
      "text/html": [
       "<div>\n",
       "<style scoped>\n",
       "    .dataframe tbody tr th:only-of-type {\n",
       "        vertical-align: middle;\n",
       "    }\n",
       "\n",
       "    .dataframe tbody tr th {\n",
       "        vertical-align: top;\n",
       "    }\n",
       "\n",
       "    .dataframe thead th {\n",
       "        text-align: right;\n",
       "    }\n",
       "</style>\n",
       "<table border=\"1\" class=\"dataframe\">\n",
       "  <thead>\n",
       "    <tr style=\"text-align: right;\">\n",
       "      <th></th>\n",
       "      <th>Marriage Status</th>\n",
       "    </tr>\n",
       "  </thead>\n",
       "  <tbody>\n",
       "    <tr>\n",
       "      <th>0</th>\n",
       "      <td>Married</td>\n",
       "    </tr>\n",
       "    <tr>\n",
       "      <th>1</th>\n",
       "      <td>Single</td>\n",
       "    </tr>\n",
       "    <tr>\n",
       "      <th>2</th>\n",
       "      <td>Unspecified</td>\n",
       "    </tr>\n",
       "  </tbody>\n",
       "</table>\n",
       "</div>"
      ],
      "text/plain": [
       "  Marriage Status\n",
       "0         Married\n",
       "1          Single\n",
       "2     Unspecified"
      ]
     },
     "execution_count": 17,
     "metadata": {},
     "output_type": "execute_result"
    }
   ],
   "source": [
    "marriage_stat_df"
   ]
  },
  {
   "cell_type": "code",
   "execution_count": 18,
   "id": "global-instrumentation",
   "metadata": {},
   "outputs": [],
   "source": [
    "# one-hot encoder nesnesi yarat\n",
    "# handle_unknown parametresi, eğer sütunda boş bir veri varsa o kısma category verilmemesini sağlar.\n",
    "\n",
    "enc = OneHotEncoder(handle_unknown='ignore')"
   ]
  },
  {
   "cell_type": "code",
   "execution_count": 19,
   "id": "lyric-cycling",
   "metadata": {},
   "outputs": [],
   "source": [
    "# Marriage Status'u enc'ye ver\n",
    "\n",
    "enc_result = enc.fit_transform(marriage_stat_df[[\"Marriage Status\"]])"
   ]
  },
  {
   "cell_type": "code",
   "execution_count": 20,
   "id": "flush-bathroom",
   "metadata": {},
   "outputs": [],
   "source": [
    "# enc_result'ı dataframe'e çevir\n",
    "\n",
    "enc_df = pd.DataFrame(enc_result.toarray())"
   ]
  },
  {
   "cell_type": "code",
   "execution_count": 21,
   "id": "b95e9c81",
   "metadata": {},
   "outputs": [
    {
     "data": {
      "text/html": [
       "<div>\n",
       "<style scoped>\n",
       "    .dataframe tbody tr th:only-of-type {\n",
       "        vertical-align: middle;\n",
       "    }\n",
       "\n",
       "    .dataframe tbody tr th {\n",
       "        vertical-align: top;\n",
       "    }\n",
       "\n",
       "    .dataframe thead th {\n",
       "        text-align: right;\n",
       "    }\n",
       "</style>\n",
       "<table border=\"1\" class=\"dataframe\">\n",
       "  <thead>\n",
       "    <tr style=\"text-align: right;\">\n",
       "      <th></th>\n",
       "      <th>0</th>\n",
       "      <th>1</th>\n",
       "      <th>2</th>\n",
       "    </tr>\n",
       "  </thead>\n",
       "  <tbody>\n",
       "    <tr>\n",
       "      <th>0</th>\n",
       "      <td>1.0</td>\n",
       "      <td>0.0</td>\n",
       "      <td>0.0</td>\n",
       "    </tr>\n",
       "    <tr>\n",
       "      <th>1</th>\n",
       "      <td>0.0</td>\n",
       "      <td>1.0</td>\n",
       "      <td>0.0</td>\n",
       "    </tr>\n",
       "    <tr>\n",
       "      <th>2</th>\n",
       "      <td>0.0</td>\n",
       "      <td>0.0</td>\n",
       "      <td>1.0</td>\n",
       "    </tr>\n",
       "  </tbody>\n",
       "</table>\n",
       "</div>"
      ],
      "text/plain": [
       "     0    1    2\n",
       "0  1.0  0.0  0.0\n",
       "1  0.0  1.0  0.0\n",
       "2  0.0  0.0  1.0"
      ]
     },
     "execution_count": 21,
     "metadata": {},
     "output_type": "execute_result"
    }
   ],
   "source": [
    "enc_df"
   ]
  },
  {
   "cell_type": "code",
   "execution_count": 22,
   "id": "4e94357c",
   "metadata": {},
   "outputs": [
    {
     "data": {
      "text/html": [
       "<div>\n",
       "<style scoped>\n",
       "    .dataframe tbody tr th:only-of-type {\n",
       "        vertical-align: middle;\n",
       "    }\n",
       "\n",
       "    .dataframe tbody tr th {\n",
       "        vertical-align: top;\n",
       "    }\n",
       "\n",
       "    .dataframe thead th {\n",
       "        text-align: right;\n",
       "    }\n",
       "</style>\n",
       "<table border=\"1\" class=\"dataframe\">\n",
       "  <thead>\n",
       "    <tr style=\"text-align: right;\">\n",
       "      <th></th>\n",
       "      <th>Marriage Status</th>\n",
       "    </tr>\n",
       "  </thead>\n",
       "  <tbody>\n",
       "    <tr>\n",
       "      <th>0</th>\n",
       "      <td>Married</td>\n",
       "    </tr>\n",
       "    <tr>\n",
       "      <th>1</th>\n",
       "      <td>Single</td>\n",
       "    </tr>\n",
       "    <tr>\n",
       "      <th>2</th>\n",
       "      <td>Unspecified</td>\n",
       "    </tr>\n",
       "  </tbody>\n",
       "</table>\n",
       "</div>"
      ],
      "text/plain": [
       "  Marriage Status\n",
       "0         Married\n",
       "1          Single\n",
       "2     Unspecified"
      ]
     },
     "execution_count": 22,
     "metadata": {},
     "output_type": "execute_result"
    }
   ],
   "source": [
    "marriage_stat_df"
   ]
  },
  {
   "cell_type": "code",
   "execution_count": 23,
   "id": "fourth-exhaust",
   "metadata": {},
   "outputs": [],
   "source": [
    "# yeni olan enc_df'i marriage_stat_df'e ekle\n",
    "\n",
    "marriage_stat_df = marriage_stat_df.join(enc_df)"
   ]
  },
  {
   "cell_type": "code",
   "execution_count": 24,
   "id": "a24e69d9",
   "metadata": {
    "scrolled": true
   },
   "outputs": [
    {
     "data": {
      "text/html": [
       "<div>\n",
       "<style scoped>\n",
       "    .dataframe tbody tr th:only-of-type {\n",
       "        vertical-align: middle;\n",
       "    }\n",
       "\n",
       "    .dataframe tbody tr th {\n",
       "        vertical-align: top;\n",
       "    }\n",
       "\n",
       "    .dataframe thead th {\n",
       "        text-align: right;\n",
       "    }\n",
       "</style>\n",
       "<table border=\"1\" class=\"dataframe\">\n",
       "  <thead>\n",
       "    <tr style=\"text-align: right;\">\n",
       "      <th></th>\n",
       "      <th>Marriage Status</th>\n",
       "      <th>0</th>\n",
       "      <th>1</th>\n",
       "      <th>2</th>\n",
       "    </tr>\n",
       "  </thead>\n",
       "  <tbody>\n",
       "    <tr>\n",
       "      <th>0</th>\n",
       "      <td>Married</td>\n",
       "      <td>1.0</td>\n",
       "      <td>0.0</td>\n",
       "      <td>0.0</td>\n",
       "    </tr>\n",
       "    <tr>\n",
       "      <th>1</th>\n",
       "      <td>Single</td>\n",
       "      <td>0.0</td>\n",
       "      <td>1.0</td>\n",
       "      <td>0.0</td>\n",
       "    </tr>\n",
       "    <tr>\n",
       "      <th>2</th>\n",
       "      <td>Unspecified</td>\n",
       "      <td>0.0</td>\n",
       "      <td>0.0</td>\n",
       "      <td>1.0</td>\n",
       "    </tr>\n",
       "  </tbody>\n",
       "</table>\n",
       "</div>"
      ],
      "text/plain": [
       "  Marriage Status    0    1    2\n",
       "0         Married  1.0  0.0  0.0\n",
       "1          Single  0.0  1.0  0.0\n",
       "2     Unspecified  0.0  0.0  1.0"
      ]
     },
     "execution_count": 24,
     "metadata": {},
     "output_type": "execute_result"
    }
   ],
   "source": [
    "marriage_stat_df"
   ]
  },
  {
   "cell_type": "markdown",
   "id": "408e1833",
   "metadata": {},
   "source": [
    "***"
   ]
  },
  {
   "cell_type": "markdown",
   "id": "interstate-symposium",
   "metadata": {},
   "source": [
    "**Pandas Kullanarak**"
   ]
  },
  {
   "cell_type": "code",
   "execution_count": 25,
   "id": "protecting-classroom",
   "metadata": {},
   "outputs": [],
   "source": [
    "# Gerekli kütüphaneleri import edelim\n",
    "\n",
    "import pandas as pd\n",
    "import numpy as np"
   ]
  },
  {
   "cell_type": "code",
   "execution_count": 26,
   "id": "dress-cargo",
   "metadata": {},
   "outputs": [],
   "source": [
    "# Row Data oluşturalım\n",
    "marriage_status = ('Married','Single','Unspecified')\n",
    "\n",
    "# Dataframe yaratalım\n",
    "marriage_stat_df = pd.DataFrame(marriage_status, columns=['Marriage Status'])"
   ]
  },
  {
   "cell_type": "code",
   "execution_count": 27,
   "id": "e1e1ce30",
   "metadata": {},
   "outputs": [
    {
     "data": {
      "text/html": [
       "<div>\n",
       "<style scoped>\n",
       "    .dataframe tbody tr th:only-of-type {\n",
       "        vertical-align: middle;\n",
       "    }\n",
       "\n",
       "    .dataframe tbody tr th {\n",
       "        vertical-align: top;\n",
       "    }\n",
       "\n",
       "    .dataframe thead th {\n",
       "        text-align: right;\n",
       "    }\n",
       "</style>\n",
       "<table border=\"1\" class=\"dataframe\">\n",
       "  <thead>\n",
       "    <tr style=\"text-align: right;\">\n",
       "      <th></th>\n",
       "      <th>Marriage Status</th>\n",
       "    </tr>\n",
       "  </thead>\n",
       "  <tbody>\n",
       "    <tr>\n",
       "      <th>0</th>\n",
       "      <td>Married</td>\n",
       "    </tr>\n",
       "    <tr>\n",
       "      <th>1</th>\n",
       "      <td>Single</td>\n",
       "    </tr>\n",
       "    <tr>\n",
       "      <th>2</th>\n",
       "      <td>Unspecified</td>\n",
       "    </tr>\n",
       "  </tbody>\n",
       "</table>\n",
       "</div>"
      ],
      "text/plain": [
       "  Marriage Status\n",
       "0         Married\n",
       "1          Single\n",
       "2     Unspecified"
      ]
     },
     "execution_count": 27,
     "metadata": {},
     "output_type": "execute_result"
    }
   ],
   "source": [
    "marriage_stat_df"
   ]
  },
  {
   "cell_type": "code",
   "execution_count": 28,
   "id": "demonstrated-employment",
   "metadata": {},
   "outputs": [],
   "source": [
    "# her bir kolon için -> binary (0, 1) değerler olan sütunlar üret\n",
    "\n",
    "dummy_df = pd.get_dummies(marriage_stat_df, columns=['Marriage Status'])"
   ]
  },
  {
   "cell_type": "code",
   "execution_count": 29,
   "id": "79495062",
   "metadata": {},
   "outputs": [
    {
     "data": {
      "text/html": [
       "<div>\n",
       "<style scoped>\n",
       "    .dataframe tbody tr th:only-of-type {\n",
       "        vertical-align: middle;\n",
       "    }\n",
       "\n",
       "    .dataframe tbody tr th {\n",
       "        vertical-align: top;\n",
       "    }\n",
       "\n",
       "    .dataframe thead th {\n",
       "        text-align: right;\n",
       "    }\n",
       "</style>\n",
       "<table border=\"1\" class=\"dataframe\">\n",
       "  <thead>\n",
       "    <tr style=\"text-align: right;\">\n",
       "      <th></th>\n",
       "      <th>Marriage Status_Married</th>\n",
       "      <th>Marriage Status_Single</th>\n",
       "      <th>Marriage Status_Unspecified</th>\n",
       "    </tr>\n",
       "  </thead>\n",
       "  <tbody>\n",
       "    <tr>\n",
       "      <th>0</th>\n",
       "      <td>1</td>\n",
       "      <td>0</td>\n",
       "      <td>0</td>\n",
       "    </tr>\n",
       "    <tr>\n",
       "      <th>1</th>\n",
       "      <td>0</td>\n",
       "      <td>1</td>\n",
       "      <td>0</td>\n",
       "    </tr>\n",
       "    <tr>\n",
       "      <th>2</th>\n",
       "      <td>0</td>\n",
       "      <td>0</td>\n",
       "      <td>1</td>\n",
       "    </tr>\n",
       "  </tbody>\n",
       "</table>\n",
       "</div>"
      ],
      "text/plain": [
       "   Marriage Status_Married  Marriage Status_Single  \\\n",
       "0                        1                       0   \n",
       "1                        0                       1   \n",
       "2                        0                       0   \n",
       "\n",
       "   Marriage Status_Unspecified  \n",
       "0                            0  \n",
       "1                            0  \n",
       "2                            1  "
      ]
     },
     "execution_count": 29,
     "metadata": {},
     "output_type": "execute_result"
    }
   ],
   "source": [
    "dummy_df"
   ]
  },
  {
   "cell_type": "code",
   "execution_count": 30,
   "id": "apart-rebate",
   "metadata": {},
   "outputs": [],
   "source": [
    "# Dataframe'leri birleştir\n",
    "\n",
    "marriage_stat_df = marriage_stat_df.join(dummy_df)"
   ]
  },
  {
   "cell_type": "code",
   "execution_count": 31,
   "id": "fdc92e2c",
   "metadata": {},
   "outputs": [
    {
     "data": {
      "text/html": [
       "<div>\n",
       "<style scoped>\n",
       "    .dataframe tbody tr th:only-of-type {\n",
       "        vertical-align: middle;\n",
       "    }\n",
       "\n",
       "    .dataframe tbody tr th {\n",
       "        vertical-align: top;\n",
       "    }\n",
       "\n",
       "    .dataframe thead th {\n",
       "        text-align: right;\n",
       "    }\n",
       "</style>\n",
       "<table border=\"1\" class=\"dataframe\">\n",
       "  <thead>\n",
       "    <tr style=\"text-align: right;\">\n",
       "      <th></th>\n",
       "      <th>Marriage Status</th>\n",
       "      <th>Marriage Status_Married</th>\n",
       "      <th>Marriage Status_Single</th>\n",
       "      <th>Marriage Status_Unspecified</th>\n",
       "    </tr>\n",
       "  </thead>\n",
       "  <tbody>\n",
       "    <tr>\n",
       "      <th>0</th>\n",
       "      <td>Married</td>\n",
       "      <td>1</td>\n",
       "      <td>0</td>\n",
       "      <td>0</td>\n",
       "    </tr>\n",
       "    <tr>\n",
       "      <th>1</th>\n",
       "      <td>Single</td>\n",
       "      <td>0</td>\n",
       "      <td>1</td>\n",
       "      <td>0</td>\n",
       "    </tr>\n",
       "    <tr>\n",
       "      <th>2</th>\n",
       "      <td>Unspecified</td>\n",
       "      <td>0</td>\n",
       "      <td>0</td>\n",
       "      <td>1</td>\n",
       "    </tr>\n",
       "  </tbody>\n",
       "</table>\n",
       "</div>"
      ],
      "text/plain": [
       "  Marriage Status  Marriage Status_Married  Marriage Status_Single  \\\n",
       "0         Married                        1                       0   \n",
       "1          Single                        0                       1   \n",
       "2     Unspecified                        0                       0   \n",
       "\n",
       "   Marriage Status_Unspecified  \n",
       "0                            0  \n",
       "1                            0  \n",
       "2                            1  "
      ]
     },
     "execution_count": 31,
     "metadata": {},
     "output_type": "execute_result"
    }
   ],
   "source": [
    "marriage_stat_df"
   ]
  }
 ],
 "metadata": {
  "kernelspec": {
   "display_name": "Python 3 (ipykernel)",
   "language": "python",
   "name": "python3"
  },
  "language_info": {
   "codemirror_mode": {
    "name": "ipython",
    "version": 3
   },
   "file_extension": ".py",
   "mimetype": "text/x-python",
   "name": "python",
   "nbconvert_exporter": "python",
   "pygments_lexer": "ipython3",
   "version": "3.10.2"
  }
 },
 "nbformat": 4,
 "nbformat_minor": 5
}
