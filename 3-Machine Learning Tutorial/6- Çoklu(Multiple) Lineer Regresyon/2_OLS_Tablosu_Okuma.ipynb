{
 "cells": [
  {
   "cell_type": "markdown",
   "id": "contained-sarah",
   "metadata": {},
   "source": [
    "## OLS (Ordinary Least Squares) Tablosu Okuma"
   ]
  },
  {
   "cell_type": "markdown",
   "id": "yellow-medicare",
   "metadata": {},
   "source": [
    "https://www.statsmodels.org/stable/index.html"
   ]
  },
  {
   "cell_type": "markdown",
   "id": "magnetic-california",
   "metadata": {},
   "source": [
    "### 1- Datayı import edelim"
   ]
  },
  {
   "cell_type": "markdown",
   "id": "e02b0d7a",
   "metadata": {},
   "source": [
    "* OLS kavramının daha iyi anlaşılması açısından Basit Lineer Regresyon üzerinde çalışacağız."
   ]
  },
  {
   "cell_type": "code",
   "execution_count": 1,
   "id": "frank-vatican",
   "metadata": {},
   "outputs": [],
   "source": [
    "# Gerekli kütüphaneleri import edelim\n",
    "\n",
    "import pandas as pd\n",
    "import matplotlib.pyplot as plt\n",
    "import seaborn as sns"
   ]
  },
  {
   "cell_type": "code",
   "execution_count": 2,
   "id": "angry-encoding",
   "metadata": {},
   "outputs": [],
   "source": [
    "# Dataframe'i oluşturalım\n",
    "\n",
    "adv_df = pd.read_csv(\"data/Advertising.csv\", index_col=0)"
   ]
  },
  {
   "cell_type": "code",
   "execution_count": 3,
   "id": "written-launch",
   "metadata": {},
   "outputs": [],
   "source": [
    "# input - output\n",
    "data = adv_df[[\"TV\", \"sales\"]]\n",
    "\n",
    "# input -> feature (X)\n",
    "X = data[\"TV\"]\n",
    "\n",
    "# output\n",
    "y = data[\"sales\"]"
   ]
  },
  {
   "cell_type": "markdown",
   "id": "catholic-progress",
   "metadata": {},
   "source": [
    "### 2- Hazırlık"
   ]
  },
  {
   "cell_type": "markdown",
   "id": "hungry-expansion",
   "metadata": {},
   "source": [
    "Boyut kontrolü yapmamız lazım."
   ]
  },
  {
   "cell_type": "markdown",
   "id": "textile-journal",
   "metadata": {},
   "source": [
    "shape -> `(n_samples, n_features)`\n",
    "\n",
    "shape -> `(n, p)`"
   ]
  },
  {
   "cell_type": "code",
   "execution_count": 4,
   "id": "b97fa833",
   "metadata": {},
   "outputs": [
    {
     "name": "stdout",
     "output_type": "stream",
     "text": [
      "X(Input)'in şekli: (200,)\n"
     ]
    }
   ],
   "source": [
    "# Önce Input ve Output'un şekline bakalım\n",
    "# X'in şekli\n",
    "\n",
    "print(f\"X(Input)'in şekli: {X.shape}\")"
   ]
  },
  {
   "cell_type": "code",
   "execution_count": 5,
   "id": "379e342b",
   "metadata": {},
   "outputs": [
    {
     "name": "stdout",
     "output_type": "stream",
     "text": [
      "y(Output)'nin şekli: (200,)\n"
     ]
    }
   ],
   "source": [
    "# y'nin şekli\n",
    "\n",
    "print(f\"y(Output)'nin şekli: {y.shape}\")"
   ]
  },
  {
   "cell_type": "code",
   "execution_count": 6,
   "id": "perceived-sitting",
   "metadata": {},
   "outputs": [],
   "source": [
    "# X - Input için (200, 1) şeklinde yeniden şekillendirme yapalım. \n",
    "# y - Output için (200, 1) şeklinde yeniden şekillendirme yapalım.\n",
    "\n",
    "# X : (200, 1) -> 200 adet Örnek Gözlem, 1 adet Sütun/Feature(TV)\n",
    "# y : (200, 1) -> 200 adet Örnek Gözlem, 1 adet Sütun/Feature(Label)\n",
    "\n",
    "X = X.values.reshape(-1, 1) # -1 : 200 adet satırı tut(values), 1 : Bir adet boyut ekle\n",
    "y = y.values.reshape(-1, 1) # -1 : 200 adet satırı tut(values), 1 : Bir adet boyut ekle"
   ]
  },
  {
   "cell_type": "code",
   "execution_count": 7,
   "id": "a1b37f59",
   "metadata": {},
   "outputs": [
    {
     "name": "stdout",
     "output_type": "stream",
     "text": [
      "X(Input)'in şekli: (200, 1)\n"
     ]
    }
   ],
   "source": [
    "print(f\"X(Input)'in şekli: {X.shape}\")"
   ]
  },
  {
   "cell_type": "code",
   "execution_count": 8,
   "id": "1b3bc9d3",
   "metadata": {},
   "outputs": [
    {
     "name": "stdout",
     "output_type": "stream",
     "text": [
      "y(Output)'nin şekli: (200, 1)\n"
     ]
    }
   ],
   "source": [
    "print(f\"y(Output)'nin şekli: {y.shape}\")"
   ]
  },
  {
   "cell_type": "markdown",
   "id": "conservative-donor",
   "metadata": {},
   "source": [
    "### 3- Train-Test Split"
   ]
  },
  {
   "cell_type": "markdown",
   "id": "attached-stamp",
   "metadata": {},
   "source": [
    "Toplam 200 verimizi Train-Test olarak ikiye ayıracağız.\n",
    "\n",
    "Train: %70\n",
    "\n",
    "Test: %30\n",
    "\n",
    "Train Data: X_train, y_train\n",
    "\n",
    "Test Data: X_test, y_test"
   ]
  },
  {
   "cell_type": "markdown",
   "id": "nuclear-produce",
   "metadata": {},
   "source": [
    "https://scikit-learn.org/stable/modules/generated/sklearn.model_selection.train_test_split.html"
   ]
  },
  {
   "cell_type": "code",
   "execution_count": 9,
   "id": "first-defendant",
   "metadata": {},
   "outputs": [],
   "source": [
    "# scikit-learn'den import\n",
    "\n",
    "from sklearn.model_selection import train_test_split"
   ]
  },
  {
   "cell_type": "code",
   "execution_count": 10,
   "id": "cubic-steal",
   "metadata": {},
   "outputs": [],
   "source": [
    "# train_test_split() metodu geriye X_train, X_test, y_train, y_test değerlerini döner\n",
    "# Train Data -> X_train, y_train\n",
    "# Test Data -> X_test, y_test\n",
    "\n",
    "X_train, X_test, y_train, y_test = train_test_split(X, y, test_size=0.3, random_state=100)"
   ]
  },
  {
   "cell_type": "code",
   "execution_count": 11,
   "id": "44740389",
   "metadata": {},
   "outputs": [
    {
     "name": "stdout",
     "output_type": "stream",
     "text": [
      "X_train'in şekli/boyutu: (140, 1)\n",
      "y_train'in şekli/boyutu: (140, 1)\n",
      "X_test'in şekli/boyutu: (60, 1)\n",
      "y_test'in şekli/boyutu: (60, 1)\n"
     ]
    }
   ],
   "source": [
    "# Şekilleri print edelim\n",
    "# Yukarıda gördüğünüz üzere test için toplam verinin %30'unu train için ise toplam verinin %70'ini ayırdık.\n",
    "# Toplam 200 verimiz olduğuna göre train için 140 test için 60 veri ayrılır.\n",
    "\n",
    "print(f\"X_train'in şekli/boyutu: {X_train.shape}\")\n",
    "print(f\"y_train'in şekli/boyutu: {y_train.shape}\")\n",
    "print(f\"X_test'in şekli/boyutu: {X_test.shape}\")\n",
    "print(f\"y_test'in şekli/boyutu: {y_test.shape}\")"
   ]
  },
  {
   "cell_type": "markdown",
   "id": "200a28e1",
   "metadata": {},
   "source": [
    "***"
   ]
  },
  {
   "cell_type": "markdown",
   "id": "raised-creativity",
   "metadata": {},
   "source": [
    "## Statsmodels OLS"
   ]
  },
  {
   "cell_type": "code",
   "execution_count": 12,
   "id": "complex-generator",
   "metadata": {},
   "outputs": [
    {
     "name": "stderr",
     "output_type": "stream",
     "text": [
      "/home/can/anaconda3/envs/introMlEnv/lib/python3.10/site-packages/statsmodels/compat/pandas.py:61: FutureWarning: pandas.Int64Index is deprecated and will be removed from pandas in a future version. Use pandas.Index with the appropriate dtype instead.\n",
      "  from pandas import Int64Index as NumericIndex\n"
     ]
    }
   ],
   "source": [
    "import statsmodels.api as sm"
   ]
  },
  {
   "cell_type": "markdown",
   "id": "bright-banana",
   "metadata": {},
   "source": [
    "https://www.statsmodels.org/stable/examples/notebooks/generated/ols.html"
   ]
  },
  {
   "cell_type": "code",
   "execution_count": 13,
   "id": "paperback-recycling",
   "metadata": {},
   "outputs": [],
   "source": [
    "# statsmodels modülünü kullanarak OLS() (Ordinary Least Squares) metodunu çalıştıracağız.\n",
    "# statsmodels OLS metodu beta_0 için otomatik olarak değer atamaz.\n",
    "# Bu nedenle beta_0 için 1 katsayısını bizim eklememiz lazım.\n",
    "# Bu katsayıyı add_constant() metodu ile ekleyebiliriz.\n",
    "\n",
    "X_train_ols = sm.add_constant(X_train)"
   ]
  },
  {
   "cell_type": "code",
   "execution_count": 14,
   "id": "excited-expression",
   "metadata": {
    "jupyter": {
     "outputs_hidden": true
    },
    "scrolled": true
   },
   "outputs": [
    {
     "data": {
      "text/plain": [
       "array([[213.4],\n",
       "       [151.5],\n",
       "       [205. ],\n",
       "       [142.9],\n",
       "       [134.3],\n",
       "       [ 80.2],\n",
       "       [239.8],\n",
       "       [ 88.3],\n",
       "       [ 19.4],\n",
       "       [225.8],\n",
       "       [136.2],\n",
       "       [ 25.1],\n",
       "       [ 38. ],\n",
       "       [172.5],\n",
       "       [109.8],\n",
       "       [240.1],\n",
       "       [232.1],\n",
       "       [ 66.1],\n",
       "       [218.4],\n",
       "       [234.5],\n",
       "       [ 23.8],\n",
       "       [ 67.8],\n",
       "       [296.4],\n",
       "       [141.3],\n",
       "       [175.1],\n",
       "       [220.5],\n",
       "       [ 76.4],\n",
       "       [253.8],\n",
       "       [191.1],\n",
       "       [287.6],\n",
       "       [100.4],\n",
       "       [228. ],\n",
       "       [125.7],\n",
       "       [ 74.7],\n",
       "       [ 57.5],\n",
       "       [262.7],\n",
       "       [262.9],\n",
       "       [237.4],\n",
       "       [227.2],\n",
       "       [199.8],\n",
       "       [228.3],\n",
       "       [290.7],\n",
       "       [276.9],\n",
       "       [199.8],\n",
       "       [239.3],\n",
       "       [ 73.4],\n",
       "       [284.3],\n",
       "       [147.3],\n",
       "       [224. ],\n",
       "       [198.9],\n",
       "       [276.7],\n",
       "       [ 13.2],\n",
       "       [ 11.7],\n",
       "       [280.2],\n",
       "       [ 39.5],\n",
       "       [265.6],\n",
       "       [ 27.5],\n",
       "       [280.7],\n",
       "       [ 78.2],\n",
       "       [163.3],\n",
       "       [213.5],\n",
       "       [293.6],\n",
       "       [ 18.7],\n",
       "       [ 75.5],\n",
       "       [166.8],\n",
       "       [ 44.7],\n",
       "       [109.8],\n",
       "       [  8.7],\n",
       "       [266.9],\n",
       "       [206.9],\n",
       "       [149.8],\n",
       "       [ 19.6],\n",
       "       [ 36.9],\n",
       "       [199.1],\n",
       "       [265.2],\n",
       "       [165.6],\n",
       "       [140.3],\n",
       "       [230.1],\n",
       "       [  5.4],\n",
       "       [ 17.9],\n",
       "       [237.4],\n",
       "       [286. ],\n",
       "       [ 93.9],\n",
       "       [292.9],\n",
       "       [ 25. ],\n",
       "       [ 97.5],\n",
       "       [ 26.8],\n",
       "       [281.4],\n",
       "       [ 69.2],\n",
       "       [ 43.1],\n",
       "       [255.4],\n",
       "       [239.9],\n",
       "       [209.6],\n",
       "       [  7.3],\n",
       "       [240.1],\n",
       "       [102.7],\n",
       "       [243.2],\n",
       "       [137.9],\n",
       "       [ 18.8],\n",
       "       [ 17.2],\n",
       "       [ 76.4],\n",
       "       [139.5],\n",
       "       [261.3],\n",
       "       [ 66.9],\n",
       "       [ 48.3],\n",
       "       [177. ],\n",
       "       [ 28.6],\n",
       "       [180.8],\n",
       "       [222.4],\n",
       "       [193.7],\n",
       "       [ 59.6],\n",
       "       [131.7],\n",
       "       [  8.4],\n",
       "       [ 13.1],\n",
       "       [  4.1],\n",
       "       [  0.7],\n",
       "       [ 76.3],\n",
       "       [250.9],\n",
       "       [273.7],\n",
       "       [ 96.2],\n",
       "       [210.8],\n",
       "       [ 53.5],\n",
       "       [ 90.4],\n",
       "       [104.6],\n",
       "       [283.6],\n",
       "       [ 95.7],\n",
       "       [204.1],\n",
       "       [ 31.5],\n",
       "       [182.6],\n",
       "       [289.7],\n",
       "       [156.6],\n",
       "       [107.4],\n",
       "       [ 43. ],\n",
       "       [248.4],\n",
       "       [116. ],\n",
       "       [110.7],\n",
       "       [187.9],\n",
       "       [139.3],\n",
       "       [ 62.3],\n",
       "       [  8.6]])"
      ]
     },
     "execution_count": 14,
     "metadata": {},
     "output_type": "execute_result"
    }
   ],
   "source": [
    "X_train"
   ]
  },
  {
   "cell_type": "code",
   "execution_count": 15,
   "id": "banned-polymer",
   "metadata": {
    "jupyter": {
     "outputs_hidden": true
    },
    "scrolled": true
   },
   "outputs": [
    {
     "data": {
      "text/plain": [
       "array([[  1. , 213.4],\n",
       "       [  1. , 151.5],\n",
       "       [  1. , 205. ],\n",
       "       [  1. , 142.9],\n",
       "       [  1. , 134.3],\n",
       "       [  1. ,  80.2],\n",
       "       [  1. , 239.8],\n",
       "       [  1. ,  88.3],\n",
       "       [  1. ,  19.4],\n",
       "       [  1. , 225.8],\n",
       "       [  1. , 136.2],\n",
       "       [  1. ,  25.1],\n",
       "       [  1. ,  38. ],\n",
       "       [  1. , 172.5],\n",
       "       [  1. , 109.8],\n",
       "       [  1. , 240.1],\n",
       "       [  1. , 232.1],\n",
       "       [  1. ,  66.1],\n",
       "       [  1. , 218.4],\n",
       "       [  1. , 234.5],\n",
       "       [  1. ,  23.8],\n",
       "       [  1. ,  67.8],\n",
       "       [  1. , 296.4],\n",
       "       [  1. , 141.3],\n",
       "       [  1. , 175.1],\n",
       "       [  1. , 220.5],\n",
       "       [  1. ,  76.4],\n",
       "       [  1. , 253.8],\n",
       "       [  1. , 191.1],\n",
       "       [  1. , 287.6],\n",
       "       [  1. , 100.4],\n",
       "       [  1. , 228. ],\n",
       "       [  1. , 125.7],\n",
       "       [  1. ,  74.7],\n",
       "       [  1. ,  57.5],\n",
       "       [  1. , 262.7],\n",
       "       [  1. , 262.9],\n",
       "       [  1. , 237.4],\n",
       "       [  1. , 227.2],\n",
       "       [  1. , 199.8],\n",
       "       [  1. , 228.3],\n",
       "       [  1. , 290.7],\n",
       "       [  1. , 276.9],\n",
       "       [  1. , 199.8],\n",
       "       [  1. , 239.3],\n",
       "       [  1. ,  73.4],\n",
       "       [  1. , 284.3],\n",
       "       [  1. , 147.3],\n",
       "       [  1. , 224. ],\n",
       "       [  1. , 198.9],\n",
       "       [  1. , 276.7],\n",
       "       [  1. ,  13.2],\n",
       "       [  1. ,  11.7],\n",
       "       [  1. , 280.2],\n",
       "       [  1. ,  39.5],\n",
       "       [  1. , 265.6],\n",
       "       [  1. ,  27.5],\n",
       "       [  1. , 280.7],\n",
       "       [  1. ,  78.2],\n",
       "       [  1. , 163.3],\n",
       "       [  1. , 213.5],\n",
       "       [  1. , 293.6],\n",
       "       [  1. ,  18.7],\n",
       "       [  1. ,  75.5],\n",
       "       [  1. , 166.8],\n",
       "       [  1. ,  44.7],\n",
       "       [  1. , 109.8],\n",
       "       [  1. ,   8.7],\n",
       "       [  1. , 266.9],\n",
       "       [  1. , 206.9],\n",
       "       [  1. , 149.8],\n",
       "       [  1. ,  19.6],\n",
       "       [  1. ,  36.9],\n",
       "       [  1. , 199.1],\n",
       "       [  1. , 265.2],\n",
       "       [  1. , 165.6],\n",
       "       [  1. , 140.3],\n",
       "       [  1. , 230.1],\n",
       "       [  1. ,   5.4],\n",
       "       [  1. ,  17.9],\n",
       "       [  1. , 237.4],\n",
       "       [  1. , 286. ],\n",
       "       [  1. ,  93.9],\n",
       "       [  1. , 292.9],\n",
       "       [  1. ,  25. ],\n",
       "       [  1. ,  97.5],\n",
       "       [  1. ,  26.8],\n",
       "       [  1. , 281.4],\n",
       "       [  1. ,  69.2],\n",
       "       [  1. ,  43.1],\n",
       "       [  1. , 255.4],\n",
       "       [  1. , 239.9],\n",
       "       [  1. , 209.6],\n",
       "       [  1. ,   7.3],\n",
       "       [  1. , 240.1],\n",
       "       [  1. , 102.7],\n",
       "       [  1. , 243.2],\n",
       "       [  1. , 137.9],\n",
       "       [  1. ,  18.8],\n",
       "       [  1. ,  17.2],\n",
       "       [  1. ,  76.4],\n",
       "       [  1. , 139.5],\n",
       "       [  1. , 261.3],\n",
       "       [  1. ,  66.9],\n",
       "       [  1. ,  48.3],\n",
       "       [  1. , 177. ],\n",
       "       [  1. ,  28.6],\n",
       "       [  1. , 180.8],\n",
       "       [  1. , 222.4],\n",
       "       [  1. , 193.7],\n",
       "       [  1. ,  59.6],\n",
       "       [  1. , 131.7],\n",
       "       [  1. ,   8.4],\n",
       "       [  1. ,  13.1],\n",
       "       [  1. ,   4.1],\n",
       "       [  1. ,   0.7],\n",
       "       [  1. ,  76.3],\n",
       "       [  1. , 250.9],\n",
       "       [  1. , 273.7],\n",
       "       [  1. ,  96.2],\n",
       "       [  1. , 210.8],\n",
       "       [  1. ,  53.5],\n",
       "       [  1. ,  90.4],\n",
       "       [  1. , 104.6],\n",
       "       [  1. , 283.6],\n",
       "       [  1. ,  95.7],\n",
       "       [  1. , 204.1],\n",
       "       [  1. ,  31.5],\n",
       "       [  1. , 182.6],\n",
       "       [  1. , 289.7],\n",
       "       [  1. , 156.6],\n",
       "       [  1. , 107.4],\n",
       "       [  1. ,  43. ],\n",
       "       [  1. , 248.4],\n",
       "       [  1. , 116. ],\n",
       "       [  1. , 110.7],\n",
       "       [  1. , 187.9],\n",
       "       [  1. , 139.3],\n",
       "       [  1. ,  62.3],\n",
       "       [  1. ,   8.6]])"
      ]
     },
     "execution_count": 15,
     "metadata": {},
     "output_type": "execute_result"
    }
   ],
   "source": [
    "X_train_ols"
   ]
  },
  {
   "cell_type": "code",
   "execution_count": 16,
   "id": "unlimited-sample",
   "metadata": {},
   "outputs": [],
   "source": [
    "# statsmodels OLS modeli oluştur\n",
    "# OLS() önce y sonra X alır.\n",
    "\n",
    "sm_model = sm.OLS(y_train, X_train_ols)"
   ]
  },
  {
   "cell_type": "code",
   "execution_count": 17,
   "id": "sorted-california",
   "metadata": {},
   "outputs": [],
   "source": [
    "# OLS modelinin sonuçlarını al\n",
    "\n",
    "result = sm_model.fit()"
   ]
  },
  {
   "cell_type": "code",
   "execution_count": 18,
   "id": "metric-outline",
   "metadata": {
    "scrolled": false
   },
   "outputs": [
    {
     "name": "stdout",
     "output_type": "stream",
     "text": [
      "                            OLS Regression Results                            \n",
      "==============================================================================\n",
      "Dep. Variable:                      y   R-squared:                       0.613\n",
      "Model:                            OLS   Adj. R-squared:                  0.611\n",
      "Method:                 Least Squares   F-statistic:                     219.0\n",
      "Date:                Tue, 15 Mar 2022   Prob (F-statistic):           2.84e-30\n",
      "Time:                        13:01:32   Log-Likelihood:                -370.62\n",
      "No. Observations:                 140   AIC:                             745.2\n",
      "Df Residuals:                     138   BIC:                             751.1\n",
      "Df Model:                           1                                         \n",
      "Covariance Type:            nonrobust                                         \n",
      "==============================================================================\n",
      "                 coef    std err          t      P>|t|      [0.025      0.975]\n",
      "------------------------------------------------------------------------------\n",
      "const          6.9897      0.548     12.762      0.000       5.907       8.073\n",
      "x1             0.0465      0.003     14.798      0.000       0.040       0.053\n",
      "==============================================================================\n",
      "Omnibus:                        0.995   Durbin-Watson:                   1.983\n",
      "Prob(Omnibus):                  0.608   Jarque-Bera (JB):                0.970\n",
      "Skew:                          -0.008   Prob(JB):                        0.616\n",
      "Kurtosis:                       2.593   Cond. No.                         328.\n",
      "==============================================================================\n",
      "\n",
      "Notes:\n",
      "[1] Standard Errors assume that the covariance matrix of the errors is correctly specified.\n"
     ]
    }
   ],
   "source": [
    "# OLS Özet tablosunu yazdır\n",
    "\n",
    "print(result.summary())"
   ]
  },
  {
   "cell_type": "markdown",
   "id": "f29baa2b",
   "metadata": {},
   "source": [
    "* **TABLODA NELER ÖNEMLİ?**\n",
    "    * **`R-squared` değeri**\n",
    "        * R-squared = Coefficient of Determination = Doğruluk Oranı\n",
    "    * **`Adj. R-squared` değeri**\n",
    "    * **`coef` değerleri**\n",
    "        * const = $\\hat \\beta_0$\n",
    "        * x1 = $ \\hat \\beta_1$\n",
    "            * $y$ = 6.9897 + 0.0465 * $X_1$ \n",
    "    * **`std err` : Standard Error değeri**\n",
    "        * $\\hat \\beta_0$ ve $\\hat \\beta_1$ katsayılarının ortalama olarak ne kadar hata yaptığını belirten değer.\n",
    "    * `t` değeri\n",
    "    * `P` değeri"
   ]
  }
 ],
 "metadata": {
  "kernelspec": {
   "display_name": "Python 3 (ipykernel)",
   "language": "python",
   "name": "python3"
  },
  "language_info": {
   "codemirror_mode": {
    "name": "ipython",
    "version": 3
   },
   "file_extension": ".py",
   "mimetype": "text/x-python",
   "name": "python",
   "nbconvert_exporter": "python",
   "pygments_lexer": "ipython3",
   "version": "3.10.2"
  }
 },
 "nbformat": 4,
 "nbformat_minor": 5
}
