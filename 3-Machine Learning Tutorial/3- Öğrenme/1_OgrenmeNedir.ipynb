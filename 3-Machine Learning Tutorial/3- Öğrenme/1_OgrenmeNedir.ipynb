{
 "cells": [
  {
   "cell_type": "markdown",
   "id": "5b234bd3",
   "metadata": {},
   "source": [
    "## Öğrenme Nedir?"
   ]
  },
  {
   "cell_type": "markdown",
   "id": "573f54eb",
   "metadata": {},
   "source": [
    "Öğrenmemnin ne olduğunu iki örnekle açıklayalım:"
   ]
  },
  {
   "cell_type": "markdown",
   "id": "38d80d9d",
   "metadata": {},
   "source": [
    "### **Örnek 1**\n",
    "\n",
    "Elimizde hayali bir şirketin reklam verileri var. Veri seti adı : Advertising.csv\n",
    "\n",
    "200 farklı pazarda yapılan TV, Radio ve Newspaper reklam harcamaları sonucu gerçekleşen satışı (Sales) görüyoruz.\n",
    "\n",
    "Amacımız, reklam harcamaları ile satış miktarı arasında, varsa, bir ilişki bulmak.\n",
    "\n",
    "Böylece gelecekte ne kadar reklam bütçesi ile tahmini olarak ne kadar satış yapabileceğimizi göreceğiz."
   ]
  },
  {
   "cell_type": "markdown",
   "id": "456f2a92",
   "metadata": {},
   "source": [
    "**Girdi Değişenleri(Input/Feature):** Harcama Tutarları - USD {TV, Radio, Newspaper}\n",
    "\n",
    "**Çıktı Değişkeni(Output/Label):** Satış miktarı - Adet {Sales}"
   ]
  },
  {
   "cell_type": "markdown",
   "id": "859be5fb",
   "metadata": {},
   "source": [
    "$X_1: TV$\n",
    "\n",
    "$X_2: Radio$\n",
    "\n",
    "$X_3: Newspaper$\n",
    "\n",
    "$y: Sales$\n",
    "\n",
    "***"
   ]
  },
  {
   "cell_type": "code",
   "execution_count": 1,
   "id": "087fa616",
   "metadata": {},
   "outputs": [],
   "source": [
    "# Çalışmalarımız için gereken kütüphaneleri import edelim\n",
    "\n",
    "import pandas as pd\n",
    "import matplotlib.pyplot as plt\n",
    "from sklearn.linear_model import LinearRegression"
   ]
  },
  {
   "cell_type": "code",
   "execution_count": 2,
   "id": "eab06ded",
   "metadata": {},
   "outputs": [],
   "source": [
    "# Datayı okuyalım\n",
    "\n",
    "advertisingDf = pd.read_csv(\"data/Advertising.csv\", index_col=0)"
   ]
  },
  {
   "cell_type": "code",
   "execution_count": 3,
   "id": "bf3349de",
   "metadata": {},
   "outputs": [
    {
     "data": {
      "text/html": [
       "<div>\n",
       "<style scoped>\n",
       "    .dataframe tbody tr th:only-of-type {\n",
       "        vertical-align: middle;\n",
       "    }\n",
       "\n",
       "    .dataframe tbody tr th {\n",
       "        vertical-align: top;\n",
       "    }\n",
       "\n",
       "    .dataframe thead th {\n",
       "        text-align: right;\n",
       "    }\n",
       "</style>\n",
       "<table border=\"1\" class=\"dataframe\">\n",
       "  <thead>\n",
       "    <tr style=\"text-align: right;\">\n",
       "      <th></th>\n",
       "      <th>TV</th>\n",
       "      <th>radio</th>\n",
       "      <th>newspaper</th>\n",
       "      <th>sales</th>\n",
       "    </tr>\n",
       "  </thead>\n",
       "  <tbody>\n",
       "    <tr>\n",
       "      <th>1</th>\n",
       "      <td>230.1</td>\n",
       "      <td>37.8</td>\n",
       "      <td>69.2</td>\n",
       "      <td>22.1</td>\n",
       "    </tr>\n",
       "    <tr>\n",
       "      <th>2</th>\n",
       "      <td>44.5</td>\n",
       "      <td>39.3</td>\n",
       "      <td>45.1</td>\n",
       "      <td>10.4</td>\n",
       "    </tr>\n",
       "    <tr>\n",
       "      <th>3</th>\n",
       "      <td>17.2</td>\n",
       "      <td>45.9</td>\n",
       "      <td>69.3</td>\n",
       "      <td>9.3</td>\n",
       "    </tr>\n",
       "    <tr>\n",
       "      <th>4</th>\n",
       "      <td>151.5</td>\n",
       "      <td>41.3</td>\n",
       "      <td>58.5</td>\n",
       "      <td>18.5</td>\n",
       "    </tr>\n",
       "    <tr>\n",
       "      <th>5</th>\n",
       "      <td>180.8</td>\n",
       "      <td>10.8</td>\n",
       "      <td>58.4</td>\n",
       "      <td>12.9</td>\n",
       "    </tr>\n",
       "    <tr>\n",
       "      <th>...</th>\n",
       "      <td>...</td>\n",
       "      <td>...</td>\n",
       "      <td>...</td>\n",
       "      <td>...</td>\n",
       "    </tr>\n",
       "    <tr>\n",
       "      <th>196</th>\n",
       "      <td>38.2</td>\n",
       "      <td>3.7</td>\n",
       "      <td>13.8</td>\n",
       "      <td>7.6</td>\n",
       "    </tr>\n",
       "    <tr>\n",
       "      <th>197</th>\n",
       "      <td>94.2</td>\n",
       "      <td>4.9</td>\n",
       "      <td>8.1</td>\n",
       "      <td>9.7</td>\n",
       "    </tr>\n",
       "    <tr>\n",
       "      <th>198</th>\n",
       "      <td>177.0</td>\n",
       "      <td>9.3</td>\n",
       "      <td>6.4</td>\n",
       "      <td>12.8</td>\n",
       "    </tr>\n",
       "    <tr>\n",
       "      <th>199</th>\n",
       "      <td>283.6</td>\n",
       "      <td>42.0</td>\n",
       "      <td>66.2</td>\n",
       "      <td>25.5</td>\n",
       "    </tr>\n",
       "    <tr>\n",
       "      <th>200</th>\n",
       "      <td>232.1</td>\n",
       "      <td>8.6</td>\n",
       "      <td>8.7</td>\n",
       "      <td>13.4</td>\n",
       "    </tr>\n",
       "  </tbody>\n",
       "</table>\n",
       "<p>200 rows × 4 columns</p>\n",
       "</div>"
      ],
      "text/plain": [
       "        TV  radio  newspaper  sales\n",
       "1    230.1   37.8       69.2   22.1\n",
       "2     44.5   39.3       45.1   10.4\n",
       "3     17.2   45.9       69.3    9.3\n",
       "4    151.5   41.3       58.5   18.5\n",
       "5    180.8   10.8       58.4   12.9\n",
       "..     ...    ...        ...    ...\n",
       "196   38.2    3.7       13.8    7.6\n",
       "197   94.2    4.9        8.1    9.7\n",
       "198  177.0    9.3        6.4   12.8\n",
       "199  283.6   42.0       66.2   25.5\n",
       "200  232.1    8.6        8.7   13.4\n",
       "\n",
       "[200 rows x 4 columns]"
      ]
     },
     "execution_count": 3,
     "metadata": {},
     "output_type": "execute_result"
    }
   ],
   "source": [
    "advertisingDf"
   ]
  },
  {
   "cell_type": "code",
   "execution_count": 4,
   "id": "ec2cf417",
   "metadata": {},
   "outputs": [
    {
     "data": {
      "text/html": [
       "<div>\n",
       "<style scoped>\n",
       "    .dataframe tbody tr th:only-of-type {\n",
       "        vertical-align: middle;\n",
       "    }\n",
       "\n",
       "    .dataframe tbody tr th {\n",
       "        vertical-align: top;\n",
       "    }\n",
       "\n",
       "    .dataframe thead th {\n",
       "        text-align: right;\n",
       "    }\n",
       "</style>\n",
       "<table border=\"1\" class=\"dataframe\">\n",
       "  <thead>\n",
       "    <tr style=\"text-align: right;\">\n",
       "      <th></th>\n",
       "      <th>TV</th>\n",
       "      <th>radio</th>\n",
       "      <th>newspaper</th>\n",
       "      <th>sales</th>\n",
       "    </tr>\n",
       "  </thead>\n",
       "  <tbody>\n",
       "    <tr>\n",
       "      <th>count</th>\n",
       "      <td>200.000000</td>\n",
       "      <td>200.000000</td>\n",
       "      <td>200.000000</td>\n",
       "      <td>200.000000</td>\n",
       "    </tr>\n",
       "    <tr>\n",
       "      <th>mean</th>\n",
       "      <td>147.042500</td>\n",
       "      <td>23.264000</td>\n",
       "      <td>30.554000</td>\n",
       "      <td>14.022500</td>\n",
       "    </tr>\n",
       "    <tr>\n",
       "      <th>std</th>\n",
       "      <td>85.854236</td>\n",
       "      <td>14.846809</td>\n",
       "      <td>21.778621</td>\n",
       "      <td>5.217457</td>\n",
       "    </tr>\n",
       "    <tr>\n",
       "      <th>min</th>\n",
       "      <td>0.700000</td>\n",
       "      <td>0.000000</td>\n",
       "      <td>0.300000</td>\n",
       "      <td>1.600000</td>\n",
       "    </tr>\n",
       "    <tr>\n",
       "      <th>25%</th>\n",
       "      <td>74.375000</td>\n",
       "      <td>9.975000</td>\n",
       "      <td>12.750000</td>\n",
       "      <td>10.375000</td>\n",
       "    </tr>\n",
       "    <tr>\n",
       "      <th>50%</th>\n",
       "      <td>149.750000</td>\n",
       "      <td>22.900000</td>\n",
       "      <td>25.750000</td>\n",
       "      <td>12.900000</td>\n",
       "    </tr>\n",
       "    <tr>\n",
       "      <th>75%</th>\n",
       "      <td>218.825000</td>\n",
       "      <td>36.525000</td>\n",
       "      <td>45.100000</td>\n",
       "      <td>17.400000</td>\n",
       "    </tr>\n",
       "    <tr>\n",
       "      <th>max</th>\n",
       "      <td>296.400000</td>\n",
       "      <td>49.600000</td>\n",
       "      <td>114.000000</td>\n",
       "      <td>27.000000</td>\n",
       "    </tr>\n",
       "  </tbody>\n",
       "</table>\n",
       "</div>"
      ],
      "text/plain": [
       "               TV       radio   newspaper       sales\n",
       "count  200.000000  200.000000  200.000000  200.000000\n",
       "mean   147.042500   23.264000   30.554000   14.022500\n",
       "std     85.854236   14.846809   21.778621    5.217457\n",
       "min      0.700000    0.000000    0.300000    1.600000\n",
       "25%     74.375000    9.975000   12.750000   10.375000\n",
       "50%    149.750000   22.900000   25.750000   12.900000\n",
       "75%    218.825000   36.525000   45.100000   17.400000\n",
       "max    296.400000   49.600000  114.000000   27.000000"
      ]
     },
     "execution_count": 4,
     "metadata": {},
     "output_type": "execute_result"
    }
   ],
   "source": [
    "advertisingDf.describe()"
   ]
  },
  {
   "cell_type": "code",
   "execution_count": 5,
   "id": "2d135baf",
   "metadata": {},
   "outputs": [
    {
     "data": {
      "text/html": [
       "<div>\n",
       "<style scoped>\n",
       "    .dataframe tbody tr th:only-of-type {\n",
       "        vertical-align: middle;\n",
       "    }\n",
       "\n",
       "    .dataframe tbody tr th {\n",
       "        vertical-align: top;\n",
       "    }\n",
       "\n",
       "    .dataframe thead th {\n",
       "        text-align: right;\n",
       "    }\n",
       "</style>\n",
       "<table border=\"1\" class=\"dataframe\">\n",
       "  <thead>\n",
       "    <tr style=\"text-align: right;\">\n",
       "      <th></th>\n",
       "      <th>TV</th>\n",
       "      <th>radio</th>\n",
       "      <th>newspaper</th>\n",
       "      <th>sales</th>\n",
       "    </tr>\n",
       "  </thead>\n",
       "  <tbody>\n",
       "    <tr>\n",
       "      <th>1</th>\n",
       "      <td>230.1</td>\n",
       "      <td>37.8</td>\n",
       "      <td>69.2</td>\n",
       "      <td>22.1</td>\n",
       "    </tr>\n",
       "    <tr>\n",
       "      <th>2</th>\n",
       "      <td>44.5</td>\n",
       "      <td>39.3</td>\n",
       "      <td>45.1</td>\n",
       "      <td>10.4</td>\n",
       "    </tr>\n",
       "    <tr>\n",
       "      <th>3</th>\n",
       "      <td>17.2</td>\n",
       "      <td>45.9</td>\n",
       "      <td>69.3</td>\n",
       "      <td>9.3</td>\n",
       "    </tr>\n",
       "    <tr>\n",
       "      <th>4</th>\n",
       "      <td>151.5</td>\n",
       "      <td>41.3</td>\n",
       "      <td>58.5</td>\n",
       "      <td>18.5</td>\n",
       "    </tr>\n",
       "    <tr>\n",
       "      <th>5</th>\n",
       "      <td>180.8</td>\n",
       "      <td>10.8</td>\n",
       "      <td>58.4</td>\n",
       "      <td>12.9</td>\n",
       "    </tr>\n",
       "  </tbody>\n",
       "</table>\n",
       "</div>"
      ],
      "text/plain": [
       "      TV  radio  newspaper  sales\n",
       "1  230.1   37.8       69.2   22.1\n",
       "2   44.5   39.3       45.1   10.4\n",
       "3   17.2   45.9       69.3    9.3\n",
       "4  151.5   41.3       58.5   18.5\n",
       "5  180.8   10.8       58.4   12.9"
      ]
     },
     "execution_count": 5,
     "metadata": {},
     "output_type": "execute_result"
    }
   ],
   "source": [
    "advertisingDf.head()"
   ]
  },
  {
   "cell_type": "code",
   "execution_count": 6,
   "id": "7171a984",
   "metadata": {},
   "outputs": [],
   "source": [
    "# Input değişkenlerimizi yani sütunların her birini bir değişkene atayalım\n",
    "\n",
    "X1 = advertisingDf[\"TV\"]\n",
    "X2 = advertisingDf[\"radio\"]\n",
    "X3 = advertisingDf[\"newspaper\"]"
   ]
  },
  {
   "cell_type": "code",
   "execution_count": 7,
   "id": "b27a7468",
   "metadata": {},
   "outputs": [
    {
     "data": {
      "text/plain": [
       "1      230.1\n",
       "2       44.5\n",
       "3       17.2\n",
       "4      151.5\n",
       "5      180.8\n",
       "       ...  \n",
       "196     38.2\n",
       "197     94.2\n",
       "198    177.0\n",
       "199    283.6\n",
       "200    232.1\n",
       "Name: TV, Length: 200, dtype: float64"
      ]
     },
     "execution_count": 7,
     "metadata": {},
     "output_type": "execute_result"
    }
   ],
   "source": [
    "# İlk değişkeni yazdıralım\n",
    "\n",
    "X1"
   ]
  },
  {
   "cell_type": "code",
   "execution_count": 8,
   "id": "fc099b6d",
   "metadata": {},
   "outputs": [
    {
     "data": {
      "text/plain": [
       "pandas.core.series.Series"
      ]
     },
     "execution_count": 8,
     "metadata": {},
     "output_type": "execute_result"
    }
   ],
   "source": [
    "# İlk değişkenin veri tipini görelim\n",
    "\n",
    "type(X1)"
   ]
  },
  {
   "cell_type": "code",
   "execution_count": 9,
   "id": "f24028c4",
   "metadata": {},
   "outputs": [
    {
     "data": {
      "text/plain": [
       "(200,)"
      ]
     },
     "execution_count": 9,
     "metadata": {},
     "output_type": "execute_result"
    }
   ],
   "source": [
    "# İlk değişkenin yapısını inceleyelim\n",
    "\n",
    "X1.shape"
   ]
  },
  {
   "cell_type": "code",
   "execution_count": 10,
   "id": "ddcd1093",
   "metadata": {},
   "outputs": [],
   "source": [
    "# Output'u alalım\n",
    "\n",
    "y = advertisingDf[\"sales\"]"
   ]
  },
  {
   "cell_type": "code",
   "execution_count": 11,
   "id": "d1b49829",
   "metadata": {},
   "outputs": [
    {
     "data": {
      "text/plain": [
       "1      22.1\n",
       "2      10.4\n",
       "3       9.3\n",
       "4      18.5\n",
       "5      12.9\n",
       "       ... \n",
       "196     7.6\n",
       "197     9.7\n",
       "198    12.8\n",
       "199    25.5\n",
       "200    13.4\n",
       "Name: sales, Length: 200, dtype: float64"
      ]
     },
     "execution_count": 11,
     "metadata": {},
     "output_type": "execute_result"
    }
   ],
   "source": [
    "y"
   ]
  },
  {
   "cell_type": "code",
   "execution_count": 12,
   "id": "7d47bf5c",
   "metadata": {},
   "outputs": [
    {
     "data": {
      "text/plain": [
       "pandas.core.series.Series"
      ]
     },
     "execution_count": 12,
     "metadata": {},
     "output_type": "execute_result"
    }
   ],
   "source": [
    "type(y)"
   ]
  },
  {
   "cell_type": "code",
   "execution_count": 13,
   "id": "60a78c05",
   "metadata": {},
   "outputs": [
    {
     "data": {
      "text/plain": [
       "(200,)"
      ]
     },
     "execution_count": 13,
     "metadata": {},
     "output_type": "execute_result"
    }
   ],
   "source": [
    "# Output değişkenimizin yapısını inceleyelim\n",
    "\n",
    "y.shape"
   ]
  },
  {
   "cell_type": "code",
   "execution_count": 14,
   "id": "34a289d7",
   "metadata": {},
   "outputs": [],
   "source": [
    "# Regresyon için hazırlık yapalım\n",
    "# LinearRegression class'ını instantiate edelim\n",
    "# linearRegressor bizim nesnemiz oldu\n",
    "\n",
    "linearRegressor = LinearRegression()"
   ]
  },
  {
   "cell_type": "code",
   "execution_count": 15,
   "id": "50dc16fa",
   "metadata": {},
   "outputs": [],
   "source": [
    "# Regresyon için dataframe shape'ini vektör haline getirmeliyiz.\n",
    "# Datafame'lerin shape'ini düzenleyeceğiz.\n",
    "# Pandas'ın Series veri yapısının values attribute'unu kullanarak değişken içerisindeki değerleri,\n",
    "# bir liste içerisinde elde ederiz\n",
    "\n",
    "y_regression = y.values"
   ]
  },
  {
   "cell_type": "code",
   "execution_count": 16,
   "id": "24ece105",
   "metadata": {},
   "outputs": [
    {
     "data": {
      "text/plain": [
       "array([22.1, 10.4,  9.3, 18.5, 12.9,  7.2, 11.8, 13.2,  4.8, 10.6,  8.6,\n",
       "       17.4,  9.2,  9.7, 19. , 22.4, 12.5, 24.4, 11.3, 14.6, 18. , 12.5,\n",
       "        5.6, 15.5,  9.7, 12. , 15. , 15.9, 18.9, 10.5, 21.4, 11.9,  9.6,\n",
       "       17.4,  9.5, 12.8, 25.4, 14.7, 10.1, 21.5, 16.6, 17.1, 20.7, 12.9,\n",
       "        8.5, 14.9, 10.6, 23.2, 14.8,  9.7, 11.4, 10.7, 22.6, 21.2, 20.2,\n",
       "       23.7,  5.5, 13.2, 23.8, 18.4,  8.1, 24.2, 15.7, 14. , 18. ,  9.3,\n",
       "        9.5, 13.4, 18.9, 22.3, 18.3, 12.4,  8.8, 11. , 17. ,  8.7,  6.9,\n",
       "       14.2,  5.3, 11. , 11.8, 12.3, 11.3, 13.6, 21.7, 15.2, 12. , 16. ,\n",
       "       12.9, 16.7, 11.2,  7.3, 19.4, 22.2, 11.5, 16.9, 11.7, 15.5, 25.4,\n",
       "       17.2, 11.7, 23.8, 14.8, 14.7, 20.7, 19.2,  7.2,  8.7,  5.3, 19.8,\n",
       "       13.4, 21.8, 14.1, 15.9, 14.6, 12.6, 12.2,  9.4, 15.9,  6.6, 15.5,\n",
       "        7. , 11.6, 15.2, 19.7, 10.6,  6.6,  8.8, 24.7,  9.7,  1.6, 12.7,\n",
       "        5.7, 19.6, 10.8, 11.6,  9.5, 20.8,  9.6, 20.7, 10.9, 19.2, 20.1,\n",
       "       10.4, 11.4, 10.3, 13.2, 25.4, 10.9, 10.1, 16.1, 11.6, 16.6, 19. ,\n",
       "       15.6,  3.2, 15.3, 10.1,  7.3, 12.9, 14.4, 13.3, 14.9, 18. , 11.9,\n",
       "       11.9,  8. , 12.2, 17.1, 15. ,  8.4, 14.5,  7.6, 11.7, 11.5, 27. ,\n",
       "       20.2, 11.7, 11.8, 12.6, 10.5, 12.2,  8.7, 26.2, 17.6, 22.6, 10.3,\n",
       "       17.3, 15.9,  6.7, 10.8,  9.9,  5.9, 19.6, 17.3,  7.6,  9.7, 12.8,\n",
       "       25.5, 13.4])"
      ]
     },
     "execution_count": 16,
     "metadata": {},
     "output_type": "execute_result"
    }
   ],
   "source": [
    "y_regression"
   ]
  },
  {
   "cell_type": "code",
   "execution_count": 17,
   "id": "08055643",
   "metadata": {},
   "outputs": [
    {
     "data": {
      "text/plain": [
       "(200,)"
      ]
     },
     "execution_count": 17,
     "metadata": {},
     "output_type": "execute_result"
    }
   ],
   "source": [
    "y_regression.shape"
   ]
  },
  {
   "cell_type": "code",
   "execution_count": 18,
   "id": "ab57947d",
   "metadata": {},
   "outputs": [],
   "source": [
    "# Şimdi de y_regression değişkenini yeniden boyutlandıracağız.\n",
    "# Çünkü yukarıda bahsettiğimiz gibi regression işlemi için vektörel bir yapı gerekli.\n",
    "# Yeniden boyutlandırmadan kastımız daha önce (200, ) yapısında olan output değişkenimizi (y)\n",
    "# ve dolayısıyla y_ regression şeklinde adlandırıp y değişkeni içerisindeki değerleri atadığımız\n",
    "# bu nedenle halihazırda y değişkenimiz ile aynı yapıya sahip olan ve regression için kullanacağımız \n",
    "# değişkenimizi (200, 1) yapısına getireceğiz çünkü regression işlemi için sütuna ihtiyaç var.\n",
    "\n",
    "y_regression = y.values.reshape(-1, 1)\n",
    "\n",
    "# reshape(-1, 1) ifadesi bir sütun yaratır"
   ]
  },
  {
   "cell_type": "code",
   "execution_count": 19,
   "id": "3915a4b3",
   "metadata": {},
   "outputs": [
    {
     "data": {
      "text/plain": [
       "(200, 1)"
      ]
     },
     "execution_count": 19,
     "metadata": {},
     "output_type": "execute_result"
    }
   ],
   "source": [
    "# Yeniden boyutlandırdığımız ve regresyon için hazırladığımız output değişkenimizi kontrol edelim\n",
    "\n",
    "y_regression.shape"
   ]
  },
  {
   "cell_type": "code",
   "execution_count": 20,
   "id": "35b5b6eb",
   "metadata": {
    "scrolled": true
   },
   "outputs": [
    {
     "data": {
      "text/plain": [
       "array([[22.1],\n",
       "       [10.4],\n",
       "       [ 9.3],\n",
       "       [18.5],\n",
       "       [12.9],\n",
       "       [ 7.2],\n",
       "       [11.8],\n",
       "       [13.2],\n",
       "       [ 4.8],\n",
       "       [10.6],\n",
       "       [ 8.6],\n",
       "       [17.4],\n",
       "       [ 9.2],\n",
       "       [ 9.7],\n",
       "       [19. ],\n",
       "       [22.4],\n",
       "       [12.5],\n",
       "       [24.4],\n",
       "       [11.3],\n",
       "       [14.6],\n",
       "       [18. ],\n",
       "       [12.5],\n",
       "       [ 5.6],\n",
       "       [15.5],\n",
       "       [ 9.7],\n",
       "       [12. ],\n",
       "       [15. ],\n",
       "       [15.9],\n",
       "       [18.9],\n",
       "       [10.5],\n",
       "       [21.4],\n",
       "       [11.9],\n",
       "       [ 9.6],\n",
       "       [17.4],\n",
       "       [ 9.5],\n",
       "       [12.8],\n",
       "       [25.4],\n",
       "       [14.7],\n",
       "       [10.1],\n",
       "       [21.5],\n",
       "       [16.6],\n",
       "       [17.1],\n",
       "       [20.7],\n",
       "       [12.9],\n",
       "       [ 8.5],\n",
       "       [14.9],\n",
       "       [10.6],\n",
       "       [23.2],\n",
       "       [14.8],\n",
       "       [ 9.7],\n",
       "       [11.4],\n",
       "       [10.7],\n",
       "       [22.6],\n",
       "       [21.2],\n",
       "       [20.2],\n",
       "       [23.7],\n",
       "       [ 5.5],\n",
       "       [13.2],\n",
       "       [23.8],\n",
       "       [18.4],\n",
       "       [ 8.1],\n",
       "       [24.2],\n",
       "       [15.7],\n",
       "       [14. ],\n",
       "       [18. ],\n",
       "       [ 9.3],\n",
       "       [ 9.5],\n",
       "       [13.4],\n",
       "       [18.9],\n",
       "       [22.3],\n",
       "       [18.3],\n",
       "       [12.4],\n",
       "       [ 8.8],\n",
       "       [11. ],\n",
       "       [17. ],\n",
       "       [ 8.7],\n",
       "       [ 6.9],\n",
       "       [14.2],\n",
       "       [ 5.3],\n",
       "       [11. ],\n",
       "       [11.8],\n",
       "       [12.3],\n",
       "       [11.3],\n",
       "       [13.6],\n",
       "       [21.7],\n",
       "       [15.2],\n",
       "       [12. ],\n",
       "       [16. ],\n",
       "       [12.9],\n",
       "       [16.7],\n",
       "       [11.2],\n",
       "       [ 7.3],\n",
       "       [19.4],\n",
       "       [22.2],\n",
       "       [11.5],\n",
       "       [16.9],\n",
       "       [11.7],\n",
       "       [15.5],\n",
       "       [25.4],\n",
       "       [17.2],\n",
       "       [11.7],\n",
       "       [23.8],\n",
       "       [14.8],\n",
       "       [14.7],\n",
       "       [20.7],\n",
       "       [19.2],\n",
       "       [ 7.2],\n",
       "       [ 8.7],\n",
       "       [ 5.3],\n",
       "       [19.8],\n",
       "       [13.4],\n",
       "       [21.8],\n",
       "       [14.1],\n",
       "       [15.9],\n",
       "       [14.6],\n",
       "       [12.6],\n",
       "       [12.2],\n",
       "       [ 9.4],\n",
       "       [15.9],\n",
       "       [ 6.6],\n",
       "       [15.5],\n",
       "       [ 7. ],\n",
       "       [11.6],\n",
       "       [15.2],\n",
       "       [19.7],\n",
       "       [10.6],\n",
       "       [ 6.6],\n",
       "       [ 8.8],\n",
       "       [24.7],\n",
       "       [ 9.7],\n",
       "       [ 1.6],\n",
       "       [12.7],\n",
       "       [ 5.7],\n",
       "       [19.6],\n",
       "       [10.8],\n",
       "       [11.6],\n",
       "       [ 9.5],\n",
       "       [20.8],\n",
       "       [ 9.6],\n",
       "       [20.7],\n",
       "       [10.9],\n",
       "       [19.2],\n",
       "       [20.1],\n",
       "       [10.4],\n",
       "       [11.4],\n",
       "       [10.3],\n",
       "       [13.2],\n",
       "       [25.4],\n",
       "       [10.9],\n",
       "       [10.1],\n",
       "       [16.1],\n",
       "       [11.6],\n",
       "       [16.6],\n",
       "       [19. ],\n",
       "       [15.6],\n",
       "       [ 3.2],\n",
       "       [15.3],\n",
       "       [10.1],\n",
       "       [ 7.3],\n",
       "       [12.9],\n",
       "       [14.4],\n",
       "       [13.3],\n",
       "       [14.9],\n",
       "       [18. ],\n",
       "       [11.9],\n",
       "       [11.9],\n",
       "       [ 8. ],\n",
       "       [12.2],\n",
       "       [17.1],\n",
       "       [15. ],\n",
       "       [ 8.4],\n",
       "       [14.5],\n",
       "       [ 7.6],\n",
       "       [11.7],\n",
       "       [11.5],\n",
       "       [27. ],\n",
       "       [20.2],\n",
       "       [11.7],\n",
       "       [11.8],\n",
       "       [12.6],\n",
       "       [10.5],\n",
       "       [12.2],\n",
       "       [ 8.7],\n",
       "       [26.2],\n",
       "       [17.6],\n",
       "       [22.6],\n",
       "       [10.3],\n",
       "       [17.3],\n",
       "       [15.9],\n",
       "       [ 6.7],\n",
       "       [10.8],\n",
       "       [ 9.9],\n",
       "       [ 5.9],\n",
       "       [19.6],\n",
       "       [17.3],\n",
       "       [ 7.6],\n",
       "       [ 9.7],\n",
       "       [12.8],\n",
       "       [25.5],\n",
       "       [13.4]])"
      ]
     },
     "execution_count": 20,
     "metadata": {},
     "output_type": "execute_result"
    }
   ],
   "source": [
    "y_regression"
   ]
  },
  {
   "cell_type": "code",
   "execution_count": 21,
   "id": "88cbb7a4",
   "metadata": {},
   "outputs": [],
   "source": [
    "# Şimdi de Input değişkenlerimiz olan X1, X2 ve X3'ün şekillerini yeniden düzenleyelim.\n",
    "\n",
    "X1_regression = X1.values.reshape(-1, 1)\n",
    "X2_regression = X2.values.reshape(-1, 1)\n",
    "X3_regression = X3.values.reshape(-1, 1)"
   ]
  },
  {
   "cell_type": "code",
   "execution_count": 22,
   "id": "f62c6ac6",
   "metadata": {},
   "outputs": [
    {
     "data": {
      "text/plain": [
       "(200, 1)"
      ]
     },
     "execution_count": 22,
     "metadata": {},
     "output_type": "execute_result"
    }
   ],
   "source": [
    "X1_regression.shape"
   ]
  },
  {
   "cell_type": "code",
   "execution_count": 23,
   "id": "d0b932af",
   "metadata": {},
   "outputs": [
    {
     "data": {
      "text/plain": [
       "(200, 1)"
      ]
     },
     "execution_count": 23,
     "metadata": {},
     "output_type": "execute_result"
    }
   ],
   "source": [
    "X2_regression.shape"
   ]
  },
  {
   "cell_type": "code",
   "execution_count": 24,
   "id": "c75ecdab",
   "metadata": {},
   "outputs": [
    {
     "data": {
      "text/plain": [
       "(200, 1)"
      ]
     },
     "execution_count": 24,
     "metadata": {},
     "output_type": "execute_result"
    }
   ],
   "source": [
    "X3_regression.shape"
   ]
  },
  {
   "cell_type": "code",
   "execution_count": 25,
   "id": "3dc577ee",
   "metadata": {},
   "outputs": [
    {
     "data": {
      "image/png": "[encoded data removed]",
      "text/plain": [
       "<Figure size 432x288 with 1 Axes>"
      ]
     },
     "metadata": {
      "needs_background": "light"
     },
     "output_type": "display_data"
    }
   ],
   "source": [
    "# Şimdi TV Reklam Bütçesi ile Satış değerleri arasındaki ilişkiyi inceleyelim.\n",
    "# SATIŞ - TV REKLAMI\n",
    "# TV için tuttuğumuz değişken -> X1 \n",
    "\n",
    "plt.scatter(X1, y, c=\"orange\")\n",
    "\n",
    "# Ortalama değeri göstermek için regresyon yapacağız\n",
    "linearRegressor.fit(X1_regression, y_regression)\n",
    "y_prediction_1 = linearRegressor.predict(X1_regression)\n",
    "plt.plot(X1, y_prediction_1, color=\"red\")\n",
    "\n",
    "plt.xlabel(\"TV Advertisement\")\n",
    "plt.ylabel(\"Sales\")\n",
    "plt.title(\"SALES - TV\")\n",
    "plt.show()"
   ]
  },
  {
   "cell_type": "code",
   "execution_count": 26,
   "id": "269d8e7a",
   "metadata": {},
   "outputs": [
    {
     "data": {
      "image/png": "[encoded data removed]",
      "text/plain": [
       "<Figure size 432x288 with 1 Axes>"
      ]
     },
     "metadata": {
      "needs_background": "light"
     },
     "output_type": "display_data"
    }
   ],
   "source": [
    "# Şimdi Radyo Reklam Bütçesi ile Satış değerleri arasındaki ilişkiyi inceleyelim.\n",
    "# SATIŞ - RADYO REKLAMI\n",
    "# Radyo için tuttuğumuz değişken -> X2\n",
    "\n",
    "plt.scatter(X2, y, c=\"green\")\n",
    "\n",
    "# Ortalama değeri göstermek için regresyon yapacağız\n",
    "linearRegressor.fit(X2_regression, y_regression)\n",
    "y_prediction_2 = linearRegressor.predict(X2_regression)\n",
    "plt.plot(X2, y_prediction_2, color=\"blue\")\n",
    "\n",
    "plt.xlabel(\"Radio Advertisement\")\n",
    "plt.ylabel(\"Sales\")\n",
    "plt.title(\"SALES - RADIO\")\n",
    "plt.show()"
   ]
  },
  {
   "cell_type": "code",
   "execution_count": 27,
   "id": "b2ad0fd0",
   "metadata": {},
   "outputs": [
    {
     "data": {
      "image/png": "[encoded data removed]",
      "text/plain": [
       "<Figure size 432x288 with 1 Axes>"
      ]
     },
     "metadata": {
      "needs_background": "light"
     },
     "output_type": "display_data"
    }
   ],
   "source": [
    "# Şimdi Gazete Reklam Bütçesi ile Satış değerleri arasındaki ilişkiyi inceleyelim.\n",
    "# SATIŞ - GAZETE REKLAMI\n",
    "# Gazete için tuttuğumuz değişken -> X3\n",
    "\n",
    "plt.scatter(X3, y, c=\"purple\")\n",
    "\n",
    "# Ortalama değeri göstermek için regresyon yapacağız\n",
    "linearRegressor.fit(X3_regression, y_regression)\n",
    "y_prediction_3 = linearRegressor.predict(X3_regression)\n",
    "plt.plot(X3, y_prediction_3, color=\"red\")\n",
    "\n",
    "plt.xlabel(\"Newspaper Advertisement\")\n",
    "plt.ylabel(\"Sales\")\n",
    "plt.title(\"SALES - NEWSPAPER\")\n",
    "plt.show()"
   ]
  },
  {
   "cell_type": "markdown",
   "id": "32d2b531",
   "metadata": {},
   "source": [
    "***\n",
    "**Genel olarak şöyle düşünelim**\n",
    "\n",
    "`Y (OUTPUT DEĞİŞKENİ)` ile `X (INPUT/PREDICTION DEĞİŞKENİ)` arasında şu şekilde bir ilişki olduğunu kabul edelim:\n",
    "\n",
    "$$Y = f(X) + \\epsilon$$"
   ]
  },
  {
   "cell_type": "markdown",
   "id": "aada3512",
   "metadata": {},
   "source": [
    "Burada:\n",
    "\n",
    "**$f()$** : Ne olduğu bilinmeyen bir fonksiyon. Bu fonksiyon içerisine verdiğimiz tahmin değişkeni ile bir sonuç yaratıp Y'ye atar. Biz bu fonksiyonu bilemeyiz çünkü aldığı veriye göre değişiklik gösterir. $f()$ fonksiyonu için yalnızca tahminlerde bulunabiliriz.\n",
    "\n",
    "**$\\epsilon$** : Rasgele hata miktarı (error term) -> ölçüm hatası, insan hatası vs."
   ]
  },
  {
   "cell_type": "markdown",
   "id": "6de746e4",
   "metadata": {},
   "source": [
    "***\n",
    "**Örnek 2**\n",
    "\n",
    "Şimdi de Gelir ile Eğitim Düzeyi arasındaki ilişkiye bakalım.\n",
    "\n",
    "Elimizde 30 çalışana ait Gelir (Income) ve Toplam Eğitim Aldığı Yıl (Education) bilgisi var."
   ]
  },
  {
   "cell_type": "code",
   "execution_count": 28,
   "id": "d2e2d4ba",
   "metadata": {},
   "outputs": [],
   "source": [
    "import pandas as pd\n",
    "import matplotlib.pyplot as plt\n",
    "from sklearn.linear_model import LinearRegression"
   ]
  },
  {
   "cell_type": "code",
   "execution_count": 29,
   "id": "6da6d738",
   "metadata": {},
   "outputs": [],
   "source": [
    "incomeDf = pd.read_csv(\"data/Income.csv\", index_col=0)"
   ]
  },
  {
   "cell_type": "code",
   "execution_count": 30,
   "id": "f6a44489",
   "metadata": {},
   "outputs": [
    {
     "data": {
      "text/html": [
       "<div>\n",
       "<style scoped>\n",
       "    .dataframe tbody tr th:only-of-type {\n",
       "        vertical-align: middle;\n",
       "    }\n",
       "\n",
       "    .dataframe tbody tr th {\n",
       "        vertical-align: top;\n",
       "    }\n",
       "\n",
       "    .dataframe thead th {\n",
       "        text-align: right;\n",
       "    }\n",
       "</style>\n",
       "<table border=\"1\" class=\"dataframe\">\n",
       "  <thead>\n",
       "    <tr style=\"text-align: right;\">\n",
       "      <th></th>\n",
       "      <th>Education</th>\n",
       "      <th>Income</th>\n",
       "    </tr>\n",
       "  </thead>\n",
       "  <tbody>\n",
       "    <tr>\n",
       "      <th>1</th>\n",
       "      <td>10.000000</td>\n",
       "      <td>26.658839</td>\n",
       "    </tr>\n",
       "    <tr>\n",
       "      <th>2</th>\n",
       "      <td>10.401338</td>\n",
       "      <td>27.306435</td>\n",
       "    </tr>\n",
       "    <tr>\n",
       "      <th>3</th>\n",
       "      <td>10.842809</td>\n",
       "      <td>22.132410</td>\n",
       "    </tr>\n",
       "    <tr>\n",
       "      <th>4</th>\n",
       "      <td>11.244147</td>\n",
       "      <td>21.169841</td>\n",
       "    </tr>\n",
       "    <tr>\n",
       "      <th>5</th>\n",
       "      <td>11.645485</td>\n",
       "      <td>15.192634</td>\n",
       "    </tr>\n",
       "  </tbody>\n",
       "</table>\n",
       "</div>"
      ],
      "text/plain": [
       "   Education     Income\n",
       "1  10.000000  26.658839\n",
       "2  10.401338  27.306435\n",
       "3  10.842809  22.132410\n",
       "4  11.244147  21.169841\n",
       "5  11.645485  15.192634"
      ]
     },
     "execution_count": 30,
     "metadata": {},
     "output_type": "execute_result"
    }
   ],
   "source": [
    "incomeDf.head()"
   ]
  },
  {
   "cell_type": "code",
   "execution_count": 31,
   "id": "b03b5166",
   "metadata": {},
   "outputs": [],
   "source": [
    "# Input değişkenimizi oluşturalım\n",
    "\n",
    "X = incomeDf[\"Education\"]"
   ]
  },
  {
   "cell_type": "code",
   "execution_count": 32,
   "id": "a66e88bf",
   "metadata": {},
   "outputs": [],
   "source": [
    "# Output değişkenimizi oluşturalım\n",
    "\n",
    "y = incomeDf[\"Income\"]"
   ]
  },
  {
   "cell_type": "code",
   "execution_count": 33,
   "id": "f370c54b",
   "metadata": {},
   "outputs": [],
   "source": [
    "# Lineer regresyon yapabilmek için input ve output değişkenlerimizin shape'lerini hazırlayalım\n",
    "\n",
    "X_regression = X.values.reshape(-1, 1)\n",
    "y_regression = y.values.reshape(-1, 1)"
   ]
  },
  {
   "cell_type": "code",
   "execution_count": 34,
   "id": "143a98fa",
   "metadata": {},
   "outputs": [
    {
     "data": {
      "image/png": "[encoded data removed]",
      "text/plain": [
       "<Figure size 720x432 with 1 Axes>"
      ]
     },
     "metadata": {
      "needs_background": "light"
     },
     "output_type": "display_data"
    }
   ],
   "source": [
    "# Input ve Output değişkenimiz arasındaki ilişkiyi gösteren grafiği oluşturalım\n",
    "\n",
    "plt.figure(figsize=(10, 6))\n",
    "plt.scatter(X, y)\n",
    "\n",
    "plt.xlabel(\"Total Year of Education\")\n",
    "plt.ylabel(\"Income\")\n",
    "plt.title(\"TOTAL YEAR OF EDUCATION - INCOME\")\n",
    "\n",
    "plt.show()"
   ]
  },
  {
   "cell_type": "code",
   "execution_count": 35,
   "id": "d11b59b3",
   "metadata": {},
   "outputs": [
    {
     "data": {
      "image/png": "[encoded data removed]",
      "text/plain": [
       "<Figure size 864x576 with 1 Axes>"
      ]
     },
     "metadata": {
      "needs_background": "light"
     },
     "output_type": "display_data"
    }
   ],
   "source": [
    "# Input ve Output değişkenimiz arasındaki ilişkiyi gösteren grafiğe regresyon doğrusunu oluşturalım.\n",
    "\n",
    "plt.figure(figsize=(12, 8))\n",
    "plt.scatter(X, y)\n",
    "\n",
    "# Regresyon\n",
    "linearRg = LinearRegression()\n",
    "linearRg.fit(X_regression, y_regression)\n",
    "y_pred = linearRg.predict(X_regression)\n",
    "\n",
    "# Regresyon doğrusu oluşturma\n",
    "plt.plot(X, y_pred, color=\"red\")\n",
    "\n",
    "plt.xlabel(\"Total Year of Education\")\n",
    "plt.ylabel(\"Income\")\n",
    "plt.title(\"TOTAL YEAR OF EDUCATION - INCOME\")\n",
    "\n",
    "plt.show()"
   ]
  },
  {
   "cell_type": "markdown",
   "id": "92321091",
   "metadata": {},
   "source": [
    "Grafiği incelediğimizde, oluşturduğumuz lineer regresyon eğrisinin bazı noktaları kaçırdığını görüyoruz çünkü lineer regresyon sonucunda ortaya doğrusal bir eğri çıkıyor."
   ]
  },
  {
   "cell_type": "markdown",
   "id": "a475d18a",
   "metadata": {},
   "source": [
    "Kaçırdığımız noktaları da yakalayabilmek için eğriyi daha yüksek dereceli bir polinom olacak şekilde (4. derece) modelleyebiliriz. Yani Polynomial Regression kullanabiliriz. Bu durumda grafik aşağıdaki gibi olurdu:"
   ]
  },
  {
   "cell_type": "markdown",
   "id": "5d082fe2",
   "metadata": {},
   "source": [
    "<img src='images/quadratik.jpg' />"
   ]
  },
  {
   "cell_type": "markdown",
   "id": "bd407e57",
   "metadata": {},
   "source": [
    "Bu sefer başka bir fonksiyon görüyoruz ve bu fonksiyon veriye biraz daha güzel oturdu.\n",
    "\n",
    "Ama hala **f**'i tam olarak bilmiyoruz.\n",
    "\n",
    "**Aslında, makine öğrenmesi f'ye yaklaşmak için (hiçbir zaman bilemeyiz çünkü) geliştirilmiş algoritmalardır.**\n",
    "\n",
    "Eğer **f**'yi bilmiyorsak, o zaman tahmin etmeye çalışacağız.\n",
    "\n",
    "**İşte bu, tahmin yapıp, bilmediğimiz f'ye yaklaşma çabasına `Öğrenme` diyoruz. Yani `Öğrenme`, girdi ile çıktı değişkenleri arasındaki ilişkiyi tahmin edebilme çabasıdır.**\n"
   ]
  }
 ],
 "metadata": {
  "kernelspec": {
   "display_name": "Python 3 (ipykernel)",
   "language": "python",
   "name": "python3"
  },
  "language_info": {
   "codemirror_mode": {
    "name": "ipython",
    "version": 3
   },
   "file_extension": ".py",
   "mimetype": "text/x-python",
   "name": "python",
   "nbconvert_exporter": "python",
   "pygments_lexer": "ipython3",
   "version": "3.10.2"
  }
 },
 "nbformat": 4,
 "nbformat_minor": 5
}
