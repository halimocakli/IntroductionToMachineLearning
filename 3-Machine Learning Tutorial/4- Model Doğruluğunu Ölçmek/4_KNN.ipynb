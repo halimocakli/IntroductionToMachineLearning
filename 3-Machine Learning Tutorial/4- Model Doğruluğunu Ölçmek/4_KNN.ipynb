{
 "cells": [
  {
   "cell_type": "markdown",
   "id": "4ca8b9a5",
   "metadata": {},
   "source": [
    "## K-Nearest Neighbors"
   ]
  },
  {
   "cell_type": "markdown",
   "id": "4dbec181",
   "metadata": {},
   "source": [
    "Teoride, sınıflandırma problemlerini çözerken her zaman Bayes Classifier kullanmak isteriz çünkü Bayes Classifier veri setinin girdileri ve çıktıları arasındaki olasılık dağılımını bize net bir biçimde söyler."
   ]
  },
  {
   "cell_type": "markdown",
   "id": "bc18bae8",
   "metadata": {},
   "source": [
    "Ama maalesef gerçek hayatta bu mümkün olmaz."
   ]
  },
  {
   "cell_type": "markdown",
   "id": "8e2b63a3",
   "metadata": {},
   "source": [
    "Çünkü datanın gerçek olasılık dağılımını (X ile y arasındaki ilişkiyi) bilmeyiz."
   ]
  },
  {
   "cell_type": "markdown",
   "id": "a3c0f77d",
   "metadata": {},
   "source": [
    "Bayes Classifier, hiçbir zaman ulaşılamayan, `altın standart` olarak durur."
   ]
  },
  {
   "cell_type": "markdown",
   "id": "f77b8e3b",
   "metadata": {},
   "source": [
    "### KNN"
   ]
  },
  {
   "cell_type": "markdown",
   "id": "7fdbcefa",
   "metadata": {},
   "source": [
    "KNN bir noktadaki ($x_0$) olasılığı hesaplarken komşularını ($\\kappa_0$) alırız."
   ]
  },
  {
   "cell_type": "markdown",
   "id": "32098b6b",
   "metadata": {},
   "source": [
    "Sonra bu komşuların hangi sınıflara ait olduğunu olasılık olarak hesaplarız."
   ]
  },
  {
   "cell_type": "markdown",
   "id": "fe32dfee",
   "metadata": {},
   "source": [
    "Sonra en yüksek sınıf olasılığını alırız."
   ]
  },
  {
   "cell_type": "markdown",
   "id": "d4dbf9e6",
   "metadata": {},
   "source": [
    "Aslında yine dar alanda, Bayes Classifier uygulamış olduk. ($\\kappa_0$ içinde)"
   ]
  },
  {
   "cell_type": "markdown",
   "id": "e912cb9f",
   "metadata": {},
   "source": [
    "$$ Pr(Y = j| X = x_0) = \\frac{1}{K} \\sum_{i\\epsilon\\kappa_0}I(y_i = j) $$"
   ]
  },
  {
   "cell_type": "markdown",
   "id": "037e0a9d",
   "metadata": {},
   "source": [
    "Çizerek görelim..."
   ]
  },
  {
   "cell_type": "markdown",
   "id": "1feb1af0",
   "metadata": {},
   "source": [
    "<img src=\"images/KNN_Ornek.png\"/>"
   ]
  },
  {
   "cell_type": "markdown",
   "id": "174ae1e4",
   "metadata": {},
   "source": [
    "<img src=\"images/k_1_100.jpg\"/>"
   ]
  },
  {
   "cell_type": "markdown",
   "id": "99aa3b34",
   "metadata": {},
   "source": [
    "<img src=\"images/KNN_cizim.png\"/>"
   ]
  }
 ],
 "metadata": {
  "kernelspec": {
   "display_name": "Python 3 (ipykernel)",
   "language": "python",
   "name": "python3"
  },
  "language_info": {
   "codemirror_mode": {
    "name": "ipython",
    "version": 3
   },
   "file_extension": ".py",
   "mimetype": "text/x-python",
   "name": "python",
   "nbconvert_exporter": "python",
   "pygments_lexer": "ipython3",
   "version": "3.10.2"
  }
 },
 "nbformat": 4,
 "nbformat_minor": 5
}
