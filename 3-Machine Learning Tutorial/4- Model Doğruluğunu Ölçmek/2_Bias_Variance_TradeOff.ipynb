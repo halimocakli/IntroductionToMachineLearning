{
 "cells": [
  {
   "cell_type": "markdown",
   "id": "607a6202",
   "metadata": {},
   "source": [
    "# Bias-Variance Trade-Off"
   ]
  },
  {
   "cell_type": "markdown",
   "id": "e21a38f8",
   "metadata": {},
   "source": [
    "`**Bias:**` Ön kabul, önyargı, geçmiş geneyimlerden edindiğimiz çıkarımlar, meyil.\n",
    "\n",
    "`**Variance:**` Değişkenlik, varyans."
   ]
  },
  {
   "cell_type": "markdown",
   "id": "68e7ad73",
   "metadata": {},
   "source": [
    "Minimize etmeye çalıştığımız kriter Test Data'nın MSE değeri idi: $MSE_{Te}$"
   ]
  },
  {
   "cell_type": "markdown",
   "id": "8bca7d06",
   "metadata": {},
   "source": [
    "Daha önce şunu görmüştük:\n",
    "\n",
    "$$ToplamHata = KaçınılabilirHata + Kaçınılmaz Hata$$"
   ]
  },
  {
   "cell_type": "markdown",
   "id": "1540577f",
   "metadata": {},
   "source": [
    "Her hangi bir $x_0$ veri noktasında toplam hata (değişkenlik, varyans, gerçek değerden sapma):\n",
    "\n"
   ]
  },
  {
   "cell_type": "markdown",
   "id": "46381180",
   "metadata": {},
   "source": [
    "$$E(y_0 - \\hat{f}(x_0))^2 = Var(\\hat{f}(x_0)) + [Bias(\\hat{f}(x_0))]^2 + Var(\\epsilon)$$"
   ]
  },
  {
   "cell_type": "markdown",
   "id": "9bcbcd50",
   "metadata": {},
   "source": [
    "Bu formülde:\n",
    "\n",
    "* $E(y_0 - \\hat{f}(x_0))^2$  :  beklenen $MSE_{Te}$\n",
    "* $Var(\\hat{f}(x_0)) + [Bias(\\hat{f}(x_0))]^2$  :  Kaçınılabilir Hata"
   ]
  },
  {
   "cell_type": "markdown",
   "id": "332578cf",
   "metadata": {},
   "source": [
    "İşte Test MSE'yi minimize etmek için Kaçınılabilir Hatayı minimize etmemiz lazım."
   ]
  },
  {
   "cell_type": "markdown",
   "id": "03b17b45",
   "metadata": {},
   "source": [
    "$$E(MSE_{Te}) = Var(\\hat{f}(x_0)) + [Bias(\\hat{f}(x_0))]^2 + Var(\\epsilon)$$"
   ]
  },
  {
   "cell_type": "markdown",
   "id": "8f596287",
   "metadata": {},
   "source": [
    "Yani $Var(\\hat{f}(x_0)) + [Bias(\\hat{f}(x_0))]^2$ değerini minimize etmemiz lazım."
   ]
  },
  {
   "cell_type": "markdown",
   "id": "5aefccc1",
   "metadata": {},
   "source": [
    "<img src='images/Bias_Variance_TradeOff.png'/>"
   ]
  },
  {
   "cell_type": "markdown",
   "id": "c47e737e",
   "metadata": {},
   "source": [
    "---"
   ]
  },
  {
   "cell_type": "markdown",
   "id": "64591eb8",
   "metadata": {
    "jupyter": {
     "source_hidden": true
    }
   },
   "source": [
    "$Var(\\hat{f}(x_0)) + [Bias(\\hat{f}(x_0))]^2$ değerini minimize etmek için model esnekliğini yani flexibility'yi değiştirme yöntemini uygularız:\n",
    "\n",
    "* Esneklik arttıkça Bias azalır (daha az ön kabul yapmış oluruz yani)\n",
    "* Esneklik arrtıkça Variance (değişkenlik) artar.\n",
    "\n",
    "Bununla birlikte, halihazırda gerçek fonksiyonun kendisi de lineerse ve biz de fonksiyonun lineer olduğu yönünde bir ön kabulde bulunduysak Bias çekinilmesi gereken bir kavram olmaktan çıkmaya başlar.(İkinci grafik) "
   ]
  },
  {
   "cell_type": "markdown",
   "id": "9cb6b2a4",
   "metadata": {
    "jupyter": {
     "source_hidden": true
    }
   },
   "source": [
    "En uygun nokta $Var(\\hat{f}(x_0)) + [Bias(\\hat{f}(x_0))]^2$ toplamının en az olduğu noktadır."
   ]
  }
 ],
 "metadata": {
  "kernelspec": {
   "display_name": "Python 3 (ipykernel)",
   "language": "python",
   "name": "python3"
  },
  "language_info": {
   "codemirror_mode": {
    "name": "ipython",
    "version": 3
   },
   "file_extension": ".py",
   "mimetype": "text/x-python",
   "name": "python",
   "nbconvert_exporter": "python",
   "pygments_lexer": "ipython3",
   "version": "3.10.2"
  }
 },
 "nbformat": 4,
 "nbformat_minor": 5
}
