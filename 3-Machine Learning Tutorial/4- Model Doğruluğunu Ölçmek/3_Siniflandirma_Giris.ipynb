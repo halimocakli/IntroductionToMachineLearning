{
 "cells": [
  {
   "cell_type": "markdown",
   "id": "7bc77c53",
   "metadata": {},
   "source": [
    "## Sınıflandırma Kurulumu"
   ]
  },
  {
   "cell_type": "markdown",
   "id": "759b4e5e",
   "metadata": {},
   "source": [
    "Şimdiye kadar, model doğruluğunu konuşurken hep regresyon üzerinde durduk.\n",
    "\n",
    "Yani sayısal bir değeri bulmaya çalışan modelleri konuştuk."
   ]
  },
  {
   "cell_type": "markdown",
   "id": "c3b123c6",
   "metadata": {},
   "source": [
    "Sınıflandırma problemlerinde artık $y$ değişkenimiz sayısal bir ifade değildir."
   ]
  },
  {
   "cell_type": "markdown",
   "id": "67d707b5",
   "metadata": {},
   "source": [
    "Onun yerine, kategorik bir değişkendir.\n",
    "\n",
    "Belirli sınıflardan (kategoriler) birine ait bir değişkendir."
   ]
  },
  {
   "cell_type": "markdown",
   "id": "07472ca0",
   "metadata": {},
   "source": [
    "**Örnek:**\n",
    "\n",
    "Bir emailin **{spam, normal}** olması.\n",
    "\n",
    "Bir resmin **{kedi, köpek, tavşan, kuş}** tan biri olması.\n",
    "\n",
    "Bir el yazısı rakamanın **{1, 2, 3, ..., 9, 0}** dan biri olması gibi."
   ]
  },
  {
   "cell_type": "markdown",
   "id": "6e50326e",
   "metadata": {},
   "source": [
    "**Classification** yönteminde amaç;\n",
    "\n",
    "* bilmediğimiz $y$ nin hangi sınıfa ait olduğunu tahmin etmek,\n",
    "* sınıfların olaslıklarını hesaplamak\n",
    "* girdilerin etkisini hesaplamak\n",
    "\n",
    "şeklinde olabilir."
   ]
  },
  {
   "cell_type": "markdown",
   "id": "e8501c93",
   "metadata": {},
   "source": [
    "Classification (Sınıflandırma) problemleri yapı olarak Regresyon'dan farklı olsalar da, ana kavramlar aynı mantıkla işler.\n",
    "\n",
    "Örneğin: Bias-Variance Trade-Off"
   ]
  },
  {
   "cell_type": "markdown",
   "id": "e782aee8",
   "metadata": {},
   "source": [
    "Classification'da tahmin etmeye çalıştığımız fonksiyon artık **f** değil,\n",
    "\n",
    "**C(X)** tir.\n",
    "\n",
    "C(X), gelecekteki bir X gözlemini (verisini) bir sınıfla ilişkilendirir. Yani gelecekte hangi sınıfa ait olacağını tahmin eder."
   ]
  },
  {
   "cell_type": "markdown",
   "id": "d6032c9c",
   "metadata": {},
   "source": [
    "X    ->    C(X)     -> Sınıf Adı ('Kedi')"
   ]
  },
  {
   "cell_type": "markdown",
   "id": "d244a03e",
   "metadata": {},
   "source": [
    "Classification'da Tahmin Doğruluğu için: **hata oranı (error rate)** kullanılır."
   ]
  },
  {
   "cell_type": "markdown",
   "id": "68a15c41",
   "metadata": {},
   "source": [
    "Örnekler:\n",
    "\n",
    "C = {spam, normal}\n",
    "\n",
    "C = {kedi, köpek, tavşan, kuş}\n",
    "\n",
    "C = {0, 1, 2, ..., K}"
   ]
  },
  {
   "cell_type": "markdown",
   "id": "dfc822ab",
   "metadata": {},
   "source": [
    "toplam sınıf sayısı: **K**"
   ]
  },
  {
   "cell_type": "markdown",
   "id": "9bdfa114",
   "metadata": {},
   "source": [
    "**Hata Oranı:**\n",
    "\n",
    "Tüm tahminler içinde, hatalı olanların oranıdır."
   ]
  },
  {
   "cell_type": "markdown",
   "id": "afbba77a",
   "metadata": {},
   "source": [
    "**Hata Oranı = Hatalı Tahminler / Tüm Tahminler**"
   ]
  },
  {
   "cell_type": "markdown",
   "id": "93f58bf2",
   "metadata": {},
   "source": [
    "$$ Hata Oranı = \\frac{1}{n} \\sum_{i=1}^n I(y_i \\ne \\hat{y}_i) $$"
   ]
  },
  {
   "cell_type": "markdown",
   "id": "cf7504f3",
   "metadata": {},
   "source": [
    "Eğer tahmin hatalı ise -> $y_i \\ne \\hat{y}_i$ demektir.\n",
    "* O zaman -> $I(y_i \\ne \\hat{y}_i) = 1$"
   ]
  },
  {
   "cell_type": "markdown",
   "id": "5b579425",
   "metadata": {},
   "source": [
    "Eğer tahmin doğru ise -> $y_i = \\hat{y}_i$ demektir.\n",
    "* O zaman -> $I(y_i \\ne \\hat{y}_i) = 0$"
   ]
  },
  {
   "cell_type": "markdown",
   "id": "632fef49",
   "metadata": {},
   "source": [
    "Yani $I(y_i \\ne \\hat{y}_i)$ hatalı tahminleri toplar."
   ]
  },
  {
   "cell_type": "markdown",
   "id": "e8c04cca",
   "metadata": {},
   "source": [
    "**Not:** Yukarıdaki hata oranını ilk olarak Train Data üzerinde hesapladığımız için `Train Error Rate` denir."
   ]
  },
  {
   "cell_type": "markdown",
   "id": "faacdf1a",
   "metadata": {},
   "source": [
    "Öğrenme bittikten sonra, asıl hesaplamak istediğimiz `Test Error Rate`'dir."
   ]
  },
  {
   "cell_type": "markdown",
   "id": "e1d7cdd7",
   "metadata": {},
   "source": [
    "**Classifier:** Sınıflandırma Modellerine verilen genel isim."
   ]
  },
  {
   "cell_type": "markdown",
   "id": "c29a45b6",
   "metadata": {},
   "source": [
    "İyi bir classifier, Test Hata Oranını minimum yapan classifier'dır."
   ]
  },
  {
   "cell_type": "markdown",
   "id": "6766d366",
   "metadata": {},
   "source": [
    "***\n",
    "### Bayes Classifier"
   ]
  },
  {
   "cell_type": "markdown",
   "id": "b0a2bd8e",
   "metadata": {},
   "source": [
    "Koşullu olasılık üzerinden, en olurlu (en yüksek sınıfa) atama işlemi yapan classifier'dır."
   ]
  },
  {
   "cell_type": "markdown",
   "id": "1bb03303",
   "metadata": {},
   "source": [
    "Bir öğrenme olmadan doğal olarak en mantıklı sınıflandırma yapma yöntemi."
   ]
  },
  {
   "cell_type": "markdown",
   "id": "9023c76b",
   "metadata": {},
   "source": [
    "$$ Pr(y = j | X = x_0) $$"
   ]
  },
  {
   "cell_type": "markdown",
   "id": "89f3e205",
   "metadata": {},
   "source": [
    "Burada, X'in değerinin x_0 olduğu bilindiğine göre y'nin j olması olasılığı hesaplanır. En yüksek oranı veren j değeri alınır."
   ]
  },
  {
   "cell_type": "markdown",
   "id": "dc13eec8",
   "metadata": {},
   "source": [
    "Bayes Classifier, en düşük hata oranını (error rate) verir. (Öğrenme olmadan)\n",
    "\n",
    "Buna `Bayes Error Rate` denir."
   ]
  },
  {
   "cell_type": "markdown",
   "id": "8c62cf98",
   "metadata": {},
   "source": [
    "Elimizde K adet class (sınıf) var.\n",
    "\n",
    "k = 1, 2, 3, ..., K olsun"
   ]
  },
  {
   "cell_type": "markdown",
   "id": "385f39df",
   "metadata": {},
   "source": [
    "Elimizde her bir sınıfın bulunma olasılığı (gerçek olasılık) olsun."
   ]
  },
  {
   "cell_type": "markdown",
   "id": "a1edc99c",
   "metadata": {},
   "source": [
    "$p_k(x) = Pr(Y = k | X = x)$ , $k = 1, 2, 3, ..., K$"
   ]
  },
  {
   "cell_type": "markdown",
   "id": "aeb0b92d",
   "metadata": {},
   "source": [
    "Bayes Classifier:\n",
    "\n",
    "$C(x) = j$\n",
    "\n",
    "eğer\n",
    "\n",
    "$p_j(x) = max{p_q(x), p_2(x), ..., p_K(x)}$"
   ]
  },
  {
   "cell_type": "markdown",
   "id": "18e925c8",
   "metadata": {},
   "source": [
    "Tek cümle ile Bayes Classifier, en yüksek oranlı olan sınıfı alır."
   ]
  },
  {
   "cell_type": "markdown",
   "id": "867078f6",
   "metadata": {},
   "source": [
    "3 sınıf ve olasılık burada çizerek gösterelim."
   ]
  },
  {
   "cell_type": "markdown",
   "id": "b0126edd",
   "metadata": {},
   "source": [
    "Bayes Classifier, ortalamada elde edebileceğimiz en küçük hata oranıdır. (Gerçek olasılıklar \n",
    "üzerinden olduğu için.)"
   ]
  },
  {
   "cell_type": "markdown",
   "id": "db3bcb8c",
   "metadata": {},
   "source": [
    "2 sınıflı bir örnekle tahtaya çizerek görelim:"
   ]
  },
  {
   "cell_type": "markdown",
   "id": "6592445b",
   "metadata": {},
   "source": [
    "<img src=\"images/Siniflandirma_Kurulumu.png\"/>"
   ]
  },
  {
   "cell_type": "markdown",
   "id": "30223516",
   "metadata": {},
   "source": [
    "Bayes Classifier'da elimizde olasılıklar olduğunu kabul ediyoruz.\n",
    "\n",
    "Ya olasılık yoksa, ne yapacağız?"
   ]
  },
  {
   "cell_type": "markdown",
   "id": "99b83ec3",
   "metadata": {},
   "source": [
    "Cevap: Nearest Neighbor Averaging"
   ]
  }
 ],
 "metadata": {
  "kernelspec": {
   "display_name": "Python 3 (ipykernel)",
   "language": "python",
   "name": "python3"
  },
  "language_info": {
   "codemirror_mode": {
    "name": "ipython",
    "version": 3
   },
   "file_extension": ".py",
   "mimetype": "text/x-python",
   "name": "python",
   "nbconvert_exporter": "python",
   "pygments_lexer": "ipython3",
   "version": "3.10.2"
  }
 },
 "nbformat": 4,
 "nbformat_minor": 5
}
