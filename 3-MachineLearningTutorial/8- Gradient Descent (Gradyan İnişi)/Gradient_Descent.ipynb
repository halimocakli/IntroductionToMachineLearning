{
 "cells": [
  {
   "cell_type": "markdown",
   "id": "770d1648",
   "metadata": {},
   "source": [
    "## GRADIENT DESCENT (GRADYAN İNİŞİ)"
   ]
  },
  {
   "cell_type": "markdown",
   "id": "112963cf",
   "metadata": {},
   "source": [
    "`Gradient Descent` yöntemi, birbirinden farklı problemler için optimum sonucu bulabilme yeteneğine sahip bir **eniyileme/optimizasyon** algoritmasıdır. Gradient Descent yöntemindeki anafikir, *parametreleri her iterasyonda tekrar revize ederek/ayarlayarak maliyet fonksiyonunu en aza indirmektir.*\n",
    "\n",
    "Bununla birlite Gradient Descent yöntemi, neredeysa bütün Machine Learning algoritmaları için kullanılır ve bu algoritmaların çalışma mantığını içselleştirmek bakımından oldukça mühimdir."
   ]
  },
  {
   "cell_type": "markdown",
   "id": "2806f137",
   "metadata": {},
   "source": [
    "***"
   ]
  },
  {
   "cell_type": "markdown",
   "id": "f1baebea",
   "metadata": {},
   "source": [
    "### DATA OLUŞTURALIM"
   ]
  },
  {
   "cell_type": "markdown",
   "id": "7e4c2877",
   "metadata": {},
   "source": [
    "* Gradient Descent yöntemini incelemek üzere kendi örnek verimizi yaratalım."
   ]
  },
  {
   "cell_type": "code",
   "execution_count": 1,
   "id": "7664a5cc",
   "metadata": {},
   "outputs": [],
   "source": [
    "# Gerekli kütüphaneleri import edelim.\n",
    "\n",
    "import numpy as np\n",
    "import matplotlib.pyplot as plt"
   ]
  },
  {
   "cell_type": "code",
   "execution_count": 2,
   "id": "f2cfce6a",
   "metadata": {},
   "outputs": [],
   "source": [
    "# np.random modülünü kullanarak 100 adet random değişken üretiyoruz ve bu değişkenleri 2 ile çarpıyoruz.\n",
    "# Böylece 0 - 2 aralığında 100 adet değer üretmiş oluyoruz.\n",
    "\n",
    "X = 2 * np.random.rand(100 , 1)"
   ]
  },
  {
   "cell_type": "code",
   "execution_count": 3,
   "id": "180173b8",
   "metadata": {},
   "outputs": [
    {
     "name": "stdout",
     "output_type": "stream",
     "text": [
      "[[0.24830818]\n",
      " [0.15577054]\n",
      " [0.03197154]\n",
      " [0.37108124]\n",
      " [1.19270851]\n",
      " [0.95845888]\n",
      " [1.81501106]\n",
      " [0.1642365 ]\n",
      " [0.96841592]\n",
      " [0.346042  ]\n",
      " [0.21207076]\n",
      " [1.14771796]\n",
      " [0.92074977]\n",
      " [1.60225477]\n",
      " [1.70372453]\n",
      " [1.98383647]\n",
      " [1.17162265]\n",
      " [1.95853206]\n",
      " [0.26734089]\n",
      " [0.37626558]\n",
      " [1.72411314]\n",
      " [1.49042271]\n",
      " [0.04754709]\n",
      " [1.92685692]\n",
      " [0.68393553]\n",
      " [0.3691385 ]\n",
      " [0.15536165]\n",
      " [0.42191053]\n",
      " [1.0108466 ]\n",
      " [1.1410315 ]\n",
      " [1.65269921]\n",
      " [1.69853619]\n",
      " [1.29628724]\n",
      " [0.82303321]\n",
      " [0.36685078]\n",
      " [1.81427196]\n",
      " [1.69199355]\n",
      " [1.68255482]\n",
      " [0.63135808]\n",
      " [1.60084369]\n",
      " [0.63009027]\n",
      " [0.19228019]\n",
      " [1.75876171]\n",
      " [1.8001499 ]\n",
      " [1.34422241]\n",
      " [1.40196433]\n",
      " [0.75393997]\n",
      " [0.18482275]\n",
      " [0.26635719]\n",
      " [0.52334521]\n",
      " [1.36608   ]\n",
      " [1.91758599]\n",
      " [1.90719377]\n",
      " [0.95914788]\n",
      " [1.74873943]\n",
      " [1.62519493]\n",
      " [1.28305194]\n",
      " [1.12832136]\n",
      " [0.57737909]\n",
      " [0.29778165]\n",
      " [1.41814795]\n",
      " [1.19697215]\n",
      " [1.4069492 ]\n",
      " [1.05633403]\n",
      " [1.9180279 ]\n",
      " [1.28118375]\n",
      " [1.2517202 ]\n",
      " [0.30844945]\n",
      " [0.40112971]\n",
      " [1.7145458 ]\n",
      " [0.92187723]\n",
      " [1.1687368 ]\n",
      " [0.37481465]\n",
      " [0.2203718 ]\n",
      " [0.92631335]\n",
      " [1.32729288]\n",
      " [1.87998695]\n",
      " [1.30204034]\n",
      " [0.63232296]\n",
      " [1.41261118]\n",
      " [0.32851159]\n",
      " [1.65848066]\n",
      " [1.74651724]\n",
      " [0.05251769]\n",
      " [1.81550065]\n",
      " [1.57311591]\n",
      " [1.21723684]\n",
      " [0.91950663]\n",
      " [0.65978158]\n",
      " [1.64104109]\n",
      " [1.62881545]\n",
      " [1.64037673]\n",
      " [0.81641442]\n",
      " [0.5005788 ]\n",
      " [0.37731343]\n",
      " [1.46113449]\n",
      " [1.97419878]\n",
      " [1.40223376]\n",
      " [1.30183576]\n",
      " [0.58601615]]\n"
     ]
    }
   ],
   "source": [
    "# Ürettiğimiz değerleri görelim.\n",
    "\n",
    "print(X)"
   ]
  },
  {
   "cell_type": "code",
   "execution_count": 4,
   "id": "1301b849",
   "metadata": {
    "scrolled": true
   },
   "outputs": [
    {
     "data": {
      "text/plain": [
       "numpy.ndarray"
      ]
     },
     "execution_count": 4,
     "metadata": {},
     "output_type": "execute_result"
    }
   ],
   "source": [
    "# Ürettiğimiz değer listesinin veri tipini öğrenelim.\n",
    "\n",
    "type(X)"
   ]
  },
  {
   "cell_type": "markdown",
   "id": "7a7583f1",
   "metadata": {},
   "source": [
    "***"
   ]
  },
  {
   "cell_type": "markdown",
   "id": "8e4c856f",
   "metadata": {},
   "source": [
    "**Normalde X ile y arasındaki ilişkiyi önceden bilemeyiz. Bunu, önceki konularda X ile y arasındaki ilişkiyi bulmak için Regresyon modelleri kullanırken öğrenmiştik. Ancak, şu anki senaryoya göre X ile y değerleri arasındaki ilişkiyi bildiğimizi farz ederek işlemlerimizi gerçekleştireceğiz.**"
   ]
  },
  {
   "cell_type": "markdown",
   "id": "ec6cdee5",
   "metadata": {},
   "source": [
    "***"
   ]
  },
  {
   "cell_type": "code",
   "execution_count": 5,
   "id": "6c46eec8",
   "metadata": {},
   "outputs": [],
   "source": [
    "# X ile y değerleri arasındaki, önceden bilgisine sahip olduğumuzu varsaydığımız, ilişki.\n",
    "\n",
    "# 4 : intercept\n",
    "# 3 : coefficient of X\n",
    "# np.random.rand(100, 1) : Error Term\n",
    "\n",
    "y = 4 + 3 * X + np.random.rand(100, 1)"
   ]
  },
  {
   "cell_type": "code",
   "execution_count": 6,
   "id": "c066c8d6",
   "metadata": {},
   "outputs": [
    {
     "name": "stdout",
     "output_type": "stream",
     "text": [
      "[[ 5.65055402]\n",
      " [ 5.02013094]\n",
      " [ 4.8673389 ]\n",
      " [ 5.23832563]\n",
      " [ 8.53447771]\n",
      " [ 7.62935902]\n",
      " [10.29821187]\n",
      " [ 4.96293482]\n",
      " [ 7.87482526]\n",
      " [ 5.64644221]\n",
      " [ 4.99848294]\n",
      " [ 7.47599678]\n",
      " [ 6.95245332]\n",
      " [ 8.95683685]\n",
      " [ 9.23980845]\n",
      " [10.28669621]\n",
      " [ 8.30421878]\n",
      " [10.5926225 ]\n",
      " [ 4.83185752]\n",
      " [ 6.12657968]\n",
      " [ 9.51187597]\n",
      " [ 9.00850394]\n",
      " [ 4.30264253]\n",
      " [10.11728958]\n",
      " [ 6.14525111]\n",
      " [ 6.03711062]\n",
      " [ 4.73645669]\n",
      " [ 5.80967941]\n",
      " [ 7.59401249]\n",
      " [ 7.77705225]\n",
      " [ 9.18908515]\n",
      " [ 9.72336785]\n",
      " [ 8.83183542]\n",
      " [ 6.64228212]\n",
      " [ 6.07349802]\n",
      " [ 9.94953635]\n",
      " [ 9.43026761]\n",
      " [ 9.64231546]\n",
      " [ 6.13515179]\n",
      " [ 8.9369958 ]\n",
      " [ 6.31515862]\n",
      " [ 4.84706969]\n",
      " [ 9.51990151]\n",
      " [ 9.92900013]\n",
      " [ 8.7539163 ]\n",
      " [ 9.04174021]\n",
      " [ 6.57738769]\n",
      " [ 4.62949229]\n",
      " [ 5.23214443]\n",
      " [ 6.37345447]\n",
      " [ 8.20789313]\n",
      " [10.69055417]\n",
      " [ 9.99571923]\n",
      " [ 7.19251737]\n",
      " [ 9.66110562]\n",
      " [ 9.71510275]\n",
      " [ 8.30322728]\n",
      " [ 7.49806705]\n",
      " [ 5.93015011]\n",
      " [ 5.24173687]\n",
      " [ 8.69446046]\n",
      " [ 7.62813225]\n",
      " [ 8.74627638]\n",
      " [ 7.23392183]\n",
      " [10.55921438]\n",
      " [ 8.73933723]\n",
      " [ 8.72971995]\n",
      " [ 5.70411546]\n",
      " [ 5.96957844]\n",
      " [ 9.17566094]\n",
      " [ 7.47021282]\n",
      " [ 8.40915035]\n",
      " [ 5.7350916 ]\n",
      " [ 5.47554975]\n",
      " [ 7.67613623]\n",
      " [ 8.07251498]\n",
      " [10.3619398 ]\n",
      " [ 8.31974356]\n",
      " [ 6.72962854]\n",
      " [ 8.78088051]\n",
      " [ 5.24992393]\n",
      " [ 9.44444715]\n",
      " [ 9.34155531]\n",
      " [ 4.81771754]\n",
      " [ 9.45854991]\n",
      " [ 9.54923246]\n",
      " [ 8.64673329]\n",
      " [ 7.05647783]\n",
      " [ 6.14781694]\n",
      " [ 9.7428807 ]\n",
      " [ 9.54676244]\n",
      " [ 9.29493453]\n",
      " [ 7.02614257]\n",
      " [ 6.26853062]\n",
      " [ 6.00870339]\n",
      " [ 8.99557151]\n",
      " [10.04101363]\n",
      " [ 8.52224739]\n",
      " [ 8.34493945]\n",
      " [ 6.74452383]]\n"
     ]
    }
   ],
   "source": [
    "# y değerini görelim\n",
    "\n",
    "print(y)"
   ]
  },
  {
   "cell_type": "code",
   "execution_count": 7,
   "id": "19663736",
   "metadata": {},
   "outputs": [
    {
     "data": {
      "image/png": "[encoded data removed]",
      "text/plain": [
       "<Figure size 432x288 with 1 Axes>"
      ]
     },
     "metadata": {
      "needs_background": "light"
     },
     "output_type": "display_data"
    }
   ],
   "source": [
    "# X ile y arasındaki ilişkiyi görselleştirelim.\n",
    "\n",
    "plt.scatter(X, y)\n",
    "plt.xlabel(\"- X -\")\n",
    "plt.ylabel(\"- y -\")\n",
    "plt.show()"
   ]
  },
  {
   "cell_type": "markdown",
   "id": "7e4a1b9d",
   "metadata": {},
   "source": [
    "*Görüldüğü üzere X ile y arasındaki ilişki `lineer`'dir."
   ]
  },
  {
   "cell_type": "markdown",
   "id": "863435a2",
   "metadata": {},
   "source": [
    "**X ile y arasındaki ilişkiyi bildiğimizi farz ederek yukarıdaki işlemleri gerçekleştirdik. Bu ilişkiye dair bilgi sahibi olmamızı sağlayan etken `intercept` ve `coefficient` değerlerininin tarafmızca belirlenmesidir. Böylece X ile y arasındaki ilişkiyi bildiğimiz senaryoyu gözlemleyerek regresyon modelini anımsamış olduk. Şimdi de gerçek X - y ilişkisinin fonksiyonunu yazalım.**"
   ]
  },
  {
   "cell_type": "markdown",
   "id": "9da0c0f8",
   "metadata": {},
   "source": [
    "### $$ y = w_0 + w_1X + \\epsilon $$"
   ]
  },
  {
   "cell_type": "markdown",
   "id": "ac52b4a5",
   "metadata": {},
   "source": [
    "Burada;\n",
    "\n",
    "* $w_0$ = $\\beta_0$\n",
    "* $w_1$ = $\\beta_1$\n",
    "* $\\epsilon$ = Error Rate\n",
    "\n",
    "* Burada $w_0$ ve $w_1$ değerleri W (weight) adlı bir matris içerisinde tutulup vektör olarak formatlanabilir.\n",
    "    * W vektörü: $W = [w_0 \\ w_1]$\n",
    "\n",
    "X-y arasındaki ilişkiyi bildiğimiz senaryoyu yeniden ele alalım. Intercept ve coefficient değerlerini regresyon denkleminde yerine koyarsak aşağıdaki sonucu elde ediyorduk:<br> \n",
    "### $$y = 4 + 3 * X + np.random.rand(100,1)$$<br>\n",
    "\n",
    "Buna göre;\n",
    "#### $$w_0 = 4$$\n",
    "#### $$w_1 = 3$$\n",
    "olur.<br>\n",
    "\n",
    "<br>Vektör kullanarak gösterecek olursak;\n",
    "### $$y = WX + \\epsilon$$\n",
    "şeklinde bir sonuç elde ederiz.<br>\n",
    "\n",
    "<br>Burada $W$ ile $X$ vektörlerinin $WX$ şeklinde gösterimi, W ile X'in *vektörel çarpımı*, `Dot Product (İç Çarpım)`'ıdır. Bu vektörel çarpım aslında; \n",
    "### $$\\hat y = w_0 + w_1*x_1 + w_2*x_2 + ... + w_n*x_n + \\epsilon$$\n",
    "ifadesi ile eşdeğerdir."
   ]
  },
  {
   "cell_type": "markdown",
   "id": "fe05e510",
   "metadata": {},
   "source": [
    "* Yukarıda, vektörler ile yeniden yazdığımız denklemi analitik olarak çözümleyebiliriz."
   ]
  },
  {
   "cell_type": "markdown",
   "id": "12af35e2",
   "metadata": {},
   "source": [
    "**NOT:** Makine öğrenmesinde vektörler; genellikle tek sütunlu 2-boyutlu diziler şeklinde, sütun vektörü olarak gösterilir. Eğer $W$ ve $X$ sütun vektörleri ise, tahmin $\\hat y = W^{T}X$ olur. Bu denklemde $W^{T}$, $W$'nin transpozudur, yani sütun vektörü yerine satır vektörüdür ve $W^{T}X$, $W^{T}$ ile $X$'in matris çarpımıdır. Elbette tahmin aynı tahmindir ancak tek bir fark söz konusudur: tahmin, artık skaler bir değer yerine tek hücreli bir matristir."
   ]
  },
  {
   "cell_type": "markdown",
   "id": "fc2fef0d",
   "metadata": {},
   "source": [
    "### ANALİTİK ÇÖZÜM"
   ]
  },
  {
   "cell_type": "markdown",
   "id": "87c41897",
   "metadata": {},
   "source": [
    "$y = WX + \\epsilon$ denkleminin analitik çözümünü vektörler üzerinden gerçekleştirmeden önce Lineer Regresyon Yöntemi'ni kullanırken gerçekleştirdiğimiz analitik çözüm üzerinden gidelim. "
   ]
  },
  {
   "cell_type": "markdown",
   "id": "32ec0f2e",
   "metadata": {},
   "source": [
    "Least Squares Method (En Küçük Kareler Yöntemi), birbirine bağlı olarak değişen iki fiziksel büyüklük arasındaki ilişkiyi mümkün olduğunca gerçeğe uygun bir denklem olarak yazmak için kullanılan standart bir regresyon yöntemidir. Bir başka deyişle bu yöntem, ölçüm sonucu elde edilmiş veri noktalarına “mümkün olduğu kadar yakın” geçecek bir işlev eğrisi bulmaya yarar. Gauss-Markov Teoremi’nin en küçük kareler yöntemi, regresyon için optimal yöntemdir.\n",
    "\n",
    "Bir diğer ifadeyle; Least Squares Method, RSS değerini minimize ederek en iyi $w_0$ ve $w_1$ değerlerini tahmin eder."
   ]
  },
  {
   "cell_type": "markdown",
   "id": "4e82c18c",
   "metadata": {},
   "source": [
    "Herhangi bir $x_i$ için tahmin denklemi;\n",
    "### $$ \\hat y^{(i)} = \\hat w_0 + \\hat w_1 x^{(i)} $$\n",
    "\n",
    "Burada;\n",
    "* $x^{(i)}$: Veri setindeki $i^{inci}$ örneğin, etiketi(label) hariç tüm niteliklerinin değerlerini içeren bir vektördür.\n",
    "* $\\hat y^{(i)}$: Veri setindeki $i^{inci}$ örneğin etiketi, yani o örnek için istenen çıktı değeri.\n",
    "\n",
    "<br>Genel olarak:\n",
    "* **Değişkenler** için (x'in sütunları) alt index **($x_i$)** kullanılır.\n",
    "* **Veriler** için (satır) üst index **($x^{(i)}$)** kullanılır"
   ]
  },
  {
   "cell_type": "markdown",
   "id": "133756a1",
   "metadata": {},
   "source": [
    "Burada **X**'ler, yani girdi değerleri, bilindiğine göre, tahmin etmeye çalıştığımız değişkenler(katsayılar/coefficients), $w_0$ ve $w_1$'dir\n"
   ]
  },
  {
   "cell_type": "markdown",
   "id": "33d87eea",
   "metadata": {},
   "source": [
    "**NOT**: Katsayılar(Coefficients) için aşağıdaki gösterimler kullanılabilir:\n",
    "* $w$\n",
    "* $\\theta$\n",
    "* $\\beta$ "
   ]
  },
  {
   "cell_type": "markdown",
   "id": "b1b2b9c9",
   "metadata": {},
   "source": [
    "Bu noktadan itibaren gerçekleştirmek istediğimiz Tahmin için çalışmaya başlayalım."
   ]
  },
  {
   "cell_type": "markdown",
   "id": "be63746b",
   "metadata": {},
   "source": [
    "***"
   ]
  },
  {
   "cell_type": "markdown",
   "id": "e9f83b79",
   "metadata": {},
   "source": [
    "Tahmin işlemini yukarıda bahsettiğimiz **Least Squares Method** ile gerçekleştiririz. Bunun yanında, Least Squares Method'un bir türü olan **Ordinary Least Squares Method**'u kullanacağız. \n",
    "\n",
    "<br>Ordinary Least Squares(OLS), Linear Regression modelinde bilinmeyen parametreleri tahmin etmek için kullanılan bir tür lineer Least Squares Method'dur. OLS, açıklayıcı değişkenler kümesinin doğrusal bir fonksiyonunun parametrelerini en küçük kareler ilkesine göre seçer: verilen veri kümesinde gözlemlenen bağımlı değişken (gözlemlenen değişkenin değerleri) ile bağımsız değişkenin doğrusal fonksiyonu tarafından tahmin edilenler arasındaki farkların karelerinin toplamını en aza indirir."
   ]
  },
  {
   "cell_type": "markdown",
   "id": "93c3cee2",
   "metadata": {},
   "source": [
    "**Hatırlatma**\n",
    "Herhangi bir **i** noktasındaki hata: $$e^{(i)} = \\hat y^{(i)} - y^{(i)}$$\n",
    "**<br>Herhangi Bir Noktadaki Hata Değeri = O Noktanın Tahmin Edilen Değeri - O Noktanın Gerçek Değeri** \n",
    "\n",
    "**e: Residual Error**"
   ]
  },
  {
   "cell_type": "markdown",
   "id": "5ec9e521",
   "metadata": {},
   "source": [
    "**RSS: Residual Sum of Squares**\n",
    "$$RSS = e^2_1 + e^2_2 + e^2_3 +...+ e^2_n$$"
   ]
  },
  {
   "cell_type": "markdown",
   "id": "8f72fde8",
   "metadata": {},
   "source": [
    "**Özetle, Least Square Method, RSS değerini minimize ederek en iyi $w_0$ ve $w_1$ değerlerini tahmin eder.**"
   ]
  },
  {
   "cell_type": "markdown",
   "id": "979ae154",
   "metadata": {},
   "source": [
    "***"
   ]
  },
  {
   "cell_type": "markdown",
   "id": "179b33e6",
   "metadata": {},
   "source": [
    "### MATEMATİKSEL GÖSTERİM"
   ]
  },
  {
   "cell_type": "markdown",
   "id": "77a35a43",
   "metadata": {},
   "source": [
    "### $$ \\hat w_1 = \\frac{\\sum_{i=1}^n (x^{(i)} - \\overline x)(y^{(i)} - \\overline y)}{\\sum_{i=1}^n (x^{(i)} - \\overline x)^2} $$\n",
    "\n",
    "### $$ \\hat w_0 = \\overline y - \\hat w_1 \\overline x $$\n",
    "\n",
    "Burada:\n",
    "\n",
    "### $$ \\overline y = \\frac{1}{n} \\sum_{i=1}^n y^{(i)} $$\n",
    "\n",
    "### $$ \\overline x = \\frac{1}{n} \\sum_{i=1}^n x^{(i)} $$"
   ]
  },
  {
   "cell_type": "markdown",
   "id": "3b22e406",
   "metadata": {},
   "source": [
    "Bu noktaya kadar elde ettiğimiz bilgilerden sonra şu ifadeyi ekleyelim: çoğu zaman Analitik Yöntem kullanarak çözüme ulaşmak mümkün olmaz çünkü üzerinde çalıştığımız veriler oldukça fazladır. X, W ve y'nin aslında birer `matris` olduğunu ve X matrisinin çoğu çalışmada yüksek boyutlara sahip olduğunu göz önünde bulundurursak vardığımız bu sonuç daha anlaşılır hale gelecektir. Bununla birlikte Analitik Yöntem kullanırken, W değerlerini bulmak için çok fazla Matrix Çarpımı yapılması gerekir ki bu, bilgisayarların GPU ve CPU donanımlarını ciddi oranda yoran bir işlemdir.\n",
    "\n",
    "Peki bu problemin üstesinden nasıl geleceğiz ya da nasıl daha etkili bir yöntem bulacağız. Cevap: YAKINSAYARAK."
   ]
  },
  {
   "cell_type": "markdown",
   "id": "43d2540c",
   "metadata": {},
   "source": [
    "**Problemin Tanımı**\n",
    "\n",
    "Toplam Hatayı minimize edecek $w_0$ ve $w_1$ değerlerini yani katsayıları bulmak.\n",
    "\n",
    "Toplam Hata, $w_0$ ve $w_1$ değişkenlerine bağlı bir Convex Fonksiyonudur. Bunun sebebi, Toplam Hatanın karesel değerlerin toplamı sonucunda bulunmasıdır."
   ]
  },
  {
   "cell_type": "markdown",
   "id": "33c56c3d",
   "metadata": {},
   "source": [
    "<img src=\"images/globalminimum.png\"/>"
   ]
  },
  {
   "cell_type": "markdown",
   "id": "2fd1ea2c",
   "metadata": {},
   "source": [
    "### TERİMLER"
   ]
  },
  {
   "cell_type": "markdown",
   "id": "dc3b8e87",
   "metadata": {},
   "source": [
    "#### COST FUNCTION (MALİYET FONKSİYONU)"
   ]
  },
  {
   "cell_type": "markdown",
   "id": "8e5437f5",
   "metadata": {},
   "source": [
    "Lineer regresyonda **tahmin edilen y** değeri ile **gerçek y değeri** arasındaki hatayı minimuma indirebilmek için öyle **w değerleri** bulmalıyız ki Maliyet Fonksiyonu minimize edilebilsin. Maliyet Fonksiyonunun basit tanımı, gerçek y değerleri ile tahmin edilen y değerleri arasındaki fark şeklinde ifade edilebilir. Maliyet Fonksiyonu şu notasyonla gösterilir:\n",
    "### $$ J(w) = \\frac{1}{2n} \\sum_{i=1}^n (\\hat y^{(i)} - y^{(i)})^2 $$\n",
    "\n",
    "Cost Funtion aslında MSE(Mean Square Error)'nin özel bir formudur. Hatırlatmak için:\n",
    "### $$ MSE = \\frac{1}{n} \\sum_{i=1}^n (y_i - \\hat y_i)^2 $$"
   ]
  },
  {
   "cell_type": "markdown",
   "id": "11df841e",
   "metadata": {},
   "source": [
    "#### GRADIENT"
   ]
  },
  {
   "cell_type": "markdown",
   "id": "402181a6",
   "metadata": {},
   "source": [
    "Cost Function'ın değişkenlere(W değerleri) göre değişim miktarı(Türevi) "
   ]
  },
  {
   "cell_type": "markdown",
   "id": "bf400b26",
   "metadata": {},
   "source": [
    "### $$ J(w) = \\frac{1}{2n} \\sum_{i=1}^n (\\hat w_0 + \\hat w_1x^{(i)} - y^{(i)})^2 $$"
   ]
  },
  {
   "cell_type": "markdown",
   "id": "2d2cfcf3",
   "metadata": {},
   "source": [
    "$w_0$'a göre kısmi türev:"
   ]
  },
  {
   "cell_type": "markdown",
   "id": "0b050a78",
   "metadata": {},
   "source": [
    "### $$ \\frac{\\partial J(w)}{\\partial w_0} = \\frac{1}{n} \\sum_{i=1}^n (\\hat w_0 + \\hat w_1x^{(i)} - y^{(i)}) $$\n",
    "\n",
    "### $$ \\frac{\\partial J(w)}{\\partial w_0} = \\frac{1}{n} \\sum_{i=1}^n (\\hat y^{(i)} - y^{(i)}) $$"
   ]
  },
  {
   "cell_type": "markdown",
   "id": "41466097",
   "metadata": {},
   "source": [
    "$w_1$'e göre kısmi türev:"
   ]
  },
  {
   "cell_type": "markdown",
   "id": "c3b3b17e",
   "metadata": {},
   "source": [
    "### $$ \\frac{\\partial J(w)}{\\partial w_1} = \\frac{1}{n} \\sum_{i=1}^n (\\hat w_0 + \\hat w_1x^{(i)} - y^{(i)}) x^{(i)} $$\n",
    "\n",
    "### $$ \\frac{\\partial J(w)}{\\partial w_1} = \\frac{1}{n} \\sum_{i=1}^n (\\hat y^{(i)} - y^{(i)}) x^{(i)} $$"
   ]
  },
  {
   "cell_type": "markdown",
   "id": "d8373e16",
   "metadata": {},
   "source": [
    "Bu noktada, Cost Function(J)'ın **W** değerlerine göre nasıl değiştiğini, yani türevini, her bir $x^{(i)}$ ve $y^{(i)}$ noktasında bildiğimize göre bunu kullanabiliriz. "
   ]
  },
  {
   "cell_type": "markdown",
   "id": "2f8db1d7",
   "metadata": {},
   "source": [
    "**Bu türeve *Gradient* adı verilir. Kısacası Gradient, J'nin W değerlerine göre nasıl değiştiğini bize söyleyen değişim vektörüdür.**"
   ]
  },
  {
   "cell_type": "markdown",
   "id": "4fe6d926",
   "metadata": {},
   "source": [
    "Gradient'in W vektörü üzerinden genel gösterimi:\n",
    "### $$ \\frac{\\partial J(W)}{\\partial W_j} = \\frac{1}{n} \\sum_{i=1}^n (\\hat y^{(i)} - y^{(i)}) X_j^{(i)} $$"
   ]
  },
  {
   "cell_type": "markdown",
   "id": "452be5b4",
   "metadata": {},
   "source": [
    "<img src=\"images/cost_function.jpeg\"/>"
   ]
  },
  {
   "cell_type": "markdown",
   "id": "1aa3d883",
   "metadata": {},
   "source": [
    "### Gradient Descent Nasıl Çalışır?\n",
    "\n",
    "1. Önce bir başlangıç noktası seçilir, bu nokta herhangi bir nokta olabilir. Seçilen nokta görselde A harfi ile belirtilmiştir. [$w_0$ ve $w_1$]\n",
    "2. Bu nokta için Cost Function değeri [**J(W)**] hesaplanır.\n",
    "3. Hesaplanan bu maliyet - J(W) değeri üzerinden $w_0$ ve $w_1$ için **Gradient** hesaplanır. Yani W değiştiğinde J(W) ne kadar değişiyor bilgisine ulaşıyoruz.\n",
    "4. Bu Gradient'in **negatif** değeri alınır. Çünkü değişim miktarı, yani türev, artış olarak gözlemlenir, ancak biz Cost Function değerini azaltmak istiyoruz. Bu nedenle değişim miktarının negatifini inceliyoruz.\n",
    "5. Bu negatif değer bir learning rate **$\\alpha$** ile çarpılır. Learning Rate bizim tarafımızdan belirlenir.\n",
    "6. Bu çarpımın sonucu, ilgili $W$ değerinden çıkarlır\n",
    "7. Döngü 1. adıma geri döner ve belirlenen iteration(döngü) adedince gerekli işlemleri yapmaya devam eder."
   ]
  },
  {
   "cell_type": "markdown",
   "id": "c0c80890",
   "metadata": {},
   "source": [
    "### Gradient Descent Akışı"
   ]
  },
  {
   "cell_type": "markdown",
   "id": "476a29bf",
   "metadata": {},
   "source": [
    "Iterasyonlar kullanarak $W$ değerini güncelleyeceğiz:"
   ]
  },
  {
   "cell_type": "markdown",
   "id": "e221e6bb",
   "metadata": {},
   "source": [
    "### $$ W_j = W_j - \\alpha (\\frac{1}{n} \\sum_{i=1}^n (\\hat y^{(i)} - y^{(i)}) X_j^{(i)}) $$"
   ]
  },
  {
   "cell_type": "markdown",
   "id": "f1af7d52",
   "metadata": {},
   "source": [
    "Burada;\n",
    "* **Learning Rate : $\\alpha$**\n",
    "* Gradient : $ \\sum_{i=1}^n (\\hat y^{(i)} - y^{(i)}) X_j^{(i)}) $\n",
    "\n",
    "- Yukarıdaki işlemler sonucuna W değeri her iterasyonda yenilenir. Bunun sonucunda, Convex şekilde olan Gradient eğirisinde aşağı doğru ilerleyerek global minimuma ulaşılır."
   ]
  },
  {
   "cell_type": "markdown",
   "id": "9e5b2b23",
   "metadata": {},
   "source": [
    "***"
   ]
  },
  {
   "cell_type": "markdown",
   "id": "45448f27",
   "metadata": {},
   "source": [
    "## APPLIED GRADIENT DESCENT WITH PYTHON"
   ]
  },
  {
   "cell_type": "markdown",
   "id": "6ba42b57",
   "metadata": {},
   "source": [
    "* Maliyet (Cost) hesaplayacağımız fonksiyonumuzu yazalım."
   ]
  },
  {
   "cell_type": "code",
   "execution_count": 8,
   "id": "987a5c01",
   "metadata": {},
   "outputs": [],
   "source": [
    "# Maliyet Hesaplama Fonksiyonu\n",
    "\n",
    "def costCalc(W, X, y):\n",
    "    \"\"\"\n",
    "    X ve y için Cost (Maliyet) hesaplar.\n",
    "    \n",
    "    Parametreler:\n",
    "        W = Katsayı Vektörü     -> (p, 1)\n",
    "        X = Girdi Vektörü       -> (n, p)\n",
    "        y = Gerçek y Değerleri  -> (n, 1)\n",
    "\n",
    "    Burada:\n",
    "        n: Toplam veri adedi (satır sayısı)\n",
    "        p: X içerisindeki değişken adedi (sütun sayısı)\n",
    "        \n",
    "    Geriye Dönüş Değeri:\n",
    "        cost = Hesaplanan maliyet değeri\n",
    "    \"\"\"\n",
    "    \n",
    "    # Toplam veri adedini hesapla\n",
    "    n = len(y)\n",
    "    \n",
    "    # Önce tahmin değerini hesapla -> 𝑦̂ = X*W\n",
    "    # X -> (n, p)\n",
    "    # W -> (p, 1)\n",
    "    # 𝑦̂ -> (n, 1)\n",
    "    prediction = X.dot(W)\n",
    "    \n",
    "    # Cost Function değerini hesapla -> \"J\"\n",
    "    cost = (1 / 2 * n) * np.sum(np.square(prediction - y))\n",
    "    \n",
    "    # Hesaplanan Cost Function değerini geriye dön\n",
    "    return cost"
   ]
  },
  {
   "cell_type": "code",
   "execution_count": 9,
   "id": "d9852433",
   "metadata": {},
   "outputs": [],
   "source": [
    "# Gradient Descent Fonksiyonu\n",
    "\n",
    "def gradientDescent(X, y, W, learningRate=0.01, iterations=100):\n",
    "    \"\"\"\n",
    "    Gradient Descent Uygulama Fonksiyonu\n",
    "    \n",
    "    Parametreler:\n",
    "        X = X Matrisi (bias unit eklenmiş hali, yani 1'lerden oluşmuş ilk sütun)\n",
    "        y = y vektörü\n",
    "        W = Katsayı vektörü (w'lardan oluşmuş)\n",
    "        learning_rate = learning rate: alpha (öğrenme katsayısı)\n",
    "        iterations = toplam döngü sayısı\n",
    "        \n",
    "    Geriye Dönüş Değeri:\n",
    "        * W vektörünün son hali\n",
    "        * Maliyet Listesi (cost history)\n",
    "        * W vektörünün listesi (weight history)\n",
    "    \"\"\"\n",
    "    \n",
    "    n = len(y)\n",
    "    costHistory = np.zeros(iterations)\n",
    "    weightHistory = np.zeros((iterations, 2))\n",
    "    \n",
    "    for itr in range(iterations):\n",
    "        \n",
    "        prediction = np.dot(X, W)\n",
    "        \n",
    "        W = W - (1 / n) * learningRate * (X.T.dot((prediction - y)))\n",
    "        \n",
    "        weightHistory[itr, :] = W.T\n",
    "        \n",
    "        costHistory[itr] = costCalc(W, X, y)\n",
    "        \n",
    "    return W, costHistory, weightHistory"
   ]
  },
  {
   "cell_type": "markdown",
   "id": "94490f0e",
   "metadata": {},
   "source": [
    "Şimdi de **GradientDescent()** fonksiyonunu kullanarak yukarıda yarattığımız veri seti için en uygun katsayıları bulalım.\n",
    "\n",
    "Bunun için önce bir $W_0$ başlangıç değeri belirlememiz lazım. Bu başlangıç değeri random bir değer olabilir.\n",
    "\n",
    "* Gaussian(Normal) Dağılım içerisinden bir rastgele W vektörü alabiliriz. https://numpy.org/doc/stable/reference/random/generated/numpy.random.randn.html"
   ]
  },
  {
   "cell_type": "code",
   "execution_count": 10,
   "id": "d7cadb60",
   "metadata": {},
   "outputs": [
    {
     "name": "stdout",
     "output_type": "stream",
     "text": [
      "[[-0.75909167]\n",
      " [ 0.68259492]]\n"
     ]
    }
   ],
   "source": [
    "W = np.random.randn(2, 1)\n",
    "print(W)"
   ]
  },
  {
   "cell_type": "markdown",
   "id": "81d54292",
   "metadata": {},
   "source": [
    "Şimdi bir *Learning Rate($\\alpha$)* değeri belirleyelim. Başlangıç için *0.01* değerini uygun bulduk."
   ]
  },
  {
   "cell_type": "code",
   "execution_count": 11,
   "id": "ea6414d1",
   "metadata": {},
   "outputs": [],
   "source": [
    "learningRate = 0.01"
   ]
  },
  {
   "cell_type": "markdown",
   "id": "81bb9939",
   "metadata": {},
   "source": [
    "Toplam *iteration* adedini 1000 olarak kabul edelim."
   ]
  },
  {
   "cell_type": "code",
   "execution_count": 12,
   "id": "2e32c9f4",
   "metadata": {},
   "outputs": [],
   "source": [
    "nIter = 1000"
   ]
  },
  {
   "cell_type": "markdown",
   "id": "c88fc696",
   "metadata": {},
   "source": [
    "Elimizdeki X vektörünün tek sütunluk bir vektör olduğunu hatırlatalım. Bununla birlikte $w_0$ için 1'lerden oluşan bir sütunu (*Bias Column*) sütunların başına eklemek durumundayız."
   ]
  },
  {
   "cell_type": "code",
   "execution_count": 13,
   "id": "af5d1682",
   "metadata": {
    "scrolled": true
   },
   "outputs": [
    {
     "data": {
      "text/plain": [
       "array([[0.24830818],\n",
       "       [0.15577054],\n",
       "       [0.03197154],\n",
       "       [0.37108124],\n",
       "       [1.19270851],\n",
       "       [0.95845888],\n",
       "       [1.81501106],\n",
       "       [0.1642365 ],\n",
       "       [0.96841592],\n",
       "       [0.346042  ],\n",
       "       [0.21207076],\n",
       "       [1.14771796],\n",
       "       [0.92074977],\n",
       "       [1.60225477],\n",
       "       [1.70372453],\n",
       "       [1.98383647],\n",
       "       [1.17162265],\n",
       "       [1.95853206],\n",
       "       [0.26734089],\n",
       "       [0.37626558],\n",
       "       [1.72411314],\n",
       "       [1.49042271],\n",
       "       [0.04754709],\n",
       "       [1.92685692],\n",
       "       [0.68393553],\n",
       "       [0.3691385 ],\n",
       "       [0.15536165],\n",
       "       [0.42191053],\n",
       "       [1.0108466 ],\n",
       "       [1.1410315 ],\n",
       "       [1.65269921],\n",
       "       [1.69853619],\n",
       "       [1.29628724],\n",
       "       [0.82303321],\n",
       "       [0.36685078],\n",
       "       [1.81427196],\n",
       "       [1.69199355],\n",
       "       [1.68255482],\n",
       "       [0.63135808],\n",
       "       [1.60084369],\n",
       "       [0.63009027],\n",
       "       [0.19228019],\n",
       "       [1.75876171],\n",
       "       [1.8001499 ],\n",
       "       [1.34422241],\n",
       "       [1.40196433],\n",
       "       [0.75393997],\n",
       "       [0.18482275],\n",
       "       [0.26635719],\n",
       "       [0.52334521],\n",
       "       [1.36608   ],\n",
       "       [1.91758599],\n",
       "       [1.90719377],\n",
       "       [0.95914788],\n",
       "       [1.74873943],\n",
       "       [1.62519493],\n",
       "       [1.28305194],\n",
       "       [1.12832136],\n",
       "       [0.57737909],\n",
       "       [0.29778165],\n",
       "       [1.41814795],\n",
       "       [1.19697215],\n",
       "       [1.4069492 ],\n",
       "       [1.05633403],\n",
       "       [1.9180279 ],\n",
       "       [1.28118375],\n",
       "       [1.2517202 ],\n",
       "       [0.30844945],\n",
       "       [0.40112971],\n",
       "       [1.7145458 ],\n",
       "       [0.92187723],\n",
       "       [1.1687368 ],\n",
       "       [0.37481465],\n",
       "       [0.2203718 ],\n",
       "       [0.92631335],\n",
       "       [1.32729288],\n",
       "       [1.87998695],\n",
       "       [1.30204034],\n",
       "       [0.63232296],\n",
       "       [1.41261118],\n",
       "       [0.32851159],\n",
       "       [1.65848066],\n",
       "       [1.74651724],\n",
       "       [0.05251769],\n",
       "       [1.81550065],\n",
       "       [1.57311591],\n",
       "       [1.21723684],\n",
       "       [0.91950663],\n",
       "       [0.65978158],\n",
       "       [1.64104109],\n",
       "       [1.62881545],\n",
       "       [1.64037673],\n",
       "       [0.81641442],\n",
       "       [0.5005788 ],\n",
       "       [0.37731343],\n",
       "       [1.46113449],\n",
       "       [1.97419878],\n",
       "       [1.40223376],\n",
       "       [1.30183576],\n",
       "       [0.58601615]])"
      ]
     },
     "execution_count": 13,
     "metadata": {},
     "output_type": "execute_result"
    }
   ],
   "source": [
    "X"
   ]
  },
  {
   "cell_type": "code",
   "execution_count": 14,
   "id": "8be652a9",
   "metadata": {
    "scrolled": true
   },
   "outputs": [
    {
     "name": "stdout",
     "output_type": "stream",
     "text": [
      "[[1.         0.24830818]\n",
      " [1.         0.15577054]\n",
      " [1.         0.03197154]\n",
      " [1.         0.37108124]\n",
      " [1.         1.19270851]\n",
      " [1.         0.95845888]\n",
      " [1.         1.81501106]\n",
      " [1.         0.1642365 ]\n",
      " [1.         0.96841592]\n",
      " [1.         0.346042  ]\n",
      " [1.         0.21207076]\n",
      " [1.         1.14771796]\n",
      " [1.         0.92074977]\n",
      " [1.         1.60225477]\n",
      " [1.         1.70372453]\n",
      " [1.         1.98383647]\n",
      " [1.         1.17162265]\n",
      " [1.         1.95853206]\n",
      " [1.         0.26734089]\n",
      " [1.         0.37626558]\n",
      " [1.         1.72411314]\n",
      " [1.         1.49042271]\n",
      " [1.         0.04754709]\n",
      " [1.         1.92685692]\n",
      " [1.         0.68393553]\n",
      " [1.         0.3691385 ]\n",
      " [1.         0.15536165]\n",
      " [1.         0.42191053]\n",
      " [1.         1.0108466 ]\n",
      " [1.         1.1410315 ]\n",
      " [1.         1.65269921]\n",
      " [1.         1.69853619]\n",
      " [1.         1.29628724]\n",
      " [1.         0.82303321]\n",
      " [1.         0.36685078]\n",
      " [1.         1.81427196]\n",
      " [1.         1.69199355]\n",
      " [1.         1.68255482]\n",
      " [1.         0.63135808]\n",
      " [1.         1.60084369]\n",
      " [1.         0.63009027]\n",
      " [1.         0.19228019]\n",
      " [1.         1.75876171]\n",
      " [1.         1.8001499 ]\n",
      " [1.         1.34422241]\n",
      " [1.         1.40196433]\n",
      " [1.         0.75393997]\n",
      " [1.         0.18482275]\n",
      " [1.         0.26635719]\n",
      " [1.         0.52334521]\n",
      " [1.         1.36608   ]\n",
      " [1.         1.91758599]\n",
      " [1.         1.90719377]\n",
      " [1.         0.95914788]\n",
      " [1.         1.74873943]\n",
      " [1.         1.62519493]\n",
      " [1.         1.28305194]\n",
      " [1.         1.12832136]\n",
      " [1.         0.57737909]\n",
      " [1.         0.29778165]\n",
      " [1.         1.41814795]\n",
      " [1.         1.19697215]\n",
      " [1.         1.4069492 ]\n",
      " [1.         1.05633403]\n",
      " [1.         1.9180279 ]\n",
      " [1.         1.28118375]\n",
      " [1.         1.2517202 ]\n",
      " [1.         0.30844945]\n",
      " [1.         0.40112971]\n",
      " [1.         1.7145458 ]\n",
      " [1.         0.92187723]\n",
      " [1.         1.1687368 ]\n",
      " [1.         0.37481465]\n",
      " [1.         0.2203718 ]\n",
      " [1.         0.92631335]\n",
      " [1.         1.32729288]\n",
      " [1.         1.87998695]\n",
      " [1.         1.30204034]\n",
      " [1.         0.63232296]\n",
      " [1.         1.41261118]\n",
      " [1.         0.32851159]\n",
      " [1.         1.65848066]\n",
      " [1.         1.74651724]\n",
      " [1.         0.05251769]\n",
      " [1.         1.81550065]\n",
      " [1.         1.57311591]\n",
      " [1.         1.21723684]\n",
      " [1.         0.91950663]\n",
      " [1.         0.65978158]\n",
      " [1.         1.64104109]\n",
      " [1.         1.62881545]\n",
      " [1.         1.64037673]\n",
      " [1.         0.81641442]\n",
      " [1.         0.5005788 ]\n",
      " [1.         0.37731343]\n",
      " [1.         1.46113449]\n",
      " [1.         1.97419878]\n",
      " [1.         1.40223376]\n",
      " [1.         1.30183576]\n",
      " [1.         0.58601615]]\n"
     ]
    }
   ],
   "source": [
    "n = len(X)\n",
    "\n",
    "X_b = np.c_[np.ones((n, 1)), X]\n",
    "\n",
    "print(X_b)"
   ]
  },
  {
   "cell_type": "markdown",
   "id": "9998d7ba",
   "metadata": {},
   "source": [
    "Bu noktada *gradientDescent* fonksiyonunu çağırabiliriz."
   ]
  },
  {
   "cell_type": "code",
   "execution_count": 15,
   "id": "6aac33ac",
   "metadata": {},
   "outputs": [],
   "source": [
    "finalW, costHistory, weightHistory = gradientDescent(X_b, y, W, learningRate, nIter)"
   ]
  },
  {
   "cell_type": "code",
   "execution_count": 16,
   "id": "31f8b78e",
   "metadata": {},
   "outputs": [
    {
     "name": "stdout",
     "output_type": "stream",
     "text": [
      "W-Final:  [[4.07198419]\n",
      " [3.33765298]]\n"
     ]
    }
   ],
   "source": [
    "print(\"W-Final: \", finalW)"
   ]
  },
  {
   "cell_type": "code",
   "execution_count": 17,
   "id": "b9cb8293",
   "metadata": {},
   "outputs": [
    {
     "name": "stdout",
     "output_type": "stream",
     "text": [
      "Cost History: [295146.18161305 281728.9312339  268932.90277788 256729.30183501\n",
      " 245090.66874736 233990.81673695 223404.77290168 213308.7219464\n",
      " 203679.95252232 194496.80605379 185738.6279373  177385.72100258\n",
      " 169419.30113096 161821.45493113 154575.09937678 147663.9433152\n",
      " 141072.45076016 134785.80588641 128789.87964673 123071.19793653\n",
      " 117616.91123415 112414.76564844 107453.07530849 102720.6960332\n",
      "  98207.00022132  93901.85290559  89795.58891681  85878.99110642\n",
      "  82143.26957866  78580.04188537  75181.31413888  71939.46300033\n",
      "  68847.21850305  65897.64767205  63084.13890286  60400.38706451\n",
      "  57840.37929299  55398.38144336  53068.92516974  50846.79560432\n",
      "  48727.01960744  46704.85456233  44775.77768932  42935.47585535\n",
      "  41179.83585584  39504.93514711  37907.03300829  36382.56211306\n",
      "  34928.12049192  33540.4638672   32216.49834323  30953.27343552\n",
      "  29747.9754229   28597.92100796  27500.55127127  26453.42590591\n",
      "  25454.21771919  24500.70738933  23590.77846511  22722.41259734\n",
      "  21893.68499141  21102.76007058  20347.88734033  19627.3974444\n",
      "  18939.69840366  18283.27202937  17656.67050257  17058.51311221\n",
      "  16487.48314434  15942.32491558  15421.84094405  14924.88925151\n",
      "  14450.38079048  13997.27699068  13564.58741917  13151.36754899\n",
      "  12756.71663122  12379.77566564  12019.72546553  11675.7848121\n",
      "  11347.20869457  11033.2866317   10733.34107126  10446.72586359\n",
      "  10172.82480596   9911.05025443   9660.84179998   9421.66500611\n",
      "   9193.01020486   8974.39134873   8765.34491572   8565.42886522\n",
      "   8374.22164227   8191.32122791   8016.34423368   7848.92503797\n",
      "   7688.71496247   7535.38148679   7388.60749949   7248.09058376\n",
      "   7113.54233637   6984.68771796   6861.2644337    6743.02234244\n",
      "   6629.7228934    6521.13858888   6417.05247196   6317.25763783\n",
      "   6221.55676791   6129.76168543   6041.69293175   5957.17936219\n",
      "   5876.05776068   5798.17247223   5723.37505247   5651.5239334\n",
      "   5582.48410467   5516.12680959   5452.32925529   5390.97433626\n",
      "   5331.95037071   5275.15084923   5220.47419497   5167.82353505\n",
      "   5117.10648251   5068.23492836   5021.12484334   4975.69608876\n",
      "   4931.87223621   4889.58039556   4848.75105097   4809.31790448\n",
      "   4771.21772688   4734.39021544   4698.77785829   4664.32580507\n",
      "   4630.98174352   4598.69578192   4567.42033684   4537.11002617\n",
      "   4507.72156709   4479.21367877   4451.5469896    4424.68394866\n",
      "   4398.58874139   4373.22720906   4348.56677208   4324.57635675\n",
      "   4301.22632553   4278.48841045   4256.33564963   4234.74232677\n",
      "   4213.68391339   4193.13701383   4173.07931272   4153.48952492\n",
      "   4134.34734776   4115.63341555   4097.32925614   4079.41724949\n",
      "   4061.88058823   4044.70323994   4027.8699113    4011.36601382\n",
      "   3995.17763115   3979.29148797   3963.69492031   3948.37584714\n",
      "   3933.32274344   3918.52461442   3903.97097092   3889.65180602\n",
      "   3875.55757269   3861.67916246   3848.00788514   3834.53544941\n",
      "   3821.25394437   3808.1558219    3795.23387985   3782.48124604\n",
      "   3769.89136293   3757.45797312   3745.17510536   3733.03706137\n",
      "   3721.03840317   3709.17394101   3697.43872191   3685.82801865\n",
      "   3674.33731936   3662.96231754   3651.69890253   3640.54315046\n",
      "   3629.4913156    3618.5398221    3607.68525616   3596.92435851\n",
      "   3586.25401723   3575.67126098   3565.17325246   3554.75728223\n",
      "   3544.42076278   3534.1612229    3523.97630226   3513.86374636\n",
      "   3503.82140156   3493.84721045   3483.9392074    3474.0955143\n",
      "   3464.31433653   3454.5939591    3444.93274296   3435.3291215\n",
      "   3425.7815972    3416.28873841   3406.84917637   3397.46160225\n",
      "   3388.1247644    3378.8374657    3369.59856109   3360.40695509\n",
      "   3351.26159958   3342.16149158   3333.10567116   3324.09321949\n",
      "   3315.12325692   3306.19494118   3297.30746566   3288.46005775\n",
      "   3279.6519773    3270.88251512   3262.15099153   3253.45675504\n",
      "   3244.79918102   3236.17767048   3227.5916489    3219.04056509\n",
      "   3210.52389012   3202.04111631   3193.59175624   3185.17534183\n",
      "   3176.79142347   3168.43956911   3160.11936355   3151.83040759\n",
      "   3143.57231734   3135.34472349   3127.14727067   3118.97961682\n",
      "   3110.84143254   3102.73240056   3094.65221516   3086.60058164\n",
      "   3078.57721584   3070.58184366   3062.61420057   3054.67403121\n",
      "   3046.76108897   3038.87513558   3031.01594073   3023.18328175\n",
      "   3015.37694319   3007.59671658   2999.84240005   2992.11379808\n",
      "   2984.41072116   2976.73298559   2969.08041315   2961.45283091\n",
      "   2953.85007097   2946.27197024   2938.71837019   2931.18911674\n",
      "   2923.68405995   2916.20305391   2908.74595656   2901.31262948\n",
      "   2893.90293776   2886.51674984   2879.15393737   2871.81437504\n",
      "   2864.4979405    2857.20451418   2849.93397919   2842.68622123\n",
      "   2835.46112842   2828.25859127   2821.0785025    2813.920757\n",
      "   2806.78525174   2799.67188564   2792.58055951   2785.511176\n",
      "   2778.46363947   2771.43785595   2764.43373308   2757.45118002\n",
      "   2750.4901074    2743.55042725   2736.63205295   2729.7348992\n",
      "   2722.85888193   2716.00391824   2709.16992642   2702.35682583\n",
      "   2695.56453692   2688.79298112   2682.04208087   2675.31175954\n",
      "   2668.6019414    2661.91255161   2655.24351616   2648.59476184\n",
      "   2641.96621623   2635.35780766   2628.76946518   2622.20111854\n",
      "   2615.65269815   2609.1241351    2602.61536108   2596.1263084\n",
      "   2589.65690995   2583.20709918   2576.77681011   2570.36597727\n",
      "   2563.97453571   2557.60242097   2551.24956909   2544.91591655\n",
      "   2538.60140029   2532.30595771   2526.02952662   2519.77204523\n",
      "   2513.53345218   2507.31368647   2501.11268752   2494.93039508\n",
      "   2488.76674928   2482.6216906    2476.49515985   2470.38709819\n",
      "   2464.29744709   2458.22614835   2452.17314406   2446.13837664\n",
      "   2440.12178878   2434.12332347   2428.14292399   2422.18053388\n",
      "   2416.23609696   2410.30955732   2404.40085929   2398.50994749\n",
      "   2392.63676675   2386.78126218   2380.9433791    2375.1230631\n",
      "   2369.32025998   2363.53491577   2357.76697673   2352.01638934\n",
      "   2346.28310031   2340.56705655   2334.86820517   2329.18649353\n",
      "   2323.52186915   2317.87427977   2312.24367335   2306.62999802\n",
      "   2301.03320211   2295.45323415   2289.89004287   2284.34357716\n",
      "   2278.81378611   2273.30061901   2267.80402531   2262.32395465\n",
      "   2256.86035683   2251.41318187   2245.98237991   2240.5679013\n",
      "   2235.16969655   2229.78771634   2224.42191151   2219.0722331\n",
      "   2213.73863226   2208.42106036   2203.11946889   2197.83380953\n",
      "   2192.5640341    2187.3100946    2182.07194318   2176.84953213\n",
      "   2171.64281391   2166.45174115   2161.27626661   2156.1163432\n",
      "   2150.97192401   2145.84296225   2140.7294113    2135.63122469\n",
      "   2130.54835607   2125.48075928   2120.42838827   2115.39119716\n",
      "   2110.3691402    2105.36217179   2100.37024648   2095.39331894\n",
      "   2090.43134401   2085.48427666   2080.55207199   2075.63468526\n",
      "   2070.73207185   2065.84418729   2060.97098725   2056.11242753\n",
      "   2051.26846407   2046.43905294   2041.62415035   2036.82371266\n",
      "   2032.03769634   2027.26605801   2022.50875442   2017.76574244\n",
      "   2013.03697909   2008.32242152   2003.62202699   1998.93575293\n",
      "   1994.26355685   1989.60539644   1984.96122949   1980.33101392\n",
      "   1975.71470778   1971.11226926   1966.52365666   1961.94882842\n",
      "   1957.3877431    1952.84035939   1948.3066361    1943.78653217\n",
      "   1939.28000666   1934.78701875   1930.30752777   1925.84149313\n",
      "   1921.38887441   1916.94963127   1912.52372352   1908.11111108\n",
      "   1903.711754     1899.32561245   1894.9526467    1890.59281716\n",
      "   1886.24608436   1881.91240895   1877.59175168   1873.28407344\n",
      "   1868.98933523   1864.70749817   1860.43852349   1856.18237254\n",
      "   1851.93900679   1847.70838784   1843.49047737   1839.2852372\n",
      "   1835.09262927   1830.91261563   1826.74515843   1822.59021994\n",
      "   1818.44776256   1814.31774879   1810.20014123   1806.09490263\n",
      "   1802.00199581   1797.92138374   1793.85302946   1789.79689616\n",
      "   1785.75294713   1781.72114574   1777.70145552   1773.69384008\n",
      "   1769.69826313   1765.71468852   1761.74308019   1757.78340219\n",
      "   1753.83561868   1749.89969392   1745.9755923    1742.06327828\n",
      "   1738.16271647   1734.27387156   1730.39670834   1726.53119172\n",
      "   1722.67728672   1718.83495846   1715.00417216   1711.18489314\n",
      "   1707.37708684   1703.58071879   1699.79575463   1696.0221601\n",
      "   1692.25990106   1688.50894344   1684.7692533    1681.04079679\n",
      "   1677.32354017   1673.61744978   1669.92249209   1666.23863366\n",
      "   1662.56584113   1658.90408128   1655.25332096   1651.61352712\n",
      "   1647.98466683   1644.36670724   1640.7596156    1637.16335926\n",
      "   1633.57790569   1630.00322243   1626.43927712   1622.8860375\n",
      "   1619.34347143   1615.81154683   1612.29023174   1608.7794943\n",
      "   1605.27930271   1601.78962532   1598.31043052   1594.84168684\n",
      "   1591.38336288   1587.93542734   1584.497849     1581.07059677\n",
      "   1577.65363963   1574.24694663   1570.85048697   1567.46422988\n",
      "   1564.08814473   1560.72220096   1557.36636811   1554.0206158\n",
      "   1550.68491376   1547.35923179   1544.04353979   1540.73780776\n",
      "   1537.44200577   1534.156104     1530.88007271   1527.61388225\n",
      "   1524.35750305   1521.11090565   1517.87406066   1514.64693878\n",
      "   1511.42951082   1508.22174764   1505.02362022   1501.83509961\n",
      "   1498.65615696   1495.48676349   1492.32689052   1489.17650945\n",
      "   1486.03559177   1482.90410905   1479.78203295   1476.6693352\n",
      "   1473.56598765   1470.47196221   1467.38723086   1464.3117657\n",
      "   1461.24553888   1458.18852266   1455.14068937   1452.10201143\n",
      "   1449.07246133   1446.05201165   1443.04063506   1440.03830431\n",
      "   1437.04499221   1434.06067168   1431.08531571   1428.11889738\n",
      "   1425.16138982   1422.21276628   1419.27300008   1416.34206459\n",
      "   1413.4199333    1410.50657976   1407.60197761   1404.70610054\n",
      "   1401.81892237   1398.94041694   1396.07055822   1393.20932023\n",
      "   1390.35667707   1387.51260293   1384.67707206   1381.85005881\n",
      "   1379.03153758   1376.22148286   1373.41986923   1370.62667133\n",
      "   1367.84186388   1365.06542167   1362.29731958   1359.53753255\n",
      "   1356.7860356    1354.04280384   1351.30781244   1348.58103664\n",
      "   1345.86245176   1343.1520332    1340.44975643   1337.75559699\n",
      "   1335.0695305    1332.39153265   1329.72157919   1327.05964598\n",
      "   1324.4057089    1321.75974395   1319.12172718   1316.49163471\n",
      "   1313.86944274   1311.25512753   1308.64866543   1306.05003285\n",
      "   1303.45920626   1300.87616222   1298.30087734   1295.73332833\n",
      "   1293.17349195   1290.62134502   1288.07686445   1285.54002721\n",
      "   1283.01081034   1280.48919095   1277.97514621   1275.46865338\n",
      "   1272.96968977   1270.47823276   1267.9942598    1265.51774842\n",
      "   1263.04867619   1260.58702077   1258.13275989   1255.68587133\n",
      "   1253.24633294   1250.81412264   1248.38921843   1245.97159835\n",
      "   1243.56124053   1241.15812315   1238.76222446   1236.37352278\n",
      "   1233.99199648   1231.61762402   1229.2503839    1226.8902547\n",
      "   1224.53721506   1222.19124368   1219.85231934   1217.52042085\n",
      "   1215.19552712   1212.87761711   1210.56666984   1208.26266439\n",
      "   1205.9655799    1203.6753956    1201.39209075   1199.11564469\n",
      "   1196.84603681   1194.58324658   1192.3272535    1190.07803718\n",
      "   1187.83557724   1185.5998534    1183.37084542   1181.14853312\n",
      "   1178.9328964    1176.7239152    1174.52156952   1172.32583944\n",
      "   1170.13670508   1167.95414664   1165.77814435   1163.60867852\n",
      "   1161.44572952   1159.28927777   1157.13930376   1154.99578802\n",
      "   1152.85871116   1150.72805384   1148.60379677   1146.48592072\n",
      "   1144.37440654   1142.2692351    1140.17038735   1138.07784431\n",
      "   1135.99158702   1133.91159662   1131.83785426   1129.7703412\n",
      "   1127.70903871   1125.65392813   1123.60499087   1121.56220839\n",
      "   1119.52556219   1117.49503385   1115.47060498   1113.45225726\n",
      "   1111.43997244   1109.43373228   1107.43351864   1105.43931342\n",
      "   1103.45109856   1101.46885607   1099.49256801   1097.5222165\n",
      "   1095.5577837    1093.59925183   1091.64660316   1089.69982003\n",
      "   1087.75888482   1085.82377995   1083.89448792   1081.97099126\n",
      "   1080.05327256   1078.14131448   1076.23509969   1074.33461096\n",
      "   1072.43983108   1070.55074291   1068.66732934   1066.78957332\n",
      "   1064.91745788   1063.05096605   1061.19008096   1059.33478575\n",
      "   1057.48506363   1055.64089787   1053.80227178   1051.9691687\n",
      "   1050.14157206   1048.31946531   1046.50283196   1044.69165558\n",
      "   1042.88591976   1041.08560816   1039.29070449   1037.50119251\n",
      "   1035.71705602   1033.93827888   1032.16484497   1030.39673826\n",
      "   1028.63394274   1026.87644246   1025.12422151   1023.37726403\n",
      "   1021.63555421   1019.89907629   1018.16781455   1016.44175332\n",
      "   1014.72087699   1013.00516997   1011.29461674   1009.58920182\n",
      "   1007.88890976   1006.19372519   1004.50363277   1002.81861719\n",
      "   1001.1386632     999.4637556     997.79387923    996.12901899\n",
      "    994.46915979    992.81428662    991.1643845     989.5194385\n",
      "    987.87943373    986.24435534    984.61418855    982.98891859\n",
      "    981.36853076    979.75301038    978.14234285    976.53651357\n",
      "    974.93550803    973.33931172    971.74791021    970.16128908\n",
      "    968.57943398    967.0023306     965.42996465    963.86232191\n",
      "    962.2993882     960.74114935    959.18759128    957.63869992\n",
      "    956.09446125    954.5548613     953.01988613    951.48952186\n",
      "    949.96375462    948.44257061    946.92595607    945.41389726\n",
      "    943.90638051    942.40339216    940.90491862    939.41094633\n",
      "    937.92146175    936.43645142    934.95590189    933.47979976\n",
      "    932.00813168    930.54088432    929.0780444     927.61959868\n",
      "    926.16553397    924.71583711    923.27049497    921.82949447\n",
      "    920.39282257    918.96046627    917.53241261    916.10864866\n",
      "    914.68916153    913.27393838    911.8629664     910.45623281\n",
      "    909.0537249     907.65542996    906.26133533    904.87142841\n",
      "    903.48569661    902.10412739    900.72670825    899.35342672\n",
      "    897.98427037    896.6192268     895.25828368    893.90142867\n",
      "    892.5486495     891.19993392    889.85526973    888.51464476\n",
      "    887.17804687    885.84546397    884.516884      883.19229493\n",
      "    881.87168478    880.55504158    879.24235344    877.93360846\n",
      "    876.6287948     875.32790065    874.03091424    872.73782383\n",
      "    871.44861771    870.16328422    868.88181173    867.60418864\n",
      "    866.33040338    865.06044442    863.79430028    862.53195949\n",
      "    861.27341063    860.0186423     858.76764316    857.52040187\n",
      "    856.27690716    855.03714776    853.80111246    852.56879006\n",
      "    851.34016943    850.11523943    848.89398897    847.67640702\n",
      "    846.46248254    845.25220456    844.04556211    842.84254428\n",
      "    841.64314017    840.44733894    839.25512976    838.06650184\n",
      "    836.88144442    835.69994679    834.52199823    833.3475881\n",
      "    832.17670576    831.00934062    829.84548211    828.6851197\n",
      "    827.52824288    826.37484119    825.22490419    824.07842147\n",
      "    822.93538265    821.79577739    820.65959538    819.52682632\n",
      "    818.39745998    817.27148612    816.14889456    815.02967513\n",
      "    813.91381772    812.80131221    811.69214854    810.58631668\n",
      "    809.4838066     808.38460834    807.28871195    806.1961075\n",
      "    805.10678512    804.02073493    802.93794712    801.85841187\n",
      "    800.78211943    799.70906005    798.63922401    797.57260164\n",
      "    796.50918328    795.44895931    794.39192014    793.33805618\n",
      "    792.28735792    791.23981583    790.19542044    789.15416229\n",
      "    788.11603197    787.08102007    786.04911722    785.0203141\n",
      "    783.99460138    782.97196979    781.95241006    780.93591298\n",
      "    779.92246934    778.91206997    777.90470572    776.90036748\n",
      "    775.89904615    774.90073269    773.90541804    772.9130932\n",
      "    771.9237492     770.93737707    769.95396789    768.97351276\n",
      "    767.9960028     767.02142917    766.04978306    765.08105565\n",
      "    764.11523819    763.15232194    762.19229818    761.23515822\n",
      "    760.2808934     759.32949508    758.38095465    757.43526354\n",
      "    756.49241317    755.55239501    754.61520056    753.68082134\n",
      "    752.74924889    751.82047477    750.89449059    749.97128795\n",
      "    749.05085851    748.13319394    747.21828593    746.30612619\n",
      "    745.39670648    744.49001856    743.58605423    742.68480531\n",
      "    741.78626363    740.89042107    739.99726953    739.1068009\n",
      "    738.21900714    737.33388022    736.45141211    735.57159484\n",
      "    734.69442043    733.81988096    732.94796851    732.07867518\n",
      "    731.21199311    730.34791446    729.4864314     728.62753613\n",
      "    727.77122089    726.91747792    726.0662995     725.21767792\n",
      "    724.3716055     723.52807459    722.68707755    721.84860677]\n"
     ]
    }
   ],
   "source": [
    "print(\"Cost History:\", costHistory)"
   ]
  },
  {
   "cell_type": "code",
   "execution_count": 18,
   "id": "a68c805b",
   "metadata": {},
   "outputs": [
    {
     "name": "stdout",
     "output_type": "stream",
     "text": [
      "Initial Cost: 295146.1816130488\n",
      "Final Cost: 721.8486067715705\n"
     ]
    }
   ],
   "source": [
    "print(\"Initial Cost:\", costHistory[0])\n",
    "print(\"Final Cost:\", costHistory[-1])"
   ]
  },
  {
   "cell_type": "code",
   "execution_count": 19,
   "id": "b2ba8f7e",
   "metadata": {},
   "outputs": [
    {
     "name": "stdout",
     "output_type": "stream",
     "text": [
      "W_0: [-0.75909167]\n",
      "Final W_0: [4.07198419]\n"
     ]
    }
   ],
   "source": [
    "W_0 = W[0]\n",
    "print(\"W_0:\", W_0)\n",
    "\n",
    "finalW_0 = finalW[0]\n",
    "print(\"Final W_0:\", finalW_0)"
   ]
  },
  {
   "cell_type": "code",
   "execution_count": 20,
   "id": "85b449ce",
   "metadata": {},
   "outputs": [
    {
     "name": "stdout",
     "output_type": "stream",
     "text": [
      "W_1: [0.68259492]\n",
      "Final W_1: [3.33765298]\n"
     ]
    }
   ],
   "source": [
    "W_1 = W[1]\n",
    "print(\"W_1:\", W_1)\n",
    "\n",
    "finalW_1 = finalW[1]\n",
    "print(\"Final W_1:\", finalW_1)"
   ]
  },
  {
   "cell_type": "markdown",
   "id": "773994a2",
   "metadata": {},
   "source": [
    "Gerçek katsayıları hatırlayalım;\n",
    "* $w_0$ = 4\n",
    "* $w_1$ = 3"
   ]
  },
  {
   "cell_type": "markdown",
   "id": "c399050f",
   "metadata": {},
   "source": [
    "*Gradient Descent* ile bulduğumuz katsayılar;"
   ]
  },
  {
   "cell_type": "code",
   "execution_count": 21,
   "id": "656fe7e7",
   "metadata": {},
   "outputs": [
    {
     "name": "stdout",
     "output_type": "stream",
     "text": [
      "𝑤̂_0: [4.07198419]\n",
      "𝑤̂_1: [3.33765298]\n"
     ]
    }
   ],
   "source": [
    "print(\"𝑤̂_0:\", finalW_0)\n",
    "print(\"𝑤̂_1:\", finalW_1)"
   ]
  },
  {
   "cell_type": "markdown",
   "id": "2535eb89",
   "metadata": {},
   "source": [
    "* Görüldüğü üzere gerçek değerler ve Gradient Descent ile elde edilen değerler birbirlerine oldukça yakın."
   ]
  },
  {
   "cell_type": "markdown",
   "id": "e4e8f958",
   "metadata": {},
   "source": [
    "***"
   ]
  },
  {
   "cell_type": "markdown",
   "id": "1fa547c9",
   "metadata": {},
   "source": [
    "### LEARNING RATE"
   ]
  },
  {
   "cell_type": "markdown",
   "id": "64118be3",
   "metadata": {},
   "source": [
    "* Şimdi de maliyet değerinin her iterasyonda nasıl değiştiğini inceleyelim."
   ]
  },
  {
   "cell_type": "code",
   "execution_count": 22,
   "id": "1f9d732f",
   "metadata": {},
   "outputs": [],
   "source": [
    "# Maliyet değişimi görselleştiren fonksiyon\n",
    "\n",
    "def costVsIterations(costHistory, nIter):\n",
    "    \n",
    "    fig, ax = plt.subplots(figsize=(12,8))\n",
    "    \n",
    "    plt.plot(range(nIter), costHistory)\n",
    "    \n",
    "    plt.xlabel(\"Iterations\")\n",
    "    plt.ylabel(\"Cost - J(W)\")\n",
    "    plt.title(\"MALİYET - ITERASYON\")\n",
    "    plt.grid()\n",
    "    plt.show()"
   ]
  },
  {
   "cell_type": "code",
   "execution_count": 23,
   "id": "7c4a1fe9",
   "metadata": {},
   "outputs": [
    {
     "data": {
      "image/png": "[encoded data removed]",
      "text/plain": [
       "<Figure size 864x576 with 1 Axes>"
      ]
     },
     "metadata": {
      "needs_background": "light"
     },
     "output_type": "display_data"
    }
   ],
   "source": [
    "costVsIterations(costHistory, nIter)"
   ]
  },
  {
   "cell_type": "markdown",
   "id": "f9fda3b8",
   "metadata": {},
   "source": [
    "Grafiğe göre, *iterasyon sayısı arttıkça*;\n",
    "* Öncelikle, *Cost* değeri çok hızlı bir şekilde azalıyor.\n",
    "* Belli bir iterasyon sayısından sonra (yaklaşık 180. iterasyon) *Cost* değerinin azalama ivmesi oldukça düşüyor."
   ]
  },
  {
   "cell_type": "markdown",
   "id": "da814a82",
   "metadata": {},
   "source": [
    "**DİKKAT: Yukarıda elde ettiğimiz sonucu Learning Rate($\\alpha$) = 0.01 için elde ettik.** "
   ]
  },
  {
   "cell_type": "code",
   "execution_count": 24,
   "id": "a287385e",
   "metadata": {},
   "outputs": [],
   "source": [
    "def callGradient(learningRate, nIter):\n",
    "    \n",
    "    # Belirtilen learningRate ve nIter için maliyet değerlerini al\n",
    "    finalW, costHistory, weightHistory = gradientDescent(X_b, y, W, learningRate, nIter)\n",
    "    \n",
    "    # Bu maliyet değerlerine göre grafik çizimi yap\n",
    "    costVsIterations(costHistory, nIter)"
   ]
  },
  {
   "cell_type": "markdown",
   "id": "c3b06df2",
   "metadata": {},
   "source": [
    "**DENEY - 1**: *Learning Rate($\\alpha$)* = 0.01 olacak şekilde aynı kalsın ancak *İterasyon* sayısını 1000'den 2000'e çıkaralım."
   ]
  },
  {
   "cell_type": "code",
   "execution_count": 25,
   "id": "e6ddcb7c",
   "metadata": {},
   "outputs": [
    {
     "data": {
      "image/png": "[encoded data removed]",
      "text/plain": [
       "<Figure size 864x576 with 1 Axes>"
      ]
     },
     "metadata": {
      "needs_background": "light"
     },
     "output_type": "display_data"
    }
   ],
   "source": [
    "# learningRate = 0.01\n",
    "# nIter = 2000\n",
    "\n",
    "learningRate = 0.01\n",
    "nIter = 2000\n",
    "callGradient(learningRate, nIter)"
   ]
  },
  {
   "cell_type": "markdown",
   "id": "73b00dda",
   "metadata": {},
   "source": [
    "**Sonuç**: Görüldüğü üzere bir önceki çalışmaya göre hiçbir değişiklik gerçekleşmedi çünkü zaten 180. iterasyon civarında en iyi değer bulunmuş oluyordu."
   ]
  },
  {
   "cell_type": "markdown",
   "id": "9849f258",
   "metadata": {},
   "source": [
    "**DENEY - 2**: *Learning Rate($\\alpha$)* = 0.01 olacak şekilde aynı kalsın ancak *İterasyon* sayısını 1000'den 500'e düşürelim."
   ]
  },
  {
   "cell_type": "code",
   "execution_count": 26,
   "id": "b77f825b",
   "metadata": {},
   "outputs": [
    {
     "data": {
      "image/png": "[encoded data removed]",
      "text/plain": [
       "<Figure size 864x576 with 1 Axes>"
      ]
     },
     "metadata": {
      "needs_background": "light"
     },
     "output_type": "display_data"
    }
   ],
   "source": [
    "# learningRate = 0.01\n",
    "# nIter = 500\n",
    "\n",
    "learningRate = 0.01\n",
    "nIter = 500\n",
    "callGradient(learningRate, nIter)"
   ]
  },
  {
   "cell_type": "markdown",
   "id": "2cd3d876",
   "metadata": {},
   "source": [
    "**Sonuç**: Görüldüğü üzere bir önceki çalışmaya göre hiçbir değişiklik gerçekleşmedi çünkü zaten 180. iterasyon civarında en iyi değer bulunmuş oluyordu."
   ]
  },
  {
   "cell_type": "markdown",
   "id": "566c5023",
   "metadata": {},
   "source": [
    "**DENEY - 3**: *Learning Rate($\\alpha$)* = 0.05 olacak şekilde arttırılsın ancak *İterasyon* sayısı 1000 olacak şekilde aynı kalsın."
   ]
  },
  {
   "cell_type": "code",
   "execution_count": 27,
   "id": "3521ad34",
   "metadata": {},
   "outputs": [
    {
     "data": {
      "image/png": "[encoded data removed]",
      "text/plain": [
       "<Figure size 864x576 with 1 Axes>"
      ]
     },
     "metadata": {
      "needs_background": "light"
     },
     "output_type": "display_data"
    }
   ],
   "source": [
    "# learningRate = 0.05\n",
    "# nIter = 1000\n",
    "\n",
    "learningRate = 0.05\n",
    "nIter = 1000\n",
    "callGradient(learningRate, nIter)"
   ]
  },
  {
   "cell_type": "markdown",
   "id": "17ccf30b",
   "metadata": {},
   "source": [
    "**Sonuç**: Görüldüğü üzere bu senaryoda optimum değere çok hızlı bir şekilde ulaşıldı ki bu takribi 40. *iterasyona* denk düşüyor.\n",
    "\n",
    "O halde, *Learning Rate* değerini adım büyüklüğü olarak düşünebilir ve adımlar ne kadar büyük olursa optimum sonuca o kadar çabuk ulaşırız diyebiliriz.\n",
    "\n",
    "**ACABA DİYEBİLİR MİYİZ?**\n",
    "\n",
    "**Deney - 4**: *İterasyon* sayısı 1000 olacak şekilde aynı kalsın ancak *Learning Rate($\\alpha$)* değerini **0.1** olacak şekilde ayarlayalım. "
   ]
  },
  {
   "cell_type": "code",
   "execution_count": 28,
   "id": "1b6a8592",
   "metadata": {},
   "outputs": [
    {
     "data": {
      "image/png": "[encoded data removed]",
      "text/plain": [
       "<Figure size 864x576 with 1 Axes>"
      ]
     },
     "metadata": {
      "needs_background": "light"
     },
     "output_type": "display_data"
    }
   ],
   "source": [
    "# learningRate = 0.1\n",
    "# nIter = 1000\n",
    "\n",
    "learningRate = 0.1\n",
    "nIter = 1000\n",
    "callGradient(learningRate, nIter)"
   ]
  },
  {
   "cell_type": "markdown",
   "id": "292e7762",
   "metadata": {},
   "source": [
    "**Sonuç**: Görüldüğü üzere, *Learning Rate($\\alpha$)* değerini biraz daha arttırınca optimum sonuca daha hızlı ulaştık ki bu da takribi 20. iterasyona denk düşüyor.\n",
    "\n",
    "**Peki *Learning Rate($\\alpha$)* değerini biraz daha arttırırsak yine hızlı bir şekilde optimum sonuca ulaşabilir miyiz? Deneyelim :)**\n",
    "\n",
    "**Deney - 5**: *İterasyon* sayısı 1000 olacak şekilde aynı kalsın ancak *Learning Rate($\\alpha$)* değerini **1.0** olacak şekilde ayarlayalım. "
   ]
  },
  {
   "cell_type": "code",
   "execution_count": 29,
   "id": "f16fcd01",
   "metadata": {},
   "outputs": [
    {
     "data": {
      "image/png": "[encoded data removed]",
      "text/plain": [
       "<Figure size 864x576 with 1 Axes>"
      ]
     },
     "metadata": {
      "needs_background": "light"
     },
     "output_type": "display_data"
    }
   ],
   "source": [
    "# learningRate = 1\n",
    "# nIter = 1000\n",
    "\n",
    "learningRate = 1\n",
    "nIter = 1000\n",
    "callGradient(learningRate, nIter)"
   ]
  },
  {
   "cell_type": "markdown",
   "id": "d77d1edb",
   "metadata": {},
   "source": [
    "**Sonuç**: Görüldüğü üzere bu noktada bırakın en iyi değeri bulayı, maliyet değeri belli bir noktadan itibaren çok hızlı bir şekilde arttı.\n",
    "\n",
    "**Peki neden böyle bir sonuç aldık?** Çünkü *`Overshoot`* yaptık yani çok büyük boyutlu bir *Learning Rate($\\alpha$)* belirleyerek ulaşmayı planladığımız en iyi noktayı atladık, çünkü adım büyüklüğümüz çok fazlaydı."
   ]
  },
  {
   "cell_type": "markdown",
   "id": "a2a32a53",
   "metadata": {},
   "source": [
    "<img src='images/overshoot.jpg' />"
   ]
  },
  {
   "cell_type": "markdown",
   "id": "4b3d0b40",
   "metadata": {},
   "source": [
    "**Soru**: Öyleyse, çok küçük *Learning Rate($\\alpha$)* değerlerinde nasıl bir sonuçla karşılaşacağız? Şimdi de bu durumu inceleyelim.\n",
    "\n",
    "**Deney - 6**: *İterasyon* sayısını 1000 olacak şekilde aynı değerde tutalım ancak *Learning Rate($\\alpha$)* değerini **0.001** olacak şekilde küçültelim."
   ]
  },
  {
   "cell_type": "code",
   "execution_count": 30,
   "id": "f228d679",
   "metadata": {},
   "outputs": [
    {
     "data": {
      "image/png": "[encoded data removed]",
      "text/plain": [
       "<Figure size 864x576 with 1 Axes>"
      ]
     },
     "metadata": {
      "needs_background": "light"
     },
     "output_type": "display_data"
    }
   ],
   "source": [
    "# learningRate = 0.001\n",
    "# nIter = 1000\n",
    "\n",
    "learningRate = 0.001\n",
    "nIter = 1000\n",
    "callGradient(learningRate, nIter)"
   ]
  },
  {
   "cell_type": "markdown",
   "id": "52c94f4d",
   "metadata": {},
   "source": [
    "**Sonuç**: Fena değil, 1000. iterasyona yakın bir noktada minimum değere yaklaştık.\n",
    "\n",
    "* Learning Rate($\\alpha$) değerini biraz daha küçültelim ve sonuçları inceleyelim.\n",
    "\n",
    "**Deney - 7**: *İterasyon* sayısını 1000 olacak şekilde aynı değerde tutalım ancak *Learning Rate($\\alpha$)* değerini **0.0001** olacak şekilde küçültelim."
   ]
  },
  {
   "cell_type": "code",
   "execution_count": 31,
   "id": "b1af9e27",
   "metadata": {},
   "outputs": [
    {
     "data": {
      "image/png": "[encoded data removed]",
      "text/plain": [
       "<Figure size 864x576 with 1 Axes>"
      ]
     },
     "metadata": {
      "needs_background": "light"
     },
     "output_type": "display_data"
    }
   ],
   "source": [
    "# learningRate = 0.0001\n",
    "# nIter = 1000\n",
    "\n",
    "learningRate = 0.0001\n",
    "nIter = 1000\n",
    "callGradient(learningRate, nIter)"
   ]
  },
  {
   "cell_type": "markdown",
   "id": "bab26a4f",
   "metadata": {},
   "source": [
    "**Sonuç**: Oldukça kötü, çünkü *Final Cost* değerine yaklaşılamadı bile. Bu noktada, yani *Learning Rate* değerinin oldukça düşük olduğu durumda *İterasyon* sayısını arttırmamız gerekiyor.\n",
    "\n",
    "**Deney - 8**: *İterasyon* sayısını 10.000 olacak şekilde arttıralım ve *Learning Rate* değerini **0.0001** olacak şekilde aynı tutalım."
   ]
  },
  {
   "cell_type": "code",
   "execution_count": 32,
   "id": "badede6c",
   "metadata": {},
   "outputs": [
    {
     "data": {
      "image/png": "[encoded data removed]",
      "text/plain": [
       "<Figure size 864x576 with 1 Axes>"
      ]
     },
     "metadata": {
      "needs_background": "light"
     },
     "output_type": "display_data"
    }
   ],
   "source": [
    "# learningRate = 0.0001\n",
    "# nIter = 10000\n",
    "\n",
    "learningRate = 0.0001\n",
    "nIter = 10000\n",
    "callGradient(learningRate, nIter)"
   ]
  },
  {
   "cell_type": "markdown",
   "id": "5f3fd129",
   "metadata": {},
   "source": [
    "**Sonuç**: *Learning Rate* değerinin düşük olduğu noktada *İterasyon* değerini arttırmak, minimum maliyet değerine ulaşmak bakımından işe yarar bir yöntem. Görüldüğü üzere eğiri **Final Cost** değerine yaklaştı."
   ]
  },
  {
   "cell_type": "markdown",
   "id": "a53793a8",
   "metadata": {},
   "source": [
    "***"
   ]
  },
  {
   "cell_type": "markdown",
   "id": "68ebfebe",
   "metadata": {},
   "source": [
    "### ÇIKARIM\n",
    "* *Learning Rate($\\alpha$)* değeri çok büyük olursa *Overshoot* gerçekleşir ve asla minimum maliyet değerine ulaşamayız.\n",
    "* *Learning Rate($\\alpha$)* değeri çok küçük olursa, o zaman da adımlarımız çok küçük olacağı için Optimum Cost değerine yaklaşmamız çok uzun sürer, yani çok fazla iterasyon gerçekleştirmemiz gerekir.\n",
    "\n",
    "\n",
    "- Peki Optimum Learning Rate değerini nasıl kararlaştıracağız? Bunu tam manasıyla bilmek pek de mümkün değil ancak çözüm sağlayan bazı algoritmalar mevcuttur. **Adam Optimizer** algoritması bunlardan biridir ve *Learning Rate* değerini başlangıçta biraz büyük olarak belirleyip giderek küçültmek yöntemini kullanır.\n",
    "\n",
    "\n",
    "* Google'ın Machine Learning Crash Course kaynağının Gradient Descent applet'lerini incelemek için: https://developers.google.com/machine-learning/crash-course/reducing-loss/gradient-descent"
   ]
  },
  {
   "cell_type": "markdown",
   "id": "76858bca",
   "metadata": {},
   "source": [
    "***"
   ]
  },
  {
   "cell_type": "markdown",
   "id": "ca35759b",
   "metadata": {},
   "source": [
    "## STOCHASTIC GRADIENT DESCENT (SGD)"
   ]
  },
  {
   "cell_type": "markdown",
   "id": "ee3d7c53",
   "metadata": {},
   "source": [
    "Gradient Descent yönteminin ana sorunu her adımda tüm eğitim veri setini kullanmasıdır. Bu durum da eğitim veri setinin büyük olduğu senaryolarda algoritmanın yavaşlamasına sebep olur. Diğer taraftan *Stochastic Gradient Descent* yöntemi her adımda eğitim veri setinden rastgele bir *örnek* seçer ve *Gradient* değerini sadece o örnek için hesaplar. Doğal olarak her seferinde bir örnek üzerinde çalışmak her *iterasyonda* çok az veri işlemi gerektireceğinden algoritma çok daha hızlı çalışır. Bu yöntem, her iterasyonda bellekte sadece bir örnek bulunması gerektiğinden, aynı zamanda çok büyük veri setleriyle çalışmayı mümkün hale getirir.\n",
    "\n",
    "Diğer yandan *Stochastic* yani *Rastgelelik* yapısı nedeniyle bu algoritma, *Gradient Descent* algoritmasından daha az düzenlidir, yani tabiri caiz ise minimum maliyet değerine ulaşana kadar eğri üzerinden uysalca inmek yerine bir sağa bir sola zıplar durur ve ortalama bir iniş gerçekleştirir. Zamana bağlı olarak minimum maliyet değerine çok yaklaşacaktır ama o noktaya vardığında bile etrafta gezinmeye devam edecektir ve asla sakinleşmeyecektir.\n",
    "\n",
    "Sonuç olarak algoritma işlemlerini tamamladığında son parametre değerleri iyi olacaktır ama optimum olmayacaktır."
   ]
  },
  {
   "cell_type": "code",
   "execution_count": 33,
   "id": "94cb7839",
   "metadata": {},
   "outputs": [],
   "source": [
    "# Stochastic Gradient Descent Fonksiyonu\n",
    "\n",
    "def stochasticGradientDescent(X, y, W, learningRate=0.01, iterations=100):\n",
    "    \"\"\"\n",
    "    Stochastic Gradient Descent uygulama fonksiyonu.\n",
    "    \n",
    "    Parametreler:\n",
    "        X = X Matrisi (bias unit eklenmiş hali, yani 1'lerden oluşmuş ilk sütun)\n",
    "        y = y vektörü\n",
    "        W = Katsayı vektörü (w'lardan oluşmuş)\n",
    "        learning_rate = learning rate: alpha (öğrenme katsayısı)\n",
    "        iterations = toplam döngü sayısı\n",
    "    \n",
    "    Dönüş:\n",
    "        * W vektörünün son hali\n",
    "        * Maliyet Listesi (cost history)\n",
    "        * W vektörünün listesi (weight history)\n",
    "    \"\"\"\n",
    "    \n",
    "    n = len(y)\n",
    "    costHistory = np.zeros(iterations)\n",
    "    \n",
    "    for itr in range(iterations):\n",
    "        cost = 0\n",
    "        \n",
    "        # Her seferinde rastgele bir X_i değeri seçip maliyet değeri hesaplayacağız.\n",
    "        for i in range(n):\n",
    "            # Rastgele bir değer al\n",
    "            rantIndex = np.random.randint(0, n)\n",
    "            \n",
    "            X_i = X[rantIndex, :].reshape(1, X.shape[1])\n",
    "            y_i = y[rantIndex].reshape(1, 1)\n",
    "            \n",
    "            # Tek X_i için tahmin\n",
    "            prediction = np.dot(X_i, W)\n",
    "            \n",
    "            # Tek X_i için katsayı değişimi\n",
    "            W = W - (1 / n) * learningRate * (X_i.T.dot((prediction - y_i)))\n",
    "            \n",
    "            # Tek X_i için hesaplanan cost'u cost değişkenine ekle\n",
    "            cost = costCalc(W, X_i, y_i)\n",
    "            \n",
    "        # Bu iterasyon için cost değerini costHistory'e ekle\n",
    "        costHistory[itr] = cost\n",
    "        \n",
    "    return W, costHistory"
   ]
  },
  {
   "cell_type": "markdown",
   "id": "7417cbfb",
   "metadata": {},
   "source": [
    "* Yukarıdaki fonksiyon her iterasyonda, X'ler üzerinde rastgele yöntemle dönüp maliyet değerlerini topladı. Bu şekilde bir nebze de olsa iyileşme sağladık ancak hala bir sorunumuz var: X'ler üzerinde teker teker döndük, yani her seferinde maliyet değerini hesaplarken bir X satırı aldık(X_i). Gerçek hayatta bu yöntem pek tercih edilmez çünkü büyük boyutlu verilerde çok zaman kaybına sebep olur.\n",
    "* Bu sorunun çözümü ise X'leri teker teker değil, parti parti almak(Batch). Bu yönteme de *Mini-Batch Stochastic Gradient Descent* denir."
   ]
  },
  {
   "cell_type": "markdown",
   "id": "8c59849e",
   "metadata": {},
   "source": [
    "## MINI-BATC GRADIENT DESCENT"
   ]
  },
  {
   "cell_type": "code",
   "execution_count": 34,
   "id": "0fc0e365",
   "metadata": {},
   "outputs": [],
   "source": [
    "# Mini-Batch Stochastic Gradient Descent Fonksiyonu\n",
    "def minibatchStochasticGradientDescent(X, y, W, learningRate=0.01, iterations=100, batchSize=20):\n",
    "    \"\"\"\n",
    "    Stochastic Gradient Descent uygulama fonksiyonu.\n",
    "    \n",
    "    Parametreler:\n",
    "        X = X Matrisi (bias unit eklenmiş hali, yani 1'lerden oluşmuş ilk sütun)\n",
    "        y = y vektörü\n",
    "        W = Katsayı vektörü (w'lardan oluşmuş)\n",
    "        learning_rate = learning rate: alpha (öğrenme katsayısı)\n",
    "        iterations = toplam döngü sayısı\n",
    "    \n",
    "    Dönüş:\n",
    "        * W vektörünün son hali\n",
    "        * Maliyet Listesi (cost history)\n",
    "        * W vektörünün listesi (weight history)\n",
    "    \"\"\"\n",
    "    \n",
    "    n = len(y)\n",
    "    costHistory = np.zeros(iterations)\n",
    "    \n",
    "    # Toplam kaç adet batch olacak?\n",
    "    nBatches = int(n / batchSize)\n",
    "    \n",
    "    for itr in range(iterations):\n",
    "        cost = 0\n",
    "        \n",
    "        # X ve y'leri karıştır, veri sıraları rastgele olsun\n",
    "        indices = np.random.permutation(n)\n",
    "        X = X[indices]\n",
    "        y = y[indices]\n",
    "        \n",
    "        # Her seferinde rastgele bir X_i partisi alıp maliyet değeri hesaplayacağız.\n",
    "        for i in range(0, n, batchSize):\n",
    "            # Rastgele X_i ve y_i partileri\n",
    "            X_i = X[i:i+batchSize]\n",
    "            y_i = y[i:i+batchSize]\n",
    "        \n",
    "            # Bias column ekle (1'ler sütunu)\n",
    "            x_i = np.c_[np.ones(len(X_i)), X_i]\n",
    "        \n",
    "            # X_i partisi için tahmin\n",
    "            prediction = np.dot(X_i, W)\n",
    "\n",
    "            # X_i partisi için katsayı değişimi\n",
    "            W = W - (1/n) * learningRate * (X_i.T.dot((prediction - y_i)))\n",
    "\n",
    "            # X_i partisi için hesaplanan cost'u cost değişkenine ekle\n",
    "            cost += costCalc(W, X_i, y_i)\n",
    "        \n",
    "        # bu iterasyon için cost değerini cost_history'ye ekle\n",
    "        costHistory[itr] = cost\n",
    "    \n",
    "    return W, costHistory"
   ]
  }
 ],
 "metadata": {
  "kernelspec": {
   "display_name": "Python 3 (ipykernel)",
   "language": "python",
   "name": "python3"
  },
  "language_info": {
   "codemirror_mode": {
    "name": "ipython",
    "version": 3
   },
   "file_extension": ".py",
   "mimetype": "text/x-python",
   "name": "python",
   "nbconvert_exporter": "python",
   "pygments_lexer": "ipython3",
   "version": "3.10.2"
  }
 },
 "nbformat": 4,
 "nbformat_minor": 5
}
