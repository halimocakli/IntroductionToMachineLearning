{
 "cells": [
  {
   "cell_type": "markdown",
   "id": "08aef0d2",
   "metadata": {},
   "source": [
    "## Regresyon vs Sınıflandırma\n",
    "\n",
    "Değişkenler, sayısal (nicelik) olabilirler veya kategorik (nitelik) olabilirler. Sayısal değişkenler, sayı ile ölçülebilen değerler alırlar. Örneğin: Kişini yaşı, aldığı maaş vs. Kategorik Değişkenler ise, Sınıf dediğimiz değerler kümesinden bir değer alırlar. Örneğin: Kişinin cinsiyeti iki sınıftan oluşur: K/E. İşte bir kategorik değişken bu iki kategoriden birini alır -> K veya E\n",
    "\n",
    "**Regresyon (Regression)**\n",
    "\n",
    "Sayısal değişkenlerin tahmini için kurduğumuz modellere denir. Regresyon günün sonunda, sayı ile ölçülebilen bir değer bulmaya çalışır. Örneğin: Yarınki hisse senedi fiyatı kaç tl olacak gibi.\n",
    "\n",
    "**Sınıflandırma (Classification)**\n",
    "\n",
    "Kategorik değişkenin hangi kategoriye yani sınıfa girdiğini bulma çabasına da Sınıflandırma denir. Sonuç değişkeni, elimizdeki sınıflardan hangisine aittir? Örnek: Bir resim, kedi mi, köpek mi yoksa tavşan mı? bunu tahminleyeme çalışma bir sınıflandırmadır. Çizimle gösterelim:\n",
    "\n",
    "<img src='../images/regression_vs_classification.png' />\n",
    "\n",
    "Aynı data seti üzerinden iki farklı algoritmanın çıktılarını görelim:\n",
    "\n",
    "<img src='../images/reg_vs_class.png' />"
   ]
  }
 ],
 "metadata": {
  "kernelspec": {
   "display_name": "Python 3 (ipykernel)",
   "language": "python",
   "name": "python3"
  },
  "language_info": {
   "codemirror_mode": {
    "name": "ipython",
    "version": 3
   },
   "file_extension": ".py",
   "mimetype": "text/x-python",
   "name": "python",
   "nbconvert_exporter": "python",
   "pygments_lexer": "ipython3",
   "version": "3.10.2"
  }
 },
 "nbformat": 4,
 "nbformat_minor": 5
}
