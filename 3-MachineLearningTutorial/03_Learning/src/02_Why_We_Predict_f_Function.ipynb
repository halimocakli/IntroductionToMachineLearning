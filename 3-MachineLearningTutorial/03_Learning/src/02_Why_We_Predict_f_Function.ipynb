{
 "cells": [
  {
   "cell_type": "markdown",
   "id": "f82d74b7",
   "metadata": {},
   "source": [
    "# $f()$ Fonksiyonunu Neden Tahmin Ederiz?"
   ]
  },
  {
   "cell_type": "markdown",
   "id": "4c804bb7",
   "metadata": {},
   "source": [
    "Y (OUTPUT) ile X (INPUT) arasında şu şekilde bir ilişki olduğunu kabul etmiştik:\n",
    "\n",
    "$$Y = f(X) + \\epsilon$$"
   ]
  },
  {
   "cell_type": "markdown",
   "id": "b27eb39d",
   "metadata": {},
   "source": [
    "İşte buradaki ilişki yani, **f()** fonksiyonunu bulmak için iki ana nedenimiz var:\n",
    "* Tahmin Yapmak - Prediction\n",
    "* Çıkarım Yapmak - Inference\n",
    "\n",
    "NOT: Bu iki kavram aynı anlama gelmez\n",
    "***"
   ]
  },
  {
   "cell_type": "markdown",
   "id": "82cae41c",
   "metadata": {},
   "source": [
    "## $Tahmin$"
   ]
  },
  {
   "cell_type": "markdown",
   "id": "0577b1f8",
   "metadata": {},
   "source": [
    "Çoğu zaman elimizde girdi değişkeni yani X olur ama y olmaz. Dolayısı ile y'yi tahmin etmemiz gerekir. Tahmin ederken kaçınılmaz olarak bir hata payı olacaktır. Buna *kaçınılmaz hata* deriz.\n",
    "\n",
    "***DENKLEM:*** $Toplam$ $Hata$ $=$ $Kaçınılabilir$ $Hata$ $+$ $Kaçınılmaz$ $Hata$"
   ]
  },
  {
   "cell_type": "markdown",
   "id": "69d37719",
   "metadata": {},
   "source": [
    "### ***Bu noktada söylemek gerekir ki iyi bir tahmin $Kaçınılabilir$ $Hata$'yı minimize eden tahmindir.***"
   ]
  },
  {
   "cell_type": "markdown",
   "id": "3221f5cd",
   "metadata": {},
   "source": [
    "Tahmin etmeye çalıştığımız **f()** fonksiyonunun tahmin edilme miktarı aşağıdaki gibi ifade edilir:\n",
    "\n",
    "### $$\\hat{f}$$"
   ]
  },
  {
   "cell_type": "markdown",
   "id": "47b79388",
   "metadata": {},
   "source": [
    "***\n",
    "## $Çıkarım$"
   ]
  },
  {
   "cell_type": "markdown",
   "id": "476f2339",
   "metadata": {},
   "source": [
    "Bazı durumlarda y'nin değerini tahmin etmeye çalışmak yerine, olası durumlar için çıkarım yapmamız gerekir. Örneğin, Hisse Senedi veri kümesinde gördüğümüz üzere, bir hissenin yarınki değerinin ne olacağını tahmin etmek yerine, acaba artacak mı yoksa azalacak mı çıkarımı yapmaya çalıştık. Çıkarım yapmak, tahmin yapmak kadar önemlidir ve karar verecinin iyi kararlar vermesini sağlar. Başka bir örnek olarak, TV-Radio-Newspaper reklamlarının hangisinin Satış miktarını daha çok artırdığını öğrenmek istediğimizi düşünelim, bu da bir çıkarım olurdu. Burada Satış'ın tam olarak ne olacağını tahmin etmeye çalışmak yerine, 3 girdinin hangisinin daha önemli olduğunu saptamaya çalışırsak bu bir Çıkarım olur. Kısacası bütün ML algoritmaları tahmin yapma amacı taşımaz. Bununla birlikte çıkarım yapmak suretiyle karar verme aşamalarına katkıda bulunmak da ML algoritmalarının var oluş amaçlarından biridir."
   ]
  }
 ],
 "metadata": {
  "kernelspec": {
   "display_name": "Python 3 (ipykernel)",
   "language": "python",
   "name": "python3"
  },
  "language_info": {
   "codemirror_mode": {
    "name": "ipython",
    "version": 3
   },
   "file_extension": ".py",
   "mimetype": "text/x-python",
   "name": "python",
   "nbconvert_exporter": "python",
   "pygments_lexer": "ipython3",
   "version": "3.10.2"
  }
 },
 "nbformat": 4,
 "nbformat_minor": 5
}
