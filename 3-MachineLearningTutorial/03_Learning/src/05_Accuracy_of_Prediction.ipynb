{
 "cells": [
  {
   "cell_type": "markdown",
   "id": "a7632759",
   "metadata": {},
   "source": [
    "# Tahmin Doğruluğu mu Model Sadeliği mi?"
   ]
  },
  {
   "cell_type": "markdown",
   "id": "230c077b",
   "metadata": {},
   "source": [
    "Eğitim boyunca bir çok Machine Learning Algoritması göreceğiz. Bu algoritmalardan bazıları daha esnek, bazıları ise daha sınırlayıcı yani kısıtlayıcı olacak. Örneğin, Lineer modeller görece daha az esnektir. Çünkü bir şekilde lineer bir ilişki yaratmaya çalıştıkları için veriyi kısıtlarlar. Ama ileride göreceğimiz Support Vector Machines (SVM) gibi algoritmalar ise inanılmaz esnektirler."
   ]
  },
  {
   "cell_type": "markdown",
   "id": "05ff397b",
   "metadata": {},
   "source": [
    "**Soru:** O zaman ortaya şöyle mantıklı bir soru çıkıyor; neden esnek bir model varken kısıtlayıcı olanı seçelim ki?"
   ]
  },
  {
   "cell_type": "markdown",
   "id": "8c8f4368",
   "metadata": {},
   "source": [
    "### **Genel Kural** \n",
    "\n",
    "Soruya cevap vermeden önce şu kuralları belirtmekte fayda var:\n",
    "\n",
    "1. **Kısıtlayıcı** olan modeller daha sade yani daha **anlaşılırdırlar.**\n",
    "\n",
    "2. **Esnek** modeller daha kompleks dolayısı ile daha **az anlaşılır** olurlar.\n"
   ]
  },
  {
   "cell_type": "markdown",
   "id": "aead878b",
   "metadata": {},
   "source": [
    "**Cevap:** Daha kısıtlayıcı bir modeli tercih etmenin çeşitli sebepleri olabilir. Bunlar:\n",
    "\n",
    "* Eğer ana amacımız tahmin değil de çıkarım yapmaksa, o zaman daha anlaşılır bir model terchih ederiz.\n",
    "\n",
    "    * Örneğin Wage veri setinde gördüğümüz gibi, amacımız şöyle bir soruya cevap vermekse: \"acaba eğitim düzeyinin kişinin maaşı üzerinde bir etkisi var mı?\" Bu soru için lineer modeller bize yeterince çıkarım sağlarlar.\n",
    "      \n",
    "* *Kompleks modeller hem maliyetli hem de zor okunurlar.*\n",
    "\n",
    "* *Kompleks modeller \"Overfit\" olmaya daha yatkındırlar.*\n",
    "\n",
    "* *Sade modeller de \"Underfit\" olmaya yatkındırlar.*"
   ]
  },
  {
   "cell_type": "markdown",
   "id": "4b8849fb",
   "metadata": {},
   "source": [
    "<img src='../images/interpretability.png' />"
   ]
  },
  {
   "cell_type": "markdown",
   "id": "51043c0c",
   "metadata": {},
   "source": [
    "Yukarıdaki görseli incelediğimizde Machine Learning'te, modelin Flexibility(Esneklik)'si ile Interpretability(Yorumlanabilirlik/Anlaşılırlık)'si arasında bir Tradeoff(İkilem) olduğunu görüyoruz. *Model sadeleştikçe/kısıtlandıkça daha anlaşılır hale gelirken karmaşıklaştıkça/esnekleştikçe anlaşılırlığı azalır.*"
   ]
  }
 ],
 "metadata": {
  "kernelspec": {
   "display_name": "Python 3 (ipykernel)",
   "language": "python",
   "name": "python3"
  },
  "language_info": {
   "codemirror_mode": {
    "name": "ipython",
    "version": 3
   },
   "file_extension": ".py",
   "mimetype": "text/x-python",
   "name": "python",
   "nbconvert_exporter": "python",
   "pygments_lexer": "ipython3",
   "version": "3.10.2"
  }
 },
 "nbformat": 4,
 "nbformat_minor": 5
}
