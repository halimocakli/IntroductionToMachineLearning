{
 "cells": [
  {
   "cell_type": "markdown",
   "id": "verified-constant",
   "metadata": {},
   "source": [
    "## Hipotez Testi"
   ]
  },
  {
   "cell_type": "markdown",
   "id": "serial-substance",
   "metadata": {},
   "source": [
    "$$ y = \\beta_0 + \\beta_1X + \\epsilon $$"
   ]
  },
  {
   "cell_type": "markdown",
   "id": "22d7101c",
   "metadata": {},
   "source": [
    "* Yukarıdaki denklem ile Lineer Regresyon'un matematiğini tekrar hatırladık. Bu denklem içerisinde özellikle $\\beta_1$ bizi yakından ilgilendiriyor. Çünkü $\\beta_1$ değeri, girdi ile çıktı arasında nasıl bir ilişki olduğunu, girdinin çıktıyı nasıl etkilediğini gösterir. Bu nedenle $\\beta_1$ değerini anlamlandırmak bizim için oldukça önemli."
   ]
  },
  {
   "cell_type": "markdown",
   "id": "frank-guidance",
   "metadata": {},
   "source": [
    "**Katsayılar**\n",
    "\n",
    "* $\\beta_0$\n",
    "\n",
    "* $\\beta_1$"
   ]
  },
  {
   "cell_type": "markdown",
   "id": "nasty-novel",
   "metadata": {},
   "source": [
    "**Tahminler**\n",
    "\n",
    "* $\\hat \\beta_0$\n",
    "\n",
    "* $\\hat \\beta_1$"
   ]
  },
  {
   "cell_type": "markdown",
   "id": "dressed-coating",
   "metadata": {},
   "source": [
    "**Güven Aralığı (Confidence Interval)**\n",
    "\n",
    "* Güven aralığı, tahminimizin yüzde kaç ihtimalle doğru olduğunu bize anlatır. Bir diğer tabirle tahminimizin yüzde kaç ihtimalle güvenilir olduğun ifade eder.\n",
    "\n",
    "Ör: %95 confidence interval -> %95 ihtimalle sizin katsayı tahminleriniz gerçek katsayıları doğru hesaplar demek."
   ]
  },
  {
   "cell_type": "markdown",
   "id": "convertible-vulnerability",
   "metadata": {},
   "source": [
    "**Standart Hata (Standart Error)**\n",
    "\n",
    "Katsayıları($\\hat \\beta_0$ ve $\\hat \\beta_1$) hesaplarken yaptığınız hatalara SE (standart error) denir."
   ]
  },
  {
   "cell_type": "markdown",
   "id": "rotary-drama",
   "metadata": {},
   "source": [
    "İşte bu SE'nin büyüklüğü sizin istedeğiniz Confidence Interval'e göre belirlenir."
   ]
  },
  {
   "cell_type": "markdown",
   "id": "tough-fashion",
   "metadata": {},
   "source": [
    "Yüksek bir Confidence Interval, düşük SE demektir."
   ]
  },
  {
   "cell_type": "markdown",
   "id": "arctic-pitch",
   "metadata": {},
   "source": [
    "**%95 Confidence Interval**\n",
    "\n",
    "$$ \\hat \\beta_1 \\pm 2*SE(\\hat \\beta_1) $$\n",
    "\n",
    "$$ [\\hat \\beta_1 - 2 * SE(\\hat \\beta_1) , \\hat \\beta_1 + 2 * SE(\\hat \\beta_1)] $$"
   ]
  },
  {
   "cell_type": "markdown",
   "id": "2085772c",
   "metadata": {},
   "source": [
    "<img src=\"images/SE.png\"/>"
   ]
  },
  {
   "cell_type": "markdown",
   "id": "determined-property",
   "metadata": {},
   "source": [
    "**Hipotez Testi**\n",
    "\n",
    "Standart Hata üzerinden hipotez üreterek bu hipotezi test ederiz."
   ]
  },
  {
   "cell_type": "markdown",
   "id": "unsigned-perfume",
   "metadata": {},
   "source": [
    "En çok kullanılan hipotez testi **null hypothesis** olarak geçer."
   ]
  },
  {
   "cell_type": "markdown",
   "id": "false-feedback",
   "metadata": {},
   "source": [
    "**Null Hypothesis**\n",
    "\n",
    "$H_0$ : X ile Y arasında bir ilişki yoktur\n",
    "\n",
    "$H_1$ : X ile Y arasında bir ilişki vardır"
   ]
  },
  {
   "cell_type": "markdown",
   "id": "complimentary-landing",
   "metadata": {},
   "source": [
    "**Matematiksel olarak Null Hypothesis**\n",
    "\n",
    "$H_0$ : $\\beta_1 = 0$\n",
    "\n",
    "$H_1$ : $\\beta_1 \\ne 0$"
   ]
  },
  {
   "cell_type": "markdown",
   "id": "fuzzy-anchor",
   "metadata": {},
   "source": [
    "$\\beta_1 = 0$ ise X'in katsayısı 0 demektir.\n",
    "\n",
    "Yani **y** sonucu **X** bağlı değildir."
   ]
  },
  {
   "cell_type": "markdown",
   "id": "durable-japanese",
   "metadata": {},
   "source": [
    "Çizerek gösterelim...."
   ]
  },
  {
   "cell_type": "markdown",
   "id": "fff5cefe",
   "metadata": {},
   "source": [
    "<img src=\"images/hipotez.png\"/>"
   ]
  },
  {
   "cell_type": "markdown",
   "id": "infectious-physiology",
   "metadata": {},
   "source": [
    "**`t` İstatistiği:**\n",
    "\n",
    "Null Hipotezini test etmek içi **t-statistic** kullanılır."
   ]
  },
  {
   "cell_type": "markdown",
   "id": "preceding-insulin",
   "metadata": {},
   "source": [
    "$$ t = \\frac{\\hat \\beta_1 - 0}{SE(\\hat \\beta_1)} $$"
   ]
  },
  {
   "cell_type": "markdown",
   "id": "apart-ideal",
   "metadata": {},
   "source": [
    "Bu t değişkeni **t dağılımı** adlı bir rassal değişken oluşturur.\n",
    "\n",
    "(n - 2 degree of freedom ile)"
   ]
  },
  {
   "cell_type": "markdown",
   "id": "played-optics",
   "metadata": {},
   "source": [
    "**p-value**\n",
    "\n",
    "* Asıl amacımız t-istatistiğini kullanarak **p** değerini hesaplamak (p'yi veri seti içerisindeki sütunlar ile karıştırmayın)\n",
    "* p-value, bize $H_0$ hipotezinin mi yoksa $H_1$ hipotezinin mi doğru olduğunu söyleyecek.\n"
   ]
  },
  {
   "cell_type": "markdown",
   "id": "martial-heaven",
   "metadata": {},
   "source": [
    "<img src=\"images/p_value.jpg\"/>"
   ]
  },
  {
   "cell_type": "markdown",
   "id": "passive-adaptation",
   "metadata": {},
   "source": [
    "**Hangi değişkenin önemli olduğuna p-değeri ile karar veririz.**"
   ]
  },
  {
   "cell_type": "markdown",
   "id": "designed-binary",
   "metadata": {},
   "source": [
    "**p-değeri**, Null Hypothesis'in ($H_0$) önemini gösterir.\n",
    "\n",
    "**%95** Confidence Interval (0.05) için;\n",
    "\n",
    "$p < 0.05$ -> **$H_0$'ı REDDET**. (Reject $H_0$)\n",
    " \n",
    "* p değeri küçük olduğu için $H_0$ doğru olamaz. -> Reddet\n",
    "* $H_0$ reddettiğimiz için X ile y arasında bir ilişki vardır.\n",
    "\n",
    "\n",
    "$p > 0.05$ -> **$H_0$'ı KABUL ET**. (Fail to Reject $H_0$)\n",
    "\n",
    "* p değeri büyük olduğu için $H_0$ doğrudur. -> Kabul et\n",
    "* $H_0$ kabul ettiğimiz için X ile y arasında bir ilişki yoktur.\n"
   ]
  },
  {
   "cell_type": "markdown",
   "id": "introductory-probe",
   "metadata": {},
   "source": [
    "**Kıssadan Hisse:**\n",
    "\n",
    "p-değeri 0.05'ten büyük olan değişkenlerin bir önemi yoktur.\n",
    "\n",
    "Bunları atabiliriz."
   ]
  }
 ],
 "metadata": {
  "kernelspec": {
   "display_name": "Python 3 (ipykernel)",
   "language": "python",
   "name": "python3"
  },
  "language_info": {
   "codemirror_mode": {
    "name": "ipython",
    "version": 3
   },
   "file_extension": ".py",
   "mimetype": "text/x-python",
   "name": "python",
   "nbconvert_exporter": "python",
   "pygments_lexer": "ipython3",
   "version": "3.10.2"
  }
 },
 "nbformat": 4,
 "nbformat_minor": 5
}
