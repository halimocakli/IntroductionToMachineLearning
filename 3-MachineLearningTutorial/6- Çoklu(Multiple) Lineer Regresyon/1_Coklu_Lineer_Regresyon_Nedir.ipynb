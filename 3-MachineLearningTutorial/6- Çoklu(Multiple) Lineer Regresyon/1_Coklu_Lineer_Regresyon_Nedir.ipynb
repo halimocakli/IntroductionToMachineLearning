{
 "cells": [
  {
   "cell_type": "markdown",
   "id": "foreign-edinburgh",
   "metadata": {},
   "source": [
    "## Çoklu (Multiple) Lineer Regresyon Nedir?"
   ]
  },
  {
   "cell_type": "markdown",
   "id": "promising-upset",
   "metadata": {},
   "source": [
    "Basit Lineer Regresyon Hatırlatma:\n",
    "\n",
    "$$ y = \\beta_0 + \\beta_1X + \\epsilon $$"
   ]
  },
  {
   "cell_type": "markdown",
   "id": "worse-index",
   "metadata": {},
   "source": [
    "Sonuç değişkeninin (y) tek bir girdiye değil, birden çok girdiye bağlı olduğu durumlara Çoklu Lineer Regresyon denir.\n",
    "\n",
    "**p > 1**"
   ]
  },
  {
   "cell_type": "markdown",
   "id": "small-miller",
   "metadata": {},
   "source": [
    "$$ y = \\beta_0 + \\beta_1X_1 + \\beta_2X_2 + ... + \\beta_pX_p + \\epsilon $$"
   ]
  },
  {
   "cell_type": "markdown",
   "id": "b6a721f1",
   "metadata": {},
   "source": [
    "Advertising.csv dosyası içerisindeki verilerimizi hatırlayalım. Üç adet feature vardı ve bununla birlikte bir adet çıktı vardı. Bu durumda p = 3 olur. Yine birinci dereceden bir fonksiyondur ancak bileşenleri artmıştır."
   ]
  },
  {
   "cell_type": "markdown",
   "id": "respective-humanity",
   "metadata": {},
   "source": [
    "$$ y = \\beta_0 + \\beta_1*TV + \\beta_2*Radio + ... + \\beta_3*Newspaper $$"
   ]
  },
  {
   "cell_type": "markdown",
   "id": "continuing-transformation",
   "metadata": {},
   "source": [
    "Bu katsayı tahminleri yine RSS (OLS) denir."
   ]
  },
  {
   "cell_type": "markdown",
   "id": "85e8540a",
   "metadata": {},
   "source": [
    "<img src=\"images/coklu_lineer_regresyon_nedir.png\"/>"
   ]
  }
 ],
 "metadata": {
  "kernelspec": {
   "display_name": "Python 3 (ipykernel)",
   "language": "python",
   "name": "python3"
  },
  "language_info": {
   "codemirror_mode": {
    "name": "ipython",
    "version": 3
   },
   "file_extension": ".py",
   "mimetype": "text/x-python",
   "name": "python",
   "nbconvert_exporter": "python",
   "pygments_lexer": "ipython3",
   "version": "3.10.2"
  }
 },
 "nbformat": 4,
 "nbformat_minor": 5
}
