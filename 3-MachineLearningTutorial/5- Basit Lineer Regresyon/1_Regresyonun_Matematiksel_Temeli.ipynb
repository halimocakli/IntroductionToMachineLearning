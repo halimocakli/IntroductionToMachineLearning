{
 "cells": [
  {
   "cell_type": "markdown",
   "id": "fundamental-phoenix",
   "metadata": {},
   "source": [
    "## Basit Lineer Regresyon"
   ]
  },
  {
   "cell_type": "markdown",
   "id": "blocked-protest",
   "metadata": {},
   "source": [
    "Lineer Regresyon adı üzerinde, X ve y arasında lineer (doğrusal) bir ilişki olduğunu kabul eden, en eski alogritmalardan biridir."
   ]
  },
  {
   "cell_type": "markdown",
   "id": "knowing-understanding",
   "metadata": {},
   "source": [
    "Gerçek ilişki:\n",
    "\n",
    "$$ y = \\beta_0 + \\beta_1X + \\epsilon $$"
   ]
  },
  {
   "cell_type": "markdown",
   "id": "assisted-value",
   "metadata": {},
   "source": [
    "Tahmin (herhangi bir x_i değerinde):\n",
    "\n",
    "$$ \\hat y_i = \\hat \\beta_0 + \\hat \\beta_1x_i $$"
   ]
  },
  {
   "cell_type": "markdown",
   "id": "ceramic-friday",
   "metadata": {},
   "source": [
    "Burada X'ler yani girdiler bilindiğine göre, tahmin etmeye çalıştığımız değişkenler $\\beta_0$ ve $\\beta_1$ dir."
   ]
  },
  {
   "cell_type": "markdown",
   "id": "electoral-press",
   "metadata": {},
   "source": [
    "Tahmini **Least Squares** yöntemi ile yaparız.\n",
    "\n",
    "`Ordinary Least Squares (OLS)`\n",
    "\n",
    "Yani yine toplam hata karelerini hesaplayarak."
   ]
  },
  {
   "cell_type": "markdown",
   "id": "soviet-master",
   "metadata": {},
   "source": [
    "Herhangi bir i noktasındaki hata:\n",
    "\n",
    "**e: residual error(artık hata)**\n",
    "\n",
    "$$ y = \\beta_0 + \\beta_1 + \\varepsilon$$\n",
    "\n",
    "$$\\hat y_i = \\hat \\beta_0 + \\hat \\beta_1x_i$$\n",
    "\n",
    "$$ e_i = y_i - \\hat y_i $$"
   ]
  },
  {
   "cell_type": "markdown",
   "id": "seeing-shannon",
   "metadata": {},
   "source": [
    "**RSS: Residual Sum of Squares**\n",
    "\n",
    "* RSS : $\\beta_0$ ve $\\beta_1$ değerlerine bağlı bir fonksiyondur.\n",
    "\n",
    "$$RSS = e_1^2 + e_2^2 + ... + e_n^2$$"
   ]
  },
  {
   "cell_type": "markdown",
   "id": "ethical-structure",
   "metadata": {},
   "source": [
    "$$RSS = (y_1 - \\hat y_1)^2 + (y_2 - \\hat y_2)^2  + ... + (y_n - \\hat y_n)^2$$"
   ]
  },
  {
   "cell_type": "markdown",
   "id": "latin-webmaster",
   "metadata": {},
   "source": [
    "$$RSS = (y_1 - \\hat \\beta_0 - \\hat \\beta_1x_1)^2 + (y_2 - \\hat \\beta_0 - \\hat \\beta_1x_2)^2 + ... + (y_n - \\hat \\beta_0 - \\hat \\beta_1x_n)^2$$"
   ]
  },
  {
   "cell_type": "markdown",
   "id": "classical-proportion",
   "metadata": {},
   "source": [
    "Least Squares yöntemi, RSS minimize ederek, en iyi $\\beta_0$ ve $\\beta_1$ değerlerini tahmin eder."
   ]
  },
  {
   "cell_type": "markdown",
   "id": "incoming-flash",
   "metadata": {},
   "source": [
    "$$ \\hat \\beta_1 = \\frac{\\sum_{i=1}^n (x_i - \\overline x)(y_i - \\overline y)}{\\sum_{i=1}^n (x_i - \\overline x)^2} $$\n",
    "\n",
    "$$ \\hat \\beta_0 = \\overline y - \\hat \\beta_1 \\overline x $$\n",
    "\n",
    "burada:\n",
    "\n",
    "$$ \\overline y = \\frac{1}{n} \\sum_{i=1}^n y_i $$\n",
    "\n",
    "$$ \\overline x = \\frac{1}{n} \\sum_{i=1}^n x_i $$"
   ]
  },
  {
   "cell_type": "markdown",
   "id": "c42d4afa",
   "metadata": {},
   "source": [
    "<img src=\"images/RSS.png\"/>"
   ]
  },
  {
   "cell_type": "markdown",
   "id": "tight-crest",
   "metadata": {},
   "source": [
    "### Modelin Doğruluğunu Ölçmek"
   ]
  },
  {
   "cell_type": "markdown",
   "id": "rotary-playing",
   "metadata": {},
   "source": [
    "**TSS: Total Sum of Squares**\n",
    "\n",
    "En kötü tahmin (düz çizgi) -> $\\overline y$ (Bütün $y$ değerlerinin ortalaması)\n",
    "\n",
    "Toplam Hata Kareleri: en kötü tahminin hatası\n",
    "\n",
    "$$TSS = \\sum_{i=1}^n (y_i - \\overline y)^2$$"
   ]
  },
  {
   "cell_type": "markdown",
   "id": "federal-artwork",
   "metadata": {},
   "source": [
    "$R^2$:\n",
    "\n",
    "Tahmin katsayılarımızın ne kadar doğru sonuç verdiğini, yani çizdiğimiz regresyon doğrusunun gerçek dataya ne kadar iyi uyduğunu $R^2$ ile ölçeriz."
   ]
  },
  {
   "cell_type": "markdown",
   "id": "ancient-oxygen",
   "metadata": {},
   "source": [
    "$$ R^2 = \\frac{TSS - RSS}{TSS} = 1 - \\frac{RSS}{TSS} $$"
   ]
  },
  {
   "cell_type": "markdown",
   "id": "stupid-virginia",
   "metadata": {},
   "source": [
    "Yani $R^2$ size verideki değişimi ne kadar karşıladığınızı söyler."
   ]
  },
  {
   "cell_type": "markdown",
   "id": "furnished-candy",
   "metadata": {},
   "source": [
    "$R^2$ ne kadar büyükse (1'e ne kadar yakınsa) tahmininiz o kadar başarılı demektir."
   ]
  },
  {
   "cell_type": "markdown",
   "id": "front-virus",
   "metadata": {},
   "source": [
    "$R^2$ ye `coefficient of determination` denir"
   ]
  },
  {
   "cell_type": "markdown",
   "id": "84997a51",
   "metadata": {},
   "source": [
    "<img src=\"images/ModelDogrulugu.png\"/>"
   ]
  }
 ],
 "metadata": {
  "kernelspec": {
   "display_name": "Python 3 (ipykernel)",
   "language": "python",
   "name": "python3"
  },
  "language_info": {
   "codemirror_mode": {
    "name": "ipython",
    "version": 3
   },
   "file_extension": ".py",
   "mimetype": "text/x-python",
   "name": "python",
   "nbconvert_exporter": "python",
   "pygments_lexer": "ipython3",
   "version": "3.10.2"
  }
 },
 "nbformat": 4,
 "nbformat_minor": 5
}
