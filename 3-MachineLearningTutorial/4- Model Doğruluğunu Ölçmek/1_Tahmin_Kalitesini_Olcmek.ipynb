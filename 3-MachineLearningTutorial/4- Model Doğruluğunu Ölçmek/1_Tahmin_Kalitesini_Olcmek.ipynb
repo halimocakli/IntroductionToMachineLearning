{
 "cells": [
  {
   "cell_type": "markdown",
   "id": "e06e56ea",
   "metadata": {},
   "source": [
    "## Tahmin Kalitesini Ölçmek\n",
    "\n",
    "Kursumuz boyunca birçok Makine Öğrenmesi yöntemi göreceğiz. Basit Lineer Regresyon'un çok ötesinde, birbirinden farklı algoritmalar öğreneceğiz. Peki neden tek bir en iyi yöntemi gösterip herşeyi çözmüyoruz? Neden bu kadar farklı algoritma görüyoruz? Aklınıza bu gibi soruların gelmesi oldukça normal. Cevap ise `No Free Lunch :)` bedava yemek yok.  Her veri setine uyan tek bir model ya da tek bir yöntem mevcut değil. Her verinin, her alanın kendine has yöntemleri var.\n",
    "\n",
    "Bu eğitimin temel amaçlarından biri de hangi durumda hangi algoritmanın kullanılacağını karar verebilecek seviyede bir donanım elde etmenizi sağlamak. Adım adım algoritmaları görerek, aralarında farkları, zayıf ve güçlü yanlarını öğreneceğiz.\n",
    "\n",
    "### Tahmin Kalitesi Nasıl Ölçülür?\n",
    "\n",
    "Modelimizin kalitesini ölçmek için bir ölçme metoduna ihtiyacımız var.\n",
    "\n",
    "Bu ölçme, tahmin edilen değerin, gerçek değere ne kadar yakınsadığını söylemeli bize.\n",
    "\n",
    "Regresyonda en sık kullanılan yöntem:\n",
    "\n",
    "**Mean Square Error (MSE)**\n",
    "\n",
    "Ortalama Kare Hata -> Hataların Karelerinin Ortalaması (Yaptığımız bütün hataların kereleri toplamının ortalaması)\n",
    "\n",
    "Hata: Gerçek ile Tahmin arasındaki fark.\n",
    "\n",
    "Gerçek: $y_i$\n",
    "\n",
    "Tahmin: $\\hat{y_i}$\n",
    "\n",
    "Hata: $y_i - \\hat{y_i}$\n",
    "\n",
    "$$ MSE = Ortalama[y_i - \\hat{y_i}]^2 $$\n",
    "\n",
    "$$ MSE = \\frac{1}{n} \\sum_{i=1}^{n}(y_i - \\hat{y_i})^2 $$\n",
    "\n",
    "Tahmin değeleri ($\\hat{y_i}$) gerçek değerlere ($y_i$) ne kadar yakınsa, MSE o kadar küçük olacaktır.\n",
    "\n",
    "**Hatırlatma:** Machine Learning'de verimizi önce Train-Test şeklinde ayırırız.\n",
    "\n",
    "`Train-Test Split`\n",
    "\n",
    "Bütün öğrenme işlemlerini Training Data üzerinde yaparız.\n",
    "\n",
    "Test dataya hiç ama hiç bakmayız öğrenirken.\n",
    "\n",
    "<img src='images/train_test_split.jpg' />\n",
    "\n",
    "Hesapladığımız MSE aslında Training Data üzerinde hesaplandı.\n",
    "\n",
    "Dolayısı ile Training MSE demek daha doğru.\n",
    "\n",
    "Fakat asıl amacımız Training MSE'yi minimize etmek değildir.\n",
    "\n",
    "Asıl amaç Test datası üzerinde MSE'yi minimize etmektir.\n",
    "\n",
    "Çünkü asıl tahmin işlemi Test datası üzerinde yapılan tahmindir. Bulmak istediğimiz şey odur.\n",
    "\n",
    "İşte burada ML'in ana sorunlarından biri çıkıyor karşımıza:\n",
    "\n",
    "Öğrenme işini Training Data üzerinden yaparız.\n",
    "\n",
    "Yani MSE'yi training data üzerinden minimize edecek katsayılar buluruz.\n",
    "\n",
    "Fakat Training Data ile Test Data'nın benzer olduğuna dair bir kanıt yoktur elimizde.\n",
    "\n",
    "Yani Train Data üzerinde minimum olan ve iyi sonuç veren MSE parametreleri ($\\beta$) Test Data üzerinde de iyi sonuç verecek diye bir garanti yoktur.\n",
    "\n",
    "$$ MSE_{Tr} = Ortalama_{Tr}[y_i - \\hat{y_i}]^2 $$\n",
    "\n",
    "$$ MSE_{Te} = Ortalama_{Te}[y_i - \\hat{y_i}]^2 $$\n",
    "\n"
   ]
  },
  {
   "cell_type": "markdown",
   "id": "84a63603",
   "metadata": {},
   "source": [
    "<img src='images/MSE.png' />"
   ]
  },
  {
   "cell_type": "markdown",
   "id": "eaaa2651",
   "metadata": {},
   "source": [
    "* Tahmin etmeye çalıştığımız gerçek fonksiyon hiçbir zaman verimizin üzerine oturmaz çünkü ne olursa olsun kaçınılmaz bir hata payı vardır. Dolayısıyla MSE hiçbir zaman 0 olmaz.\n",
    "* Degree of Freedom : Fonksiyonun derecesi [Lineer doğru için 2'dir]\n",
    "* Esneklik, Degree of Freedom ile ölçülür.\n",
    "* Training Data için hesaplanan MSE, esneklik yani fonksiyonun derecesi arttıkça küçülür. Yanş fonksiyon veri üzerine neredeyse tamamen oturmaya başlar ancak Test Data için MSE hesaplandığında bu durumun gerçek olmadığı gözlemlenir. Çünkü Traning Data için oluşturulan model esnekleştikçe aslında veriyi ezberler ve overfitting durumu ortaya çıkar. Yani, gerçek hayatta işler aynı şekilde yürümez."
   ]
  }
 ],
 "metadata": {
  "kernelspec": {
   "display_name": "Python 3 (ipykernel)",
   "language": "python",
   "name": "python3"
  },
  "language_info": {
   "codemirror_mode": {
    "name": "ipython",
    "version": 3
   },
   "file_extension": ".py",
   "mimetype": "text/x-python",
   "name": "python",
   "nbconvert_exporter": "python",
   "pygments_lexer": "ipython3",
   "version": "3.10.2"
  }
 },
 "nbformat": 4,
 "nbformat_minor": 5
}
