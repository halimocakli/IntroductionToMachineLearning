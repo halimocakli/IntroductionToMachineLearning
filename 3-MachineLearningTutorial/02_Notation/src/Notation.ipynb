{
 "cells": [
  {
   "cell_type": "markdown",
   "source": [
    "## Notasyon - Yazım Kuralları"
   ],
   "metadata": {
    "collapsed": false
   }
  },
  {
   "cell_type": "markdown",
   "source": [
    "Kursumuz boyunca kullanacağımız temel notasyon şu şekilde olacaktır:"
   ],
   "metadata": {
    "collapsed": false
   }
  },
  {
   "cell_type": "markdown",
   "source": [
    "***\n",
    "# **$n$**\n",
    "\n",
    "$n$ değişkeni, üzerinde çalıştığımız veri setinin her bir gözlem değerini ifade eder. `Satır Sayısı`'na tekabül eder. Örneğin, *maaş* verilerini tutan Wage.csv'deki her bir satır, bir kişiye/gözleme ait maaş verisini tutmaktadır. Dolayısıyla toplam satır sayısına **n** diyoruz."
   ],
   "metadata": {
    "collapsed": false
   }
  },
  {
   "cell_type": "markdown",
   "source": [
    "***\n",
    "# **$p$**\n",
    "\n",
    "Değişken sayısını, veri içindeki her bir kriteri yani `Sütun Sayısı`'nı ifade eder. Sütunlar, *feature* ya da *öznitelik* olarak da ifade edilebilir. Kısacası **p**, her bir özniteliği ifade eder. Örneğin, maaş verilerindeki sütunlar: year, age, sex, maritl, rage, education..."
   ],
   "metadata": {
    "collapsed": false
   }
  },
  {
   "cell_type": "markdown",
   "source": [
    "***\n",
    "#  **$x_{ij}$**\n",
    "\n",
    "i'inci satır, j'inci sütundaki değeri ifade eder. Yani, i'inci gözlem değeri için j'inci özniteliği belirtir.\n",
    "\n",
    "*i = 1, 2, 3, ..., n*\n",
    "\n",
    "*j = 1, 2, 3, ..., p*"
   ],
   "metadata": {
    "collapsed": false
   }
  },
  {
   "cell_type": "markdown",
   "source": [
    "***\n",
    "# **$X$**\n",
    "\n",
    "Tüm verileri tutan girdi (input) matrisini belirtir.\n",
    "\n",
    "**n satır, p sütun** -> $n * p$"
   ],
   "metadata": {
    "collapsed": false
   }
  },
  {
   "cell_type": "markdown",
   "source": [
    "$$\n",
    "X = \\begin{bmatrix}\n",
    "x_{11} & x_{12} &...& x_{1p}\\\\\n",
    "x_{21} & x_{12} &...& x_{1p}\\\\\n",
    ".&.&.&.\\\\\n",
    "x_{n1} & x_{n2} &...& x_{np}\n",
    "\\end{bmatrix}\n",
    "$$"
   ],
   "metadata": {
    "collapsed": false
   }
  },
  {
   "cell_type": "markdown",
   "source": [
    "Her bir satır bir gözlem olduğu için -> $x_i$"
   ],
   "metadata": {
    "collapsed": false
   }
  },
  {
   "cell_type": "markdown",
   "source": [
    "$$x_i = \\begin{bmatrix}\n",
    "x_{i1} & x_{i2} &...& x_{ip}\n",
    "\\end{bmatrix}$$"
   ],
   "metadata": {
    "collapsed": false
   }
  },
  {
   "cell_type": "markdown",
   "source": [
    "Her bir sütun bir değişken olduğu için -> $x_j$"
   ],
   "metadata": {
    "collapsed": false
   }
  },
  {
   "cell_type": "markdown",
   "source": [
    "$$x_j = \\begin{bmatrix}\n",
    "x_{1j}\\\\\n",
    "x_{2j}\\\\\n",
    "...\\\\\n",
    "x_{nj}\n",
    "\\end{bmatrix}$$"
   ],
   "metadata": {
    "collapsed": false
   }
  },
  {
   "cell_type": "markdown",
   "source": [
    "***\n",
    "# **$y$**\n",
    "\n",
    "Herbir gözlem (veri satırı) değerinin sonucu yani hedef değişkeni ifade eder. Hedef değişken, *Label* olarak da geçer. Kısacası her bir satır için özniteliklere bağlı olarak elde edilen tahmin değerini gösterir.\n",
    "\n",
    "n satır -> **$n * 1$**"
   ],
   "metadata": {
    "collapsed": false
   }
  },
  {
   "cell_type": "markdown",
   "source": [
    "$$y = \\begin{bmatrix}\n",
    "y_{1}\\\\\n",
    "y_{2}\\\\\n",
    "...\\\\\n",
    "y_{n}\n",
    "\\end{bmatrix}$$"
   ],
   "metadata": {
    "collapsed": false
   }
  },
  {
   "cell_type": "markdown",
   "source": [
    "Verimiz aslında şu şekildedir:\n",
    "$$\\{(x1, y1), (x2, y2), (x3, y3), ..., (xn, yn)\\}$$"
   ],
   "metadata": {
    "collapsed": false
   }
  },
  {
   "cell_type": "markdown",
   "source": [
    "Yani her bir satır için bir label değeri şeklinde ikililer -> $(gözlem, label)$"
   ],
   "metadata": {
    "collapsed": false
   }
  },
  {
   "cell_type": "markdown",
   "source": [
    "---"
   ],
   "metadata": {
    "collapsed": false
   }
  },
  {
   "cell_type": "markdown",
   "source": [
    "### **Örnek**\n",
    "\n",
    "Wage.csv veri setini inceleyelim. Ardından, **X, y** olacak şekilde Input, Output değişkenlerimizi tanımlayalım:"
   ],
   "metadata": {
    "collapsed": false
   }
  },
  {
   "cell_type": "code",
   "execution_count": 1,
   "outputs": [],
   "source": [
    "import pandas as pd"
   ],
   "metadata": {
    "collapsed": false
   }
  },
  {
   "cell_type": "code",
   "execution_count": 2,
   "outputs": [],
   "source": [
    "df = pd.read_csv('../dataset/Wage.csv', index_col=0)"
   ],
   "metadata": {
    "collapsed": false
   }
  },
  {
   "cell_type": "code",
   "execution_count": 3,
   "outputs": [
    {
     "data": {
      "text/plain": "        year  age      sex            maritl      race        education  \\\n231655  2006   18  1. Male  1. Never Married  1. White     1. < HS Grad   \n86582   2004   24  1. Male  1. Never Married  1. White  4. College Grad   \n161300  2003   45  1. Male        2. Married  1. White  3. Some College   \n155159  2003   43  1. Male        2. Married  3. Asian  4. College Grad   \n11443   2005   50  1. Male       4. Divorced  1. White       2. HS Grad   \n...      ...  ...      ...               ...       ...              ...   \n376816  2008   44  1. Male        2. Married  1. White  3. Some College   \n302281  2007   30  1. Male        2. Married  1. White       2. HS Grad   \n10033   2005   27  1. Male        2. Married  2. Black     1. < HS Grad   \n14375   2005   27  1. Male  1. Never Married  1. White  3. Some College   \n453557  2009   55  1. Male      5. Separated  1. White       2. HS Grad   \n\n                    region        jobclass          health health_ins  \\\n231655  2. Middle Atlantic   1. Industrial       1. <=Good      2. No   \n86582   2. Middle Atlantic  2. Information  2. >=Very Good      2. No   \n161300  2. Middle Atlantic   1. Industrial       1. <=Good     1. Yes   \n155159  2. Middle Atlantic  2. Information  2. >=Very Good     1. Yes   \n11443   2. Middle Atlantic  2. Information       1. <=Good     1. Yes   \n...                    ...             ...             ...        ...   \n376816  2. Middle Atlantic   1. Industrial  2. >=Very Good     1. Yes   \n302281  2. Middle Atlantic   1. Industrial  2. >=Very Good      2. No   \n10033   2. Middle Atlantic   1. Industrial       1. <=Good      2. No   \n14375   2. Middle Atlantic   1. Industrial  2. >=Very Good     1. Yes   \n453557  2. Middle Atlantic   1. Industrial       1. <=Good     1. Yes   \n\n         logwage        wage  \n231655  4.318063   75.043154  \n86582   4.255273   70.476020  \n161300  4.875061  130.982177  \n155159  5.041393  154.685293  \n11443   4.318063   75.043154  \n...          ...         ...  \n376816  5.041393  154.685293  \n302281  4.602060   99.689464  \n10033   4.193125   66.229408  \n14375   4.477121   87.981033  \n453557  4.505150   90.481913  \n\n[3000 rows x 12 columns]",
      "text/html": "<div>\n<style scoped>\n    .dataframe tbody tr th:only-of-type {\n        vertical-align: middle;\n    }\n\n    .dataframe tbody tr th {\n        vertical-align: top;\n    }\n\n    .dataframe thead th {\n        text-align: right;\n    }\n</style>\n<table border=\"1\" class=\"dataframe\">\n  <thead>\n    <tr style=\"text-align: right;\">\n      <th></th>\n      <th>year</th>\n      <th>age</th>\n      <th>sex</th>\n      <th>maritl</th>\n      <th>race</th>\n      <th>education</th>\n      <th>region</th>\n      <th>jobclass</th>\n      <th>health</th>\n      <th>health_ins</th>\n      <th>logwage</th>\n      <th>wage</th>\n    </tr>\n  </thead>\n  <tbody>\n    <tr>\n      <th>231655</th>\n      <td>2006</td>\n      <td>18</td>\n      <td>1. Male</td>\n      <td>1. Never Married</td>\n      <td>1. White</td>\n      <td>1. &lt; HS Grad</td>\n      <td>2. Middle Atlantic</td>\n      <td>1. Industrial</td>\n      <td>1. &lt;=Good</td>\n      <td>2. No</td>\n      <td>4.318063</td>\n      <td>75.043154</td>\n    </tr>\n    <tr>\n      <th>86582</th>\n      <td>2004</td>\n      <td>24</td>\n      <td>1. Male</td>\n      <td>1. Never Married</td>\n      <td>1. White</td>\n      <td>4. College Grad</td>\n      <td>2. Middle Atlantic</td>\n      <td>2. Information</td>\n      <td>2. &gt;=Very Good</td>\n      <td>2. No</td>\n      <td>4.255273</td>\n      <td>70.476020</td>\n    </tr>\n    <tr>\n      <th>161300</th>\n      <td>2003</td>\n      <td>45</td>\n      <td>1. Male</td>\n      <td>2. Married</td>\n      <td>1. White</td>\n      <td>3. Some College</td>\n      <td>2. Middle Atlantic</td>\n      <td>1. Industrial</td>\n      <td>1. &lt;=Good</td>\n      <td>1. Yes</td>\n      <td>4.875061</td>\n      <td>130.982177</td>\n    </tr>\n    <tr>\n      <th>155159</th>\n      <td>2003</td>\n      <td>43</td>\n      <td>1. Male</td>\n      <td>2. Married</td>\n      <td>3. Asian</td>\n      <td>4. College Grad</td>\n      <td>2. Middle Atlantic</td>\n      <td>2. Information</td>\n      <td>2. &gt;=Very Good</td>\n      <td>1. Yes</td>\n      <td>5.041393</td>\n      <td>154.685293</td>\n    </tr>\n    <tr>\n      <th>11443</th>\n      <td>2005</td>\n      <td>50</td>\n      <td>1. Male</td>\n      <td>4. Divorced</td>\n      <td>1. White</td>\n      <td>2. HS Grad</td>\n      <td>2. Middle Atlantic</td>\n      <td>2. Information</td>\n      <td>1. &lt;=Good</td>\n      <td>1. Yes</td>\n      <td>4.318063</td>\n      <td>75.043154</td>\n    </tr>\n    <tr>\n      <th>...</th>\n      <td>...</td>\n      <td>...</td>\n      <td>...</td>\n      <td>...</td>\n      <td>...</td>\n      <td>...</td>\n      <td>...</td>\n      <td>...</td>\n      <td>...</td>\n      <td>...</td>\n      <td>...</td>\n      <td>...</td>\n    </tr>\n    <tr>\n      <th>376816</th>\n      <td>2008</td>\n      <td>44</td>\n      <td>1. Male</td>\n      <td>2. Married</td>\n      <td>1. White</td>\n      <td>3. Some College</td>\n      <td>2. Middle Atlantic</td>\n      <td>1. Industrial</td>\n      <td>2. &gt;=Very Good</td>\n      <td>1. Yes</td>\n      <td>5.041393</td>\n      <td>154.685293</td>\n    </tr>\n    <tr>\n      <th>302281</th>\n      <td>2007</td>\n      <td>30</td>\n      <td>1. Male</td>\n      <td>2. Married</td>\n      <td>1. White</td>\n      <td>2. HS Grad</td>\n      <td>2. Middle Atlantic</td>\n      <td>1. Industrial</td>\n      <td>2. &gt;=Very Good</td>\n      <td>2. No</td>\n      <td>4.602060</td>\n      <td>99.689464</td>\n    </tr>\n    <tr>\n      <th>10033</th>\n      <td>2005</td>\n      <td>27</td>\n      <td>1. Male</td>\n      <td>2. Married</td>\n      <td>2. Black</td>\n      <td>1. &lt; HS Grad</td>\n      <td>2. Middle Atlantic</td>\n      <td>1. Industrial</td>\n      <td>1. &lt;=Good</td>\n      <td>2. No</td>\n      <td>4.193125</td>\n      <td>66.229408</td>\n    </tr>\n    <tr>\n      <th>14375</th>\n      <td>2005</td>\n      <td>27</td>\n      <td>1. Male</td>\n      <td>1. Never Married</td>\n      <td>1. White</td>\n      <td>3. Some College</td>\n      <td>2. Middle Atlantic</td>\n      <td>1. Industrial</td>\n      <td>2. &gt;=Very Good</td>\n      <td>1. Yes</td>\n      <td>4.477121</td>\n      <td>87.981033</td>\n    </tr>\n    <tr>\n      <th>453557</th>\n      <td>2009</td>\n      <td>55</td>\n      <td>1. Male</td>\n      <td>5. Separated</td>\n      <td>1. White</td>\n      <td>2. HS Grad</td>\n      <td>2. Middle Atlantic</td>\n      <td>1. Industrial</td>\n      <td>1. &lt;=Good</td>\n      <td>1. Yes</td>\n      <td>4.505150</td>\n      <td>90.481913</td>\n    </tr>\n  </tbody>\n</table>\n<p>3000 rows × 12 columns</p>\n</div>"
     },
     "execution_count": 3,
     "metadata": {},
     "output_type": "execute_result"
    }
   ],
   "source": [
    "df"
   ],
   "metadata": {
    "collapsed": false
   }
  },
  {
   "cell_type": "code",
   "execution_count": 4,
   "outputs": [
    {
     "data": {
      "text/plain": "              year          age      logwage         wage\ncount  3000.000000  3000.000000  3000.000000  3000.000000\nmean   2005.791000    42.414667     4.653905   111.703608\nstd       2.026167    11.542406     0.351753    41.728595\nmin    2003.000000    18.000000     3.000000    20.085537\n25%    2004.000000    33.750000     4.447158    85.383940\n50%    2006.000000    42.000000     4.653213   104.921507\n75%    2008.000000    51.000000     4.857332   128.680488\nmax    2009.000000    80.000000     5.763128   318.342430",
      "text/html": "<div>\n<style scoped>\n    .dataframe tbody tr th:only-of-type {\n        vertical-align: middle;\n    }\n\n    .dataframe tbody tr th {\n        vertical-align: top;\n    }\n\n    .dataframe thead th {\n        text-align: right;\n    }\n</style>\n<table border=\"1\" class=\"dataframe\">\n  <thead>\n    <tr style=\"text-align: right;\">\n      <th></th>\n      <th>year</th>\n      <th>age</th>\n      <th>logwage</th>\n      <th>wage</th>\n    </tr>\n  </thead>\n  <tbody>\n    <tr>\n      <th>count</th>\n      <td>3000.000000</td>\n      <td>3000.000000</td>\n      <td>3000.000000</td>\n      <td>3000.000000</td>\n    </tr>\n    <tr>\n      <th>mean</th>\n      <td>2005.791000</td>\n      <td>42.414667</td>\n      <td>4.653905</td>\n      <td>111.703608</td>\n    </tr>\n    <tr>\n      <th>std</th>\n      <td>2.026167</td>\n      <td>11.542406</td>\n      <td>0.351753</td>\n      <td>41.728595</td>\n    </tr>\n    <tr>\n      <th>min</th>\n      <td>2003.000000</td>\n      <td>18.000000</td>\n      <td>3.000000</td>\n      <td>20.085537</td>\n    </tr>\n    <tr>\n      <th>25%</th>\n      <td>2004.000000</td>\n      <td>33.750000</td>\n      <td>4.447158</td>\n      <td>85.383940</td>\n    </tr>\n    <tr>\n      <th>50%</th>\n      <td>2006.000000</td>\n      <td>42.000000</td>\n      <td>4.653213</td>\n      <td>104.921507</td>\n    </tr>\n    <tr>\n      <th>75%</th>\n      <td>2008.000000</td>\n      <td>51.000000</td>\n      <td>4.857332</td>\n      <td>128.680488</td>\n    </tr>\n    <tr>\n      <th>max</th>\n      <td>2009.000000</td>\n      <td>80.000000</td>\n      <td>5.763128</td>\n      <td>318.342430</td>\n    </tr>\n  </tbody>\n</table>\n</div>"
     },
     "execution_count": 4,
     "metadata": {},
     "output_type": "execute_result"
    }
   ],
   "source": [
    "df.describe()"
   ],
   "metadata": {
    "collapsed": false
   }
  },
  {
   "cell_type": "markdown",
   "source": [
    "Bakınız, 3000 satır var yani 3000 adet bağımsız gözlem mevcuttur.\n",
    "\n",
    "**n = 3000**"
   ],
   "metadata": {
    "collapsed": false
   }
  },
  {
   "cell_type": "code",
   "execution_count": 5,
   "outputs": [
    {
     "data": {
      "text/plain": "        year  age      sex            maritl      race        education  \\\n231655  2006   18  1. Male  1. Never Married  1. White     1. < HS Grad   \n86582   2004   24  1. Male  1. Never Married  1. White  4. College Grad   \n161300  2003   45  1. Male        2. Married  1. White  3. Some College   \n155159  2003   43  1. Male        2. Married  3. Asian  4. College Grad   \n11443   2005   50  1. Male       4. Divorced  1. White       2. HS Grad   \n\n                    region        jobclass          health health_ins  \\\n231655  2. Middle Atlantic   1. Industrial       1. <=Good      2. No   \n86582   2. Middle Atlantic  2. Information  2. >=Very Good      2. No   \n161300  2. Middle Atlantic   1. Industrial       1. <=Good     1. Yes   \n155159  2. Middle Atlantic  2. Information  2. >=Very Good     1. Yes   \n11443   2. Middle Atlantic  2. Information       1. <=Good     1. Yes   \n\n         logwage        wage  \n231655  4.318063   75.043154  \n86582   4.255273   70.476020  \n161300  4.875061  130.982177  \n155159  5.041393  154.685293  \n11443   4.318063   75.043154  ",
      "text/html": "<div>\n<style scoped>\n    .dataframe tbody tr th:only-of-type {\n        vertical-align: middle;\n    }\n\n    .dataframe tbody tr th {\n        vertical-align: top;\n    }\n\n    .dataframe thead th {\n        text-align: right;\n    }\n</style>\n<table border=\"1\" class=\"dataframe\">\n  <thead>\n    <tr style=\"text-align: right;\">\n      <th></th>\n      <th>year</th>\n      <th>age</th>\n      <th>sex</th>\n      <th>maritl</th>\n      <th>race</th>\n      <th>education</th>\n      <th>region</th>\n      <th>jobclass</th>\n      <th>health</th>\n      <th>health_ins</th>\n      <th>logwage</th>\n      <th>wage</th>\n    </tr>\n  </thead>\n  <tbody>\n    <tr>\n      <th>231655</th>\n      <td>2006</td>\n      <td>18</td>\n      <td>1. Male</td>\n      <td>1. Never Married</td>\n      <td>1. White</td>\n      <td>1. &lt; HS Grad</td>\n      <td>2. Middle Atlantic</td>\n      <td>1. Industrial</td>\n      <td>1. &lt;=Good</td>\n      <td>2. No</td>\n      <td>4.318063</td>\n      <td>75.043154</td>\n    </tr>\n    <tr>\n      <th>86582</th>\n      <td>2004</td>\n      <td>24</td>\n      <td>1. Male</td>\n      <td>1. Never Married</td>\n      <td>1. White</td>\n      <td>4. College Grad</td>\n      <td>2. Middle Atlantic</td>\n      <td>2. Information</td>\n      <td>2. &gt;=Very Good</td>\n      <td>2. No</td>\n      <td>4.255273</td>\n      <td>70.476020</td>\n    </tr>\n    <tr>\n      <th>161300</th>\n      <td>2003</td>\n      <td>45</td>\n      <td>1. Male</td>\n      <td>2. Married</td>\n      <td>1. White</td>\n      <td>3. Some College</td>\n      <td>2. Middle Atlantic</td>\n      <td>1. Industrial</td>\n      <td>1. &lt;=Good</td>\n      <td>1. Yes</td>\n      <td>4.875061</td>\n      <td>130.982177</td>\n    </tr>\n    <tr>\n      <th>155159</th>\n      <td>2003</td>\n      <td>43</td>\n      <td>1. Male</td>\n      <td>2. Married</td>\n      <td>3. Asian</td>\n      <td>4. College Grad</td>\n      <td>2. Middle Atlantic</td>\n      <td>2. Information</td>\n      <td>2. &gt;=Very Good</td>\n      <td>1. Yes</td>\n      <td>5.041393</td>\n      <td>154.685293</td>\n    </tr>\n    <tr>\n      <th>11443</th>\n      <td>2005</td>\n      <td>50</td>\n      <td>1. Male</td>\n      <td>4. Divorced</td>\n      <td>1. White</td>\n      <td>2. HS Grad</td>\n      <td>2. Middle Atlantic</td>\n      <td>2. Information</td>\n      <td>1. &lt;=Good</td>\n      <td>1. Yes</td>\n      <td>4.318063</td>\n      <td>75.043154</td>\n    </tr>\n  </tbody>\n</table>\n</div>"
     },
     "execution_count": 5,
     "metadata": {},
     "output_type": "execute_result"
    }
   ],
   "source": [
    "df.head()"
   ],
   "metadata": {
    "collapsed": false
   }
  },
  {
   "cell_type": "code",
   "execution_count": 6,
   "outputs": [
    {
     "data": {
      "text/plain": "Index(['year', 'age', 'sex', 'maritl', 'race', 'education', 'region',\n       'jobclass', 'health', 'health_ins', 'logwage', 'wage'],\n      dtype='object')"
     },
     "execution_count": 6,
     "metadata": {},
     "output_type": "execute_result"
    }
   ],
   "source": [
    "df.columns"
   ],
   "metadata": {
    "collapsed": false
   }
  },
  {
   "cell_type": "code",
   "execution_count": 7,
   "outputs": [
    {
     "data": {
      "text/plain": "12"
     },
     "execution_count": 7,
     "metadata": {},
     "output_type": "execute_result"
    }
   ],
   "source": [
    "df.columns.size"
   ],
   "metadata": {
    "collapsed": false
   }
  },
  {
   "cell_type": "markdown",
   "source": [
    "12 adet sütunumuz var ama bunların bir tanesi özel bir sütundur yani hedef değişkendir. **wage** sütunu aslında sonuç, yani `Label` sütunudur. Bu sütunu değişkenlerden ayırmamız lazım."
   ],
   "metadata": {
    "collapsed": false
   }
  },
  {
   "cell_type": "code",
   "execution_count": 8,
   "outputs": [],
   "source": [
    "variables = ['year', 'age', 'sex', 'maritl', 'race', 'education', 'region',\n",
    "               'jobclass', 'health', 'health_ins', 'logwage']"
   ],
   "metadata": {
    "collapsed": false
   }
  },
  {
   "cell_type": "code",
   "execution_count": 9,
   "outputs": [
    {
     "data": {
      "text/plain": "11"
     },
     "execution_count": 9,
     "metadata": {},
     "output_type": "execute_result"
    }
   ],
   "source": [
    "len(variables)"
   ],
   "metadata": {
    "collapsed": false
   }
  },
  {
   "cell_type": "markdown",
   "source": [
    "Label'i ayırdığımıza göre geriye kalan sütunlar değişkenlerimiz olacak.\n",
    "\n",
    "**p = 11**"
   ],
   "metadata": {
    "collapsed": false
   }
  },
  {
   "cell_type": "markdown",
   "source": [
    "Tüm değişkenleri tutan matris -> $X$"
   ],
   "metadata": {
    "collapsed": false
   }
  },
  {
   "cell_type": "code",
   "execution_count": 10,
   "outputs": [],
   "source": [
    "# input variable -> X\n",
    "\n",
    "X = df[variables]"
   ],
   "metadata": {
    "collapsed": false
   }
  },
  {
   "cell_type": "code",
   "execution_count": 11,
   "outputs": [
    {
     "data": {
      "text/plain": "Index(['year', 'age', 'sex', 'maritl', 'race', 'education', 'region',\n       'jobclass', 'health', 'health_ins', 'logwage'],\n      dtype='object')"
     },
     "execution_count": 11,
     "metadata": {},
     "output_type": "execute_result"
    }
   ],
   "source": [
    "X.columns"
   ],
   "metadata": {
    "collapsed": false
   }
  },
  {
   "cell_type": "code",
   "execution_count": 12,
   "outputs": [
    {
     "data": {
      "text/plain": "11"
     },
     "execution_count": 12,
     "metadata": {},
     "output_type": "execute_result"
    }
   ],
   "source": [
    "X.columns.size"
   ],
   "metadata": {
    "collapsed": false
   }
  },
  {
   "cell_type": "code",
   "execution_count": 13,
   "outputs": [],
   "source": [
    "# output variable -> y\n",
    "y = df['wage']"
   ],
   "metadata": {
    "collapsed": false
   }
  },
  {
   "cell_type": "code",
   "execution_count": 14,
   "outputs": [
    {
     "data": {
      "text/plain": "231655     75.043154\n86582      70.476020\n161300    130.982177\n155159    154.685293\n11443      75.043154\n376662    127.115744\n450601    169.528538\n377954    111.720849\n228963    118.884359\n81404     128.680488\nName: wage, dtype: float64"
     },
     "execution_count": 14,
     "metadata": {},
     "output_type": "execute_result"
    }
   ],
   "source": [
    "y.head(10)"
   ],
   "metadata": {
    "collapsed": false
   }
  },
  {
   "cell_type": "code",
   "execution_count": 15,
   "outputs": [
    {
     "data": {
      "text/plain": "3000"
     },
     "execution_count": 15,
     "metadata": {},
     "output_type": "execute_result"
    }
   ],
   "source": [
    "len(y)"
   ],
   "metadata": {
    "collapsed": false
   }
  },
  {
   "cell_type": "markdown",
   "source": [
    "**Örnek:**"
   ],
   "metadata": {
    "collapsed": false
   }
  },
  {
   "cell_type": "markdown",
   "source": [
    "i = 4 olsun, yani 4. satırdaki değerleri inceleyelim. [index = 3]"
   ],
   "metadata": {
    "collapsed": false
   }
  },
  {
   "cell_type": "code",
   "execution_count": 16,
   "outputs": [
    {
     "data": {
      "text/plain": "        year  age      sex            maritl      race        education  \\\n231655  2006   18  1. Male  1. Never Married  1. White     1. < HS Grad   \n86582   2004   24  1. Male  1. Never Married  1. White  4. College Grad   \n161300  2003   45  1. Male        2. Married  1. White  3. Some College   \n155159  2003   43  1. Male        2. Married  3. Asian  4. College Grad   \n11443   2005   50  1. Male       4. Divorced  1. White       2. HS Grad   \n...      ...  ...      ...               ...       ...              ...   \n376816  2008   44  1. Male        2. Married  1. White  3. Some College   \n302281  2007   30  1. Male        2. Married  1. White       2. HS Grad   \n10033   2005   27  1. Male        2. Married  2. Black     1. < HS Grad   \n14375   2005   27  1. Male  1. Never Married  1. White  3. Some College   \n453557  2009   55  1. Male      5. Separated  1. White       2. HS Grad   \n\n                    region        jobclass          health health_ins  \\\n231655  2. Middle Atlantic   1. Industrial       1. <=Good      2. No   \n86582   2. Middle Atlantic  2. Information  2. >=Very Good      2. No   \n161300  2. Middle Atlantic   1. Industrial       1. <=Good     1. Yes   \n155159  2. Middle Atlantic  2. Information  2. >=Very Good     1. Yes   \n11443   2. Middle Atlantic  2. Information       1. <=Good     1. Yes   \n...                    ...             ...             ...        ...   \n376816  2. Middle Atlantic   1. Industrial  2. >=Very Good     1. Yes   \n302281  2. Middle Atlantic   1. Industrial  2. >=Very Good      2. No   \n10033   2. Middle Atlantic   1. Industrial       1. <=Good      2. No   \n14375   2. Middle Atlantic   1. Industrial  2. >=Very Good     1. Yes   \n453557  2. Middle Atlantic   1. Industrial       1. <=Good     1. Yes   \n\n         logwage  \n231655  4.318063  \n86582   4.255273  \n161300  4.875061  \n155159  5.041393  \n11443   4.318063  \n...          ...  \n376816  5.041393  \n302281  4.602060  \n10033   4.193125  \n14375   4.477121  \n453557  4.505150  \n\n[3000 rows x 11 columns]",
      "text/html": "<div>\n<style scoped>\n    .dataframe tbody tr th:only-of-type {\n        vertical-align: middle;\n    }\n\n    .dataframe tbody tr th {\n        vertical-align: top;\n    }\n\n    .dataframe thead th {\n        text-align: right;\n    }\n</style>\n<table border=\"1\" class=\"dataframe\">\n  <thead>\n    <tr style=\"text-align: right;\">\n      <th></th>\n      <th>year</th>\n      <th>age</th>\n      <th>sex</th>\n      <th>maritl</th>\n      <th>race</th>\n      <th>education</th>\n      <th>region</th>\n      <th>jobclass</th>\n      <th>health</th>\n      <th>health_ins</th>\n      <th>logwage</th>\n    </tr>\n  </thead>\n  <tbody>\n    <tr>\n      <th>231655</th>\n      <td>2006</td>\n      <td>18</td>\n      <td>1. Male</td>\n      <td>1. Never Married</td>\n      <td>1. White</td>\n      <td>1. &lt; HS Grad</td>\n      <td>2. Middle Atlantic</td>\n      <td>1. Industrial</td>\n      <td>1. &lt;=Good</td>\n      <td>2. No</td>\n      <td>4.318063</td>\n    </tr>\n    <tr>\n      <th>86582</th>\n      <td>2004</td>\n      <td>24</td>\n      <td>1. Male</td>\n      <td>1. Never Married</td>\n      <td>1. White</td>\n      <td>4. College Grad</td>\n      <td>2. Middle Atlantic</td>\n      <td>2. Information</td>\n      <td>2. &gt;=Very Good</td>\n      <td>2. No</td>\n      <td>4.255273</td>\n    </tr>\n    <tr>\n      <th>161300</th>\n      <td>2003</td>\n      <td>45</td>\n      <td>1. Male</td>\n      <td>2. Married</td>\n      <td>1. White</td>\n      <td>3. Some College</td>\n      <td>2. Middle Atlantic</td>\n      <td>1. Industrial</td>\n      <td>1. &lt;=Good</td>\n      <td>1. Yes</td>\n      <td>4.875061</td>\n    </tr>\n    <tr>\n      <th>155159</th>\n      <td>2003</td>\n      <td>43</td>\n      <td>1. Male</td>\n      <td>2. Married</td>\n      <td>3. Asian</td>\n      <td>4. College Grad</td>\n      <td>2. Middle Atlantic</td>\n      <td>2. Information</td>\n      <td>2. &gt;=Very Good</td>\n      <td>1. Yes</td>\n      <td>5.041393</td>\n    </tr>\n    <tr>\n      <th>11443</th>\n      <td>2005</td>\n      <td>50</td>\n      <td>1. Male</td>\n      <td>4. Divorced</td>\n      <td>1. White</td>\n      <td>2. HS Grad</td>\n      <td>2. Middle Atlantic</td>\n      <td>2. Information</td>\n      <td>1. &lt;=Good</td>\n      <td>1. Yes</td>\n      <td>4.318063</td>\n    </tr>\n    <tr>\n      <th>...</th>\n      <td>...</td>\n      <td>...</td>\n      <td>...</td>\n      <td>...</td>\n      <td>...</td>\n      <td>...</td>\n      <td>...</td>\n      <td>...</td>\n      <td>...</td>\n      <td>...</td>\n      <td>...</td>\n    </tr>\n    <tr>\n      <th>376816</th>\n      <td>2008</td>\n      <td>44</td>\n      <td>1. Male</td>\n      <td>2. Married</td>\n      <td>1. White</td>\n      <td>3. Some College</td>\n      <td>2. Middle Atlantic</td>\n      <td>1. Industrial</td>\n      <td>2. &gt;=Very Good</td>\n      <td>1. Yes</td>\n      <td>5.041393</td>\n    </tr>\n    <tr>\n      <th>302281</th>\n      <td>2007</td>\n      <td>30</td>\n      <td>1. Male</td>\n      <td>2. Married</td>\n      <td>1. White</td>\n      <td>2. HS Grad</td>\n      <td>2. Middle Atlantic</td>\n      <td>1. Industrial</td>\n      <td>2. &gt;=Very Good</td>\n      <td>2. No</td>\n      <td>4.602060</td>\n    </tr>\n    <tr>\n      <th>10033</th>\n      <td>2005</td>\n      <td>27</td>\n      <td>1. Male</td>\n      <td>2. Married</td>\n      <td>2. Black</td>\n      <td>1. &lt; HS Grad</td>\n      <td>2. Middle Atlantic</td>\n      <td>1. Industrial</td>\n      <td>1. &lt;=Good</td>\n      <td>2. No</td>\n      <td>4.193125</td>\n    </tr>\n    <tr>\n      <th>14375</th>\n      <td>2005</td>\n      <td>27</td>\n      <td>1. Male</td>\n      <td>1. Never Married</td>\n      <td>1. White</td>\n      <td>3. Some College</td>\n      <td>2. Middle Atlantic</td>\n      <td>1. Industrial</td>\n      <td>2. &gt;=Very Good</td>\n      <td>1. Yes</td>\n      <td>4.477121</td>\n    </tr>\n    <tr>\n      <th>453557</th>\n      <td>2009</td>\n      <td>55</td>\n      <td>1. Male</td>\n      <td>5. Separated</td>\n      <td>1. White</td>\n      <td>2. HS Grad</td>\n      <td>2. Middle Atlantic</td>\n      <td>1. Industrial</td>\n      <td>1. &lt;=Good</td>\n      <td>1. Yes</td>\n      <td>4.505150</td>\n    </tr>\n  </tbody>\n</table>\n<p>3000 rows × 11 columns</p>\n</div>"
     },
     "execution_count": 16,
     "metadata": {},
     "output_type": "execute_result"
    }
   ],
   "source": [
    "X"
   ],
   "metadata": {
    "collapsed": false
   }
  },
  {
   "cell_type": "code",
   "execution_count": 17,
   "outputs": [],
   "source": [
    "# 4. satır input\n",
    "# x_4\n",
    "X_third_sample = X.iloc[3,:]"
   ],
   "metadata": {
    "collapsed": false
   }
  },
  {
   "cell_type": "code",
   "execution_count": 18,
   "outputs": [
    {
     "data": {
      "text/plain": "year                        2003\nage                           43\nsex                      1. Male\nmaritl                2. Married\nrace                    3. Asian\neducation        4. College Grad\nregion        2. Middle Atlantic\njobclass          2. Information\nhealth            2. >=Very Good\nhealth_ins                1. Yes\nlogwage                 5.041393\nName: 155159, dtype: object"
     },
     "execution_count": 18,
     "metadata": {},
     "output_type": "execute_result"
    }
   ],
   "source": [
    "X_third_sample"
   ],
   "metadata": {
    "collapsed": false
   }
  },
  {
   "cell_type": "code",
   "execution_count": 19,
   "outputs": [
    {
     "data": {
      "text/plain": "231655     75.043154\n86582      70.476020\n161300    130.982177\n155159    154.685293\n11443      75.043154\n             ...    \n376816    154.685293\n302281     99.689464\n10033      66.229408\n14375      87.981033\n453557     90.481913\nName: wage, Length: 3000, dtype: float64"
     },
     "execution_count": 19,
     "metadata": {},
     "output_type": "execute_result"
    }
   ],
   "source": [
    "y"
   ],
   "metadata": {
    "collapsed": false
   }
  },
  {
   "cell_type": "code",
   "execution_count": 20,
   "outputs": [
    {
     "data": {
      "text/plain": "154.68529299563"
     },
     "execution_count": 20,
     "metadata": {},
     "output_type": "execute_result"
    }
   ],
   "source": [
    "# 4. satır output\n",
    "# y_4\n",
    "y.iloc[3]"
   ],
   "metadata": {
    "collapsed": false
   }
  }
 ],
 "metadata": {
  "kernelspec": {
   "display_name": "Python 3",
   "language": "python",
   "name": "python3"
  },
  "language_info": {
   "codemirror_mode": {
    "name": "ipython",
    "version": 2
   },
   "file_extension": ".py",
   "mimetype": "text/x-python",
   "name": "python",
   "nbconvert_exporter": "python",
   "pygments_lexer": "ipython2",
   "version": "2.7.6"
  }
 },
 "nbformat": 4,
 "nbformat_minor": 0
}
