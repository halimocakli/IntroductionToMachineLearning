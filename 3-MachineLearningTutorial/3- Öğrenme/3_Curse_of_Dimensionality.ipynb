{
 "cells": [
  {
   "cell_type": "markdown",
   "id": "2ea6fc9b",
   "metadata": {},
   "source": [
    "## Curse of Dimensionality (Boyutluluğun Laneti)"
   ]
  },
  {
   "cell_type": "markdown",
   "id": "4b7633cc",
   "metadata": {},
   "source": [
    "Önce bir örnek ile başlayalım:"
   ]
  },
  {
   "cell_type": "markdown",
   "id": "b05188e8",
   "metadata": {},
   "source": [
    "Şimdi f'yi nasıl tahmin edebiliriz bakalım:\n",
    "\n",
    "\n",
    "**Soru:** \n",
    "\n",
    "Diyelim ki x = 30 noktasında elimizde bir veri yok.\n",
    "\n",
    "O zaman ne yapacağız?"
   ]
  },
  {
   "cell_type": "markdown",
   "id": "455fbb7c",
   "metadata": {},
   "source": [
    "**Cevap:**\n",
    "\n",
    "En yakın komuşalarına bakarız.\n",
    "\n",
    "Nearest Negihbors"
   ]
  },
  {
   "cell_type": "markdown",
   "id": "e582f096",
   "metadata": {},
   "source": [
    "En yakın tek bir noktaya bakmak sağlıklı olmaz.\n",
    "\n",
    "Neden, çünkü veri çok değişir o durumda, aşırı bir varyans olur.\n",
    "\n",
    "Tek nokta yerine, tek komşu yerine, birkaç noktaya bakmalıyız ki örneklem aldığımız veri, gerçek verimizi daha iyi temsil etsin.\n",
    "\n",
    "Diyelim ki var olmayan nokta için %10'luk bir nokta ailesi alacağız,\n",
    "\n",
    "O zaman olmayan nokta etrafında verinin %10'nuna tekabül eden bir aralığı alacağız."
   ]
  },
  {
   "cell_type": "markdown",
   "id": "e35b0161",
   "metadata": {},
   "source": [
    "İşte buna Curse of Dimensionality yani Boyutun Laneti deniyor."
   ]
  },
  {
   "cell_type": "markdown",
   "id": "02c28209",
   "metadata": {},
   "source": [
    "<img src='images/cod_2.png' />"
   ]
  },
  {
   "cell_type": "markdown",
   "id": "e2ef2e4c",
   "metadata": {},
   "source": [
    "Boyut sayısı arttıkça, komşuluk denen kavram ortadan kalkar.\n",
    "\n",
    "Her nokta artık birbirinden çok uzaktır.\n",
    "\n",
    "Aynı büyük şehirlerde komşuluğun artık kalmaması gibi :)"
   ]
  },
  {
   "cell_type": "markdown",
   "id": "908d1ccb",
   "metadata": {},
   "source": [
    "<img src='images/cod_3.gif' />"
   ]
  }
 ],
 "metadata": {
  "kernelspec": {
   "display_name": "Python 3 (ipykernel)",
   "language": "python",
   "name": "python3"
  },
  "language_info": {
   "codemirror_mode": {
    "name": "ipython",
    "version": 3
   },
   "file_extension": ".py",
   "mimetype": "text/x-python",
   "name": "python",
   "nbconvert_exporter": "python",
   "pygments_lexer": "ipython3",
   "version": "3.10.2"
  }
 },
 "nbformat": 4,
 "nbformat_minor": 5
}
